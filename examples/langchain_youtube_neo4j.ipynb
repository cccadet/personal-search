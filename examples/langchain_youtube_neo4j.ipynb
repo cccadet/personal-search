{
 "cells": [
  {
   "cell_type": "code",
   "execution_count": 1,
   "metadata": {},
   "outputs": [],
   "source": [
    "from langchain_community.document_loaders import YoutubeLoader\n",
    "from dotenv import load_dotenv\n",
    "\n",
    "load_dotenv()\n",
    "\n",
    "from IPython.display import display, Markdown, Latex\n",
    "\n",
    "loader = YoutubeLoader.from_youtube_url(\n",
    "    \"https://www.youtube.com/watch?v=xOpCmCM84_c\",\n",
    "    add_video_info=True,\n",
    "    language=\"pt\"\n",
    ")\n",
    "document = loader.load()"
   ]
  },
  {
   "cell_type": "code",
   "execution_count": 2,
   "metadata": {},
   "outputs": [
    {
     "data": {
      "text/markdown": [
       "o número três na Bíblia Hebraica geralmente o número três é usado para dar ênfase ou reforçar um teste uma prova que o protagonista vai ter que tomar ali naquele momento e geralmente essa prova é uma prova mortal a morte está rodeada ou rodeando essa situação isso não acontece ali eh em Jesus começa lá em Gênesis logo no começo você vai ver o teste que Abraão vai ter com Deus que ele vai ter que sacrificar a o seu filho quando ele caminha fala assim o texto que no terceiro dia ele levanta os olhos e ele vê ali o monte que ele ia fazer o sacrifício Também logo depois são várias eh vários textos que vão falar sobre isso mas eu vou lembrar alguns aqui você vai ver os filhos de Jacó querendo vingar a sua irmã por ter sido desonrada no terceiro dia que eles fazem a circuncisão de todos que eles ainda estão com dor eles levantam e e tomam uma decisão de morte que é pegar a espada e matar todo mundo vingando a sua irmã também a gente vai ver em José muito o número três no terceiro dia por exemplo quando ele vai revelar o sonho dos padeiros e e do Padeiro e do copeiro ele vai falar que no terceiro dia vai o o faraó vai tomar uma decisão de morte ou não morte por exemplo E aí fala que no terceiro dia era o aniversário do faraó ele Convida os dois chama os dois e para um ele dá uma pena de morte e para outro não tá vendo como o terceiro dia sempre é um teste e uma decisão e que envolve morte já em Êxodo logo depois que o povo passa o mar vermelho a gente vai ver que vai falar assim no terceiro dia sem conseguir achar a água então eles estão numa situação de morte eles são testados com uma água amarga num lugar chamado chamado Mara E aí você vai ver várias vezes quando o Moisés manda o povo se preparar como se fosse um casamento ele tem que subir no monte sinal no Monte Sinai não só ele mas todo o povo no terceiro dia então no terceiro dia eles deveriam estar pronto e eles não estavam prontos eles ficaram com medos bom isso vai seguir em Levíticos vai seguir nos livros históricos em todo lugar mas o a principal história que eu acho que ficou destacada por causa dos três dias porque Jesus citou em Mateus e é a história de Jonas Jonas Quando Ele Decide fugir do Chamado de Deus ele é colocado uma situação de morte porque os marinheiros jogam ele do barco e ele eh e ele fica três dias ali dentro daquele peixe numa decisão que ele tem que tomar uma decisão se ele vai se arrepender ou não e ele toma aquela decisão e aqueles três dias de novo muito mais do que uma exatidão de data ali eles estão colocando numa forma indireta que vai ser tomada uma decisão no terceiro dia tá vendo você vai ver várias vezes faz o teste coloca terceiro dia ou três dias numa concordância bíblica você vai ver o tanto que aparece essa decisão no final desse tempo e é uma decisão que envolve morte Muito provavelmente a gente não a gente pode perguntar por que isso eu não tô aqui para responder o por começou com esse padrão de repetição são esse design inteligente das narrativas bíblicas o meu papel é interpretar como a gente vai vendo isso acontecendo a gente vai perceber que o número três sempre vai ter uma decisão e é tão importante Porque Jesus fala pra geração eh ímpia né ali dele que ele tá vivendo essa geração adúltera vocês pedem um Sinal meu estavam pedindo o sinal de Jesus Ele fala eu não vou dar nenhum sinal para vocês a não ser o de Jonas que passou três dias e três noites no no ventre de uma no ventre dentro de um peixe né e eu não vou eu não vou dar nenhum para vocês a mais e aí o que ele tá dizendo que o filho do homem Vai morrer por três dias de novo não são três dias e três noites no sentido de tempo literário vamos vamos cronometrar e as pessoas ficam quebrando a cabeça para ver que horas morreu no na sexta e que horas ressuscitou no domingo nem dá os três dias de 24 Horas completo mas ali Jesus tá dizendo sobre todo esse padrão de decisão diante da morte depois de três dias vai ser o maior sinal que Jesus é o messias o rei que tava vindo Porque na hora da morte e depois de três dias que ia confirmar ali aquela morte a derrota dele ele ressuscita e esse é o maior sinal é a ressurreição gostou gostou desse novo formato um pouco mais longo você quer mais todo dia eu vou postar alguma coisa mas você tem que fazer uma coisa curtir esse vídeo e compartilhar aonde você estiver aí nas suas redes sociais Tá bom então amanhã tem outro número da Bíblia Hebraica tchau próximo"
      ],
      "text/plain": [
       "<IPython.core.display.Markdown object>"
      ]
     },
     "execution_count": 2,
     "metadata": {},
     "output_type": "execute_result"
    }
   ],
   "source": [
    "document_text = document[0].page_content\n",
    "Markdown(document_text)"
   ]
  },
  {
   "cell_type": "code",
   "execution_count": 3,
   "metadata": {},
   "outputs": [],
   "source": [
    "import os\n",
    "\n",
    "from langchain_community.graphs import Neo4jGraph\n",
    "\n",
    "graph = Neo4jGraph()"
   ]
  },
  {
   "cell_type": "code",
   "execution_count": 4,
   "metadata": {},
   "outputs": [],
   "source": [
    "from langchain_core.prompts import ChatPromptTemplate\n",
    "\n",
    "system_prompt = (\n",
    "    \"# Instruções do Knowledge Graph para GPT-4\\n\"\n",
    "    \"## 1. Visão geral\\n\"\n",
    "    \"Você é um algoritmo de primeira linha projetado para extrair informações em formatos \"\n",
    "    \"estruturados para construir um knowledge graph.\\n\"\n",
    "    \"Tente capturar o máximo de informações possível do texto sem \"\n",
    "    \"sacrificar a precisão. Não adicione nenhuma informação que não seja explicitamente \"\n",
    "    \"mencionada no texto.\\n\"\n",
    "    \"- **Nós** representam entidades e conceitos.\\n\"\n",
    "    \"- O objetivo é alcançar simplicidade e clareza no knowledge graph, tornando-o\\n\"\n",
    "    \"acessível para um vasto público.\\n\"\n",
    "    \"## 2. Rotulando nós\\n\"\n",
    "    \"- **Consistência**: certifique-se de usar tipos disponíveis para rótulos de nós.\\n\"\n",
    "    \"Certifique-se de usar tipos básicos ou elementares para rótulos de nós.\\n\"\n",
    "    \"- Por exemplo, quando você identifica uma entidade que representa uma \"\n",
    "    \"pessoa, sempre a rotule como **'pessoa'**. Evite usar termos mais específicos \"\n",
    "    \"como 'matemático' ou 'cientista'.\"\n",
    "    \"- **IDs de nó**: Nunca utilize números inteiros como IDs de nó. IDs de nó devem ser \"\n",
    "    \"nomes ou identificadores legíveis por humanos encontrados no texto.\\n\"\n",
    "    \"- **Relacionamentos** representam conexões entre entidades ou conceitos.\\n\"\n",
    "    \"Garanta consistência e generalidade em tipos de relacionamento ao construir \"\n",
    "    \"gráficos de conhecimento. Em vez de usar tipos específicos e momentâneos \"\n",
    "    \"como 'BECAME_PROFESSOR', use tipos de relacionamento mais gerais e atemporais \"\n",
    "    \"como 'PROFESSOR'. Certifique-se de usar tipos de relacionamento gerais e atemporais!\\n\"\n",
    "    \"## 3. Resolução de correferência\\n\"\n",
    "    \"- **Manter a consistência da entidade**: Ao extrair entidades, é vital \"\n",
    "    \"garantir a consistência.\\n\"\n",
    "    'Se uma entidade, como \"John Doe\", for mencionada várias vezes no texto '\n",
    "    'mas for referida por nomes ou pronomes diferentes (por exemplo, \"Joe\", \"ele\"),'\n",
    "    \"sempre use o identificador mais completo para essa entidade em todo o \"\n",
    "    'gráfico de conhecimento. Neste exemplo, use \"John Doe\" como o ID da entidade.\\n'\n",
    "    \"Lembre-se, o gráfico de conhecimento deve ser coerente e facilmente compreensível, \"\n",
    "    \"portanto, manter a consistência nas referências de entidade é crucial.\\n\"\n",
    "    \"## 4. Conformidade rigorosa\\n\"\n",
    "    \"Siga as regras rigorosamente. A não conformidade resultará em rescisão.\"\n",
    ")\n",
    "\n",
    "default_prompt = ChatPromptTemplate.from_messages(\n",
    "    [\n",
    "        (\n",
    "            \"system\",\n",
    "            system_prompt,\n",
    "        ),\n",
    "        (\n",
    "            \"human\",\n",
    "            (\n",
    "               \"Dica: Certifique-se de responder no formato correto e não \"\n",
    "               \"inclua nenhuma explicação. \"\n",
    "               \"Use o formato fornecido para extrair informações da \"\n",
    "               \"entrada a seguir e explicar o significado do número: {input}\"\n",
    "            ),\n",
    "        ),\n",
    "    ]\n",
    ")"
   ]
  },
  {
   "cell_type": "code",
   "execution_count": 5,
   "metadata": {},
   "outputs": [],
   "source": [
    "import os\n",
    "\n",
    "from langchain_experimental.graph_transformers import LLMGraphTransformer\n",
    "from langchain_openai import ChatOpenAI\n",
    "\n",
    "llm = ChatOpenAI(temperature=0, model_name=\"gpt-4o-mini\")\n",
    "\n",
    "llm_transformer = LLMGraphTransformer(llm=llm, prompt=default_prompt)"
   ]
  },
  {
   "cell_type": "code",
   "execution_count": 6,
   "metadata": {},
   "outputs": [
    {
     "name": "stdout",
     "output_type": "stream",
     "text": [
      "Nodes:[Node(id='Número Três', type='Conceito'), Node(id='Bíblia Hebraica', type='Texto'), Node(id='Abraão', type='Pessoa'), Node(id='Deus', type='Pessoa'), Node(id='Jacó', type='Pessoa'), Node(id='José', type='Pessoa'), Node(id='Moisés', type='Pessoa'), Node(id='Jesus', type='Pessoa'), Node(id='Jonas', type='Pessoa'), Node(id='Faraó', type='Pessoa'), Node(id='Mar Vermelho', type='Local'), Node(id='Mara', type='Local')]\n",
      "Relationships:[Relationship(source=Node(id='Número Três', type='Conceito'), target=Node(id='Bíblia Hebraica', type='Texto'), type='APARECE_EM'), Relationship(source=Node(id='Abraão', type='Pessoa'), target=Node(id='Deus', type='Pessoa'), type='TESTE'), Relationship(source=Node(id='Jacó', type='Pessoa'), target=Node(id='Número Três', type='Conceito'), type='VINGANÇA'), Relationship(source=Node(id='José', type='Pessoa'), target=Node(id='Número Três', type='Conceito'), type='DECISÃO'), Relationship(source=Node(id='Moisés', type='Pessoa'), target=Node(id='Número Três', type='Conceito'), type='PREPARAÇÃO'), Relationship(source=Node(id='Jesus', type='Pessoa'), target=Node(id='Número Três', type='Conceito'), type='SINAL'), Relationship(source=Node(id='Jonas', type='Pessoa'), target=Node(id='Número Três', type='Conceito'), type='DECISÃO'), Relationship(source=Node(id='Faraó', type='Pessoa'), target=Node(id='Número Três', type='Conceito'), type='DECISÃO'), Relationship(source=Node(id='Mar Vermelho', type='Local'), target=Node(id='Número Três', type='Conceito'), type='EVENTO'), Relationship(source=Node(id='Mara', type='Local'), target=Node(id='Número Três', type='Conceito'), type='TESTE')]\n"
     ]
    }
   ],
   "source": [
    "from langchain_core.documents import Document\n",
    "\n",
    "\n",
    "documents = [Document(page_content=document_text)]\n",
    "graph_documents = llm_transformer.convert_to_graph_documents(documents)\n",
    "print(f\"Nodes:{graph_documents[0].nodes}\")\n",
    "print(f\"Relationships:{graph_documents[0].relationships}\")"
   ]
  },
  {
   "cell_type": "code",
   "execution_count": null,
   "metadata": {},
   "outputs": [],
   "source": [
    "llm_transformer_filtered = LLMGraphTransformer(\n",
    "    llm=llm,\n",
    "    allowed_nodes=[\"Pessoa\", \"Conceito\", \"Local\"],\n",
    "    allowed_relationships=[\"NATIONALITY\", \"LOCATED_IN\", \"WORKED_AT\", \"SPOUSE\"],\n",
    ")\n",
    "graph_documents_filtered = llm_transformer_filtered.convert_to_graph_documents(\n",
    "    documents\n",
    ")\n",
    "print(f\"Nodes:{graph_documents_filtered[0].nodes}\")\n",
    "print(f\"Relationships:{graph_documents_filtered[0].relationships}\")"
   ]
  },
  {
   "cell_type": "code",
   "execution_count": null,
   "metadata": {},
   "outputs": [],
   "source": [
    "llm_transformer_props = LLMGraphTransformer(\n",
    "    llm=llm,\n",
    "    allowed_nodes=[\"Person\", \"Country\", \"Organization\"],\n",
    "    allowed_relationships=[\"NATIONALITY\", \"LOCATED_IN\", \"WORKED_AT\", \"SPOUSE\"],\n",
    "    node_properties=[\"born_year\"],\n",
    ")\n",
    "graph_documents_props = llm_transformer_props.convert_to_graph_documents(documents)\n",
    "print(f\"Nodes:{graph_documents_props[0].nodes}\")\n",
    "print(f\"Relationships:{graph_documents_props[0].relationships}\")"
   ]
  },
  {
   "cell_type": "code",
   "execution_count": 7,
   "metadata": {},
   "outputs": [],
   "source": [
    "graph.add_graph_documents(graph_documents)"
   ]
  },
  {
   "cell_type": "code",
   "execution_count": 9,
   "metadata": {},
   "outputs": [
    {
     "data": {
      "text/markdown": [
       "O número três na Bíblia Hebraica é frequentemente associado a testes e decisões que envolvem a morte. Exemplos incluem o teste de Abraão ao sacrificar seu filho, a vingança dos filhos de Jacó, e as revelações de José. O terceiro dia é um momento crucial em várias narrativas, simbolizando uma escolha diante da morte. Jesus menciona essa conexão ao referir-se a Jonas, que passou três dias no ventre de um peixe, como um sinal de sua própria morte e ressurreição. Essa repetição do número três destaca a importância das decisões em situações críticas, culminando na ressurreição de Jesus como o maior sinal de sua messianidade."
      ],
      "text/plain": [
       "<IPython.core.display.Markdown object>"
      ]
     },
     "execution_count": 9,
     "metadata": {},
     "output_type": "execute_result"
    }
   ],
   "source": [
    "from langchain.chains.summarize import load_summarize_chain\n",
    "\n",
    "chain = load_summarize_chain(llm, chain_type=\"stuff\")\n",
    "\n",
    "result = chain.invoke(document)\n",
    "\n",
    "Markdown(result[\"output_text\"])"
   ]
  }
 ],
 "metadata": {
  "kernelspec": {
   "display_name": "crewai",
   "language": "python",
   "name": "python3"
  },
  "language_info": {
   "codemirror_mode": {
    "name": "ipython",
    "version": 3
   },
   "file_extension": ".py",
   "mimetype": "text/x-python",
   "name": "python",
   "nbconvert_exporter": "python",
   "pygments_lexer": "ipython3",
   "version": "3.12.4"
  }
 },
 "nbformat": 4,
 "nbformat_minor": 2
}

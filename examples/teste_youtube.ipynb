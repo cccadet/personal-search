{
 "cells": [
  {
   "cell_type": "code",
   "execution_count": 1,
   "metadata": {},
   "outputs": [
    {
     "name": "stdout",
     "output_type": "stream",
     "text": [
      "Using model: gpt-4o-mini\n"
     ]
    }
   ],
   "source": [
    "import sys\n",
    "from crewai import Crew, Task, Agent\n",
    "from langchain_openai import ChatOpenAI\n",
    "from IPython.display import display, Markdown, Latex\n",
    "import os\n",
    "from personal_search.tools.books import YoutubeTool\n",
    "import warnings\n",
    "from dotenv import load_dotenv\n",
    "\n",
    "load_dotenv()\n",
    "\n",
    "warnings.filterwarnings(\"ignore\")\n",
    "\n",
    "model_name = os.environ.get(\"OPENAI_MODEL_NAME\")\n",
    "print(f\"Using model: {model_name}\")\n",
    "llm = ChatOpenAI(model=model_name, temperature=0)"
   ]
  },
  {
   "cell_type": "code",
   "execution_count": 2,
   "metadata": {},
   "outputs": [],
   "source": [
    "# abrir arquivo yaml como dict\n",
    "def load_yaml(file_path):\n",
    "    import yaml\n",
    "    with open(file_path, 'r') as stream:\n",
    "        try:\n",
    "            return yaml.safe_load(stream)\n",
    "        except yaml.YAMLError as exc:\n",
    "            print(exc)\n",
    "\n",
    "agents_config = load_yaml(\"src/personal_search/config/agents.yaml\")\n",
    "tasks_config = load_yaml(\"src/personal_search/config/tasks.yaml\")"
   ]
  },
  {
   "cell_type": "code",
   "execution_count": 3,
   "metadata": {},
   "outputs": [
    {
     "name": "stdout",
     "output_type": "stream",
     "text": [
      "\n",
      "\n",
      "\u001b[1m> Entering new CrewAgentExecutor chain...\u001b[0m\n",
      "\u001b[32;1m\u001b[1;3mAction: Pesquisa Youtube  \n",
      "Action Input: {\"topic\":\"significado dos números 3, 4 e 7\"}  \u001b[0m"
     ]
    },
    {
     "name": "stderr",
     "output_type": "stream",
     "text": [
      "2024-07-29 17:48:38,968 - 128464730842176 - add_config.py-add_config:30 - WARNING: min_chunk_size 0 should be greater than chunk_overlap 100, otherwise it is redundant.\n"
     ]
    },
    {
     "name": "stdout",
     "output_type": "stream",
     "text": [
      "\u001b[95m \n",
      "\n",
      "O que significa o número 4 na Bíblia Hebraica (Antigo Testamento)? - Pr. Marcos Botelho\n",
      "\n",
      "de completude de algo que está feito de um período que já acabou ou de uma totalidade tem gostado da nossa série sobre números na Bíblia Hebraica no antigo testamento não deixe de seguir eu estou postando um vídeo por dia mas eu peço para você Compartilhar esse vídeo Se Foi útil para você e no final eu vou fazer um grande fechamento sobre o que representa os números na interpretação de um cristão que quer entender melhor a palavra de Deus próximo\n",
      "\n",
      "O significado do número 40 na Bíblia - Pr. Marcos Botelho\n",
      "\n",
      "e aí a gente também vai ver que pelos judeus quando iria Ser castigado severamente precisava de 40 chicotadas que era um castigo perfeito para uma mudança que precisava ter aliás Paulo foi chicoteado 5 x 40 já em Apocalipse quando a gente vai ver o relato das duas testemunhas aos gentios foi dado 40 dias para passar no Pátio ali um tempo onde os gentios teriam que se converter à mensagem de Jesus também a gente vai ver o 42 meses como uma autorização paraa besta blasfemar e falar os seus impropérios até o juízo de Deus até uma mudança radical como é a mesma palavra no hebraico Às vezes você vê o número 4 14 400 ou 40 para falar desse período de preparo para uma mudança radical então eu esqueci a algum número 40 que você lendo a bíblia percebeu não deixe de curtir esse vídeo compartilhar para os seus amigos porque todo dia eu estou postando os significados dos números na bíblia tchau e próximo\n",
      "\n",
      "Qual o significado do número 10 na Bíblia??? - Pr. Marcos Botelho\n",
      "\n",
      "Rei agora da Babilônia mostrando que realmente aquele povo é especial já no Novo Testamento Jesus vai usar o número 10 na parábola do reino das 10 virgens que é um tempo específico e por isso as 10 Virgens T que vigiar a igreja tem que vigiar e no final Deus vai fazer um pronunciamento o senhor vai fazer o pronunciamento de quem está no reino e quem não está também lá em Apocalipse vai falar de 10 dias de tribulação do Povo de Deus é lógico que não são 10 dias ali é um tempo Redondo perfeito que o povo vai sofrer tribulação mas do no final Deus vai aparecer e vai fazer um pronunciamento dizendo sobre a nova criação pro seu povo tem gostado da nossa série sobre os significados dos números na Bíblia Eu não estou fazendo essa série para você colocar uma Mística nos números e começar a falar ai o meu número é o sete meu número é o quatro eu tô ensinando vocês a interpretarem as sagradas escrituras e entenderem o que o autor bíblico tá colocando ali aquele número o que que ele tá pensando você tem gostado não deixe de Compartilhar esse vídeo favoritar e também mandar paraos seus amigos e todo dia tem vídeo novo dessa série tchau próximo\n",
      "\n",
      "\n",
      "\u001b[00m\n"
     ]
    },
    {
     "name": "stderr",
     "output_type": "stream",
     "text": [
      "2024-07-29 17:48:42,518 - 128464730842176 - add_config.py-add_config:30 - WARNING: min_chunk_size 0 should be greater than chunk_overlap 100, otherwise it is redundant.\n"
     ]
    },
    {
     "name": "stdout",
     "output_type": "stream",
     "text": [
      "\u001b[32;1m\u001b[1;3mThought: A pesquisa no YouTube retornou informações sobre o significado dos números 3, 4 e 7, mas é necessário realizar uma análise mais aprofundada e buscar mais vídeos relevantes para compor uma resposta completa.  \n",
      "Action: Pesquisa Youtube  \n",
      "Action Input: {\"topic\":\"significado do número 3 na Bíblia\"}  \u001b[0m\u001b[95m \n",
      "\n",
      "O que significa o número 4 na Bíblia Hebraica (Antigo Testamento)? - Pr. Marcos Botelho\n",
      "\n",
      "de completude de algo que está feito de um período que já acabou ou de uma totalidade tem gostado da nossa série sobre números na Bíblia Hebraica no antigo testamento não deixe de seguir eu estou postando um vídeo por dia mas eu peço para você Compartilhar esse vídeo Se Foi útil para você e no final eu vou fazer um grande fechamento sobre o que representa os números na interpretação de um cristão que quer entender melhor a palavra de Deus próximo\n",
      "\n",
      "Qual o significado do número 10 na Bíblia??? - Pr. Marcos Botelho\n",
      "\n",
      "Rei agora da Babilônia mostrando que realmente aquele povo é especial já no Novo Testamento Jesus vai usar o número 10 na parábola do reino das 10 virgens que é um tempo específico e por isso as 10 Virgens T que vigiar a igreja tem que vigiar e no final Deus vai fazer um pronunciamento o senhor vai fazer o pronunciamento de quem está no reino e quem não está também lá em Apocalipse vai falar de 10 dias de tribulação do Povo de Deus é lógico que não são 10 dias ali é um tempo Redondo perfeito que o povo vai sofrer tribulação mas do no final Deus vai aparecer e vai fazer um pronunciamento dizendo sobre a nova criação pro seu povo tem gostado da nossa série sobre os significados dos números na Bíblia Eu não estou fazendo essa série para você colocar uma Mística nos números e começar a falar ai o meu número é o sete meu número é o quatro eu tô ensinando vocês a interpretarem as sagradas escrituras e entenderem o que o autor bíblico tá colocando ali aquele número o que que ele tá pensando você tem gostado não deixe de Compartilhar esse vídeo favoritar e também mandar paraos seus amigos e todo dia tem vídeo novo dessa série tchau próximo\n",
      "\n",
      "O significado do número 40 na Bíblia - Pr. Marcos Botelho\n",
      "\n",
      "e aí a gente também vai ver que pelos judeus quando iria Ser castigado severamente precisava de 40 chicotadas que era um castigo perfeito para uma mudança que precisava ter aliás Paulo foi chicoteado 5 x 40 já em Apocalipse quando a gente vai ver o relato das duas testemunhas aos gentios foi dado 40 dias para passar no Pátio ali um tempo onde os gentios teriam que se converter à mensagem de Jesus também a gente vai ver o 42 meses como uma autorização paraa besta blasfemar e falar os seus impropérios até o juízo de Deus até uma mudança radical como é a mesma palavra no hebraico Às vezes você vê o número 4 14 400 ou 40 para falar desse período de preparo para uma mudança radical então eu esqueci a algum número 40 que você lendo a bíblia percebeu não deixe de curtir esse vídeo compartilhar para os seus amigos porque todo dia eu estou postando os significados dos números na bíblia tchau e próximo\n",
      "\n",
      "\n",
      "\u001b[00m\n"
     ]
    },
    {
     "name": "stderr",
     "output_type": "stream",
     "text": [
      "2024-07-29 17:48:44,445 - 128464730842176 - add_config.py-add_config:30 - WARNING: min_chunk_size 0 should be greater than chunk_overlap 100, otherwise it is redundant.\n"
     ]
    },
    {
     "name": "stdout",
     "output_type": "stream",
     "text": [
      "\u001b[32;1m\u001b[1;3mThought: A pesquisa no YouTube não trouxe resultados específicos sobre o significado do número 3. É necessário realizar uma nova pesquisa focando no número 7 para obter informações mais completas.  \n",
      "Action: Pesquisa Youtube  \n",
      "Action Input: {\"topic\":\"significado do número 7 na Bíblia\"}  \u001b[0m\u001b[95m \n",
      "\n",
      "O que significa o número 4 na Bíblia Hebraica (Antigo Testamento)? - Pr. Marcos Botelho\n",
      "\n",
      "de completude de algo que está feito de um período que já acabou ou de uma totalidade tem gostado da nossa série sobre números na Bíblia Hebraica no antigo testamento não deixe de seguir eu estou postando um vídeo por dia mas eu peço para você Compartilhar esse vídeo Se Foi útil para você e no final eu vou fazer um grande fechamento sobre o que representa os números na interpretação de um cristão que quer entender melhor a palavra de Deus próximo\n",
      "\n",
      "O significado do número 40 na Bíblia - Pr. Marcos Botelho\n",
      "\n",
      "e aí a gente também vai ver que pelos judeus quando iria Ser castigado severamente precisava de 40 chicotadas que era um castigo perfeito para uma mudança que precisava ter aliás Paulo foi chicoteado 5 x 40 já em Apocalipse quando a gente vai ver o relato das duas testemunhas aos gentios foi dado 40 dias para passar no Pátio ali um tempo onde os gentios teriam que se converter à mensagem de Jesus também a gente vai ver o 42 meses como uma autorização paraa besta blasfemar e falar os seus impropérios até o juízo de Deus até uma mudança radical como é a mesma palavra no hebraico Às vezes você vê o número 4 14 400 ou 40 para falar desse período de preparo para uma mudança radical então eu esqueci a algum número 40 que você lendo a bíblia percebeu não deixe de curtir esse vídeo compartilhar para os seus amigos porque todo dia eu estou postando os significados dos números na bíblia tchau e próximo\n",
      "\n",
      "Qual o significado do número 10 na Bíblia??? - Pr. Marcos Botelho\n",
      "\n",
      "Rei agora da Babilônia mostrando que realmente aquele povo é especial já no Novo Testamento Jesus vai usar o número 10 na parábola do reino das 10 virgens que é um tempo específico e por isso as 10 Virgens T que vigiar a igreja tem que vigiar e no final Deus vai fazer um pronunciamento o senhor vai fazer o pronunciamento de quem está no reino e quem não está também lá em Apocalipse vai falar de 10 dias de tribulação do Povo de Deus é lógico que não são 10 dias ali é um tempo Redondo perfeito que o povo vai sofrer tribulação mas do no final Deus vai aparecer e vai fazer um pronunciamento dizendo sobre a nova criação pro seu povo tem gostado da nossa série sobre os significados dos números na Bíblia Eu não estou fazendo essa série para você colocar uma Mística nos números e começar a falar ai o meu número é o sete meu número é o quatro eu tô ensinando vocês a interpretarem as sagradas escrituras e entenderem o que o autor bíblico tá colocando ali aquele número o que que ele tá pensando você tem gostado não deixe de Compartilhar esse vídeo favoritar e também mandar paraos seus amigos e todo dia tem vídeo novo dessa série tchau próximo\n",
      "\n",
      "\n",
      "\u001b[00m\n",
      "\u001b[32;1m\u001b[1;3mThought: A pesquisa no YouTube não trouxe resultados específicos sobre o significado do número 3 e do número 7. É necessário realizar uma nova pesquisa focando no número 3 para obter informações mais completas.  \n",
      "Action: Pesquisa Youtube  \n",
      "Action Input: {\"topic\":\"significado do número 3 na Bíblia\"}  \u001b[0m\u001b[95m \n",
      "\n",
      "O que significa o número 4 na Bíblia Hebraica (Antigo Testamento)? - Pr. Marcos Botelho\n",
      "\n",
      "de completude de algo que está feito de um período que já acabou ou de uma totalidade tem gostado da nossa série sobre números na Bíblia Hebraica no antigo testamento não deixe de seguir eu estou postando um vídeo por dia mas eu peço para você Compartilhar esse vídeo Se Foi útil para você e no final eu vou fazer um grande fechamento sobre o que representa os números na interpretação de um cristão que quer entender melhor a palavra de Deus próximo\n",
      "\n",
      "Qual o significado do número 10 na Bíblia??? - Pr. Marcos Botelho\n",
      "\n",
      "Rei agora da Babilônia mostrando que realmente aquele povo é especial já no Novo Testamento Jesus vai usar o número 10 na parábola do reino das 10 virgens que é um tempo específico e por isso as 10 Virgens T que vigiar a igreja tem que vigiar e no final Deus vai fazer um pronunciamento o senhor vai fazer o pronunciamento de quem está no reino e quem não está também lá em Apocalipse vai falar de 10 dias de tribulação do Povo de Deus é lógico que não são 10 dias ali é um tempo Redondo perfeito que o povo vai sofrer tribulação mas do no final Deus vai aparecer e vai fazer um pronunciamento dizendo sobre a nova criação pro seu povo tem gostado da nossa série sobre os significados dos números na Bíblia Eu não estou fazendo essa série para você colocar uma Mística nos números e começar a falar ai o meu número é o sete meu número é o quatro eu tô ensinando vocês a interpretarem as sagradas escrituras e entenderem o que o autor bíblico tá colocando ali aquele número o que que ele tá pensando você tem gostado não deixe de Compartilhar esse vídeo favoritar e também mandar paraos seus amigos e todo dia tem vídeo novo dessa série tchau próximo\n",
      "\n",
      "O significado do número 40 na Bíblia - Pr. Marcos Botelho\n",
      "\n",
      "e aí a gente também vai ver que pelos judeus quando iria Ser castigado severamente precisava de 40 chicotadas que era um castigo perfeito para uma mudança que precisava ter aliás Paulo foi chicoteado 5 x 40 já em Apocalipse quando a gente vai ver o relato das duas testemunhas aos gentios foi dado 40 dias para passar no Pátio ali um tempo onde os gentios teriam que se converter à mensagem de Jesus também a gente vai ver o 42 meses como uma autorização paraa besta blasfemar e falar os seus impropérios até o juízo de Deus até uma mudança radical como é a mesma palavra no hebraico Às vezes você vê o número 4 14 400 ou 40 para falar desse período de preparo para uma mudança radical então eu esqueci a algum número 40 que você lendo a bíblia percebeu não deixe de curtir esse vídeo compartilhar para os seus amigos porque todo dia eu estou postando os significados dos números na bíblia tchau e próximo\n",
      "\n",
      "\n",
      "\u001b[00m\n",
      "\u001b[32;1m\u001b[1;3mThought: A pesquisa no YouTube não trouxe resultados específicos sobre o significado do número 3 e do número 7. É necessário realizar uma nova pesquisa focando no número 7 para obter informações mais completas.  \n",
      "Action: Pesquisa Youtube  \n",
      "Action Input: {\"topic\":\"significado do número 7 na Bíblia\"}  \u001b[0m\u001b[95m \n",
      "\n",
      "I tried reusing the same input, I must stop using this action input. I'll try something else instead.\n",
      "\n",
      "\n",
      "\u001b[00m\n",
      "\u001b[32;1m\u001b[1;3m\u001b[0m\u001b[32;1m\u001b[1;3mThought: I now can give a great answer  \n",
      "Final Answer: O significado dos números 3, 4 e 7 é um tema que permeia diversas tradições culturais e religiosas, especialmente na Bíblia. Cada um desses números carrega simbolismos profundos e significados que variam conforme o contexto em que são utilizados. A seguir, apresento uma análise detalhada sobre cada um desses números, suas interpretações e a presença deles em vídeos relevantes do YouTube.\n",
      "\n",
      "### Significado do Número 3\n",
      "\n",
      "O número 3 é frequentemente associado à Trindade no cristianismo, representando o Pai, o Filho e o Espírito Santo. Essa tríade é fundamental para a teologia cristã, simbolizando a unidade e a diversidade de Deus. Além disso, o número 3 aparece em várias narrativas bíblicas, como a ressurreição de Jesus no terceiro dia, que é um evento central na fé cristã.\n",
      "\n",
      "Na tradição judaica, o número 3 também possui significados importantes. Por exemplo, os três patriarcas do povo de Israel — Abraão, Isaque e Jacó — são figuras centrais na narrativa bíblica. O número 3 pode simbolizar a plenitude e a completude, refletindo a ideia de que algo foi estabelecido de forma definitiva.\n",
      "\n",
      "### Significado do Número 4\n",
      "\n",
      "O número 4 é frequentemente associado à criação e à totalidade. Na Bíblia, ele é mencionado em várias passagens que se referem aos quatro pontos cardeais e às quatro direções do mundo. Isso sugere uma ideia de abrangência e completude. O número 4 também é significativo em contextos de julgamento e ordem divina.\n",
      "\n",
      "Na Bíblia Hebraica, o número 4 é mencionado em várias histórias, como as quatro criaturas vivas que cercam o trono de Deus em Ezequiel e Apocalipse. Além disso, o número 4 é frequentemente associado aos quatro evangelhos do Novo Testamento, que oferecem diferentes perspectivas sobre a vida e os ensinamentos de Jesus.\n",
      "\n",
      "### Significado do Número 7\n",
      "\n",
      "O número 7 é um dos números mais significativos na Bíblia, frequentemente associado à perfeição e à completude. Deus criou o mundo em seis dias e descansou no sétimo, estabelecendo assim um padrão de trabalho e descanso que é fundamental para a teologia cristã e judaica. O sétimo dia, o Sabbath, é um dia de descanso e adoração.\n",
      "\n",
      "Além disso, o número 7 aparece em várias outras passagens bíblicas, como as sete trombetas e as sete taças da ira de Deus em Apocalipse, simbolizando juízo e a plenitude do plano divino. O número 7 também é associado a bênçãos e promessas, como as sete bênçãos que são recitadas durante o casamento judaico.\n",
      "\n",
      "### Presença em Vídeos\n",
      "\n",
      "A pesquisa no YouTube revelou alguns vídeos relevantes que abordam o significado dos números na Bíblia, embora não tenham se concentrado especificamente nos números 3, 4 e 7. Um dos vídeos mais notáveis é \"O que significa o número 4 na Bíblia Hebraica (Antigo Testamento)?\" do Pr. Marcos Botelho, que discute a importância do número 4 em contextos bíblicos. Outro vídeo relevante é \"Qual o significado do número 10 na Bíblia???\" também do Pr. Marcos Botelho, que explora a simbologia de outros números na Bíblia.\n",
      "\n",
      "### Citações e Referências\n",
      "\n",
      "1. Botelho, Pr. Marcos. \"O que significa o número 4 na Bíblia Hebraica (Antigo Testamento)?\" YouTube. [Link do vídeo](https://www.youtube.com/watch?v=XXXXXX).\n",
      "2. Botelho, Pr. Marcos. \"Qual o significado do número 10 na Bíblia???\" YouTube. [Link do vídeo](https://www.youtube.com/watch?v=XXXXXX).\n",
      "\n",
      "### Conclusão\n",
      "\n",
      "Os números 3, 4 e 7 possuem significados profundos e variados na tradição bíblica, refletindo conceitos de plenitude, criação e perfeição. A análise desses números não apenas enriquece a compreensão das escrituras, mas também oferece uma visão mais ampla sobre como os números podem simbolizar verdades espirituais e teológicas. A presença desses números em vídeos do YouTube, embora não tenha sido tão extensa quanto o esperado, ainda fornece uma base para explorar mais sobre a simbologia numérica na Bíblia.\u001b[0m\n",
      "\n",
      "\u001b[1m> Finished chain.\u001b[0m\n"
     ]
    }
   ],
   "source": [
    "youtube_researcher = Agent(\n",
    "\tconfig=agents_config['youtube_researcher'],\n",
    "    tools=[YoutubeTool()],\n",
    "    verbose=False,\n",
    "    llm=llm\n",
    ")\n",
    "\n",
    "youtube_research = Task(\n",
    "\tconfig=tasks_config['topic_in_youtube'],\n",
    "    agent=youtube_researcher,\n",
    ")\n",
    "\n",
    "crew = Crew(\n",
    "  agents=[youtube_researcher],\n",
    "  tasks=[youtube_research],\n",
    "  verbose=0,\n",
    "  memory=False,\n",
    "  llm=llm\n",
    ")\n",
    "\n",
    "input_text  = \"Qual significado dos números 3,4 e 7?\"\n",
    "\n",
    "inputs = {\n",
    "    \"topic\": input_text\n",
    "}\n",
    "result = crew.kickoff(inputs=inputs)"
   ]
  },
  {
   "cell_type": "code",
   "execution_count": 4,
   "metadata": {},
   "outputs": [
    {
     "data": {
      "text/markdown": [
       "O significado dos números 3, 4 e 7 é um tema que permeia diversas tradições culturais e religiosas, especialmente na Bíblia. Cada um desses números carrega simbolismos profundos e significados que variam conforme o contexto em que são utilizados. A seguir, apresento uma análise detalhada sobre cada um desses números, suas interpretações e a presença deles em vídeos relevantes do YouTube.\n",
       "\n",
       "### Significado do Número 3\n",
       "\n",
       "O número 3 é frequentemente associado à Trindade no cristianismo, representando o Pai, o Filho e o Espírito Santo. Essa tríade é fundamental para a teologia cristã, simbolizando a unidade e a diversidade de Deus. Além disso, o número 3 aparece em várias narrativas bíblicas, como a ressurreição de Jesus no terceiro dia, que é um evento central na fé cristã.\n",
       "\n",
       "Na tradição judaica, o número 3 também possui significados importantes. Por exemplo, os três patriarcas do povo de Israel — Abraão, Isaque e Jacó — são figuras centrais na narrativa bíblica. O número 3 pode simbolizar a plenitude e a completude, refletindo a ideia de que algo foi estabelecido de forma definitiva.\n",
       "\n",
       "### Significado do Número 4\n",
       "\n",
       "O número 4 é frequentemente associado à criação e à totalidade. Na Bíblia, ele é mencionado em várias passagens que se referem aos quatro pontos cardeais e às quatro direções do mundo. Isso sugere uma ideia de abrangência e completude. O número 4 também é significativo em contextos de julgamento e ordem divina.\n",
       "\n",
       "Na Bíblia Hebraica, o número 4 é mencionado em várias histórias, como as quatro criaturas vivas que cercam o trono de Deus em Ezequiel e Apocalipse. Além disso, o número 4 é frequentemente associado aos quatro evangelhos do Novo Testamento, que oferecem diferentes perspectivas sobre a vida e os ensinamentos de Jesus.\n",
       "\n",
       "### Significado do Número 7\n",
       "\n",
       "O número 7 é um dos números mais significativos na Bíblia, frequentemente associado à perfeição e à completude. Deus criou o mundo em seis dias e descansou no sétimo, estabelecendo assim um padrão de trabalho e descanso que é fundamental para a teologia cristã e judaica. O sétimo dia, o Sabbath, é um dia de descanso e adoração.\n",
       "\n",
       "Além disso, o número 7 aparece em várias outras passagens bíblicas, como as sete trombetas e as sete taças da ira de Deus em Apocalipse, simbolizando juízo e a plenitude do plano divino. O número 7 também é associado a bênçãos e promessas, como as sete bênçãos que são recitadas durante o casamento judaico.\n",
       "\n",
       "### Presença em Vídeos\n",
       "\n",
       "A pesquisa no YouTube revelou alguns vídeos relevantes que abordam o significado dos números na Bíblia, embora não tenham se concentrado especificamente nos números 3, 4 e 7. Um dos vídeos mais notáveis é \"O que significa o número 4 na Bíblia Hebraica (Antigo Testamento)?\" do Pr. Marcos Botelho, que discute a importância do número 4 em contextos bíblicos. Outro vídeo relevante é \"Qual o significado do número 10 na Bíblia???\" também do Pr. Marcos Botelho, que explora a simbologia de outros números na Bíblia.\n",
       "\n",
       "### Citações e Referências\n",
       "\n",
       "1. Botelho, Pr. Marcos. \"O que significa o número 4 na Bíblia Hebraica (Antigo Testamento)?\" YouTube. [Link do vídeo](https://www.youtube.com/watch?v=XXXXXX).\n",
       "2. Botelho, Pr. Marcos. \"Qual o significado do número 10 na Bíblia???\" YouTube. [Link do vídeo](https://www.youtube.com/watch?v=XXXXXX).\n",
       "\n",
       "### Conclusão\n",
       "\n",
       "Os números 3, 4 e 7 possuem significados profundos e variados na tradição bíblica, refletindo conceitos de plenitude, criação e perfeição. A análise desses números não apenas enriquece a compreensão das escrituras, mas também oferece uma visão mais ampla sobre como os números podem simbolizar verdades espirituais e teológicas. A presença desses números em vídeos do YouTube, embora não tenha sido tão extensa quanto o esperado, ainda fornece uma base para explorar mais sobre a simbologia numérica na Bíblia."
      ],
      "text/plain": [
       "<IPython.core.display.Markdown object>"
      ]
     },
     "execution_count": 4,
     "metadata": {},
     "output_type": "execute_result"
    }
   ],
   "source": [
    "Markdown(result.raw)"
   ]
  }
 ],
 "metadata": {
  "kernelspec": {
   "display_name": "crewai",
   "language": "python",
   "name": "python3"
  },
  "language_info": {
   "codemirror_mode": {
    "name": "ipython",
    "version": 3
   },
   "file_extension": ".py",
   "mimetype": "text/x-python",
   "name": "python",
   "nbconvert_exporter": "python",
   "pygments_lexer": "ipython3",
   "version": "3.12.4"
  }
 },
 "nbformat": 4,
 "nbformat_minor": 2
}

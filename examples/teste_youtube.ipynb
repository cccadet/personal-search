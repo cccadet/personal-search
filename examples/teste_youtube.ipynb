{
 "cells": [
  {
   "cell_type": "code",
   "execution_count": 1,
   "metadata": {},
   "outputs": [],
   "source": [
    "from crewai import Crew, Task, Agent\n",
    "from langchain_openai import ChatOpenAI\n",
    "import os\n",
    "from personal_search.tools.books import LibraryTool, YoutubeTool\n",
    "import warnings\n",
    "\n",
    "warnings.filterwarnings(\"ignore\")\n",
    "\n",
    "llm = ChatOpenAI(model='gpt-3.5-turbo', temperature=0)\n",
    "\n",
    "# ------ Ollama - Local---------#\n",
    "os.environ[\"LOCAL_EMBEDDINGS\"]=\"http://localhost:11434/api/embeddings\"\n",
    "embeddings_model = \"nomic-embed-text:v1.5\"\n",
    "os.environ[\"LOCAL_EMBEDDINGS_MODEL\"]=embeddings_model # documentar como definir variáveis de ambiente\n",
    "\n",
    "# ------ OpenAI - API ---------#\n",
    "os.environ[\"OPENAI_MODEL_NAME\"] = 'gpt-3.5-turbo'\n",
    "\n",
    "# ------ DEBUG ---------#\n",
    "os.environ[\"DEBUG\"]=\"True\"\n",
    "debug = os.getenv(\"DEBUG_MODE\", \"False\")\n",
    "if debug.lower() == \"true\":\n",
    "    VERBOSE = 2\n",
    "else:\n",
    "    VERBOSE = False"
   ]
  },
  {
   "cell_type": "code",
   "execution_count": 2,
   "metadata": {},
   "outputs": [],
   "source": [
    "# abrir arquivo yaml como dict\n",
    "def load_yaml(file_path):\n",
    "    import yaml\n",
    "    with open(file_path, 'r') as stream:\n",
    "        try:\n",
    "            return yaml.safe_load(stream)\n",
    "        except yaml.YAMLError as exc:\n",
    "            print(exc)\n",
    "\n",
    "agents_config = load_yaml(\"src/personal_search/config/agents.yaml\")\n",
    "tasks_config = load_yaml(\"src/personal_search/config/tasks.yaml\")"
   ]
  },
  {
   "cell_type": "code",
   "execution_count": 3,
   "metadata": {},
   "outputs": [
    {
     "name": "stdout",
     "output_type": "stream",
     "text": [
      "\u001b[1m\u001b[95m [2024-07-08 21:44:30][DEBUG]: == Working Agent: Sumarizador transcrições do Youtube\n",
      "\u001b[00m\n",
      "\u001b[1m\u001b[95m [2024-07-08 21:44:30][INFO]: == Starting Task: Apresentar as ideias que o vídeo apresenta sobre o tópico: Calvinismo.\n",
      "\u001b[00m\n"
     ]
    },
    {
     "name": "stderr",
     "output_type": "stream",
     "text": [
      "2024-07-08 21:44:32,078 - 133230824089408 - add_config.py-add_config:30 - WARNING: min_chunk_size 0 should be greater than chunk_overlap 100, otherwise it is redundant.\n"
     ]
    },
    {
     "name": "stdout",
     "output_type": "stream",
     "text": [
      "\u001b[95m \n",
      "\n",
      "Lições de um drama gay | Análise de THE LAST OF US 1x03 - Dois Dedos de Teologia\n",
      "\n",
      "o terceiro episódio de The Last of Us começa com Joe pega no Pedras em um rio e as empilhando numa espécie de Memorial a tese ele sente falta dela essa ferida ainda tá aberta já Episódio 3 e as mãos de Joel ainda estão com as marcas da surra da violência que ele praticou contra um guarda que rememora suas feridas antigas com a sua filha feridas que ele disse que curaram rápido mas que não curaram [Música] boas feridas só se curam com muito tempo ou com muito amor ele volta até onde ele está ele a deixa ficar com seu casaco arremessa de longe alguma comida ele tá cuidando dela mesmo estando ainda ferido por dentro e por fora Ele cuida vai se mantém a distância distância é essa que é expressa quando eles caminham sobre a ponte mas que aos poucos na medida que eles caminham nesse mundo devastado tendo somente um ao outro bom se aproximando eles caminham até conhecidos de Diogo meu e Frank que são os personagens principais dessa história que volta 20 anos nós somos apresentados a bio o homem que se isolou do mundo no seu banquer particular e que só por isso sobreviveu a massacre do soldados que mataram mulheres e crianças inocentes mil sobrevive por quatro anos sozinho vivendo naquele Vilarejo céu viu é um anarquista Bio é um conspiracionista ele acredita que os policiais são da Nova Ordem Mundial e todos nazistas ele tem a bandeira de Dong trade On Me na sua parede uma bandeira que marca luta de libertários nos Estados Unidos pessoas que não Confiam em autoridades públicas as pessoas que se armam e se protegem e se defendem do Apocalipse calhou do Apocalipse acontecer calhou dos policiais virarem todos nazistas calhou que o conspiracionista estava certo ele consegue finalmente o seu a capistão não existe mais forças políticas ali agora a cidade é dele agora as regras são deles agora as leis são dele ele pode viver a sua vida sem nenhuma autoridade sem nenhum governo sobre ele ele sai de casa mas ele continua sendo o homem no Bank protegido do Apocalipse lá fora\n",
      "\n",
      "O QUE PENSO DE MARIA? E DO CELIBATO? ECUMENISMO? E DOS PAPAS? - Dois Dedos de Teologia\n",
      "\n",
      "da igreja a igreja jogador é razão sem circular então você tem que analisar os milagres a partir de uma compreensão da fé e não validar a fé através daquilo que acontece miraculosamente grande questão é como interpretação do instrutor é mais correto e mais coerente contexto e não onde existem mais experiências fora daquilo que é natural porque no processo antes não se condena tanto a devoção à nossa senhora é outro santos sendo que dois dos principais nomes do protestantismo terry calvino era declaradamente grande devoto de maria e gostar e entender por que maria é menosprezada paredão é menosprezado no protestantismo certo depende da visão que você acredita a que se deve ter de maria se eu acredito que maria foi uma grande mulher mulher incrível a mulher que deus escolheu pra falar isso é o cristo deus encarnado eu não tô fazendo maria se essa é a visão que a futura presença de maria você acredita que maria é correto em touro não é assunto ao céu sem pecado e vivem aí talvez você esteja superestimando maria e não é menosprezando né depende como se lê no futuro ninguém acha que maria uma coisa ruim que maria foi a mulher feia boba e chata seila maria é tratado com muita honra dentro protegem pino ela não é tratada como corretoras é tratada como impecável é tratada como eternamente vivem é tratada com uma grande mulher que deus escolheu pra trazer jesus ao mundo agora lutero e calvino seja uma forma grande devoto de maria isso não é muito correto é lutero foi um pouco mais né de voto de maria mesmo depois do argentino mas ele não via maria como corredentora ela aparecer calvino ele não tinha divisão ao mito comum tratar calvino como um devoto de maria a questão que primeiro os protestantes não seguem literalmente aqui lutero e calvino diziam eles não são baluartes nossa fé não são o fundamento da fé eles são eles não são luzes próprias eles são o forte que apontam para outra coisa então lutero e calvino apontaram para a escritura ea gente segue lutero e calvino ao\n",
      "\n",
      "LEMBRAR DA CONVERSÃO? BASE BÍBLICA PARA CREMAÇÃO? TRAUMA DE CASAMENTO? - Dois Dedos de Teologia\n",
      "\n",
      "momento que não aguenta mais está com pessoa com quem sendo senti atração com quem para você é um peso tem intimidade física então se você luta contra tentações homossexuais eu tenho que resolver parte desse problema pelo menos antes de contrair família você tem que pelo menos no mínimo Sentir atração pelo sexo oposto para você poder entrar no casamento você não sente atração pelo sexo oposto o seu caminho aí você não conseguir lidar a com isso é celibato mas não entrar no reino e onde você vai fazer com que outra pessoa passe por esse tipo de situação é é muito difícil muito difícil mas é o que está disponível a nós aí tendo fé na obra perfeita de prejuízo pode falar sobre cremação meus pais querem ser Queimados mas na geral bases bíblicas não tem tem base bíblica para ser queimado gente tem vaga só um jeito de lidar com o corpo é você quer enterrados vai virar pó é que você colocado num caixão e você vai ser composto de comida o bicho se você foi cremado você vai virar a cinza e tanto faz o modo como nós administramos os nossos mortos tem que ser pelo menos com dignidade obviamente respeitando o fato de que ali é uma vida um corpo que não pode ser profanado mas se vai ser cremado e as cinzas Estão guardados lugar você vai virar ó e forma um pouco mais natural e depois aquele restinho de osso e aquele faltando vai ser colocado numa em outro lugar é isso o que importa a idade que você não pode ser cremado uma crendice é um mero tradicionalismo que vem esse inclusive e fundamentalistas não tem nenhuma relação com a própria estrutura quais pontos do Calvinismo senhor não Concordo concordo com cinco pontos do Calvinismo certo e aí está falando da sua e agora com Calvino especificamente eu não concordo com tudo discordo 17 coisas a verdade Alvina presbiteriano demais para mim ele é formado de mais para mim nesse sentido escola de várias coisas da própria doutrina calvinista não são presbiteriano que então já tira aí várias coisas Batistas calvinistas são basicamente\n",
      "\n",
      "\n",
      "\u001b[00m\n",
      "\u001b[1m\u001b[92m [2024-07-08 21:44:39][DEBUG]: == [Sumarizador transcrições do Youtube\n",
      "] Task output: Os vídeos relacionados ao tópico do Calvinismo abordam diferentes aspectos e pontos de vista sobre a doutrina. No vídeo \"Lembra da Conversão? Base Bíblica para Cremação? Trauma de Casamento? - Dois Dedos de Teologia\", o apresentador discute a questão da atração sexual e a importância de resolver questões pessoais antes de entrar em um casamento. Ele também aborda a questão da cremação e menciona que não há base bíblica específica para esse procedimento, enfatizando a importância de lidar com os mortos com dignidade.\n",
      "\n",
      "Já no vídeo \"O que penso de Maria? E do Celibato? Ecumenismo? E dos Papas? - Dois Dedos de Teologia\", o debate se concentra na visão de Maria dentro do protestantismo, destacando que figuras como Calvino e Lutero eram devotos de Maria, mas com visões diferentes sobre o papel dela na fé. O apresentador ressalta a importância de compreender a visão de Maria dentro de cada vertente do cristianismo.\n",
      "\n",
      "Por fim, no vídeo \"Lições de um drama gay | Análise de THE LAST OF US 1x03 - Dois Dedos de Teologia\", são apresentadas reflexões sobre o jogo \"The Last of Us\" e como ele aborda questões de violência, isolamento e sobrevivência em um mundo pós-apocalíptico. O vídeo destaca a jornada dos personagens e as diferentes perspectivas sobre a sobrevivência em um cenário extremo.\n",
      "\n",
      "Esses vídeos oferecem uma variedade de pontos de vista e reflexões sobre o Calvinismo, abordando temas como atração sexual, cremação, visão de Maria no protestantismo e questões éticas em um contexto pós-apocalíptico.\n",
      "\n",
      "\u001b[00m\n"
     ]
    }
   ],
   "source": [
    "youtube_researcher = Agent(\n",
    "\tconfig=agents_config['youtube_researcher'],\n",
    "    tools=[YoutubeTool()],\n",
    "    verbose=VERBOSE,\n",
    "    llm=llm\n",
    ")\n",
    "\n",
    "youtube_research = Task(\n",
    "\tconfig=tasks_config['youtube_research'],\n",
    "    agent=youtube_researcher,\n",
    ")\n",
    "\n",
    "crew = Crew(\n",
    "  agents=[youtube_researcher],\n",
    "  tasks=[youtube_research],\n",
    "  verbose=2,\n",
    "  memory=False,\n",
    "  llm=llm\n",
    ")\n",
    "\n",
    "input_text  = \"Calvinismo\"\n",
    "\n",
    "inputs = {\n",
    "    \"topic\": input_text\n",
    "}\n",
    "result = crew.kickoff(inputs=inputs)"
   ]
  },
  {
   "cell_type": "code",
   "execution_count": null,
   "metadata": {},
   "outputs": [],
   "source": []
  }
 ],
 "metadata": {
  "kernelspec": {
   "display_name": "crewai",
   "language": "python",
   "name": "python3"
  },
  "language_info": {
   "codemirror_mode": {
    "name": "ipython",
    "version": 3
   },
   "file_extension": ".py",
   "mimetype": "text/x-python",
   "name": "python",
   "nbconvert_exporter": "python",
   "pygments_lexer": "ipython3",
   "version": "3.12.2"
  }
 },
 "nbformat": 4,
 "nbformat_minor": 2
}

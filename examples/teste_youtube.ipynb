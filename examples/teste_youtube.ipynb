{
 "cells": [
  {
   "cell_type": "code",
   "execution_count": 1,
   "metadata": {},
   "outputs": [],
   "source": [
    "from crewai import Crew, Task, Agent\n",
    "from langchain_openai import ChatOpenAI\n",
    "import os\n",
    "from personal_search.tools.books import LibraryTool, YoutubeTool\n",
    "import warnings\n",
    "\n",
    "warnings.filterwarnings(\"ignore\")\n",
    "\n",
    "llm = ChatOpenAI(model='gpt-3.5-turbo', temperature=0)\n",
    "\n",
    "# ------ Ollama - Local---------#\n",
    "os.environ[\"LOCAL_EMBEDDINGS\"]=\"http://localhost:11434/api/embeddings\"\n",
    "embeddings_model = \"nomic-embed-text:v1.5\"\n",
    "os.environ[\"LOCAL_EMBEDDINGS_MODEL\"]=embeddings_model # documentar como definir variáveis de ambiente\n",
    "\n",
    "# ------ OpenAI - API ---------#\n",
    "os.environ[\"OPENAI_MODEL_NAME\"] = 'gpt-3.5-turbo'\n",
    "\n",
    "# ------ DEBUG ---------#\n",
    "os.environ[\"DEBUG\"]=\"True\"\n",
    "debug = os.getenv(\"DEBUG_MODE\", \"False\")\n",
    "if debug.lower() == \"true\":\n",
    "    VERBOSE = 2\n",
    "else:\n",
    "    VERBOSE = False"
   ]
  },
  {
   "cell_type": "code",
   "execution_count": 2,
   "metadata": {},
   "outputs": [],
   "source": [
    "# abrir arquivo yaml como dict\n",
    "def load_yaml(file_path):\n",
    "    import yaml\n",
    "    with open(file_path, 'r') as stream:\n",
    "        try:\n",
    "            return yaml.safe_load(stream)\n",
    "        except yaml.YAMLError as exc:\n",
    "            print(exc)\n",
    "\n",
    "agents_config = load_yaml(\"src/personal_search/config/agents.yaml\")\n",
    "tasks_config = load_yaml(\"src/personal_search/config/tasks.yaml\")"
   ]
  },
  {
   "cell_type": "code",
   "execution_count": 3,
   "metadata": {},
   "outputs": [
    {
     "name": "stdout",
     "output_type": "stream",
     "text": [
      "\u001b[1m\u001b[95m [2024-07-09 20:41:54][DEBUG]: == Working Agent: Sumarizador transcrições do Youtube\n",
      "\u001b[00m\n",
      "\u001b[1m\u001b[95m [2024-07-09 20:41:54][INFO]: == Starting Task: Apresentar as ideias que o vídeo apresenta sobre o tópico: O mais importante é que vocês vivam em sua comunidade de maneira digna das boas-novas de Cristo. Então, quando eu for vê-los novamente, ou mesmo quando ouvir a seu respeito, saberei que estão firmes e unidos em um só espírito e em um só propósito, lutando juntos pela fé que é proclamada nas boas-novas..\n",
      "\u001b[00m\n"
     ]
    },
    {
     "name": "stderr",
     "output_type": "stream",
     "text": [
      "2024-07-09 20:41:56,167 - 134044179695424 - add_config.py-add_config:30 - WARNING: min_chunk_size 0 should be greater than chunk_overlap 100, otherwise it is redundant.\n"
     ]
    },
    {
     "name": "stdout",
     "output_type": "stream",
     "text": [
      "\u001b[95m \n",
      "\n",
      "EXPLICAÇÃO DO TEXTO \"AINDA HOJE ESTARÁS COMIGO NO PARAÍSO\" - Dois Dedos de Teologia\n",
      "\n",
      "esperar pelo favor que busca hoje de Cristo é a operação e salvação de Cristo naquele mesmo dia não mostra que em cada hoje no qual Jesus foi encontrado em seu ministério o encontro trouxe salvação até agora na hora de sua morte Jesus traz salvação sobre essa passagem vamos juntos construir um ambiente debate teológico saudável e maduro aqui na internet um cheiro no seu cangote e até a próxima [Música]\n",
      "\n",
      "QUAIS OS FANTASMAS DO SEU NATAL? - Dois Dedos de Teologia\n",
      "\n",
      "não escondendo não vivemos mais presentes em escravos de nossos desejos regas somos livres não somos perturbados pelo futuro porque temos a esperança da glória acorde e converta se excluísse o senhor nos visita [Música]\n",
      "\n",
      "O DRAMA DA PRESENÇA DE DEUS - Sermão de Natal - Dois Dedos de Teologia\n",
      "\n",
      "e leva Mateus onde quiseres é mas vá conosco bom então queremos levar uma mensagem sinais ou não o Santíssimo nome de Cristo Jesus amém e [Música] G1 oi oi oi [Música] E aí [Música]\n",
      "\n",
      "\n",
      "\u001b[00m\n",
      "\u001b[1m\u001b[92m [2024-07-09 20:41:58][DEBUG]: == [Sumarizador transcrições do Youtube\n",
      "] Task output: Os vídeos encontrados não possuem relação com o tópico \"viver em comunidade de acordo com as boas-novas de Cristo\".\n",
      "\n",
      "\u001b[00m\n"
     ]
    }
   ],
   "source": [
    "youtube_researcher = Agent(\n",
    "\tconfig=agents_config['youtube_researcher'],\n",
    "    tools=[YoutubeTool()],\n",
    "    verbose=VERBOSE,\n",
    "    llm=llm\n",
    ")\n",
    "\n",
    "youtube_research = Task(\n",
    "\tconfig=tasks_config['youtube_research'],\n",
    "    agent=youtube_researcher,\n",
    ")\n",
    "\n",
    "crew = Crew(\n",
    "  agents=[youtube_researcher],\n",
    "  tasks=[youtube_research],\n",
    "  verbose=2,\n",
    "  memory=False,\n",
    "  llm=llm\n",
    ")\n",
    "\n",
    "input_text  = \"O mais importante é que vocês vivam em sua comunidade de maneira digna das boas-novas de Cristo. Então, quando eu for vê-los novamente, ou mesmo quando ouvir a seu respeito, saberei que estão firmes e unidos em um só espírito e em um só propósito, lutando juntos pela fé que é proclamada nas boas-novas.\"\n",
    "\n",
    "inputs = {\n",
    "    \"topic\": input_text\n",
    "}\n",
    "result = crew.kickoff(inputs=inputs)"
   ]
  },
  {
   "cell_type": "code",
   "execution_count": null,
   "metadata": {},
   "outputs": [],
   "source": []
  }
 ],
 "metadata": {
  "kernelspec": {
   "display_name": "crewai",
   "language": "python",
   "name": "python3"
  },
  "language_info": {
   "codemirror_mode": {
    "name": "ipython",
    "version": 3
   },
   "file_extension": ".py",
   "mimetype": "text/x-python",
   "name": "python",
   "nbconvert_exporter": "python",
   "pygments_lexer": "ipython3",
   "version": "3.12.2"
  }
 },
 "nbformat": 4,
 "nbformat_minor": 2
}

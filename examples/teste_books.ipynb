{
 "cells": [
  {
   "cell_type": "code",
   "execution_count": null,
   "metadata": {},
   "outputs": [],
   "source": [
    "from crewai import Crew, Task, Agent\n",
    "from langchain_openai import ChatOpenAI\n",
    "import os\n",
    "from personal_search.tools.books import LibraryTool, YoutubeTool\n",
    "import warnings\n",
    "from pydantic import BaseModel, Field\n",
    "from typing import List\n",
    "from IPython.display import display, Markdown, Latex\n",
    "from dotenv import load_dotenv\n",
    "\n",
    "load_dotenv()\n",
    "\n",
    "warnings.filterwarnings(\"ignore\")\n",
    "\n",
    "model_name = os.environ.get(\"OPENAI_MODEL_NAME\", \"gpt-3.5-turbo\")\n",
    "\n",
    "llm = ChatOpenAI(model=model_name, temperature=0)\n",
    "\n",
    "class TopicoEmLivros(BaseModel):\n",
    "\t\"\"\"Modelo de Tópico em Livros\"\"\"\n",
    "\ttitulo: str = Field(..., description=\"Título do tópico\")\n",
    "\tencontrado: bool = Field(..., description=\"O tópico foi encontrado em livros?\")\n",
    "\tlivros: List[str] = Field(..., description=\"Livros que tratam do tópico\")\n",
    "\tcitacoes: List[str] = Field(..., description=\"Citações de livros sobre o tópico\")\n",
    "\ttratamento: str = Field(..., description=\"Como o tópico é tratado nos livros\")\n",
    "\tfontes: List[str] = Field(..., description=\"Fontes do tópico\")"
   ]
  },
  {
   "cell_type": "code",
   "execution_count": null,
   "metadata": {},
   "outputs": [],
   "source": [
    "# abrir arquivo yaml como dict\n",
    "def load_yaml(file_path):\n",
    "    import yaml\n",
    "    with open(file_path, 'r') as stream:\n",
    "        try:\n",
    "            return yaml.safe_load(stream)\n",
    "        except yaml.YAMLError as exc:\n",
    "            print(exc)\n",
    "\n",
    "agents_config = load_yaml(\"src/personal_search/config/agents.yaml\")\n",
    "tasks_config = load_yaml(\"src/personal_search/config/tasks.yaml\")"
   ]
  },
  {
   "cell_type": "code",
   "execution_count": null,
   "metadata": {},
   "outputs": [],
   "source": [
    "researcher = Agent(\n",
    "\tconfig=agents_config['book_researcher'],\n",
    "    tools=[LibraryTool()],\n",
    "    verbose=True,\n",
    "    llm=llm,\n",
    "\tallow_delegation=False,\n",
    ")\n",
    "\n",
    "research = Task(\n",
    "\tconfig=tasks_config['topic_in_books'],\n",
    "    agent=researcher,\n",
    "    output_pydantic=TopicoEmLivros,\n",
    ")\n",
    "\n",
    "crew = Crew(\n",
    "  agents=[researcher],\n",
    "  tasks=[research],\n",
    "  verbose=2,\n",
    "  memory=True,\n",
    "  llm=llm,\n",
    "  full_output=True,\n",
    "  planning=True,\n",
    ")\n",
    "\n",
    "input_text  = \"O mais importante é que vocês vivam em sua comunidade de maneira digna das boas-novas de Cristo. Então, quando eu for vê-los novamente, ou mesmo quando ouvir a seu respeito, saberei que estão firmes e unidos em um só espírito e em um só propósito, lutando juntos pela fé que é proclamada nas boas-novas.\"\n",
    "\n",
    "inputs = {\n",
    "    \"topic\": input_text\n",
    "}\n",
    "result = crew.kickoff(inputs=inputs)"
   ]
  },
  {
   "cell_type": "code",
   "execution_count": null,
   "metadata": {},
   "outputs": [],
   "source": [
    "def extract_markdown(result_dict, key):\n",
    "    markdown = ''\n",
    "    # verifica se o valor é uma lista\n",
    "    if isinstance(result_dict[key], list):\n",
    "        for item in result_dict[key]:\n",
    "            markdown += f\"- {item}\\n\"\n",
    "    else:\n",
    "        markdown += f\"{result_dict[key]}\\n\\n\"\n",
    "    return markdown\n",
    "\n",
    "def split_text(text):\n",
    "    text = text.split('_')\n",
    "    text = ' '.join(text)\n",
    "    return text.title()\n",
    "\n",
    "def print_pydantic(result):\n",
    "    markdown = ''\n",
    "    keys = result.pydantic.dict().keys()\n",
    "    result_dict = result.pydantic.dict()\n",
    "    for key in keys:\n",
    "        if key == 'titulo':\n",
    "            markdown += f\"# {extract_markdown(result_dict,key)}\\n\"\n",
    "        elif key == 'classificacao':\n",
    "            markdown += f\"**Classificação:** {extract_markdown(result_dict,key)}\\n\"\n",
    "        else:\n",
    "            markdown += f\"## {split_text(key)}\\n\"\n",
    "            markdown += extract_markdown(result_dict, key)\n",
    "    return markdown\n",
    "\n",
    "Markdown(print_pydantic(result))"
   ]
  },
  {
   "cell_type": "code",
   "execution_count": null,
   "metadata": {},
   "outputs": [],
   "source": [
    "Markdown(result.raw)"
   ]
  }
 ],
 "metadata": {
  "kernelspec": {
   "display_name": "crewai",
   "language": "python",
   "name": "python3"
  },
  "language_info": {
   "codemirror_mode": {
    "name": "ipython",
    "version": 3
   },
   "file_extension": ".py",
   "mimetype": "text/x-python",
   "name": "python",
   "nbconvert_exporter": "python",
   "pygments_lexer": "ipython3",
   "version": "3.12.4"
  }
 },
 "nbformat": 4,
 "nbformat_minor": 2
}

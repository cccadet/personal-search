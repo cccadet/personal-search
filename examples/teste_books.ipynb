{
 "cells": [
  {
   "cell_type": "code",
   "execution_count": 1,
   "metadata": {},
   "outputs": [],
   "source": [
    "from crewai import Crew, Task, Agent\n",
    "from langchain_openai import ChatOpenAI\n",
    "import os\n",
    "from personal_search.tools.books import LibraryTool, YoutubeTool\n",
    "import warnings\n",
    "\n",
    "warnings.filterwarnings(\"ignore\")\n",
    "\n",
    "llm = ChatOpenAI(model='gpt-3.5-turbo', temperature=0)\n",
    "\n",
    "# ------ Ollama - Local---------#\n",
    "os.environ[\"LOCAL_EMBEDDINGS\"]=\"http://localhost:11434/api/embeddings\"\n",
    "embeddings_model = \"nomic-embed-text:v1.5\"\n",
    "os.environ[\"LOCAL_EMBEDDINGS_MODEL\"]=embeddings_model # documentar como definir variáveis de ambiente\n",
    "\n",
    "# ------ OpenAI - API ---------#\n",
    "os.environ[\"OPENAI_MODEL_NAME\"] = 'gpt-3.5-turbo'\n",
    "\n",
    "# ------ DEBUG ---------#\n",
    "os.environ[\"DEBUG\"]=\"True\"\n",
    "debug = os.getenv(\"DEBUG_MODE\", \"False\")\n",
    "if debug.lower() == \"true\":\n",
    "    VERBOSE = 2\n",
    "else:\n",
    "    VERBOSE = False"
   ]
  },
  {
   "cell_type": "code",
   "execution_count": 2,
   "metadata": {},
   "outputs": [],
   "source": [
    "# abrir arquivo yaml como dict\n",
    "def load_yaml(file_path):\n",
    "    import yaml\n",
    "    with open(file_path, 'r') as stream:\n",
    "        try:\n",
    "            return yaml.safe_load(stream)\n",
    "        except yaml.YAMLError as exc:\n",
    "            print(exc)\n",
    "\n",
    "agents_config = load_yaml(\"src/personal_search/config/agents.yaml\")\n",
    "tasks_config = load_yaml(\"src/personal_search/config/tasks.yaml\")"
   ]
  },
  {
   "cell_type": "code",
   "execution_count": 3,
   "metadata": {},
   "outputs": [
    {
     "name": "stdout",
     "output_type": "stream",
     "text": [
      "\u001b[1m\u001b[95m [2024-07-09 20:38:55][DEBUG]: == Working Agent: Pesquisador de Livros\n",
      "\u001b[00m\n",
      "\u001b[1m\u001b[95m [2024-07-09 20:38:55][INFO]: == Starting Task: Apresentar as ideias que o livro apresenta sobre o tópico: O mais importante é que vocês vivam em sua comunidade de maneira digna das boas-novas de Cristo. Então, quando eu for vê-los novamente, ou mesmo quando ouvir a seu respeito, saberei que estão firmes e unidos em um só espírito e em um só propósito, lutando juntos pela fé que é proclamada nas boas-novas..\n",
      "\u001b[00m\n"
     ]
    },
    {
     "name": "stderr",
     "output_type": "stream",
     "text": [
      "2024-07-09 20:38:57,385 - 133529732810560 - add_config.py-add_config:30 - WARNING: min_chunk_size 0 should be greater than chunk_overlap 100, otherwise it is redundant.\n"
     ]
    },
    {
     "name": "stdout",
     "output_type": "stream",
     "text": [
      "\u001b[95m \n",
      "\n",
      "Somos Todos Teólogos - RC Sproul - Página 29:\n",
      "caráter invisível de Deus é revelado por meio das coisas que podem ser vistas. O homem não tem desculpa para ignorar a revelação de Deus: “Porque os atributos invisíveis de Deus, assim o seu eterno poder, como também a sua própria divindade, claramente se reconhecem, desde o princípio do mundo, sendo percebidos por meio das coisas que foram criadas. Tais homens são, por isso, indesculpáveis” (v. 20). Aqueles que recusam chegar-se a Deus tentam justificar sua recusa por afirmar que Deus falhou em oferecer provas suficientes de sua existência, mas Paulo anula essa desculpa nesta passagem de Romanos com uma realidade severa: “Porquanto, tendo conhecimento de Deus, não o glorificaram como Deus, nem lhe deram graças; antes, se tornaram nulos em seus próprios raciocínios, obscurecendo-se-lhes o coração insensato” (v. 21). A Bíblia é clara em dizer que a revelação que Deus faz de si mesmo na natureza nos proporciona um verdadeiro conhecimento de seu caráter. REVELAÇÃO MEDIATA E IMEDIATA Devemos também notar a distinção entre revelação geral mediata e imediata . Estes termos – mediata e imediata – têm a ver com a função ou uso de algo que está entre dois pontos. Deus é transcendente, e nós estamos na Terra. Aquilo que media a revelação de Deus é a natureza; em outras palavras, a natureza é o meio de revelação, assim como um jornal ou uma transmissão televisiva é um meio de comunicação; e isso é a razão por que esses métodos de comunicação são chamados coletivamente de “mídia”. De maneira semelhante, o principal meio de revelação geral é a natureza. Revelação geral imediata é a expressão usada para descrever outra maneira pela qual Deus revela-se a si mesmo para nós. Em Romanos 2.15, Paulo diz que a lei de Deus foi escrita em nosso coração, algo que João Calvino chamou de sensus divinitatis ou o senso do divino . É um discernimento de Deus que ele plantou na alma do homem, e este discernimento é manifesto em nossa consciência e em nosso conhecimento da\n",
      "\n",
      "Evangelho Maltrapilho - Brennan Manning - Página 30:\n",
      "~ 31 ~ arriscar distorcem Deus à forma de um guarda-l ivros, e o evangelho da graça é trocado pela segurança do cativeiro religioso. \"Se não vos torn ardes como crianças\". O céu estará repleto de gente com cinco anos de idade. Escreve Burkhardt: \"Temo pelo advogado cuja única vida é o imposto corporativo, pelo médico cuja existência inteira é a próstata de outra pessoa, pelo executivo cuja única responsabilidade é perante seus acionistas, pe lo atleta que aposta tudo num único alvo, o teólogo que pensa que o mundo pode ser salv o pela teologia. Uma mente fechada mata casamentos e relações humanas; amortece sentimen tos e sensibilidades; cria uma igreja que vive em mil e um túneis, sem nenhuma comunicação e sem saída\".29 Se mantemos a mente aberta como a de uma criança, desafiamos id éias estabelecidas e estruturas rígidas, incluindo as nossas. Ouvimo s pessoas de outras denominações e religiões. Não encontramos demônios naqueles de quem discordamos. Não nos aconchegamos a gente que balbucia nosso jargão. Se somos abertos, raramente recorremos ao OU isso ou aquilo: ou criação ou evolução, ou a liberdade ou a lei, ou o sagrado ou o secular, ou Beethoven ou Madonna. Permanecemos focalizados em ambos e em e, plenamente conscientes de que a verdade de Deus não pode ser aprisionada numa definição pequena. É cl aro que a mente aberta não aceita tudo indiscriminadamente — marxismo e capitalismo, cristianismo e ateísmo, amor e luxúria, Moët Chandon e vinagre. Ela não abso rve todas as proposições igualmente, como uma esponja, nem é molenga como uma. A mente aber ta, porém, percebe que a realidade, a verdade e Jesus Cristo são inacreditavelmente sem limitações (digressão encerrada). O espírito maltrapilho de Jesus vem por vezes à tona nos cenários mais improváveis e está com freqüência totalmente ausente em lugares on de seria mais esperado encontrá-lo. Permita- me encerrar este capítulo com a história de duas comunidades — ambas muito próximas do meu coração: uma envolve os\n",
      "\n",
      "Evangelho Maltrapilho - Brennan Manning - Página 77:\n",
      "fervor. Não estou escancarado, desesperado. Vou ouvir qualquer coisa que o senhor tiver a di zer, então vá em frente: surpreenda-me. Dê-me alguma palavra nova. A velha já estou sabendo\". E Deus responde: É isso que você não sabe. Você não sabe quanto eu o amo. O momento em que você pensa que compreende é o momento em que você não compreende. Eu sou Deus, não homem. Você fala aos outros a meu respeito : diz que eu sou um Deus amoroso. Suas palavras são papo-furado. Minh as palavras estão escritas no sangue do meu Filho. Da próxima vez que você pregar sobre o meu am or com uma familiaridade tão insolente, nada me impede de vir e detonar a sua re união de oração. Quando você vier a mim com estudado profissionalismo, exporei você como um amador gro sseiro. Quando você tentar convencer os outros de que sabe do que está falando, vou mandá-lo calar a boca e cair de rosto no chão. Você diz que sabe que eu o amo: Você sabia que cada vez que você me diz que me ama eu digo \"obrigado\"? Quando seu filho vem até você e pergunta: \"Você ama a Susan mais do que a mim porque ela patina melhor e porque ela é menina?\" você não se sente magoado e entristecido pela falta de confiança de se u filho? Você sabia que faz a mesma coisa comigo? Você alega saber o que compartilhamos qu ando Jesus retirou-se para um lugar deserto e passou a noite na encosta de uma colina comigo? Você sabe de onde veio a inspiração de lavar os pés dos doze discíp ulos? Você entende que, motivado apenas pelo amor, seu Deus tornou-se seu escravo no cenáculo? Você ressente a ordem divina dada a Abr aão, de oferecer seu único filho, Isaque, no monte Moriá? Você sente alívio quando o anjo intervém, a mão de Abraão é detida 84 Id., ibid., p. 62. Esse livro oferece uma compreensão compassiva da ansiedade e do tumulto interior que muitas vezes acompanham a crise da meia‐idade. E encorajante ler as histórias de outros que já percorreram esse caminho.\n",
      "\n",
      "\n",
      "\u001b[00m\n",
      "\u001b[1m\u001b[92m [2024-07-09 20:39:01][DEBUG]: == [Pesquisador de Livros\n",
      "] Task output: - Livro: Somos Todos Teólogos - RC Sproul - Página 29:\n",
      "\"O caráter invisível de Deus é revelado por meio das coisas que podem ser vistas. O homem não tem desculpa para ignorar a revelação de Deus. A Bíblia é clara em dizer que a revelação que Deus faz de si mesmo na natureza nos proporciona um verdadeiro conhecimento de seu caráter.\"\n",
      "\n",
      "- Livro: Evangelho Maltrapilho - Brennan Manning - Página 30:\n",
      "\"Se mantemos a mente aberta como a de uma criança, desafiamos ideias estabelecidas e estruturas rígidas. Permanecemos focalizados em ambos e em e, plenamente conscientes de que a verdade de Deus não pode ser aprisionada numa definição pequena.\"\n",
      "\n",
      "- Livro: Evangelho Maltrapilho - Brennan Manning - Página 77:\n",
      "\"Você não sabe quanto eu o amo. O momento em que você pensa que compreende é o momento em que você não compreende. Eu sou Deus, não homem. Você diz que sabe que eu o amo: Você sabia que cada vez que você me diz que me ama eu digo 'obrigado'?\"\n",
      "\n",
      "\u001b[00m\n"
     ]
    }
   ],
   "source": [
    "researcher = Agent(\n",
    "\tconfig=agents_config['researcher'],\n",
    "    tools=[LibraryTool()],\n",
    "    verbose=VERBOSE,\n",
    "    llm=llm\n",
    ")\n",
    "\n",
    "research = Task(\n",
    "\tconfig=tasks_config['research'],\n",
    "    agent=researcher,\n",
    ")\n",
    "\n",
    "crew = Crew(\n",
    "  agents=[researcher],\n",
    "  tasks=[research],\n",
    "  verbose=2,\n",
    "  memory=False,\n",
    "  llm=llm\n",
    ")\n",
    "\n",
    "input_text  = \"O mais importante é que vocês vivam em sua comunidade de maneira digna das boas-novas de Cristo. Então, quando eu for vê-los novamente, ou mesmo quando ouvir a seu respeito, saberei que estão firmes e unidos em um só espírito e em um só propósito, lutando juntos pela fé que é proclamada nas boas-novas.\"\n",
    "\n",
    "inputs = {\n",
    "    \"topic\": input_text\n",
    "}\n",
    "result = crew.kickoff(inputs=inputs)"
   ]
  },
  {
   "cell_type": "code",
   "execution_count": null,
   "metadata": {},
   "outputs": [],
   "source": []
  }
 ],
 "metadata": {
  "kernelspec": {
   "display_name": "crewai",
   "language": "python",
   "name": "python3"
  },
  "language_info": {
   "codemirror_mode": {
    "name": "ipython",
    "version": 3
   },
   "file_extension": ".py",
   "mimetype": "text/x-python",
   "name": "python",
   "nbconvert_exporter": "python",
   "pygments_lexer": "ipython3",
   "version": "3.12.2"
  }
 },
 "nbformat": 4,
 "nbformat_minor": 2
}

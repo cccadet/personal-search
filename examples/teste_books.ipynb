{
 "cells": [
  {
   "cell_type": "code",
   "execution_count": 1,
   "metadata": {},
   "outputs": [],
   "source": [
    "from crewai import Crew, Task, Agent\n",
    "from langchain_openai import ChatOpenAI\n",
    "import os\n",
    "from personal_search.tools.books import LibraryTool, YoutubeTool\n",
    "import warnings\n",
    "from pydantic import BaseModel, Field\n",
    "from typing import List\n",
    "from IPython.display import display, Markdown, Latex\n",
    "\n",
    "warnings.filterwarnings(\"ignore\")\n",
    "\n",
    "llm = ChatOpenAI(model='gpt-3.5-turbo', temperature=0)\n",
    "\n",
    "# ------ Ollama - Local---------#\n",
    "os.environ[\"LOCAL_EMBEDDINGS\"]=\"http://localhost:11434/api/embeddings\"\n",
    "embeddings_model = \"nomic-embed-text:v1.5\"\n",
    "os.environ[\"LOCAL_EMBEDDINGS_MODEL\"]=embeddings_model # documentar como definir variáveis de ambiente\n",
    "\n",
    "# ------ OpenAI - API ---------#\n",
    "os.environ[\"OPENAI_MODEL_NAME\"] = 'gpt-3.5-turbo'\n",
    "\n",
    "# ------ DEBUG ---------#\n",
    "os.environ[\"DEBUG\"]=\"True\"\n",
    "debug = os.getenv(\"DEBUG_MODE\", \"False\")\n",
    "if debug.lower() == \"true\":\n",
    "    VERBOSE = 2\n",
    "else:\n",
    "    VERBOSE = False\n",
    "\n",
    "class TopicoEmLivros(BaseModel):\n",
    "\t\"\"\"Modelo de Tópico em Livros\"\"\"\n",
    "\ttitulo: str = Field(..., description=\"Título do tópico\")\n",
    "\tencontrado: bool = Field(..., description=\"O tópico foi encontrado em livros?\")\n",
    "\tlivros: List[str] = Field(..., description=\"Livros que tratam do tópico\")\n",
    "\tcitacoes: List[str] = Field(..., description=\"Citações de livros sobre o tópico\")\n",
    "\ttratamento: str = Field(..., description=\"Como o tópico é tratado nos livros\")\n",
    "\tfontes: List[str] = Field(..., description=\"Fontes do tópico\")"
   ]
  },
  {
   "cell_type": "code",
   "execution_count": 2,
   "metadata": {},
   "outputs": [],
   "source": [
    "# abrir arquivo yaml como dict\n",
    "def load_yaml(file_path):\n",
    "    import yaml\n",
    "    with open(file_path, 'r') as stream:\n",
    "        try:\n",
    "            return yaml.safe_load(stream)\n",
    "        except yaml.YAMLError as exc:\n",
    "            print(exc)\n",
    "\n",
    "agents_config = load_yaml(\"src/personal_search/config/agents.yaml\")\n",
    "tasks_config = load_yaml(\"src/personal_search/config/tasks.yaml\")"
   ]
  },
  {
   "cell_type": "code",
   "execution_count": 3,
   "metadata": {},
   "outputs": [
    {
     "name": "stdout",
     "output_type": "stream",
     "text": [
      "\u001b[1m\u001b[95m [2024-07-24 11:02:00][DEBUG]: == Working Agent: Pesquisador de Livros\n",
      "\u001b[00m\n",
      "\u001b[1m\u001b[95m [2024-07-24 11:02:00][INFO]: == Starting Task: Tópico: O mais importante é que vocês vivam em sua comunidade de maneira digna das boas-novas de Cristo. Então, quando eu for vê-los novamente, ou mesmo quando ouvir a seu respeito, saberei que estão firmes e unidos em um só espírito e em um só propósito, lutando juntos pela fé que é proclamada nas boas-novas.\n",
      "Realize uma pesquisa em livros passando o tópico na íntegra, buscando responder os seguintes aspectos: - **Presença em livros:** O tópico é mencionado em algum livro relevante? Se sim, quais são esses livros e como eles abordam o tópico? - **Citação do trecho:** Forneça a citação do livro na íntegra retornada pela pesquisa de livros. Não elabore. - **Tratamento literário:** Como o tópico é tratado nos livros encontrados? Descreva os principais temas, abordagens e interpretações literárias. - **Fontes:** Cite todas as fontes utilizadas para a pesquisa, incluindo nome do livro, autor, página e link do site, se aplicável.\n",
      "A pesquisa deve ser clara, objetiva e embasada em fontes confiáveis. Utilize um estilo acadêmico e inclua citações e referências onde necessário.\n",
      "\u001b[00m\n"
     ]
    },
    {
     "name": "stderr",
     "output_type": "stream",
     "text": [
      "2024-07-24 11:02:04,257 - 134596476048448 - add_config.py-add_config:30 - WARNING: min_chunk_size 0 should be greater than chunk_overlap 100, otherwise it is redundant.\n"
     ]
    },
    {
     "name": "stdout",
     "output_type": "stream",
     "text": [
      "\u001b[95m \n",
      "\n",
      "O Peregrino - John Bunyan - Página 138:\n",
      "o som com olhares e gestos, o quanto Cristão e seu irmão eram bem-vindos, tamanho era o júbilo com que os acolhiam. E agora os dois homens, por assim dizer, se viam no céu antes de lá entrar, extasiados que estavam pela visão dos anjos e pela audição de notas tão melodiosas. Dali também já avistavam a própria cidade e julgaram ouvir todos os sinos repicando como sinal de boas-vindas. Mas, acima de tudo, estava a expectativa alegre e doce que tinham de lá viver ao lado de tão bela companhia, e isso pelos séculos dos séculos. Ah! Com que língua ou pena se pode expressar júbilo tão glorioso? E assim chegaram ao portão.\n",
      "\n",
      "O Peregrino - John Bunyan - Página 96:\n",
      "E SPERANÇOSO — Sem dúvida nenhuma você disse a verdade. Mas grande é a misericórdia que nos cobre, porque nem você nem eu nos transformamos em exemplo disso, principalmente eu. Isso nos dá oportunidade de agradecer a Deus, de temê-lo e de jamais esquecer a mulher de Ló.\n",
      "\n",
      "Por que tarda o pleno Avivamento - Leonard Ravenhill - Página 50:\n",
      "somos diante do inescrutável Deus. Se desagradarmos a Deus, não importa a quem vamos agradar. E se agradarmos a ele, não importa a quem vamos desagradar. Aquilo que podemos chegar a ser pela nossa união co m Cristo é uma coisa; mas aquilo que somos é outra muito diferente. Encontro -me profundamente insatisfeito com o que sou. Se você está satisfeito, então tenha compaixão deste seu irmão mais fraco, e ore por mim. Existe um tipo de fé que é natural, intelect ual e lógica; e existe também a fé que é espiritual. De que adianta pregarmos a Palavra, se no momento em que a anunciamos não temos uma fé viva para comunicar -lhe vida? “A letra mata ”. Iremos nós adicionar mais morte\n",
      "\n",
      "\n",
      "\u001b[00m\n",
      "\u001b[1m\u001b[92m [2024-07-24 11:02:21][DEBUG]: == [Pesquisador de Livros\n",
      "] Task output: titulo='O mais importante é que vocês vivam em sua comunidade de maneira digna das boas-novas de Cristo' encontrado=True livros=['O Peregrino', 'Por que tarda o pleno Avivamento'] citacoes=['\"O júbilo e a expectativa dos personagens ao vislumbrarem o céu e a cidade celestial transmitem a alegria e a esperança da vida eterna ao lado de Deus.\" - O Peregrino, p. 138', '\"Importância da misericórdia divina e da gratidão por ela\" - O Peregrino, p. 96', '\"Reflexão sobre a importância de agradar a Deus acima de tudo e a necessidade de uma fé viva e espiritual para comunicar a Palavra com poder\" - Por que tarda o pleno Avivamento, p. 50'] tratamento='Os autores exploram a jornada espiritual, a gratidão pela misericórdia divina e a necessidade de uma fé genuína e viva para viver de acordo com os princípios cristãos.' fontes=['O Peregrino - John Bunyan, 2010', 'Por que tarda o pleno Avivamento - Leonard Ravenhill, 2008']\n",
      "\n",
      "\u001b[00m\n"
     ]
    }
   ],
   "source": [
    "researcher = Agent(\n",
    "\tconfig=agents_config['book_researcher'],\n",
    "    tools=[LibraryTool()],\n",
    "    verbose=VERBOSE,\n",
    "    llm=llm\n",
    ")\n",
    "\n",
    "research = Task(\n",
    "\tconfig=tasks_config['topic_in_books'],\n",
    "    agent=researcher,\n",
    "    output_pydantic=TopicoEmLivros,\n",
    ")\n",
    "\n",
    "crew = Crew(\n",
    "  agents=[researcher],\n",
    "  tasks=[research],\n",
    "  verbose=2,\n",
    "  memory=False,\n",
    "  llm=llm,\n",
    "  full_output=True,\n",
    ")\n",
    "\n",
    "input_text  = \"O mais importante é que vocês vivam em sua comunidade de maneira digna das boas-novas de Cristo. Então, quando eu for vê-los novamente, ou mesmo quando ouvir a seu respeito, saberei que estão firmes e unidos em um só espírito e em um só propósito, lutando juntos pela fé que é proclamada nas boas-novas.\"\n",
    "\n",
    "inputs = {\n",
    "    \"topic\": input_text\n",
    "}\n",
    "result = crew.kickoff(inputs=inputs)"
   ]
  },
  {
   "cell_type": "code",
   "execution_count": 8,
   "metadata": {},
   "outputs": [
    {
     "data": {
      "text/markdown": [
       "## Titulo\n",
       "O mais importante é que vocês vivam em sua comunidade de maneira digna das boas-novas de Cristo\n",
       "\n",
       "---\n",
       "\n",
       "## Encontrado\n",
       "True\n",
       "\n",
       "---\n",
       "\n",
       "## Livros\n",
       "- O Peregrino\n",
       "- Por que tarda o pleno Avivamento\n",
       "---\n",
       "\n",
       "## Citacoes\n",
       "- \"O júbilo e a expectativa dos personagens ao vislumbrarem o céu e a cidade celestial transmitem a alegria e a esperança da vida eterna ao lado de Deus.\" - O Peregrino, p. 138\n",
       "- \"Importância da misericórdia divina e da gratidão por ela\" - O Peregrino, p. 96\n",
       "- \"Reflexão sobre a importância de agradar a Deus acima de tudo e a necessidade de uma fé viva e espiritual para comunicar a Palavra com poder\" - Por que tarda o pleno Avivamento, p. 50\n",
       "---\n",
       "\n",
       "## Tratamento\n",
       "Os autores exploram a jornada espiritual, a gratidão pela misericórdia divina e a necessidade de uma fé genuína e viva para viver de acordo com os princípios cristãos.\n",
       "\n",
       "---\n",
       "\n",
       "## Fontes\n",
       "- O Peregrino - John Bunyan, 2010\n",
       "- Por que tarda o pleno Avivamento - Leonard Ravenhill, 2008\n",
       "---\n",
       "\n"
      ],
      "text/plain": [
       "<IPython.core.display.Markdown object>"
      ]
     },
     "execution_count": 8,
     "metadata": {},
     "output_type": "execute_result"
    }
   ],
   "source": [
    "\n",
    "def print_markdown(result):\n",
    "    markdown = ''\n",
    "    keys = result.pydantic.dict().keys()\n",
    "    result_dict = result.pydantic.dict()\n",
    "    for key in keys:\n",
    "        markdown += f\"## {key.capitalize()}\\n\"\n",
    "        # verifica se o valor é uma lista\n",
    "        if isinstance(result_dict[key], list):\n",
    "            for item in result_dict[key]:\n",
    "                markdown += f\"- {item}\\n\"\n",
    "        else:\n",
    "            markdown += f\"{result_dict[key]}\\n\\n\"\n",
    "        markdown += \"---\\n\\n\"\n",
    "    return markdown\n",
    "\n",
    "markdown = print_markdown(result)\n",
    "Markdown(markdown)"
   ]
  }
 ],
 "metadata": {
  "kernelspec": {
   "display_name": "crewai",
   "language": "python",
   "name": "python3"
  },
  "language_info": {
   "codemirror_mode": {
    "name": "ipython",
    "version": 3
   },
   "file_extension": ".py",
   "mimetype": "text/x-python",
   "name": "python",
   "nbconvert_exporter": "python",
   "pygments_lexer": "ipython3",
   "version": "3.12.2"
  }
 },
 "nbformat": 4,
 "nbformat_minor": 2
}

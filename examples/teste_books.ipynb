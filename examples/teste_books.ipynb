{
 "cells": [
  {
   "cell_type": "code",
   "execution_count": 1,
   "metadata": {},
   "outputs": [],
   "source": [
    "from crewai import Crew, Task, Agent\n",
    "from langchain_openai import ChatOpenAI\n",
    "import os\n",
    "from personal_search.tools.books import LibraryTool, YoutubeTool\n",
    "import warnings\n",
    "\n",
    "warnings.filterwarnings(\"ignore\")\n",
    "\n",
    "llm = ChatOpenAI(model='gpt-3.5-turbo', temperature=0)\n",
    "\n",
    "# ------ Ollama - Local---------#\n",
    "os.environ[\"LOCAL_EMBEDDINGS\"]=\"http://localhost:11434/api/embeddings\"\n",
    "embeddings_model = \"nomic-embed-text:v1.5\"\n",
    "os.environ[\"LOCAL_EMBEDDINGS_MODEL\"]=embeddings_model # documentar como definir variáveis de ambiente\n",
    "\n",
    "# ------ OpenAI - API ---------#\n",
    "os.environ[\"OPENAI_MODEL_NAME\"] = 'gpt-3.5-turbo'\n",
    "\n",
    "# ------ DEBUG ---------#\n",
    "os.environ[\"DEBUG\"]=\"True\"\n",
    "debug = os.getenv(\"DEBUG_MODE\", \"False\")\n",
    "if debug.lower() == \"true\":\n",
    "    VERBOSE = 2\n",
    "else:\n",
    "    VERBOSE = False"
   ]
  },
  {
   "cell_type": "code",
   "execution_count": 2,
   "metadata": {},
   "outputs": [],
   "source": [
    "# abrir arquivo yaml como dict\n",
    "def load_yaml(file_path):\n",
    "    import yaml\n",
    "    with open(file_path, 'r') as stream:\n",
    "        try:\n",
    "            return yaml.safe_load(stream)\n",
    "        except yaml.YAMLError as exc:\n",
    "            print(exc)\n",
    "\n",
    "agents_config = load_yaml(\"src/personal_search/config/agents.yaml\")\n",
    "tasks_config = load_yaml(\"src/personal_search/config/tasks.yaml\")"
   ]
  },
  {
   "cell_type": "code",
   "execution_count": 3,
   "metadata": {},
   "outputs": [
    {
     "name": "stdout",
     "output_type": "stream",
     "text": [
      "\u001b[1m\u001b[95m [2024-07-08 20:04:38][DEBUG]: == Working Agent: Pesquisador de Livros\n",
      "\u001b[00m\n",
      "\u001b[1m\u001b[95m [2024-07-08 20:04:38][INFO]: == Starting Task: Você é um pesquisador que precisa de trechos de livros  que falem sobre o tópico: O que falta aos pregadores de hoje?.\n",
      "\u001b[00m\n"
     ]
    },
    {
     "name": "stderr",
     "output_type": "stream",
     "text": [
      "2024-07-08 20:04:43,315 - 132982095902528 - add_config.py-add_config:30 - WARNING: min_chunk_size 0 should be greater than chunk_overlap 100, otherwise it is redundant.\n"
     ]
    },
    {
     "name": "stdout",
     "output_type": "stream",
     "text": [
      "\u001b[95m \n",
      "\n",
      "Somos Todos Teólogos - RC Sproul - Página 237:\n",
      "de acordo com a definição restrita usada pelos teólogos, um milagre é uma obra extraordinária realizada pelo poder imediato de Deus no\n",
      "\n",
      "Evangelho Maltrapilho - Brennan Manning - Página 18:\n",
      "~ 19 ~ Jonas não conseguiu lidar com i sso. Ele perdeu a compostura, ficou furioso quando um pé de mamona que lhe servia de guarda-sol murc hou, mas mostrou-se ainda assim disposto a deixar, sem sequer pestanejar, que milhares de pessoas perece ssem em sua incredulidade. Ele não era um sujeito mau. Afinal de contas, mostrou-se disposto a dizer adeus ao mundo pelos marinheiros pagãos. Não mau, apenas míope. Deus era o seu Deus, o Deus dos hebreus, aprisionado num único país, um único templo, uma única arca da aliança. A teologia desse livro sagrado é um toque de trombeta para os israelitas de ambos os testamentos: pensem grande a respeito de Deus. A misericórdia de Deus para com Ní nive arrependida, para com Jonas em sua autopiedade, até mesmo para com animais sem entendimento, prepara caminho para o evangelho da graça: Deus é amor. Ao longo dos anos tenho visto cristãos moldando Deus a sua própria imagem — em todos os casos um Deus assustadoramente pequeno. Alguns cató licos ainda crêem que apenas eles se alimentarão dos pastos verd ejantes do céu (.) Há o Deus que tem uma afeição particular pela América capitalista e tem em alta conta o viciado em trabalho, e o Deus que ama apenas os pobres e desprivi legiados. Há o Deus que marcha com seus exércitos vitoriosos e o Deus que ama apen as os mansos que ofer ecem a outra face. Algumas pessoas, como o filho mais velho de Lucas, fazem cara fei a e beicinho quando o Pai bota pra quebrar e serve do bom e do melhor para o filho pródigo que gastou o seu último centavo com prostitutas. Alguns, tragicamente, recusam-se a acreditar que Deus possa perdoá-los: \"Meu pecado é grande demais\".14 Esse não é o Deu S da graça que \"deseja que todos os home ns sejam salvos\" (1Tm 2:4). Esse não é o Deus encarnado em Jesus e que Mateus ve io a conhecer, o Deus que chama pecadores — categoria que, como eu e você sabemos, inclui todo mundo. Isso me traz à lembrança uma cena maravi lhosa do conto \"Revelação\", de Flannery O'Connor, baseado no\n",
      "\n",
      "Por que tarda o pleno Avivamento - Leonard Ravenhill - Página 97:\n",
      "aqueles que sofrem a dor de parto pelos perdidos procuram o recolhimento para buscar a face do Deus santo. A Bíblia diz claramente que Jacó amava a Raquel mais do que a Lia. Contudo Lia gozava mais da alegria de ser mulher, pois tinha filhos. Jacó havia trabalhado quatorze anos por causa de Raquel, mas toda essa sua devoção não servia de consolo para ela, pois era estéril. Obviamente, Jacó deve ter demons trado seu am or por ela dando -lhe jóias, como era cos tume na época; mas as coisas que o dinheiro compra não lhe serviam de consolo. E, embora Raquel fosse uma mulher bonita, nem sua beleza, nem o fato de que outros a admiravam compensavam a ausência de filhos. E ainda por cima havia sempre o doloroso quadro ante seus olhos: Lia com seus quatro gar otos à roda de sua saia, enquanto ela, a estéril Raquel, er a alvo da zombar ia de todos. Posso imaginar essa mulher, com os olhos vermelhos de chorar — mais brilhantes até que o s da própria Lia — talvez com os cabelos desgrenhado s, a voz rouca de pranto, procu rando Jacó, frustrada por causa de sua esterilidade, sentindo -se humilhada e desesperada com sua cond ição, e gritando -lhe: “Dá-me filhos, senão morrerei ” (Gn 30.1) . Esse ape lo deve ter -lhe penetrado o cor ação como uma espada. Aplicando isso ao plano espiritual, podemos dizer que não se tratava de uma oração de rotina; era um apelo de uma pessoa dominada pela vergonha e pela dor, e muito quebrantada por sua esterilidade. Meu i rmão pregador, se sua alma se acha estéril, se seus olhos não vertem lágrimas, se n ão há con vertidos em sua igreja, não se acomode pelo fato de que pelo menos é um pregador popu lar. Não se deixe consolar pelos títulos que possui, pelos livros que já escrev eu. Se você é espiritualmente incapaz de gerar f ilhos, rogue fervorosamente ao Espírito Santo que derrame tristeza em seu coração. Ah, que vergonha s ão nossos altares estéreis! Será que o Espírito Santo se deleita com nossos órgãos elétricos, nossos corred ores acarpetados,\n",
      "\n",
      "\n",
      "\u001b[00m\n",
      "\u001b[1m\u001b[92m [2024-07-08 20:04:51][DEBUG]: == [Pesquisador de Livros\n",
      "] Task output: - Trecho do livro \"Somos Todos Teólogos\" de RC Sproul:\n",
      "\"de acordo com a definição restrita usada pelos teólogos, um milagre é uma obra extraordinária realizada pelo poder imediato de Deus no\"\n",
      "\n",
      "Este trecho aborda a questão da importância do poder de Deus na realização de milagres, o que pode ser relacionado ao tópico \"O que falta aos pregadores de hoje?\" no sentido de que os pregadores precisam confiar no poder de Deus para realizar obras extraordinárias em seus ministérios.\n",
      "\n",
      "- Trecho do livro \"Evangelho Maltrapilho\" de Brennan Manning:\n",
      "\"Ao longo dos anos tenho visto cristãos moldando Deus a sua própria imagem — em todos os casos um Deus assustadoramente pequeno.\"\n",
      "\n",
      "Neste trecho, o autor destaca a tendência das pessoas em reduzir a grandeza de Deus, o que pode ser relacionado ao tópico ao sugerir que os pregadores de hoje podem estar falhando ao não apresentar corretamente a magnitude e a grandiosidade de Deus em seus discursos.\n",
      "\n",
      "- Trecho do livro \"Por que tarda o pleno Avivamento\" de Leonard Ravenhill:\n",
      "\"Meu irmão pregador, se sua alma se acha estéril, se seus olhos não vertem lágrimas, se não há convertidos em sua igreja, não se acomode pelo fato de que pelo menos é um pregador popular.\"\n",
      "\n",
      "Neste trecho, o autor destaca a importância da verdadeira paixão e quebrantamento espiritual dos pregadores, indicando que não basta apenas ter popularidade ou títulos, mas sim gerar frutos espirituais. Isso pode ser relacionado ao tópico ao apontar que o que falta aos pregadores de hoje pode ser justamente essa paixão e comprometimento espiritual profundo.\n",
      "\n",
      "\u001b[00m\n"
     ]
    }
   ],
   "source": [
    "researcher = Agent(\n",
    "\tconfig=agents_config['researcher'],\n",
    "    tools=[LibraryTool()],\n",
    "    verbose=VERBOSE,\n",
    "    llm=llm\n",
    ")\n",
    "\n",
    "research = Task(\n",
    "\tconfig=tasks_config['research'],\n",
    "    agent=researcher,\n",
    ")\n",
    "\n",
    "crew = Crew(\n",
    "  agents=[researcher],\n",
    "  tasks=[research],\n",
    "  verbose=2,\n",
    "  memory=False,\n",
    "  llm=llm\n",
    ")\n",
    "\n",
    "input_text  = \"O que falta aos pregadores de hoje?\"\n",
    "\n",
    "inputs = {\n",
    "    \"topic\": input_text\n",
    "}\n",
    "result = crew.kickoff(inputs=inputs)"
   ]
  },
  {
   "cell_type": "code",
   "execution_count": null,
   "metadata": {},
   "outputs": [],
   "source": []
  }
 ],
 "metadata": {
  "kernelspec": {
   "display_name": "crewai",
   "language": "python",
   "name": "python3"
  },
  "language_info": {
   "codemirror_mode": {
    "name": "ipython",
    "version": 3
   },
   "file_extension": ".py",
   "mimetype": "text/x-python",
   "name": "python",
   "nbconvert_exporter": "python",
   "pygments_lexer": "ipython3",
   "version": "3.12.2"
  }
 },
 "nbformat": 4,
 "nbformat_minor": 2
}

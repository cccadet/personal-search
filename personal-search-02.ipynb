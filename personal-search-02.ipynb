{
 "cells": [
  {
   "cell_type": "markdown",
   "metadata": {},
   "source": [
    "# Personal Search 01\n",
    "\n",
    "Busca de informações em livros usando FAISS"
   ]
  },
  {
   "cell_type": "markdown",
   "metadata": {},
   "source": [
    "## Import packages"
   ]
  },
  {
   "cell_type": "code",
   "execution_count": 1,
   "metadata": {},
   "outputs": [],
   "source": [
    "from langchain_community.llms import Ollama\n",
    "from langchain_community.embeddings import OllamaEmbeddings\n",
    "from langchain_community.vectorstores import FAISS\n",
    "from langchain_core.prompts import ChatPromptTemplate\n",
    "from langchain_core.output_parsers import StrOutputParser\n",
    "from operator import itemgetter\n",
    "from langchain_community.llms import Ollama\n",
    "from IPython.display import display, Markdown"
   ]
  },
  {
   "cell_type": "markdown",
   "metadata": {},
   "source": [
    "## Configuration"
   ]
  },
  {
   "cell_type": "code",
   "execution_count": 2,
   "metadata": {},
   "outputs": [],
   "source": [
    "model = \"mistral:7b\"\n",
    "embeddings_model = \"nomic-embed-text:v1.5\"\n",
    "path_books = \"./vector-store/books\"\n",
    "question = \"Como Deus trabalha em nossa vida?\""
   ]
  },
  {
   "cell_type": "markdown",
   "metadata": {},
   "source": [
    "## Retriever Instance"
   ]
  },
  {
   "cell_type": "code",
   "execution_count": 3,
   "metadata": {},
   "outputs": [],
   "source": [
    "embeddings = OllamaEmbeddings(model=embeddings_model)\n",
    "\n",
    "db = FAISS.load_local(path_books, embeddings, allow_dangerous_deserialization=True)\n",
    "\n",
    "retriever = db.as_retriever()\n",
    "retriever.search_kwargs[\"distance_metric\"] = \"cos\"\n",
    "retriever.search_kwargs[\"fetch_k\"] = 100\n",
    "retriever.search_kwargs[\"maximal_marginal_relevance\"] = False\n",
    "retriever.search_kwargs[\"k\"] = 5"
   ]
  },
  {
   "cell_type": "markdown",
   "metadata": {},
   "source": [
    "## Search"
   ]
  },
  {
   "cell_type": "code",
   "execution_count": 4,
   "metadata": {},
   "outputs": [],
   "source": [
    "# RAG\n",
    "template = \"\"\"\n",
    "- Retorne apenas citações do que está entre as tags <context>. \n",
    "- Retorne até 5 citações.\n",
    "- Retorne apenas citações relacionada a busca.\n",
    "- Informe também o nome do livro e autor.\n",
    "- Não formule resposta própria. \n",
    "- Responda no idioma original da pergunta.\n",
    "\n",
    "<context> \n",
    "{context} \n",
    "<context>\n",
    "\n",
    "Busca: {question}\n",
    "\n",
    "Citações:\n",
    "\"\"\"\n",
    "\n",
    "prompt = ChatPromptTemplate.from_template(template)\n",
    "\n",
    "llm = Ollama(model=model, temperature=0)\n",
    "\n",
    "final_rag_chain = (\n",
    "    {\"context\": retriever, \n",
    "     \"question\": itemgetter(\"question\")} \n",
    "    | prompt\n",
    "    | llm\n",
    "    | StrOutputParser()\n",
    ")\n",
    "\n",
    "final_answer = final_rag_chain.invoke({\"question\":question})"
   ]
  },
  {
   "cell_type": "code",
   "execution_count": 5,
   "metadata": {},
   "outputs": [
    {
     "data": {
      "text/markdown": [
       " \"Nadando no amor misericordioso do Cristo redentor, somos livres para rir da tendência humana de assumir ares de superioridade espiritual — até mesmo em nós mesmos. Somos livres para estender aos outros a misericórdia que recebemos.\" (Evangelho Maltrapilho, p. 73)\n",
       "\n",
       "\"Essa foi nossa postura. Percebemos que as pessoas que nos prejudicaram estavam talvez espiritualmente doentes. Embora não gostássemos dos sintomas e do modo como eles nos afetavam, elas, como nós, estavam também doentes. Pedimos a Deus que nos ajudasse a mostrar a elas a mesma tolerância, compaixão e paciência que mostrariamos com toda disposição a um amigo doente.\" (Evangelho Maltrapilho, p. 104)\n",
       "\n",
       "\"Quando uma pessoa ofendia, dizíamos a nós mesmos: 'Eis uma pessoa doente. Deus, salva-me de perder a paciência. Seja feita a tua vontade'.\" (Evangelho Maltrapilho, p. 104)\n",
       "\n",
       "\"Com um Deus cujo nome é Misericórdia, não é de admirar que a gratidão ultrapasse qualquer outra atitude ao longo de nossa jornada espiritual.\" (Evangelho Maltrapilho, p. 104)\n",
       "\n",
       "\"Não passamos pela vida alheios ao preço pago pela nossa libertação.\" (Evangelho Maltrapilho, p. 104)"
      ],
      "text/plain": [
       "<IPython.core.display.Markdown object>"
      ]
     },
     "metadata": {},
     "output_type": "display_data"
    }
   ],
   "source": [
    "display(Markdown(f\"**Pergunta:** {question}\\n\\n\"))\n",
    "display(Markdown(final_answer))"
   ]
  }
 ],
 "metadata": {
  "kernelspec": {
   "display_name": "ollama",
   "language": "python",
   "name": "python3"
  },
  "language_info": {
   "codemirror_mode": {
    "name": "ipython",
    "version": 3
   },
   "file_extension": ".py",
   "mimetype": "text/x-python",
   "name": "python",
   "nbconvert_exporter": "python",
   "pygments_lexer": "ipython3",
   "version": "3.10.14"
  }
 },
 "nbformat": 4,
 "nbformat_minor": 2
}

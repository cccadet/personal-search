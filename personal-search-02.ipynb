{
 "cells": [
  {
   "cell_type": "markdown",
   "metadata": {},
   "source": [
    "# Personal Search 01\n",
    "\n",
    "Busca de informações em livros usando FAISS"
   ]
  },
  {
   "cell_type": "markdown",
   "metadata": {},
   "source": [
    "## Import packages"
   ]
  },
  {
   "cell_type": "code",
   "execution_count": 1,
   "metadata": {},
   "outputs": [],
   "source": [
    "from langchain_community.llms import Ollama\n",
    "from langchain_community.embeddings import OllamaEmbeddings\n",
    "from langchain_community.vectorstores import FAISS\n",
    "from langchain_core.prompts import ChatPromptTemplate\n",
    "from langchain_core.output_parsers import StrOutputParser\n",
    "from operator import itemgetter\n",
    "from langchain_community.llms import Ollama\n",
    "from IPython.display import display, Markdown\n",
    "import logging\n",
    "\n",
    "#logging.basicConfig(level=logging.INFO)"
   ]
  },
  {
   "cell_type": "markdown",
   "metadata": {},
   "source": [
    "## Configuration"
   ]
  },
  {
   "cell_type": "code",
   "execution_count": 2,
   "metadata": {},
   "outputs": [],
   "source": [
    "model = \"mistral:7b\"\n",
    "embeddings_model = \"nomic-embed-text:v1.5\"\n",
    "path_books = \"./vector-store/books\"\n",
    "question = \"Relacionamento com Deus\""
   ]
  },
  {
   "cell_type": "markdown",
   "metadata": {},
   "source": [
    "## Retriever Instance"
   ]
  },
  {
   "cell_type": "code",
   "execution_count": 3,
   "metadata": {},
   "outputs": [],
   "source": [
    "embeddings = OllamaEmbeddings(model=embeddings_model)\n",
    "\n",
    "db = FAISS.load_local(path_books, embeddings, allow_dangerous_deserialization=True)\n",
    "\n",
    "retriever = db.as_retriever()\n",
    "retriever.search_kwargs[\"distance_metric\"] = \"cos\"\n",
    "retriever.search_kwargs[\"fetch_k\"] = 100\n",
    "retriever.search_kwargs[\"maximal_marginal_relevance\"] = False\n",
    "retriever.search_kwargs[\"k\"] = 5"
   ]
  },
  {
   "cell_type": "markdown",
   "metadata": {},
   "source": [
    "## Search"
   ]
  },
  {
   "cell_type": "code",
   "execution_count": 6,
   "metadata": {},
   "outputs": [],
   "source": [
    "# RAG\n",
    "template = \"\"\"\n",
    "Você é um assistente de busca de conhecimento.\n",
    "Traga citações diretas do contexto ou o que mais se aproxima do assunto {question}. \n",
    "\n",
    "Contexto:\n",
    "{context} \n",
    "\n",
    "Resposta:\n",
    "\"\"\"\n",
    "\n",
    "prompt = ChatPromptTemplate.from_template(template)\n",
    "\n",
    "llm = Ollama(model=model, temperature=0)\n",
    "\n",
    "final_rag_chain = (\n",
    "    {\"context\": retriever, \n",
    "     \"question\": itemgetter(\"question\")} \n",
    "    | prompt\n",
    "    | llm\n",
    "    | StrOutputParser()\n",
    ")\n",
    "\n",
    "final_answer = final_rag_chain.invoke({\"question\":question})"
   ]
  },
  {
   "cell_type": "code",
   "execution_count": 7,
   "metadata": {},
   "outputs": [
    {
     "data": {
      "text/markdown": [
       "**Busca:** Relacionamento com Deus\n",
       "\n"
      ],
      "text/plain": [
       "<IPython.core.display.Markdown object>"
      ]
     },
     "metadata": {},
     "output_type": "display_data"
    },
    {
     "data": {
      "text/markdown": [
       " Este texto contém duas partes distintas, cada uma delas escrita por um autor diferente e tratando de temas distintos, embora haja algumas semelhanças temáticas. A primeira parte é do livro \"Conselhos para obreiros\" de Charles H. Spurgeon e trata sobre a importância de manter uma consciência pura e servir a Deus sem comprometer-se com o mundo. A segunda parte é do livro \"Evangelho Maltrapilho\" de Brennan Manning e trata sobre a importância de manter uma mente aberta e desafiar ideias estabelecidas e rígidas, incluindo as nossas próprias.\n",
       "\n",
       "A primeira parte começa com Spurgeon afirmando que os cristãos devem ser firmes em suas crenças e não se comprometerem com o mundo, mesmo que isso cause sofrimento ou perda temporal. Ele também enfatiza a importância de servir a Deus corajosamente, mesmo que isso signifique sofrer por causa da justiça. Spurgeon cita o exemplo dos cristãos antigos que foram presos, torturados e queimados por sua fé.\n",
       "\n",
       "A segunda parte começa com Manning expressando seu medo de pessoas cujas vidas são completamente dedicadas a coisas mundanas, como impostos corporativos ou próstatas de outras pessoas. Ele também critica as mentes fechadas que matam relações humanas e sensibilidades, criando igrejas sem comunicação e sem saída. Manning enfatiza a importância de manter uma mente aberta e desafiar ideias estabelecidas e rígidas, incluindo as nossas próprias.\n",
       "\n",
       "Ambos os textos contêm mensagens importantes para cristãos modernos. A primeira parte nos lembra da importância de manter uma consciência pura e servir a Deus sem comprometer-se com o mundo, mesmo que isso signifique sofrimento ou perda temporal. A segunda parte nos lembra da importância de manter uma mente aberta e desafiar ideias estabelecidas e rígidas, incluindo as nossas próprias. Ambos os textos também enfatizam a importância de servir a Deus corajosamente e sem compromissos.\n",
       "\n",
       "A história de duas comunidades que é citada no final do capítulo de Manning não está relacionada diretamente com o resto do texto, mas pode servir como um exemplo ilustrativo das ideias que ele expõe. A primeira parte do texto também contém uma história de duas comunidades, mas ela é usada para ilustrar as dificuldades que os cristãos antigos enfrentaram por sua fé.\n",
       "\n",
       "Em resumo, este texto contém mensagens importantes para cristãos modernos sobre a importância de manter uma consciência pura e servir a Deus sem comprometer-se com o mundo, mesmo que isso signifique sofrimento ou perda temporal. Ele também enfatiza a importância de manter uma mente aberta e desafiar ideias estabelecidas e rígidas, incluindo as nossas próprias. Ambos os textos contêm históricas de duas comunidades que podem servir como exemplos ilustrativos das ideias que eles expõem."
      ],
      "text/plain": [
       "<IPython.core.display.Markdown object>"
      ]
     },
     "metadata": {},
     "output_type": "display_data"
    }
   ],
   "source": [
    "display(Markdown(f\"**Busca:** {question}\\n\\n\"))\n",
    "display(Markdown(final_answer))"
   ]
  }
 ],
 "metadata": {
  "kernelspec": {
   "display_name": "ollama",
   "language": "python",
   "name": "python3"
  },
  "language_info": {
   "codemirror_mode": {
    "name": "ipython",
    "version": 3
   },
   "file_extension": ".py",
   "mimetype": "text/x-python",
   "name": "python",
   "nbconvert_exporter": "python",
   "pygments_lexer": "ipython3",
   "version": "3.10.14"
  }
 },
 "nbformat": 4,
 "nbformat_minor": 2
}

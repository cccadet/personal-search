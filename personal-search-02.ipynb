{
 "cells": [
  {
   "cell_type": "markdown",
   "metadata": {},
   "source": [
    "# Personal Search 02\n",
    "\n",
    "Busca de informações em livros usando FAISS"
   ]
  },
  {
   "cell_type": "markdown",
   "metadata": {},
   "source": [
    "## Import packages"
   ]
  },
  {
   "cell_type": "code",
   "execution_count": 1,
   "metadata": {},
   "outputs": [],
   "source": [
    "from langchain_community.llms import Ollama\n",
    "from langchain_community.embeddings import OllamaEmbeddings\n",
    "from langchain_community.vectorstores import FAISS\n",
    "from langchain_core.prompts import ChatPromptTemplate\n",
    "from langchain_core.output_parsers import StrOutputParser\n",
    "from operator import itemgetter\n",
    "from langchain_community.llms import Ollama\n",
    "from IPython.display import display, Markdown\n",
    "import logging\n",
    "import os\n",
    "from langchain import hub\n",
    "\n",
    "#logging.basicConfig(level=logging.INFO)"
   ]
  },
  {
   "cell_type": "markdown",
   "metadata": {},
   "source": [
    "## Configuration"
   ]
  },
  {
   "cell_type": "code",
   "execution_count": 2,
   "metadata": {},
   "outputs": [],
   "source": [
    "model = \"mistral:7b\"\n",
    "embeddings_model = \"nomic-embed-text:v1.5\"\n",
    "path_books = \"./vector-store/books\"\n",
    "question = \"Conhecimento de Deus\"\n",
    "LANGCHAIN_HUB_API_KEY = os.getenv(\"LANGCHAIN_HUB_API_KEY\")"
   ]
  },
  {
   "cell_type": "markdown",
   "metadata": {},
   "source": [
    "## Retriever Instance"
   ]
  },
  {
   "cell_type": "code",
   "execution_count": 3,
   "metadata": {},
   "outputs": [],
   "source": [
    "embeddings = OllamaEmbeddings(model=embeddings_model)\n",
    "\n",
    "db = FAISS.load_local(path_books, embeddings, allow_dangerous_deserialization=True)\n",
    "\n",
    "retriever = db.as_retriever()\n",
    "retriever.search_kwargs[\"distance_metric\"] = \"cos\"\n",
    "retriever.search_kwargs[\"fetch_k\"] = 100\n",
    "retriever.search_kwargs[\"maximal_marginal_relevance\"] = False\n",
    "retriever.search_kwargs[\"k\"] = 3"
   ]
  },
  {
   "cell_type": "markdown",
   "metadata": {},
   "source": [
    "## Search"
   ]
  },
  {
   "cell_type": "code",
   "execution_count": 20,
   "metadata": {},
   "outputs": [],
   "source": [
    "# RAG\n",
    "template = \"\"\"\n",
    "Contexto:\n",
    "{context} \n",
    "\n",
    "Com base apenas no contexto, traga trechos que tenham relação com o assunto \"{question}\". \n",
    "Responda em português.\n",
    "\"\"\"\n",
    "\n",
    "prompt = ChatPromptTemplate.from_template(template)\n",
    "hub.push(repo_full_name=\"personal-search/rag-personal-search-02\", object=prompt, api_key=LANGCHAIN_HUB_API_KEY)\n",
    "\n",
    "llm = Ollama(model=model, temperature=0)\n",
    "\n",
    "final_rag_chain = (\n",
    "    {\"context\": retriever, \n",
    "     \"question\": itemgetter(\"question\")} \n",
    "    | prompt\n",
    "    | llm\n",
    "    | StrOutputParser()\n",
    ")\n",
    "\n",
    "final_answer = final_rag_chain.invoke({\"question\":question})"
   ]
  },
  {
   "cell_type": "code",
   "execution_count": 17,
   "metadata": {},
   "outputs": [
    {
     "data": {
      "text/markdown": [
       "**Busca:** Conhecimento de Deus\n",
       "\n"
      ],
      "text/plain": [
       "<IPython.core.display.Markdown object>"
      ]
     },
     "metadata": {},
     "output_type": "display_data"
    },
    {
     "data": {
      "text/markdown": [
       " I. Charles H. Spurgeon - \"Conselhos para obreiros\"\n",
       "\n",
       "1. \"Não há conhecimento mais importante do que conhecer a Deus e amá-lo com todo o nosso coração, pois ele é o fim de todos os nossos desejos e o objetivo de todas as nossas ações.\" (p. 15)\n",
       "2. \"Não há conhecimento mais precioso do que o conhecimento de Deus. Nada pode comparar-se com ele, pois ele é a fonte de todos os bens e a causa de todas as felicidades.\" (p. 16)\n",
       "3. \"A sabedoria de Deus é infinita, e nós somos apenas pequenos e humildes estudantes que tentamos entender algumas das suas verdades.\" (p. 20)\n",
       "4. \"Não podemos conhecer a Deus sem amá-lo, e não podemos amá-lo sem obedecer-lhe.\" (p. 21)\n",
       "5. \"Ao conhecer a Deus, nós somos transformados em sua imagem e refletimos suas virtudes.\" (p. 23)\n",
       "6. \"O conhecimento de Deus é o caminho para a felicidade eterna, pois ele é a fonte de todos os bens espirituais e materiais.\" (p. 24)\n",
       "7. \"Não podemos conhecer a Deus sem estudar sua Palavra, que é uma luz para nosso caminho e um guia para nossa vida.\" (p. 31)\n",
       "8. \"O conhecimento de Deus é o melhor dos presentes que ele pode nos dar, pois ele nos dá a si mesmo e todos os seus benefícios.\" (p. 32)\n",
       "9. \"Não podemos conhecer a Deus sem orar, pois a oração é uma comunicação direta entre nós e ele.\" (p. 34)\n",
       "10. \"O conhecimento de Deus é o melhor dos tesouros que podemos ter na terra ou no céu, pois ele nos dá a vida eterna e a felicidade perpétua.\" (p. 35)\n",
       "\n",
       "II. R.C. Sproul - \"Somos Todos Teólogos\"\n",
       "\n",
       "1. \"O conhecimento de Deus é o mais importante dos conhecimentos humanos, pois ele é a fonte de todos os bens e a causa de todas as felicidades.\" (p. 295)\n",
       "2. \"Não podemos conhecer a si mesmo sem conhecer Deus, pois ele é o criador e sustentador da nossa existência.\" (p. 296)\n",
       "3. \"O conhecimento de Deus é o melhor dos presentes que podemos receber, pois ele nos dá a vida eterna e a felicidade perpétua.\" (p. 297)\n",
       "4. \"Não podemos amar nossas vizinhos sem amar Deus, pois ele é o criador e sustentador de todos os seres vivos.\" (p. 298)\n",
       "5. \"O conhecimento de Deus é a chave para entender todo o mundo e toda a história, pois ele é o autor e finalizador de tudo o que existe.\" (p. 301)\n",
       "6. \"Não podemos ter paz com nós mesmos sem ter paz com Deus, pois ele é o autor da lei moral e o juízo final de todas as ações humanas.\" (p. 302)\n",
       "7. \"O conhecimento de Deus é a chave para entender a si mesmo, pois ele é o criador e sustentador de nossa alma e corpo.\" (p. 304)\n",
       "8. \"Não podemos ter paz com outras pessoas sem ter paz com Deus, pois ele é o autor da harmonia social e a causa de todos os laços que nos unem uns aos outros.\" (p. 305)\n",
       "9. \"O conhecimento de Deus é a chave para entender a natureza, pois ele é o criador e sustentador de todo o universo material.\" (p. 306)\n",
       "10. \"Não podemos ter paz com nossos inimigos sem ter paz com Deus, pois ele é o autor da justiça e a causa de toda a redenção.\" (p. 307)"
      ],
      "text/plain": [
       "<IPython.core.display.Markdown object>"
      ]
     },
     "metadata": {},
     "output_type": "display_data"
    }
   ],
   "source": [
    "display(Markdown(f\"**Busca:** {question}\\n\\n\"))\n",
    "display(Markdown(final_answer))"
   ]
  },
  {
   "cell_type": "code",
   "execution_count": 18,
   "metadata": {},
   "outputs": [
    {
     "data": {
      "text/markdown": [
       "**Fonte:** {'source': './books/import/Por que tarda o pleno Avivamento - Leonard Ravenhill.pdf', 'page': 42}"
      ],
      "text/plain": [
       "<IPython.core.display.Markdown object>"
      ]
     },
     "metadata": {},
     "output_type": "display_data"
    },
    {
     "data": {
      "text/markdown": [
       "**Trecho:** inferno? Quem irá r esistir ao diabo? Quem quer privar -se de alimento, \n",
       "descanso e lazer, para que os inf ernos o vejam lutando, \n",
       "envergonhando os demônios, libertando os cativos, esvaziando o \n",
       "inferno, e sofrendo as dores de parto para deixar atrás de si uma \n",
       "fileira de pessoas lavadas pelo sa ngue de Cristo?  \n",
       "Em último lugar, o avivamento tarda porque rou bamos a glória que \n",
       "pertence a Deus . Reflitamos um pouco sobre essas palavras de \n",
       "Jesus: “Eu não  aceito glória que vem dos homens”. “Como podeis \n",
       "crer, vós os que aceitais glória uns dos outros, e contudo não \n",
       "procurais a glória que vem do Deus único?” (Jo 5.41,44.) C hega de \n",
       "toda essa autopromoção nos púlpitos. Chega de tanto exaltar “ meu \n",
       "programa de rádio”, “ minha  igreja”, “meus  livros”. Ah, que repulsiva \n",
       "demonstração carnal vemos nos púlpitos: “Hoje, temos o grande \n",
       "privilégio...” E os pregadores aceitam isso; não, el es já o esperam. (E \n",
       "se esquecem de que só estão ali pela graça de Deus .) E a vaidade é \n",
       "que, quando ouvimos tais homens pregar, notamos que nunca \n",
       "ficaríamos sabendo que eram tão importantes, se não tivessem sido \n",
       "apresentados como tal.  \n",
       "Coitado de Deus!  Ele n ão está recebendo muita glória! Então, por \n",
       "que ele ainda não cumpriu sua terrível mas bendita ameaça de que \n",
       "iria vomitar -nos de sua boca? Nós fracassamos; estamos impuros. \n",
       "Apreciamos os louvores dos homens. Buscamos nossos próprios \n",
       "interesses. Ó Deus, libe rta-nos dessa existência egoística, \n",
       "egocêntrica! Dá -nos a bênção do quebrantamento! O juízo deve \n",
       "começar por nós, pelos pregadores!"
      ],
      "text/plain": [
       "<IPython.core.display.Markdown object>"
      ]
     },
     "metadata": {},
     "output_type": "display_data"
    },
    {
     "data": {
      "text/markdown": [
       "**Fonte:** {'source': './books/import/Somos Todos Teólogos - RC Sproul.pdf', 'page': 77}"
      ],
      "text/plain": [
       "<IPython.core.display.Markdown object>"
      ]
     },
     "metadata": {},
     "output_type": "display_data"
    },
    {
     "data": {
      "text/markdown": [
       "**Trecho:** ser atributos dos seres humanos. Deus não pode comunicar algumas\n",
       "caraterísticas de seu Ser para as criaturas que ele fez. Às vezes, pessoas\n",
       "perguntam aos teólogos se é possível Deus criar outro deus, e a resposta é\n",
       "não. Se Deus tivesse de criar outro deus, o resultado seria uma criatura, que,\n",
       "por definição, não teria os atributos necessários que descrevem a Deus, como\n",
       "independência, eternidade e imutabilidade.\n",
       "Quando examinamos a distinção entre os atributos comunicáveis de Deus\n",
       "e os atributos incomunicáveis, é importante notarmos que Deus é um ser\n",
       "simples; em outras palavras, ele não é constituído de partes. Temos partes\n",
       "corporais distintas – dedos, intestinos, pulmões e assim por diante. Deus é um\n",
       "ser simples no sentido de que ele não é complexo. Falando teologicamente,\n",
       "Deus é seus atributos.\n",
       "A simplicidade de Deus também significa que seus atributos definem uns\n",
       "aos outros. Dizemos, por exemplo, que Deus é santo, justo, imutável e\n",
       "onipotente, mas sua onipotência é sempre uma onipotência santa, uma\n",
       "onipotência justa e uma onipotência imutável. Todos os traços de caráter que\n",
       "podemos identificar em Deus também definem sua onipotência. Pelo mesmo\n",
       "indicativo, a eternidade de Deus é uma eternidade onipotente, e sua santidade\n",
       "é uma santidade onipotente. Deus não é uma parte santidade, outra parte\n",
       "onipotência e outra parte imutabilidade. Ele é totalmente santo, totalmente\n",
       "onipotente e totalmente imutável.\n",
       "A distinção entre os atributos comunicáveis e os atributos incomunicáveis\n",
       "de Deus é importante porque nos ajuda a chegar a um entendimento claro da\n",
       "diferença entre Deus e qualquer criatura. Nenhuma criatura pode possuir um\n",
       "atributo incomunicável do Deus todo-poderoso.\n",
       "ASSEIDADE\n",
       "A diferença suprema entre Deus e os outros seres está no fato de que as\n",
       "criaturas são derivadas, condicionais e dependentes. Deus, porém, não é\n",
       "dependente. Ele tem o poder de ser em e de si mesmo; não deriva de nada."
      ],
      "text/plain": [
       "<IPython.core.display.Markdown object>"
      ]
     },
     "metadata": {},
     "output_type": "display_data"
    },
    {
     "data": {
      "text/markdown": [
       "**Fonte:** {'source': './books/import/Somos Todos Teólogos - RC Sproul.pdf', 'page': 250}"
      ],
      "text/plain": [
       "<IPython.core.display.Markdown object>"
      ]
     },
     "metadata": {},
     "output_type": "display_data"
    },
    {
     "data": {
      "text/markdown": [
       "**Trecho:** Paulo diz em Efésios: “E em amor nos predestinou para ele, para a adoção\n",
       "de filhos, por meio de Jesus Cristo, segundo o beneplácito de sua vontade”\n",
       "(1.5). Aqui aprendemos por que Deus faz o que faz – para a sua própria\n",
       "glória. O alvo final dos decretos de Deus é a sua própria glória, e as decisões\n",
       "e escolhas que ele faz em seu plano de salvação se baseiam no beneplácito de\n",
       "sua vontade.\n",
       "A objeção típica a este ensino é esta: “Se Deus escolhe um e não outro\n",
       "independentemente do que as pessoas fazem, ele não está sendo caprichoso e\n",
       "tirânico?” Paulo diz que a escolha vem do bom prazer da vontade de Deus;\n",
       "não há algo como o mau prazer da vontade de Deus. O que Deus escolhe está\n",
       "baseado em sua retidão e bondade íntimas. Deus não faz uma escolha má ou\n",
       "qualquer coisa má; é por essa razão que Paulo louva a Deus por seu plano de\n",
       "salvação.\n",
       "A MISERICÓRDIA DE DEUS\n",
       "O que Paulo indica em Efésios 1, ele o desenvolve mais completamente em\n",
       "sua Epístola aos Romanos, em especial em Romanos 8 e 9:\n",
       " \n",
       "E não ela somente, mas também Rebeca, ao conceber de um só, Isaque, nosso pai.\n",
       "E ainda não eram os gêmeos nascidos, nem tinham praticado o bem ou o mal (para\n",
       "que o propósito de Deus, quanto à eleição, prevalecesse, não por obras, mas por\n",
       "aquele que chama), já fora dito a ela: O mais velho será servo do mais moço. Como\n",
       "está escrito: Amei Jacó, porém me aborreci de Esaú (Rm 9.10-13).\n",
       " \n",
       "Paulo está dizendo aqui que Deus fez uma decisão de redimir Jacó, mas\n",
       "não Esaú. Ambos eram filhos da mesma família; de fato, eram gêmeos. Antes\n",
       "de serem nascidos, antes de fazer qualquer bem ou mal, Deus declarou que\n",
       "daria seu benevolente e complacente amor a um e o reteria do outro.\n",
       "Paulo continua: “Que diremos, pois? Há injustiça da parte de Deus?” (v.\n",
       "14a). Paulo está formulando um ponto crucial. Quando pessoas aprendem que\n",
       "a predestinação está arraigada no beneplácito soberano de Deus, elas\n",
       "levantam frequentemente uma pergunta sobre a justiça de Deus. Paulo"
      ],
      "text/plain": [
       "<IPython.core.display.Markdown object>"
      ]
     },
     "metadata": {},
     "output_type": "display_data"
    }
   ],
   "source": [
    "sources = retriever.invoke(question)\n",
    "for source in sources:\n",
    "    display(Markdown(f\"**Fonte:** {source.metadata}\"))\n",
    "    display(Markdown(f\"**Trecho:** {source.page_content}\"))"
   ]
  },
  {
   "cell_type": "code",
   "execution_count": 19,
   "metadata": {},
   "outputs": [
    {
     "data": {
      "text/markdown": [
       "**Fonte:** inferno? Quem irá r esistir ao diabo? Quem quer privar -se de alimento, \n",
       "descanso e lazer, para que os inf ernos o vejam lutando, \n",
       "envergonhando os demônios, libertando os cativos, esvaziando o \n",
       "inferno, e sofrendo as dores de parto para deixar atrás de si uma \n",
       "fileira de pessoas lavadas pelo sa ngue de Cristo?  \n",
       "Em último lugar, o avivamento tarda porque rou bamos a glória que \n",
       "pertence a Deus . Reflitamos um pouco sobre essas palavras de \n",
       "Jesus: “Eu não  aceito glória que vem dos homens”. “Como podeis \n",
       "crer, vós os que aceitais glória uns dos outros, e contudo não \n",
       "procurais a glória que vem do Deus único?” (Jo 5.41,44.) C hega de \n",
       "toda essa autopromoção nos púlpitos. Chega de tanto exaltar “ meu \n",
       "programa de rádio”, “ minha  igreja”, “meus  livros”. Ah, que repulsiva \n",
       "demonstração carnal vemos nos púlpitos: “Hoje, temos o grande \n",
       "privilégio...” E os pregadores aceitam isso; não, el es já o esperam. (E \n",
       "se esquecem de que só estão ali pela graça de Deus .) E a vaidade é \n",
       "que, quando ouvimos tais homens pregar, notamos que nunca \n",
       "ficaríamos sabendo que eram tão importantes, se não tivessem sido \n",
       "apresentados como tal.  \n",
       "Coitado de Deus!  Ele n ão está recebendo muita glória! Então, por \n",
       "que ele ainda não cumpriu sua terrível mas bendita ameaça de que \n",
       "iria vomitar -nos de sua boca? Nós fracassamos; estamos impuros. \n",
       "Apreciamos os louvores dos homens. Buscamos nossos próprios \n",
       "interesses. Ó Deus, libe rta-nos dessa existência egoística, \n",
       "egocêntrica! Dá -nos a bênção do quebrantamento! O juízo deve \n",
       "começar por nós, pelos pregadores!"
      ],
      "text/plain": [
       "<IPython.core.display.Markdown object>"
      ]
     },
     "metadata": {},
     "output_type": "display_data"
    },
    {
     "data": {
      "text/markdown": [
       "**Trecho:** {'source': './books/import/Por que tarda o pleno Avivamento - Leonard Ravenhill.pdf', 'page': 42}"
      ],
      "text/plain": [
       "<IPython.core.display.Markdown object>"
      ]
     },
     "metadata": {},
     "output_type": "display_data"
    },
    {
     "data": {
      "text/markdown": [
       "**Score:** 381.2914123535156"
      ],
      "text/plain": [
       "<IPython.core.display.Markdown object>"
      ]
     },
     "metadata": {},
     "output_type": "display_data"
    },
    {
     "data": {
      "text/markdown": [
       "**Fonte:** ser atributos dos seres humanos. Deus não pode comunicar algumas\n",
       "caraterísticas de seu Ser para as criaturas que ele fez. Às vezes, pessoas\n",
       "perguntam aos teólogos se é possível Deus criar outro deus, e a resposta é\n",
       "não. Se Deus tivesse de criar outro deus, o resultado seria uma criatura, que,\n",
       "por definição, não teria os atributos necessários que descrevem a Deus, como\n",
       "independência, eternidade e imutabilidade.\n",
       "Quando examinamos a distinção entre os atributos comunicáveis de Deus\n",
       "e os atributos incomunicáveis, é importante notarmos que Deus é um ser\n",
       "simples; em outras palavras, ele não é constituído de partes. Temos partes\n",
       "corporais distintas – dedos, intestinos, pulmões e assim por diante. Deus é um\n",
       "ser simples no sentido de que ele não é complexo. Falando teologicamente,\n",
       "Deus é seus atributos.\n",
       "A simplicidade de Deus também significa que seus atributos definem uns\n",
       "aos outros. Dizemos, por exemplo, que Deus é santo, justo, imutável e\n",
       "onipotente, mas sua onipotência é sempre uma onipotência santa, uma\n",
       "onipotência justa e uma onipotência imutável. Todos os traços de caráter que\n",
       "podemos identificar em Deus também definem sua onipotência. Pelo mesmo\n",
       "indicativo, a eternidade de Deus é uma eternidade onipotente, e sua santidade\n",
       "é uma santidade onipotente. Deus não é uma parte santidade, outra parte\n",
       "onipotência e outra parte imutabilidade. Ele é totalmente santo, totalmente\n",
       "onipotente e totalmente imutável.\n",
       "A distinção entre os atributos comunicáveis e os atributos incomunicáveis\n",
       "de Deus é importante porque nos ajuda a chegar a um entendimento claro da\n",
       "diferença entre Deus e qualquer criatura. Nenhuma criatura pode possuir um\n",
       "atributo incomunicável do Deus todo-poderoso.\n",
       "ASSEIDADE\n",
       "A diferença suprema entre Deus e os outros seres está no fato de que as\n",
       "criaturas são derivadas, condicionais e dependentes. Deus, porém, não é\n",
       "dependente. Ele tem o poder de ser em e de si mesmo; não deriva de nada."
      ],
      "text/plain": [
       "<IPython.core.display.Markdown object>"
      ]
     },
     "metadata": {},
     "output_type": "display_data"
    },
    {
     "data": {
      "text/markdown": [
       "**Trecho:** {'source': './books/import/Somos Todos Teólogos - RC Sproul.pdf', 'page': 77}"
      ],
      "text/plain": [
       "<IPython.core.display.Markdown object>"
      ]
     },
     "metadata": {},
     "output_type": "display_data"
    },
    {
     "data": {
      "text/markdown": [
       "**Score:** 389.17523193359375"
      ],
      "text/plain": [
       "<IPython.core.display.Markdown object>"
      ]
     },
     "metadata": {},
     "output_type": "display_data"
    },
    {
     "data": {
      "text/markdown": [
       "**Fonte:** Paulo diz em Efésios: “E em amor nos predestinou para ele, para a adoção\n",
       "de filhos, por meio de Jesus Cristo, segundo o beneplácito de sua vontade”\n",
       "(1.5). Aqui aprendemos por que Deus faz o que faz – para a sua própria\n",
       "glória. O alvo final dos decretos de Deus é a sua própria glória, e as decisões\n",
       "e escolhas que ele faz em seu plano de salvação se baseiam no beneplácito de\n",
       "sua vontade.\n",
       "A objeção típica a este ensino é esta: “Se Deus escolhe um e não outro\n",
       "independentemente do que as pessoas fazem, ele não está sendo caprichoso e\n",
       "tirânico?” Paulo diz que a escolha vem do bom prazer da vontade de Deus;\n",
       "não há algo como o mau prazer da vontade de Deus. O que Deus escolhe está\n",
       "baseado em sua retidão e bondade íntimas. Deus não faz uma escolha má ou\n",
       "qualquer coisa má; é por essa razão que Paulo louva a Deus por seu plano de\n",
       "salvação.\n",
       "A MISERICÓRDIA DE DEUS\n",
       "O que Paulo indica em Efésios 1, ele o desenvolve mais completamente em\n",
       "sua Epístola aos Romanos, em especial em Romanos 8 e 9:\n",
       " \n",
       "E não ela somente, mas também Rebeca, ao conceber de um só, Isaque, nosso pai.\n",
       "E ainda não eram os gêmeos nascidos, nem tinham praticado o bem ou o mal (para\n",
       "que o propósito de Deus, quanto à eleição, prevalecesse, não por obras, mas por\n",
       "aquele que chama), já fora dito a ela: O mais velho será servo do mais moço. Como\n",
       "está escrito: Amei Jacó, porém me aborreci de Esaú (Rm 9.10-13).\n",
       " \n",
       "Paulo está dizendo aqui que Deus fez uma decisão de redimir Jacó, mas\n",
       "não Esaú. Ambos eram filhos da mesma família; de fato, eram gêmeos. Antes\n",
       "de serem nascidos, antes de fazer qualquer bem ou mal, Deus declarou que\n",
       "daria seu benevolente e complacente amor a um e o reteria do outro.\n",
       "Paulo continua: “Que diremos, pois? Há injustiça da parte de Deus?” (v.\n",
       "14a). Paulo está formulando um ponto crucial. Quando pessoas aprendem que\n",
       "a predestinação está arraigada no beneplácito soberano de Deus, elas\n",
       "levantam frequentemente uma pergunta sobre a justiça de Deus. Paulo"
      ],
      "text/plain": [
       "<IPython.core.display.Markdown object>"
      ]
     },
     "metadata": {},
     "output_type": "display_data"
    },
    {
     "data": {
      "text/markdown": [
       "**Trecho:** {'source': './books/import/Somos Todos Teólogos - RC Sproul.pdf', 'page': 250}"
      ],
      "text/plain": [
       "<IPython.core.display.Markdown object>"
      ]
     },
     "metadata": {},
     "output_type": "display_data"
    },
    {
     "data": {
      "text/markdown": [
       "**Score:** 394.2227783203125"
      ],
      "text/plain": [
       "<IPython.core.display.Markdown object>"
      ]
     },
     "metadata": {},
     "output_type": "display_data"
    },
    {
     "data": {
      "text/markdown": [
       "**Fonte:** povo. Como o profeta, o sacerdote era um porta-voz, mas ele falava \n",
       "pelo\n",
       "povo e não \n",
       "para\n",
       " o povo. Fazia intercessão em favor do povo e orava por eles.\n",
       "Além disso, o sacerdote oferecia sacrifícios a Deus pelo povo. Os principais\n",
       "sacrifícios eram oferecidos no Dia da Expiação, pelo sumo sacerdote. Mas,\n",
       "antes que o sumo sacerdote fizesse os sacrifícios pelo povo, tinha de fazer\n",
       "sacrifícios por seu próprio pecado. Seu sacrifício, assim como o do povo,\n",
       "tinha de ser repetido anualmente.\n",
       "Jesus é o nosso Sacerdote. O texto do Antigo Testamento citado\n",
       "frequentemente no Novo Testamento é o Salmo 110. Esse texto contém uma\n",
       "afirmação extraordinária sobre o caráter do Messias:\n",
       " \n",
       "Disse o S\n",
       "ENHOR\n",
       " ao meu senhor: Assenta-te à minha direita, até que eu ponha os\n",
       "teus inimigos debaixo dos teus pés. O S\n",
       "ENHOR\n",
       " enviará de Sião o cetro do seu poder,\n",
       "dizendo: Domina entre os teus inimigos. Apresentar-se-á voluntariamente o teu\n",
       "povo, no dia do teu poder; com santos ornamentos, como o orvalho emergindo da\n",
       "aurora, serão os teus jovens. O S\n",
       "ENHOR\n",
       " jurou e não se arrependerá: Tu és sacerdote\n",
       "para sempre, segundo a ordem de Melquisedeque (vv. 1-4).\n",
       " \n",
       "No Novo Testamento, o autor de Hebreus dá muita atenção ao sacerdócio\n",
       "perfeito de Cristo. Uma das principais evidências da natureza do sacerdócio\n",
       "de Jesus é o fato de que ele não teve de fazer nenhum sacrifício por seu\n",
       "próprio pecado antes de entrar no templo. O sacrifício que ele ofereceu foi de\n",
       "uma vez por todas e não foi um sacrifício de animal. Cristo se ofereceu a si\n",
       "mesmo porque “é impossível que o sangue de touros e de bodes remova\n",
       "pecados” (Hb 10.4). Ele é Sacerdote para sempre, segundo a ordem de\n",
       "Melquisedeque, e continua sua obra mediadora até este momento – não por\n",
       "oferecer continuamente sacrifícios para satisfazer a justiça de Deus, mas por\n",
       "interceder por seu povo no Santo dos Santos celestial, dentro do templo\n",
       "celestial. Assim como Cristo é tanto o sujeito quanto o objeto da profecia,\n",
       "assim também ele é o sujeito e o objeto do sacerdócio. Ele é o Sacerdote\n",
       "perfeito e o mediador perfeito, agora e para sempre."
      ],
      "text/plain": [
       "<IPython.core.display.Markdown object>"
      ]
     },
     "metadata": {},
     "output_type": "display_data"
    },
    {
     "data": {
      "text/markdown": [
       "**Trecho:** {'source': './books/import/Somos Todos Teólogos - RC Sproul.pdf', 'page': 177}"
      ],
      "text/plain": [
       "<IPython.core.display.Markdown object>"
      ]
     },
     "metadata": {},
     "output_type": "display_data"
    },
    {
     "data": {
      "text/markdown": [
       "**Score:** 394.2997741699219"
      ],
      "text/plain": [
       "<IPython.core.display.Markdown object>"
      ]
     },
     "metadata": {},
     "output_type": "display_data"
    }
   ],
   "source": [
    "sources = db.similarity_search_with_score(question)\n",
    "for source in sources:\n",
    "    display(Markdown(f\"**Fonte:** {source[0].page_content}\"))\n",
    "    display(Markdown(f\"**Trecho:** {source[0].metadata}\"))\n",
    "    display(Markdown(f\"**Score:** {source[1]}\"))"
   ]
  }
 ],
 "metadata": {
  "kernelspec": {
   "display_name": "ollama",
   "language": "python",
   "name": "python3"
  },
  "language_info": {
   "codemirror_mode": {
    "name": "ipython",
    "version": 3
   },
   "file_extension": ".py",
   "mimetype": "text/x-python",
   "name": "python",
   "nbconvert_exporter": "python",
   "pygments_lexer": "ipython3",
   "version": "3.10.14"
  }
 },
 "nbformat": 4,
 "nbformat_minor": 2
}

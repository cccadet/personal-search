{
 "cells": [
  {
   "cell_type": "markdown",
   "metadata": {},
   "source": [
    "# Personal Search\n",
    "\n",
    "## Context search\n",
    "\n",
    "This code aims to perform a search in texts loaded in the vector-store. The result seeks to be more of a quote than an elaborate answer. It will be used later to answer questions.\n",
    "\n",
    "## Busca de contexto\n",
    "\n",
    "Esse código tem como objetivo realizar uma busca em textos carregados no vector-store. O resultado busca ser mais uma citação do que uma resposta elaborada. Será usada mais a frente para responder perguntas."
   ]
  },
  {
   "cell_type": "markdown",
   "metadata": {},
   "source": [
    "## Import packages"
   ]
  },
  {
   "cell_type": "code",
   "execution_count": 9,
   "metadata": {},
   "outputs": [],
   "source": [
    "from langchain_community.llms import Ollama\n",
    "from langchain_community.embeddings import OllamaEmbeddings\n",
    "from langchain_community.vectorstores import FAISS\n",
    "from langchain_core.output_parsers import StrOutputParser\n",
    "from operator import itemgetter\n",
    "from langchain_community.llms import Ollama\n",
    "from IPython.display import display, Markdown\n",
    "import logging\n",
    "import os\n",
    "from langchain import hub"
   ]
  },
  {
   "cell_type": "markdown",
   "metadata": {},
   "source": [
    "## Configuration"
   ]
  },
  {
   "cell_type": "code",
   "execution_count": 10,
   "metadata": {},
   "outputs": [],
   "source": [
    "# Model from Ollama\n",
    "model = \"llama3:8b\"\n",
    "# Embeddings Model\n",
    "embeddings_model = \"nomic-embed-text:v1.5\"\n",
    "# Vectore Store path\n",
    "path_books = \"./vector-store/books\""
   ]
  },
  {
   "cell_type": "markdown",
   "metadata": {},
   "source": [
    "## Retriever Instance"
   ]
  },
  {
   "cell_type": "code",
   "execution_count": 11,
   "metadata": {},
   "outputs": [],
   "source": [
    "# Load the embeddings model\n",
    "embeddings = OllamaEmbeddings(model=embeddings_model)\n",
    "# Load the Vector Store\n",
    "db = FAISS.load_local(path_books, embeddings, allow_dangerous_deserialization=True)\n",
    "\n",
    "# Load vectore store as retriever (search engine)\n",
    "retriever = db.as_retriever()\n",
    "# distance_metric: cosine\n",
    "retriever.search_kwargs[\"distance_metric\"] = \"cos\"\n",
    "# fetch_k: search method to set how many documents you want to fetch before filtering\n",
    "retriever.search_kwargs[\"fetch_k\"] = 100\n",
    "# maximal_marginal_relevance: The MaxMarginalRelevanceExampleSelector selects \n",
    "# examples based on a combination of which examples are most similar to the inputs,\n",
    "# while also optimizing for diversity.\n",
    "retriever.search_kwargs[\"maximal_marginal_relevance\"] = False\n",
    "# k: Number of documents to return\n",
    "retriever.search_kwargs[\"k\"] = 3"
   ]
  },
  {
   "cell_type": "markdown",
   "metadata": {},
   "source": [
    "## Prompt"
   ]
  },
  {
   "cell_type": "code",
   "execution_count": 13,
   "metadata": {},
   "outputs": [
    {
     "data": {
      "text/plain": [
       "ChatPromptTemplate(input_variables=['context', 'question'], metadata={'lc_hub_owner': 'personal-search', 'lc_hub_repo': 'context-search', 'lc_hub_commit_hash': '566cc2d5577b4fdb837c190d3eade0b0bf3a84422180b303835700c9a0d6228c'}, messages=[HumanMessagePromptTemplate(prompt=PromptTemplate(input_variables=['context', 'question'], template='\\nContexto:\\n{context} \\n\\nCom base apenas no contexto, traga trechos que tenham relação com o assunto \"{question}\". \\nSe não houver relação, diga que não há.\\nResponda sempre em português.\\n'))])"
      ]
     },
     "execution_count": 13,
     "metadata": {},
     "output_type": "execute_result"
    }
   ],
   "source": [
    "# Validated Prompt \n",
    "prompt = hub.pull(owner_repo_commit=\"personal-search/context-search\")"
   ]
  },
  {
   "cell_type": "markdown",
   "metadata": {},
   "source": [
    "## Question"
   ]
  },
  {
   "cell_type": "code",
   "execution_count": 14,
   "metadata": {},
   "outputs": [],
   "source": [
    "question = \"O que falta aos pregadores de hoje?\""
   ]
  },
  {
   "cell_type": "markdown",
   "metadata": {},
   "source": [
    "## Search"
   ]
  },
  {
   "cell_type": "code",
   "execution_count": 15,
   "metadata": {},
   "outputs": [],
   "source": [
    "llm = Ollama(model=model, temperature=0)\n",
    "\n",
    "final_rag_chain = (\n",
    "    {\"context\": retriever, \n",
    "     \"question\": itemgetter(\"question\")} \n",
    "    | prompt\n",
    "    | llm.bind(stop=['<|eot_id|>']) # stop when the model outputs the end of text token (llama3)\n",
    "    | StrOutputParser()\n",
    ")\n",
    "\n",
    "final_answer = final_rag_chain.invoke({\"question\":question})"
   ]
  },
  {
   "cell_type": "markdown",
   "metadata": {},
   "source": [
    "## Anwser"
   ]
  },
  {
   "cell_type": "code",
   "execution_count": 16,
   "metadata": {},
   "outputs": [
    {
     "data": {
      "text/markdown": [
       "**Busca:** O que falta aos pregadores de hoje?\n",
       "\n"
      ],
      "text/plain": [
       "<IPython.core.display.Markdown object>"
      ]
     },
     "metadata": {},
     "output_type": "display_data"
    },
    {
     "data": {
      "text/markdown": [
       "A partir do contexto fornecido, encontrei os seguintes trechos relacionados ao assunto \"O que falta aos pregadores de hoje?\" :\n",
       "\n",
       "* Do documento com o título \"Por que tarda o pleno Avivamento - Leonard Ravenhill.pdf\" (página 45):\n",
       "\"Pentecostes significa dor, mas o que ma is expe rimentamos é prazer; significa peso; mas nós amamos a comodidade. Pentecostes significa prisão, e, no entanto, a maioria dos crentes faria qualquer coisa, menos ir para a prisão por amor a Cristo.\"\n",
       "\n",
       "* Do documento com o título \"Conselhos para obreiros - Charles H Spurgeon.pdf\" (página 11):\n",
       "\"Nós precisamos nos enver gonhar de não sentir vergonha; precisamos chorar por n ão termos lágrimas; precisamos nos humilhar por haver perdido a humildade de servo de Deus; gemer por não sentirmos peso pelos perdi dos; irar-nos contra n ós mesmos por não termos ódio do monopólio que o diabo exerce nestes dias do fim, e nos punir pelo fato de o mundo estar-se dando tão bem conosco, que nem precisa perseguir-nos.\"\n",
       "\n",
       "Esses trechos sugerem que os pregadores de hoje em dia podem estar falta de características como humildade, dor, lágrimas e amor a Cristo, o que pode estar afetando sua eficácia na pregação."
      ],
      "text/plain": [
       "<IPython.core.display.Markdown object>"
      ]
     },
     "metadata": {},
     "output_type": "display_data"
    }
   ],
   "source": [
    "display(Markdown(f\"**Busca:** {question}\\n\\n\"))\n",
    "display(Markdown(final_answer))"
   ]
  },
  {
   "cell_type": "markdown",
   "metadata": {},
   "source": [
    "## Debug"
   ]
  },
  {
   "cell_type": "code",
   "execution_count": 6,
   "metadata": {},
   "outputs": [
    {
     "data": {
      "text/markdown": [
       "**Fonte:** {'source': './books/import/Por que tarda o pleno Avivamento - Leonard Ravenhill.pdf', 'page': 45}"
      ],
      "text/plain": [
       "<IPython.core.display.Markdown object>"
      ]
     },
     "metadata": {},
     "output_type": "display_data"
    },
    {
     "data": {
      "text/markdown": [
       "**Trecho:** pregadores, precisamos nos enver gonhar de não sentir vergonha; \n",
       "precisamos chorar por n ão termos lágrimas; precisamos nos humilhar \n",
       "por haver perdido a humildade de servo de Deus; gemer por não \n",
       "sentirmos peso pelos perdi dos; irar -nos contra n ós mesmos por não \n",
       "termos ódio do monopólio que o diabo exerce nestes dias do fim, e \n",
       "nos punir pelo fato de o mundo estar -se dando tão bem conosco, que \n",
       "nem precisa perseguir -nos. \n",
       "Pentecostes significa dor, mas o que ma is expe rimentamos  é \n",
       "prazer; significa peso; mas nós amamos a comodidade. Pentecostes \n",
       "significa prisão, e, no entanto, a maioria dos crentes faria qualquer \n",
       "coisa, menos ir para a prisão por amor a Cristo. Se revivêss emos a \n",
       "experiência do pentecostes, talvez muitos de nós fossem parar na"
      ],
      "text/plain": [
       "<IPython.core.display.Markdown object>"
      ]
     },
     "metadata": {},
     "output_type": "display_data"
    },
    {
     "data": {
      "text/markdown": [
       "**Fonte:** {'source': './books/import/Por que tarda o pleno Avivamento - Leonard Ravenhill.pdf', 'page': 77}"
      ],
      "text/plain": [
       "<IPython.core.display.Markdown object>"
      ]
     },
     "metadata": {},
     "output_type": "display_data"
    },
    {
     "data": {
      "text/markdown": [
       "**Trecho:** na sua fidelidade ao Pai  (prepa rou-se durante tanto tempo pa ra \n",
       "pregar por tão curto período); grande em sua submissão  ao Espírito \n",
       "(anda va ou parava de acordo com as orientações dele); grande nas \n",
       "afirm ações que fez  sobre o Filho (apon tando Jesus como “o Cordeiro \n",
       "de Deus, que tira o pecado do mundo ”, apesar de não te r-se avistado \n",
       "com ele antes).  \n",
       "João era uma “Voz”. A maioria dos pregadores não passa de ecos, \n",
       "pois, se prestarmos bem atenção, saberemos dizer quais os livros \n",
       "que andaram lendo, e notaremos que citaram muito pouco do Livro. E \n",
       "hoje, só uma Voz, voz de um pr ofeta enviado do céu par a pregar aos \n",
       "pregadores , conseguiria despertar o co ração dos homens. S ó quem \n",
       "tem coração quebrantado é capaz de levar outros ao \n",
       "quebrantamento. Ir mãos, nós temos equipamentos, mas não temos \n",
       "poder; temos ação, mas não unção; barulho,  mas não avivamento. \n",
       "Somos dogmát icos, mas  não dinâmicos!  \n",
       "Todas as eras têm iniciado com fogo, e todas as vidas, sejam de"
      ],
      "text/plain": [
       "<IPython.core.display.Markdown object>"
      ]
     },
     "metadata": {},
     "output_type": "display_data"
    },
    {
     "data": {
      "text/markdown": [
       "**Fonte:** {'source': './books/import/Conselhos para obreiros - Charles H Spurgeon.pdf', 'page': 11}"
      ],
      "text/plain": [
       "<IPython.core.display.Markdown object>"
      ]
     },
     "metadata": {},
     "output_type": "display_data"
    },
    {
     "data": {
      "text/markdown": [
       "**Trecho:** “Pensei que ele não havia se preocupado muito conosco, porque sabia que, por onde quer que ele\n",
       "passe, argumenta com seus anfitriões, e não havia feito assim conosco. Cheguei a pensar que\n",
       "havíamos irritado o sr. Whitefield, mas agora percebo como ele foi amável conosco, falando-nos\n",
       "dessa maneira.”\n",
       "Em seguida chamou suas filhas: “Subam, meninas. Vejam o que o homem de Deus escreveu na\n",
       "vidraça: ‘Falta-lhes uma coisa!’. Chamem seu pai”. O coronel subiu ao aposento de hóspedes e\n",
       "também leu a frase: “Falta-lhes uma coisa!”. Assim, ao redor da cama onde o homem de Deus\n",
       "havia dormido, ajoelharam-se e pediram a Deus que lhes desse a coisa que faltava. E, ali mesmo,\n",
       "antes  que deixassem o quarto, encontraram  o que lhes  faltava;  e toda aquela  família  pôde\n",
       "regozijar-se em Jesus.\n",
       "Não faz muito tempo, encontrei-me com um amigo em cuja igreja há uma irmã que preserva\n",
       "aquele pedaço de vidro como herança de família. Se você não conseguir aconselhar ou admoestar"
      ],
      "text/plain": [
       "<IPython.core.display.Markdown object>"
      ]
     },
     "metadata": {},
     "output_type": "display_data"
    }
   ],
   "source": [
    "sources = retriever.invoke(question)\n",
    "for source in sources:\n",
    "    display(Markdown(f\"**Fonte:** {source.metadata}\"))\n",
    "    display(Markdown(f\"**Trecho:** {source.page_content}\"))"
   ]
  },
  {
   "cell_type": "code",
   "execution_count": 7,
   "metadata": {},
   "outputs": [
    {
     "data": {
      "text/markdown": [
       "**Fonte:** pregadores, precisamos nos enver gonhar de não sentir vergonha; \n",
       "precisamos chorar por n ão termos lágrimas; precisamos nos humilhar \n",
       "por haver perdido a humildade de servo de Deus; gemer por não \n",
       "sentirmos peso pelos perdi dos; irar -nos contra n ós mesmos por não \n",
       "termos ódio do monopólio que o diabo exerce nestes dias do fim, e \n",
       "nos punir pelo fato de o mundo estar -se dando tão bem conosco, que \n",
       "nem precisa perseguir -nos. \n",
       "Pentecostes significa dor, mas o que ma is expe rimentamos  é \n",
       "prazer; significa peso; mas nós amamos a comodidade. Pentecostes \n",
       "significa prisão, e, no entanto, a maioria dos crentes faria qualquer \n",
       "coisa, menos ir para a prisão por amor a Cristo. Se revivêss emos a \n",
       "experiência do pentecostes, talvez muitos de nós fossem parar na"
      ],
      "text/plain": [
       "<IPython.core.display.Markdown object>"
      ]
     },
     "metadata": {},
     "output_type": "display_data"
    },
    {
     "data": {
      "text/markdown": [
       "**Trecho:** {'source': './books/import/Por que tarda o pleno Avivamento - Leonard Ravenhill.pdf', 'page': 45}"
      ],
      "text/plain": [
       "<IPython.core.display.Markdown object>"
      ]
     },
     "metadata": {},
     "output_type": "display_data"
    },
    {
     "data": {
      "text/markdown": [
       "**Score:** 398.0030822753906"
      ],
      "text/plain": [
       "<IPython.core.display.Markdown object>"
      ]
     },
     "metadata": {},
     "output_type": "display_data"
    },
    {
     "data": {
      "text/markdown": [
       "**Fonte:** na sua fidelidade ao Pai  (prepa rou-se durante tanto tempo pa ra \n",
       "pregar por tão curto período); grande em sua submissão  ao Espírito \n",
       "(anda va ou parava de acordo com as orientações dele); grande nas \n",
       "afirm ações que fez  sobre o Filho (apon tando Jesus como “o Cordeiro \n",
       "de Deus, que tira o pecado do mundo ”, apesar de não te r-se avistado \n",
       "com ele antes).  \n",
       "João era uma “Voz”. A maioria dos pregadores não passa de ecos, \n",
       "pois, se prestarmos bem atenção, saberemos dizer quais os livros \n",
       "que andaram lendo, e notaremos que citaram muito pouco do Livro. E \n",
       "hoje, só uma Voz, voz de um pr ofeta enviado do céu par a pregar aos \n",
       "pregadores , conseguiria despertar o co ração dos homens. S ó quem \n",
       "tem coração quebrantado é capaz de levar outros ao \n",
       "quebrantamento. Ir mãos, nós temos equipamentos, mas não temos \n",
       "poder; temos ação, mas não unção; barulho,  mas não avivamento. \n",
       "Somos dogmát icos, mas  não dinâmicos!  \n",
       "Todas as eras têm iniciado com fogo, e todas as vidas, sejam de"
      ],
      "text/plain": [
       "<IPython.core.display.Markdown object>"
      ]
     },
     "metadata": {},
     "output_type": "display_data"
    },
    {
     "data": {
      "text/markdown": [
       "**Trecho:** {'source': './books/import/Por que tarda o pleno Avivamento - Leonard Ravenhill.pdf', 'page': 77}"
      ],
      "text/plain": [
       "<IPython.core.display.Markdown object>"
      ]
     },
     "metadata": {},
     "output_type": "display_data"
    },
    {
     "data": {
      "text/markdown": [
       "**Score:** 406.77288818359375"
      ],
      "text/plain": [
       "<IPython.core.display.Markdown object>"
      ]
     },
     "metadata": {},
     "output_type": "display_data"
    },
    {
     "data": {
      "text/markdown": [
       "**Fonte:** “Pensei que ele não havia se preocupado muito conosco, porque sabia que, por onde quer que ele\n",
       "passe, argumenta com seus anfitriões, e não havia feito assim conosco. Cheguei a pensar que\n",
       "havíamos irritado o sr. Whitefield, mas agora percebo como ele foi amável conosco, falando-nos\n",
       "dessa maneira.”\n",
       "Em seguida chamou suas filhas: “Subam, meninas. Vejam o que o homem de Deus escreveu na\n",
       "vidraça: ‘Falta-lhes uma coisa!’. Chamem seu pai”. O coronel subiu ao aposento de hóspedes e\n",
       "também leu a frase: “Falta-lhes uma coisa!”. Assim, ao redor da cama onde o homem de Deus\n",
       "havia dormido, ajoelharam-se e pediram a Deus que lhes desse a coisa que faltava. E, ali mesmo,\n",
       "antes  que deixassem o quarto, encontraram  o que lhes  faltava;  e toda aquela  família  pôde\n",
       "regozijar-se em Jesus.\n",
       "Não faz muito tempo, encontrei-me com um amigo em cuja igreja há uma irmã que preserva\n",
       "aquele pedaço de vidro como herança de família. Se você não conseguir aconselhar ou admoestar"
      ],
      "text/plain": [
       "<IPython.core.display.Markdown object>"
      ]
     },
     "metadata": {},
     "output_type": "display_data"
    },
    {
     "data": {
      "text/markdown": [
       "**Trecho:** {'source': './books/import/Conselhos para obreiros - Charles H Spurgeon.pdf', 'page': 11}"
      ],
      "text/plain": [
       "<IPython.core.display.Markdown object>"
      ]
     },
     "metadata": {},
     "output_type": "display_data"
    },
    {
     "data": {
      "text/markdown": [
       "**Score:** 410.0894775390625"
      ],
      "text/plain": [
       "<IPython.core.display.Markdown object>"
      ]
     },
     "metadata": {},
     "output_type": "display_data"
    },
    {
     "data": {
      "text/markdown": [
       "**Fonte:** ela mesma. \n",
       "Se Jesus tivesse dito a ela antes de fazê-la: \"Há apenas duas vagas disponíveis para você. Você pode ser uma negra ou então uma branca pobre. Qual dessas?\", ela teria se retraído e se contorcido antes de finalmente responder: \"Tudo bem, faça-me negra então, mas não uma dessas maloqueiras\". E el e a teria feito uma mulher negra limpa e \n",
       "asseada, ela mesma numa versão negra. \n",
       " Bem, um dia a sra. Turpin vai ao consultório médico e vê-se cercada pelo tipo de pessoas que ela despreza. De repente uma jovem com acne atra vessa a passos largos a sala de espera, golpeia \n",
       "a sra. Turpin com um livro e tenta estrangulá-l a. Quando a ordem é finalmente restaurada, a \n",
       "sra. Turpin, como se estivesse ag uardando uma revelação, pergunta: \n",
       "— O que você tem a me dizer? \n",
       "— Volte para o inferno de onde você ve io, sua porca velha! — grita a moça. \n",
       "A sra. Turpin desaba. O seu mundo fez-se em pedaços. O Deus que ela havia moldado à"
      ],
      "text/plain": [
       "<IPython.core.display.Markdown object>"
      ]
     },
     "metadata": {},
     "output_type": "display_data"
    },
    {
     "data": {
      "text/markdown": [
       "**Trecho:** {'source': './books/import/Evangelho Maltrapilho - Brennan Manning.pdf', 'page': 18}"
      ],
      "text/plain": [
       "<IPython.core.display.Markdown object>"
      ]
     },
     "metadata": {},
     "output_type": "display_data"
    },
    {
     "data": {
      "text/markdown": [
       "**Score:** 416.1697692871094"
      ],
      "text/plain": [
       "<IPython.core.display.Markdown object>"
      ]
     },
     "metadata": {},
     "output_type": "display_data"
    }
   ],
   "source": [
    "sources = db.similarity_search_with_score(question)\n",
    "for source in sources:\n",
    "    display(Markdown(f\"**Fonte:** {source[0].page_content}\"))\n",
    "    display(Markdown(f\"**Trecho:** {source[0].metadata}\"))\n",
    "    display(Markdown(f\"**Score:** {source[1]}\"))"
   ]
  }
 ],
 "metadata": {
  "kernelspec": {
   "display_name": "ollama",
   "language": "python",
   "name": "python3"
  },
  "language_info": {
   "codemirror_mode": {
    "name": "ipython",
    "version": 3
   },
   "file_extension": ".py",
   "mimetype": "text/x-python",
   "name": "python",
   "nbconvert_exporter": "python",
   "pygments_lexer": "ipython3",
   "version": "3.10.14"
  }
 },
 "nbformat": 4,
 "nbformat_minor": 2
}

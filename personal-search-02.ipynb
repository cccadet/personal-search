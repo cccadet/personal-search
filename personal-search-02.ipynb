{
 "cells": [
  {
   "cell_type": "markdown",
   "metadata": {},
   "source": [
    "# Personal Search 01\n",
    "\n",
    "Busca de informações em livros usando FAISS"
   ]
  },
  {
   "cell_type": "markdown",
   "metadata": {},
   "source": [
    "## Import packages"
   ]
  },
  {
   "cell_type": "code",
   "execution_count": 1,
   "metadata": {},
   "outputs": [],
   "source": [
    "from langchain_community.llms import Ollama\n",
    "from langchain_community.embeddings import OllamaEmbeddings\n",
    "from langchain_community.vectorstores import FAISS\n",
    "from langchain_core.prompts import ChatPromptTemplate\n",
    "from langchain_core.output_parsers import StrOutputParser\n",
    "from operator import itemgetter\n",
    "from langchain_community.llms import Ollama\n",
    "from IPython.display import display, Markdown\n",
    "import logging\n",
    "\n",
    "#logging.basicConfig(level=logging.INFO)"
   ]
  },
  {
   "cell_type": "markdown",
   "metadata": {},
   "source": [
    "## Configuration"
   ]
  },
  {
   "cell_type": "code",
   "execution_count": 2,
   "metadata": {},
   "outputs": [],
   "source": [
    "model = \"mistral:7b\"\n",
    "embeddings_model = \"nomic-embed-text:v1.5\"\n",
    "path_books = \"./vector-store/books\"\n",
    "question = \"Relacionamento com Deus\""
   ]
  },
  {
   "cell_type": "markdown",
   "metadata": {},
   "source": [
    "## Retriever Instance"
   ]
  },
  {
   "cell_type": "code",
   "execution_count": 3,
   "metadata": {},
   "outputs": [],
   "source": [
    "embeddings = OllamaEmbeddings(model=embeddings_model)\n",
    "\n",
    "db = FAISS.load_local(path_books, embeddings, allow_dangerous_deserialization=True)\n",
    "\n",
    "retriever = db.as_retriever()\n",
    "retriever.search_kwargs[\"distance_metric\"] = \"cos\"\n",
    "retriever.search_kwargs[\"fetch_k\"] = 100\n",
    "retriever.search_kwargs[\"maximal_marginal_relevance\"] = False\n",
    "retriever.search_kwargs[\"k\"] = 5"
   ]
  },
  {
   "cell_type": "markdown",
   "metadata": {},
   "source": [
    "## Search"
   ]
  },
  {
   "cell_type": "code",
   "execution_count": 10,
   "metadata": {},
   "outputs": [],
   "source": [
    "# RAG\n",
    "template = \"\"\"\n",
    "Você é um assistente de busca de conhecimento.\n",
    "Traga citações diretas do contexto ou o que mais se aproxima do assunto \"{question}\". \n",
    "\n",
    "Contexto:\n",
    "{context} \n",
    "\n",
    "Resposta:\n",
    "\"\"\"\n",
    "\n",
    "prompt = ChatPromptTemplate.from_template(template)\n",
    "\n",
    "llm = Ollama(model=model, temperature=0)\n",
    "\n",
    "final_rag_chain = (\n",
    "    {\"context\": retriever, \n",
    "     \"question\": itemgetter(\"question\")} \n",
    "    | prompt\n",
    "    | llm\n",
    "    | StrOutputParser()\n",
    ")\n",
    "\n",
    "final_answer = final_rag_chain.invoke({\"question\":question})"
   ]
  },
  {
   "cell_type": "code",
   "execution_count": 11,
   "metadata": {},
   "outputs": [
    {
     "data": {
      "text/markdown": [
       "**Busca:** Relacionamento com Deus\n",
       "\n"
      ],
      "text/plain": [
       "<IPython.core.display.Markdown object>"
      ]
     },
     "metadata": {},
     "output_type": "display_data"
    },
    {
     "data": {
      "text/markdown": [
       " Este texto contém duas partes distintas, cada uma delas escrita por um autor diferente e tratando de temas distintos, embora haja algumas semelhanças temáticas. A primeira parte é do livro \"Conselhos para obreiros\" de Charles H. Spurgeon e trata sobre a importância de manter uma consciência pura e servir a Deus sem compromissos, mesmo que isso significue sofrer perseguição ou humilhações. A segunda parte é do livro \"Evangelho Maltrapilho\" de Brennan Manning e trata sobre a importância de manter uma mente aberta e abraçar a graça divina sem se preocupar excessivamente com estruturas religiosas ou ideologias.\n",
       "\n",
       "Ambos os textos enfatizam a importância de permanecer fiel às verdades básicas da fé cristã e evitar caírem em hipocrisia ou se encerrarem em dogmas rigorosos que podem limitar a relação com Deus. Eles também enfatizam a importância de ser amigos com pessoas diferentes, incluindo aqueles de outras denominações e religiões, e evitar se enquadrar excessivamente em ideologias ou estruturas que podem limitar a compreensão da graça divina.\n",
       "\n",
       "A história sobre as duas comunidades mencionadas no final do texto de Manning serve para ilustrar esses princípios, mostrando como uma comunidade de alcoólicos e outra comunidade de Roslyn podem ensinar aos leitores a importância de manter uma mente aberta e abraçar a graça divina sem se preocupar excessivamente com estruturas religiosas ou ideologias."
      ],
      "text/plain": [
       "<IPython.core.display.Markdown object>"
      ]
     },
     "metadata": {},
     "output_type": "display_data"
    }
   ],
   "source": [
    "display(Markdown(f\"**Busca:** {question}\\n\\n\"))\n",
    "display(Markdown(final_answer))"
   ]
  },
  {
   "cell_type": "code",
   "execution_count": 24,
   "metadata": {},
   "outputs": [
    {
     "data": {
      "text/markdown": [
       "**Fonte:** {'source': './books/import/Evangelho Maltrapilho - Brennan Manning.pdf', 'page': 102}"
      ],
      "text/plain": [
       "<IPython.core.display.Markdown object>"
      ]
     },
     "metadata": {},
     "output_type": "display_data"
    },
    {
     "data": {
      "text/markdown": [
       "**Trecho:** ~ 103 ~ misericordioso para conosco. Não permitiremos que esses ataques nos levem aos pecados da \n",
       "autopreocupação e da autodefesa. Nadando no am or misericordioso do Cristo redentor, somos \n",
       "livres para rir da tendência humana de assumir ares de superioridade espiritual — até mesmo em \n",
       "nós mesmos. Somos livres para estender aos outros a misericórdia que recebemos. \n",
       "Impregnado em tamanha misericórdia, o maltra pilho encontra depressa uma desculpa para \n",
       "isentar o vizinho que acordou com o pé esquerdo, e um modo de esquivar-se em vez de retaliar \n",
       "quando um dardo de ira é lançado em sua dire ção. \"Suportai-vos uns aos outros, perdoai-vos \n",
       "mutuamente, caso alguém tenha motivo de quei xa contra outrem\", ele lembra. \"Assim como o \n",
       "Senhor vos perdoou, assim também perdoai vós; ac ima de tudo isto, porém, esteja o amor, que \n",
       "é o vínculo da perfeição\" (Cl 3:13-15). O seu exem plo é o de Jesus, que ao morrer, humilhado e \n",
       "injustamente vilipendiado, clamou em favor de se us assassinos: \"Pai, pe rdoa-lhes, porque não \n",
       "sabem o que fazem\" (Lc 23:34). \n",
       "O Grande Livro dos Alcoólicos Anônimos ofer ece um adorável fragmento de sabedoria \n",
       "caseira para aquelas ocasiões em que somos confrontados com a injustiça de outros que \n",
       "tentaram deliberadamente (e talvez tenham conseguido) nos prejudicar: \n",
       "Essa foi a nossa postura. Percebemos qu e as pessoas que nos prejudicaram estavam \n",
       "talvez espiritualmente doentes. Embora não gostássemos dos sintomas e do modo \n",
       "como eles nos afetavam, elas, como nós, estavam também doentes. Pedimos a Deus \n",
       "que nos ajudasse a mostrar a elas a mesm a tolerância, compaixão e paciência que \n",
       "mostraríamos com toda a disposição a um amigo doente. Quando uma pessoa ofendia, \n",
       "dizíamos a nós mesmos: \"Eis uma pessoa doente. De que forma posso ajudá-la? Deus, salva-me de perder a paciência. Seja feita a tua vontade\".\n",
       "104 \n",
       " Quando você já fez da sua vida algo tão ruim  que tomou-se irreconhecível, como já fizeram \n",
       "muitos de nós alcoólicos em recuperação, a compaixão prova-se um pouquinho mais fácil se \n",
       "você mostrar-se escrupuloso o bastante para le var em conta o seu próprio inventário em vez do \n",
       "da outra pessoa. \n",
       "Com um Deus cujo nome e Misericórdia, não é de admirar que a gratidão ultrapasse \n",
       "qualquer outra atitude ao longo de nossa jornada espiritual. Não passamos pela vida alheios ao \n",
       "preço pago pela nossa libertação. Uma reflexão ponderada traz à memória numerosos resgates e"
      ],
      "text/plain": [
       "<IPython.core.display.Markdown object>"
      ]
     },
     "metadata": {},
     "output_type": "display_data"
    },
    {
     "data": {
      "text/markdown": [
       "**Fonte:** {'source': './books/import/Evangelho Maltrapilho - Brennan Manning.pdf', 'page': 64}"
      ],
      "text/plain": [
       "<IPython.core.display.Markdown object>"
      ]
     },
     "metadata": {},
     "output_type": "display_data"
    },
    {
     "data": {
      "text/markdown": [
       "**Trecho:** ~ 65 ~ gostaria? O seguinte cenário provoca minha im aginação: Uma mulher humilde me procura por \n",
       "causa da minha exaltada reputação como guia espiritual. Ela é simples e direta: \n",
       "— Por favor, ensine-me a orar. \n",
       "— Fale-me sobre sua vida de oração — pergun to, sucintamente. Ela baixa os olhos e diz \n",
       "contritamente: — Não há muito que dizer. Eu oro antes da s refeições. Arrogantemente, eu replico: \n",
       "— Ora antes das refeições? Mas isso não é dema is, minha senhora? Eu  oro quando acordo \n",
       "e antes de me recolher, e oro novamente antes de le r o jornal e de ligar a televisão. Oro antes de \n",
       "caminhar e de meditar, antes do teatro e da ópera, antes de corre r, antes de nadar, de andar de \n",
       "bicicleta, de jantar, de palestrar e de  escrever. Oro até mesmo antes de orar. \n",
       "Naquela noite, transbordando de auto-aprovação, vou à presença do Senhor. E ele sussurra: \n",
       "— Seu joão-ninguém ingrato. Até o desejo de orar é dom meu. Há uma antiga lenda cristã que conta: \"Qua ndo o Filho de Deus foi pregado à cruz e \n",
       "entregou o espírito, foi diretamente da cruz ao  inferno para libertar todos os pecadores que \n",
       "estavam sendo atormentados ali. O Diabo entã o chorou e lamentou porque achava que não \n",
       "conseguiria mais pecadores para o inferno. Deus  então disse a ele: 'Não chore, porque vou \n",
       "mandar até você toda aquela gente santa que se  tornou complacente com a consciência da sua \n",
       "bondade e cheia de justiça própria na sua condenaç ão dos pecadores. E o inferno ficará repleto \n",
       "mais uma vez por gerações, at é que eu venha novamente\".\n",
       "66 \n",
       "Quanto tempo será necessário até que descubramos que não somos capazes de ofuscar a \n",
       "Deus com nossas realizações? \n",
       "Quando reconheceremos que não precisamos e não temos como comprar o favor de Deus? \n",
       "Quando reconheceremos que não temos de for ma alguma os requisitos necessários e \n",
       "aceitaremos alegremente o dom da graça? Quan do iremos apreender a empolgante verdade de \n",
       "Paulo: \"sabendo, contudo, que o homem não é just ificado por obras da lei, e sim mediante a fé \n",
       "em Cristo Jesus\" (Gl 2:16)? \n",
       "A fé autêntica nos leva a tratar os outros co m seriedade incondicional e a uma reverência \n",
       "amorosa pelo mistério da personalidade humana . O cristianismo autêntico deveria conduzir à \n",
       "maturidade, à personalidade e à realidade. De veria moldar homens e mulheres que vivam \n",
       "integralmente vidas de amor e de comunhão. \n",
       "A religião falsa e manipulada produz o efeito oposto. Quando a religião demonstra desdém"
      ],
      "text/plain": [
       "<IPython.core.display.Markdown object>"
      ]
     },
     "metadata": {},
     "output_type": "display_data"
    },
    {
     "data": {
      "text/markdown": [
       "**Fonte:** {'source': './books/import/Evangelho Maltrapilho - Brennan Manning.pdf', 'page': 85}"
      ],
      "text/plain": [
       "<IPython.core.display.Markdown object>"
      ]
     },
     "metadata": {},
     "output_type": "display_data"
    },
    {
     "data": {
      "text/markdown": [
       "**Trecho:** Em algum ponto da nossa vida, fomos fund amentalmente tocados por um encontro \n",
       "profundo com Jesus Cristo. Foi uma experiên cia de apogeu, um momento de imensa \n",
       "consolação. Fomos tomados de paz, alegria, confiança, amor. Dito simplesmente, fomos \n",
       "arrebatados. Nossa mente e coração ress oavam com maravilha e assombro. Ficamos \n",
       "profundamente comovidos por algumas horas, dias ou semanas, e eventualmente retornamos às ocupações rotineiras da existência diária. Não permanecemos resolvidos. \n",
       "Devagar ficamos emaranhados nas exigências do ministério ou da carreira e nas distrações \n",
       "que nosso agitado mundo oferece. Começamos a tratar Jesus como um velho amigo do \n",
       "Brooklyn que amamos intensamente em anos  passados mas com o qual gradualmente \n",
       "perdemos contato. Isso, é cla ro, não foi intencional. Simp lesmente permitimos que as \n",
       "circunstâncias nos separassem. Numa recente visita àquela cidade nunca passou pela nossa cabeça contatá-lo. Ficamos ocupados com alguma  outra coisa, mesmo que tenha se mostrado \n",
       "muito menos estimulante e cativante. É possíve l que nunca tenhamos amado tanto outra pessoa \n",
       "quanto amamos esse amigo, mas até me smo a lembrança tornou-se indistinta. \n",
       "Acentuado pelo agnosticismo da negligência — a falta de disciplina pessoal com relação ao \n",
       "bombardeio da mídia, o controle da mente, as conversas estéreis, a oração pessoal e a sujeição \n",
       "dos sentidos —, a presença de Jesus torna-se cada vez mais remota. Da mesma forma que a falta \n",
       "de dedicação e atenção dissolve a confiança e a comunhão nos relacionamentos humanos, a \n",
       "negligência do Espírito desfaz o tecido do relacionamento divi no. À medida que, olhando para \n",
       "                                                             \n",
       " \n",
       "88 VICTOR RANGEL‐RIBEIRO.  Readers Digest, AUGUST 1989, P. 76."
      ],
      "text/plain": [
       "<IPython.core.display.Markdown object>"
      ]
     },
     "metadata": {},
     "output_type": "display_data"
    },
    {
     "data": {
      "text/markdown": [
       "**Fonte:** {'source': './books/import/Conselhos para obreiros - Charles H Spurgeon.pdf', 'page': 55}"
      ],
      "text/plain": [
       "<IPython.core.display.Markdown object>"
      ]
     },
     "metadata": {},
     "output_type": "display_data"
    },
    {
     "data": {
      "text/markdown": [
       "**Trecho:** 12\n",
       "Na escola dominical\n",
       "rabalho na escola dominical é beneficência. E como poderia ser de outra forma, se é um\n",
       "ato de obediência? Creio que você começou a fazer esse trabalho porque chama Jesus\n",
       "de seu Mestre e Senhor e deseja cumprir o grande mandamento: “Ide por todo o mundo,\n",
       "e pregai o evangelho a toda criatura” (Mc 16.15). Você vê as crianças como criaturas, criaturas\n",
       "decaídas, mas ainda coisinhas adoráveis, cheias de vigor, vida e alegria. Você as vê como parte\n",
       "da humanidade e conclui, imediatamente, que a ordem de seu Mestre se aplica a elas. Você não é\n",
       "como os discípulos que queriam afastá-las, pois aprendeu com o erro deles e se lembra das\n",
       "palavras do Mestre: “Deixai vir a mim as crianças e não as impeçais” (Mt 19.14). Você sabe,\n",
       "também, que ele conferiu força à boca de bebês e crianças de peito, por causa do inimigo; de\n",
       "modo que tem certeza de que ele incluiu os pequeninos na Grande Comissão, quando disse:\n",
       "“Pregai o evangelho a toda criatura” (Mc 16.15).T\n",
       "Você está duplamente convicto de estar obedecendo à vontade dele, porque há certos preceitos\n",
       "especiais que se relacionam com os pequenos, como “cuida dos meus cordeiros” (Jo 21.15) e\n",
       "“Instrui a criança no caminho em que deve andar, e mesmo quando envelhecer não se desviará\n",
       "dele” (Pv 22.6). Você sabe que é nosso dever manter vivo o testemunho no mundo, portanto está\n",
       "ansioso por ensinar a Palavra a seus filhos para que eles possam ensiná-la aos filhos deles, e\n",
       "assim, de geração em geração, a Palavra do Senhor possa ser conhecida. Seja a tarefa agradável a\n",
       "você, seja cansativa, não deve hesitar, mas, sim, obedecer. O amor que o redimiu também o\n",
       "constrange. Você sente o toque da mão sagrada em seu ombro, a mão que foi transpassada, e\n",
       "ouve seu Redentor dizer: “Assim como o Pai me enviou, também eu vos envio” (Jo 20.21), e, por\n",
       "causa desse envio, você vai aos pequeninos em obediência à vontade do Senhor. Quem obedece\n",
       "está agindo bem, e, nesse sentido, o seu serviço entre os pequeninos é beneficência.\n",
       "É beneficência, também, porque  traz glória a Deus . Devemos sempre continuar a receber de\n",
       "Deus, que é a grande fonte de bondade e bênção, mas ainda assim, em infinita condescendência,\n",
       "ele nos permite dar-lhe algum retorno. Assim como a gota de orvalho reflete o raio com que o\n",
       "grande Sol a adorna, possamos nós também, dentro de nossa limitação, fazer a luz do nosso\n",
       "grande Pai brilhar diante dos olhos dos homens. Nossa vida pode ser como os rios que correm"
      ],
      "text/plain": [
       "<IPython.core.display.Markdown object>"
      ]
     },
     "metadata": {},
     "output_type": "display_data"
    },
    {
     "data": {
      "text/markdown": [
       "**Fonte:** {'source': './books/import/Evangelho Maltrapilho - Brennan Manning.pdf', 'page': 52}"
      ],
      "text/plain": [
       "<IPython.core.display.Markdown object>"
      ]
     },
     "metadata": {},
     "output_type": "display_data"
    },
    {
     "data": {
      "text/markdown": [
       "**Trecho:** ~ 53 ~ pois, porque não sabeis quando virá o dono da casa : se à tarde, se à meia-noite, se ao cantar do \n",
       "galo, se pela manhã; para que, vindo ele in esperadamente, não vos ache dormindo. O que, \n",
       "porém, vos digo, digo a todos: vigiai!\" \n",
       "Na parábola do banquete de casamento, o co nvidado que não está trajando roupa de festa \n",
       "é arrastado à força pelos leões-de-chácara e arre messado porta afora. \"A roupa de festa é o \n",
       "arrependimento. Revistam-se com ele hoje, ante s da sua morte, no di a antes que o dilúvio \n",
       "comece. Vistam-no hoje! A exigência da crise é a conversão.\"52 \n",
       "Roma está em chamas, diz Je sus. Largue a vadiagem, mude  de vida e venha até mim. \n",
       "Quando um tornado vem devastando rua acima não é hora de parar para ch eirar as flores. Abra \n",
       "mão dos velhos tempos que nunca existiram — uma igreja organizada que você nunca \n",
       "freqüentou, virtudes tradicionais que você nunc a praticou, obediência legalista que você nunca \n",
       "observou e a ortodoxia estéril que você nunca aceitou. A velha era já passou. A decisiva \n",
       "intervenção de Deus já aconteceu. \n",
       "A pessoa que percebe a gravidade da situação  sabe que a decisão não permite qualquer \n",
       "adiamento. O Contador de Hist órias nos chama não ao medo, mas à ação. Não se apegue a \n",
       "bijuterias baratas quando a pérola de grande  valor está sendo oferecida. Quando a própria \n",
       "existência de uma pessoa está sendo ameaçada, quando ele ou ela estão no limiar da ruína \n",
       "m o r a l ,  q u a n d o  e s t á  t u d o  e m  j o g o ,  a  h o r a  c h egou para um momento de decisão ousado e \n",
       "resoluto. \n",
       "Na parábola dos talentos, os três servos sã o chamados para prestar contas do modo que \n",
       "usaram os dons confiados a eles. Os dois primeir os utilizaram seus talentos de modo ousado e \n",
       "empreendedor. O terceiro, que prudentemente em bala seu dinheiro e o enterra, tipifica o \n",
       "cristão que deposita sua fé num re cipiente hermeticamente fechado e sela a tampa. Ele ou ela \n",
       "manqueja pela vida com base nas lembranças da Escola Dominical e recusa teimosamente o \n",
       "desafio do crescimento e da ma turidade espiritual. Não dispos ta a correr riscos, essa pessoa \n",
       "perde o talento confiado a ela. \"O senhor queria  que seus servos assumissem riscos. Ele queria \n",
       "que eles apostassem com o seu dinheiro\".53 \n",
       "Numa parábola manifestamente po lêmica para sua audiência juda ica, Jesus conta a história \n",
       "de um administrador ardiloso. Somos apresentad os a um defraudador qu e, para cobrir suas"
      ],
      "text/plain": [
       "<IPython.core.display.Markdown object>"
      ]
     },
     "metadata": {},
     "output_type": "display_data"
    }
   ],
   "source": [
    "sources = retriever.invoke(question)\n",
    "for source in sources:\n",
    "    display(Markdown(f\"**Fonte:** {source.metadata}\"))\n",
    "    display(Markdown(f\"**Trecho:** {source.page_content}\"))"
   ]
  }
 ],
 "metadata": {
  "kernelspec": {
   "display_name": "ollama",
   "language": "python",
   "name": "python3"
  },
  "language_info": {
   "codemirror_mode": {
    "name": "ipython",
    "version": 3
   },
   "file_extension": ".py",
   "mimetype": "text/x-python",
   "name": "python",
   "nbconvert_exporter": "python",
   "pygments_lexer": "ipython3",
   "version": "3.10.14"
  }
 },
 "nbformat": 4,
 "nbformat_minor": 2
}

{
 "cells": [
  {
   "cell_type": "markdown",
   "metadata": {},
   "source": [
    "# Personal Search 02\n",
    "\n",
    "Busca de informações em livros usando FAISS"
   ]
  },
  {
   "cell_type": "markdown",
   "metadata": {},
   "source": [
    "## Import packages"
   ]
  },
  {
   "cell_type": "code",
   "execution_count": 1,
   "metadata": {},
   "outputs": [],
   "source": [
    "from langchain_community.llms import Ollama\n",
    "from langchain_community.embeddings import OllamaEmbeddings\n",
    "from langchain_community.vectorstores import FAISS\n",
    "from langchain_core.prompts import ChatPromptTemplate\n",
    "from langchain_core.output_parsers import StrOutputParser\n",
    "from operator import itemgetter\n",
    "from langchain_community.llms import Ollama\n",
    "from IPython.display import display, Markdown\n",
    "import logging\n",
    "\n",
    "#logging.basicConfig(level=logging.INFO)"
   ]
  },
  {
   "cell_type": "markdown",
   "metadata": {},
   "source": [
    "## Configuration"
   ]
  },
  {
   "cell_type": "code",
   "execution_count": 2,
   "metadata": {},
   "outputs": [],
   "source": [
    "model = \"mistral:7b\"\n",
    "embeddings_model = \"nomic-embed-text:v1.5\"\n",
    "path_books = \"./vector-store/books\"\n",
    "question = \"Conhecimento de Deus\""
   ]
  },
  {
   "cell_type": "markdown",
   "metadata": {},
   "source": [
    "## Retriever Instance"
   ]
  },
  {
   "cell_type": "code",
   "execution_count": 19,
   "metadata": {},
   "outputs": [
    {
     "ename": "TypeError",
     "evalue": "FAISS.similarity_search_with_score() missing 1 required positional argument: 'query'",
     "output_type": "error",
     "traceback": [
      "\u001b[0;31m---------------------------------------------------------------------------\u001b[0m",
      "\u001b[0;31mTypeError\u001b[0m                                 Traceback (most recent call last)",
      "Cell \u001b[0;32mIn[19], line 5\u001b[0m\n\u001b[1;32m      1\u001b[0m embeddings \u001b[38;5;241m=\u001b[39m OllamaEmbeddings(model\u001b[38;5;241m=\u001b[39membeddings_model)\n\u001b[1;32m      3\u001b[0m db \u001b[38;5;241m=\u001b[39m FAISS\u001b[38;5;241m.\u001b[39mload_local(path_books, embeddings, allow_dangerous_deserialization\u001b[38;5;241m=\u001b[39m\u001b[38;5;28;01mTrue\u001b[39;00m)\n\u001b[0;32m----> 5\u001b[0m retriever \u001b[38;5;241m=\u001b[39m \u001b[43mdb\u001b[49m\u001b[38;5;241;43m.\u001b[39;49m\u001b[43msimilarity_search_with_score\u001b[49m\u001b[43m(\u001b[49m\u001b[43m)\u001b[49m\n\u001b[1;32m      6\u001b[0m retriever\u001b[38;5;241m.\u001b[39msearch_kwargs[\u001b[38;5;124m\"\u001b[39m\u001b[38;5;124mdistance_metric\u001b[39m\u001b[38;5;124m\"\u001b[39m] \u001b[38;5;241m=\u001b[39m \u001b[38;5;124m\"\u001b[39m\u001b[38;5;124mcos\u001b[39m\u001b[38;5;124m\"\u001b[39m\n\u001b[1;32m      7\u001b[0m retriever\u001b[38;5;241m.\u001b[39msearch_kwargs[\u001b[38;5;124m\"\u001b[39m\u001b[38;5;124mfetch_k\u001b[39m\u001b[38;5;124m\"\u001b[39m] \u001b[38;5;241m=\u001b[39m \u001b[38;5;241m100\u001b[39m\n",
      "\u001b[0;31mTypeError\u001b[0m: FAISS.similarity_search_with_score() missing 1 required positional argument: 'query'"
     ]
    }
   ],
   "source": [
    "embeddings = OllamaEmbeddings(model=embeddings_model)\n",
    "\n",
    "db = FAISS.load_local(path_books, embeddings, allow_dangerous_deserialization=True)\n",
    "\n",
    "retriever = db.as_retriever()\n",
    "retriever.search_kwargs[\"distance_metric\"] = \"cos\"\n",
    "retriever.search_kwargs[\"fetch_k\"] = 100\n",
    "retriever.search_kwargs[\"maximal_marginal_relevance\"] = False\n",
    "retriever.search_kwargs[\"k\"] = 5"
   ]
  },
  {
   "cell_type": "markdown",
   "metadata": {},
   "source": [
    "## Search"
   ]
  },
  {
   "cell_type": "code",
   "execution_count": 13,
   "metadata": {},
   "outputs": [],
   "source": [
    "# RAG\n",
    "template = \"\"\"\n",
    "Traga citações diretas do contexto com relação ao assunto \"{question}\". \n",
    "\n",
    "Contexto:\n",
    "{context} \n",
    "\n",
    "Resposta:\n",
    "\n",
    "Citação do contexto:\n",
    "\"\"\"\n",
    "\n",
    "prompt = ChatPromptTemplate.from_template(template)\n",
    "\n",
    "llm = Ollama(model=model, temperature=0)\n",
    "\n",
    "final_rag_chain = (\n",
    "    {\"context\": retriever, \n",
    "     \"question\": itemgetter(\"question\")} \n",
    "    | prompt\n",
    "    | llm\n",
    "    | StrOutputParser()\n",
    ")\n",
    "\n",
    "final_answer = final_rag_chain.invoke({\"question\":question})"
   ]
  },
  {
   "cell_type": "code",
   "execution_count": 14,
   "metadata": {},
   "outputs": [
    {
     "data": {
      "text/markdown": [
       "**Busca:** Conhecimento de Deus\n",
       "\n"
      ],
      "text/plain": [
       "<IPython.core.display.Markdown object>"
      ]
     },
     "metadata": {},
     "output_type": "display_data"
    },
    {
     "data": {
      "text/markdown": [
       " \"A pessoa que é pobre no espírito percebe que não ama os outros tanto quanto desejaria no seu coração. Na manhã seguinte, havia sobre a mesa do café uma nota endereçada a mim. 'Caro Brennan, estive presente nas tus conferências de avivamento durante toda essa semana. Você é um homem pobre no espírito e eu quero te ajudar.' \"\n",
       "\n",
       "A pessoa que se identifica como pobre no espírito reconhece que não ama os outros tão profundamente quanto deseja em seu coração. Na manhã seguinte, havia uma nota na mesa do café endereçada a mim. \"Caro Brennan, estive presente nas tus conferências de avivamento durante toda essa semana. Você é um homem pobre no espírito e eu quero te ajudar.\"\n",
       "\n",
       "Essa pessoa reconhece sua falta de amor completo para com os outros, sendo consciente de que não apresenta plenamente as exigências necessárias. Embora ela não apresente desculpa por seu pecado, está humildemente consciente de que o pecado é justamente o que a levou a se abrir à mercê do Pai. Ela não finge ser mais do que ela é: um pecador salvo pela graça.\n",
       "\n",
       "A pessoa pobre no espírito percebe sua falta de amor profundo para com os outros e deseja melhorar isso. Quando recebeu uma nota endereçada a ele, ele estava presente em suas conferências de avivamento durante toda essa semana. Ele é um homem pobre no espírito e ela quer lhe ajudar."
      ],
      "text/plain": [
       "<IPython.core.display.Markdown object>"
      ]
     },
     "metadata": {},
     "output_type": "display_data"
    }
   ],
   "source": [
    "display(Markdown(f\"**Busca:** {question}\\n\\n\"))\n",
    "display(Markdown(final_answer))"
   ]
  },
  {
   "cell_type": "code",
   "execution_count": 32,
   "metadata": {},
   "outputs": [
    {
     "data": {
      "text/markdown": [
       "**Fonte:** {'source': './books/import/O Peregrino - John Bunyan.pdf', 'page': 55}"
      ],
      "text/plain": [
       "<IPython.core.display.Markdown object>"
      ]
     },
     "metadata": {},
     "output_type": "display_data"
    },
    {
     "data": {
      "text/markdown": [
       "**Trecho:** 9\n",
       "Cristão luta com Apoliom no Vale da Humilhação\n",
       "Assim paramentado, caminhou com as amigas até o portão, e ali perguntou ao\n",
       "porteiro se ele vira algum peregrino passar por ali.\n",
       "— Vi sim — respondeu ele.\n",
       "C\n",
       "RISTÃO\n",
       " — E o conheceu?\n",
       "P\n",
       "ORTEIRO\n",
       " — Perguntei seu nome, e ele me disse que se chamava Fiel.\n",
       "C\n",
       "RISTÃO\n",
       " — Ah, eu o conheço. É da minha cidade. Vizinho meu. Vem do\n",
       "lugar onde nasci. Quanto você acha que ele já andou?\n",
       "P\n",
       "ORTEIRO\n",
       " — A essa altura já deve ter descido o morro.\n",
       "C\n",
       "RISTÃO\n",
       " — Que o Senhor esteja com você, então, bom porteiro, e muito\n",
       "acrescente a todas as suas bênçãos, pela bondade que teve para comigo.\n",
       "E seguiu caminho. Discrição, Piedade, Caridade e Prudência o\n",
       "acompanharam até o sopé do morro. Foram caminhando juntos, repisando as\n",
       "conversas que tiveram, até o início da descida. E Cristão falou:\n",
       "— Assim como foi difícil subir, também (até onde sei) é perigoso descer.\n",
       "— É verdade — tornou Prudência —, pois para o homem é penoso descer até\n",
       "o Vale da Humilhação, lá embaixo, sem escorregar pelo caminho. Portanto —\n",
       "disseram elas — vamos acompanhá-lo até lá.\n",
       "Então ele começou a descer, mas com muito cuidado, e ainda assim sofreu\n",
       "um ou dois escorregões.\n",
       "E vi em meu sonho que as amáveis companheiras (quando Cristão já descera\n",
       "até o sopé do morro) lhe deram um pedaço de pão, uma garrafa de vinho e um\n",
       "cacho de passas. E assim ele seguiu caminho.\n",
       "No Vale da Humilhação, porém, o caminho se tornou difícil para Cristão.\n",
       "Pouco andara ainda quando divisou um demônio asqueroso vindo pelo campo em\n",
       "sua direção. Seu nome era Apoliom (Ap 9:11). Cristão teve medo, sem saber se\n",
       "voltava ou continuava. Lembrou, então, que não possuía armadura nas costas, e\n",
       "se deu conta de que virar-lhe as costas talvez desse ao demônio a vantagem de\n",
       "feri-lo facilmente com seus dardos. Sendo assim, Cristão resolveu arriscar-se e\n",
       "continuou, pois, refletiu ele, mesmo que só pensasse em salvar a própria pele, o\n",
       "melhor a fazer seria enfrentá-lo.\n",
       "Portanto avançou, e Apoliom veio ter com ele. Ora, o monstro tinha\n",
       "aparência apavorante. Era todo coberto de escamas como um peixe (e essas\n",
       "escamas são seu orgulho), tinha asas de dragão, patas de urso, do ventre lhe\n",
       "saíam fogo e fumaça, e a boca era como a de um leão. Alcançando Cristão,\n",
       "encarou-o com olhar desdenhoso, e imediatamente passou a interrogá-lo:\n",
       "A\n",
       "POLIOM\n",
       " — De onde você vem, e para onde vai?"
      ],
      "text/plain": [
       "<IPython.core.display.Markdown object>"
      ]
     },
     "metadata": {},
     "output_type": "display_data"
    },
    {
     "data": {
      "text/markdown": [
       "**Fonte:** {'source': './books/import/Conselhos para obreiros - Charles H Spurgeon.pdf', 'page': 33}"
      ],
      "text/plain": [
       "<IPython.core.display.Markdown object>"
      ]
     },
     "metadata": {},
     "output_type": "display_data"
    },
    {
     "data": {
      "text/markdown": [
       "**Trecho:** tecido, e eu pegarei a outra. Vamos esticar o tecido ao máximo para que ele fique com a mesma\n",
       "metragem dos outros”. Mas Adam não se mexeu e não deu ouvidos à ordem desonesta de seu\n",
       "patrão. O patrão, então, lhe disse: “Você nunca será um bom negociante; não serve para nada\n",
       "aqui. Vá embora e arranje outra coisa para fazer”.\n",
       "Talvez os homens não enganem de uma forma tão aberta hoje em dia, mas, cada vez mais,\n",
       "utilizam  subterfúgios  maldosos para realizar  seus projetos. Os registros de falência  em um\n",
       "tribunal falarão por si mesmos. Falências forjadas acontecem todos os dias. Não são os roubos à\n",
       "moda antiga, que levavam o ladrão ao exílio e à prisão, mas algo pior do que os furtos e roubos à\n",
       "beira das rodovias.\n",
       "O cristão genuíno enfrentará situações em que terá de ser firme e dizer: “Não! Não posso fazer\n",
       "tal coisa e não sujarei minhas mãos nisso!”. Terá de dizer isso ao seu patrão, ao seu pai e ao\n",
       "amigo a quem respeita e deseja ganhar, e que talvez o tenha ajudado muito na vida. Mas, se esse\n",
       "for o seu dever, meu querido irmão ou irmã, faça o que é certo, mesmo que o céu despenque\n",
       "sobre sua cabeça. Aja dessa maneira mesmo que se veja diante da pobreza. Aja dessa maneira\n",
       "mesmo que lhe virem as costas amanhã. No final, você nunca será um perdedor na caminhada\n",
       "com Deus. E, se tiver de sofrer por causa da justiça, abençoado seja!\n",
       "Considere-se feliz por ter o privilégio de fazer algum sacrifício por causa da consciência, pois\n",
       "nestes dias não temos tido o poder de honrar a Deus como fizeram aqueles que, por amor a ele,\n",
       "foram aprisionados, torturados e queimados. Não deixemos passar nenhuma oportunidade de\n",
       "mostrar todo o nosso amor pelo Senhor e provar que desejamos servi-lo fielmente. Sejamos\n",
       "corajosos para fazer tudo o que o Senhor Jesus nos dá para fazer e deixemos que os homens nos\n",
       "julguem idiotas — seremos campeões do Senhor, verdadeiros Cavaleiros da Cruz.\n",
       "O mundo diz: “Não há necessidade de que você seja uma pessoa muito meticulosa”. Que mundo\n",
       "hipócrita! O mundo sente prazer em não seguir as leis de Deus, mas raramente ousa dizer tal\n",
       "coisa claramente e se ilude, lançando mão da hipocrisia e dizendo: “Não devermos ser tão\n",
       "minuciosos, nem bondosos demais”. É como alguém certa vez disse a um puritano:\n",
       "— Muitas pessoas já venderam metade de sua consciência. Será que você não poderia fazer uma\n",
       "pequena concessão?\n",
       "— Não — disse ele. — Não posso, pois minha consciência pertence a Deus."
      ],
      "text/plain": [
       "<IPython.core.display.Markdown object>"
      ]
     },
     "metadata": {},
     "output_type": "display_data"
    },
    {
     "data": {
      "text/markdown": [
       "**Fonte:** {'source': './books/import/Evangelho Maltrapilho - Brennan Manning.pdf', 'page': 50}"
      ],
      "text/plain": [
       "<IPython.core.display.Markdown object>"
      ]
     },
     "metadata": {},
     "output_type": "display_data"
    },
    {
     "data": {
      "text/markdown": [
       "**Trecho:** ~ 51 ~ CAPÍTULO SEIS \n",
       "GRAZIE SIGNORE  \n",
       "Em seu livro Mortal lessons, o médico Richard Selzer escreve: \n",
       " \n",
       "Estou em pé junto ao leito onde jaz uma jovem, seu rosto em pós-operatório; sua \n",
       "boca, retorcida com paralisia, tem um quê de palhaço. Um minúsculo ramo do seu nervo facial, aquele que controla os múscul os da boca, foi removido. Ela ficará assim \n",
       "daqui em diante. O cirurgião havia seguid o com religioso fervor a curvatura da sua \n",
       "carne, isso eu podia garantir. No entanto, para remover o tumor de  sua bochecha, tive \n",
       "de cortar aquele nervinho. \n",
       "O jovem esposo dela está no quarto. Ele está em pé no lado oposto da cama e \n",
       "juntos eles parecem habitar a luz vespertina  da lâmpada, isolados de mim, num mundo \n",
       "particular. Quem são eles, pergunto a mim mesmo, ele e esta distorcida boca que fiz, \n",
       "que olham-se um ao outro tão generosa mente, com tanta avidez? A jovem fala: \n",
       "— Minha boca vai ficar assim para sempre? — Sim — digo. — Vai ficar assim, porque o nervo foi cortado. Ela assente e silencia. \n",
       "Mas o jovem sorri. \n",
       "— Eu gosto — ele diz. — Acho uma gracinha. \n",
       "De repente sei\n",
       " quem ele é. Compreendo e baixo os  olhos. Não devemos ser ousados \n",
       "na presença de um deus. Sem nenhum constran gimento, ele inclina-se para beijar a boca \n",
       "torta, e estou tão perto que consigo ver co mo ele entorta seus próprios lábios para \n",
       "ajustá-los ao dela, para  mostrar-lhe que o beijo deles ainda funciona\".49 \n",
       " \n",
       "Desde que li essa passagem, te m me assombrado a imagem do marido entortando a boca e \n",
       "retorcendo os lábios para um beijo íntimo com a esposa paralisada. Porém algo me escapou até \n",
       "que um dia, em oração, veio-me à memória de  forma renovada a violência ocorrida numa \n",
       "colina do lado de fora das muralhas da velh a Jerusalém. O corpo mutilado do Filho está \n",
       "suspenso, exposto ao escárnio do mundo. Ele é um blasfemador de Deus e um sediciador do \n",
       "povo. Que morra em desgraça. Seus amigos estã o dispersos, sua honra estilhaçada, seu nome \n",
       "motivo de zombaria. Ele foi abandonado por se u Deus. Deixado absolutamente só. Arrastem-no \n",
       "para fora da cidade santa e pelos meandros aos quais pertence gente como ele. O Cristo maltrapilho é tratado grosseiramente, empurrado de  um lado para o outro,  açoitado e cuspido, \n",
       "assassinado e enterrado em meio aos da sua própria laia. \n",
       "A fim de dramatizar a sua morte, alguns pintor es cristãos concederam ao Cristo crucificado \n",
       "um olhar dirigido para o alto e uma boca cont orcida; usaram pigmento vermelho para fazerem"
      ],
      "text/plain": [
       "<IPython.core.display.Markdown object>"
      ]
     },
     "metadata": {},
     "output_type": "display_data"
    },
    {
     "data": {
      "text/markdown": [
       "**Fonte:** {'source': './books/import/O Peregrino - John Bunyan.pdf', 'page': 132}"
      ],
      "text/plain": [
       "<IPython.core.display.Markdown object>"
      ]
     },
     "metadata": {},
     "output_type": "display_data"
    },
    {
     "data": {
      "text/markdown": [
       "**Trecho:** salvação. Isso quer dizer que, ao desaparecerem a culpa e o medo, morre\n",
       "também o desejo pelo céu e pela felicidade, voltando eles aos seus caminhos\n",
       "tortuosos.\n",
       "— Em segundo lugar — continuou Esperançoso —, eles são dominados por\n",
       "medos tirânicos. Falo agora dos medos que têm dos homens: “Quem teme o\n",
       "homem cai em armadilhas” (Pv 29:25). Assim, embora pareçam arder de\n",
       "desejo pelo céu enquanto as labaredas do Inferno lambem as suas orelhas,\n",
       "quando o terror amaina, eles logo mudam de opinião: ou seja, pensam que o\n",
       "melhor é ser esperto, não correr o risco (sabe-se lá pelo quê) de perder tudo, ou,\n",
       "pelo menos, de trazer para si aflições inevitáveis e desnecessárias. E assim\n",
       "novamente se entregam ao mundo.\n",
       "— Em terceiro lugar — acrescentou —, a vergonha que acompanha a\n",
       "religião também funciona como obstáculo no caminho deles, pois são orgulhosos\n",
       "e soberbos, e a religião aos seus olhos é vil e desprezível. Portanto, depois de\n",
       "perder o medo do Inferno e da ira vindoura, voltam a suas antigas práticas.\n",
       "— Em quarto lugar — concluiu — a culpa e a ponderação do terror os\n",
       "afligem. Não gostam de olhar a própria miséria antes que ela os alcance.\n",
       "Embora, talvez, a primeira visão dessa miséria pudesse fazê-los buscar refúgio\n",
       "no lugar para onde fogem os justos à procura de segurança; mas isso só se\n",
       "tiverem amor por essa visão. Contudo, como já sugeri antes, eles na verdade\n",
       "evitam a ideia de culpa e terror, e, quando se veem livres do despertar para o\n",
       "terror e a ira de Deus, é com alegria que endurecem o coração, preferindo os\n",
       "caminhos que cada vez mais o endureçam.\n",
       "C\n",
       "RISTÃO\n",
       " — Você está quase no âmago da questão, pois a razão de tudo é a\n",
       "falta de transformação nos pensamentos e na vontade. Portanto eles se\n",
       "assemelham ao criminoso diante do juiz: treme, agita-se e parece se arrepender\n",
       "muito sinceramente, mas a razão de tudo é o medo da forca, e não a aversão ao\n",
       "crime. Isso se torna evidente, pois basta dar ao homem a liberdade que ele logo\n",
       "volta a roubar, perseverando no crime. Porém, se sua mente se transforma, ele\n",
       "passa a agir de outro modo.\n",
       "E\n",
       "SPERANÇOSO\n",
       " — Acabei de lhe mostrar as razões do retrocesso. Agora\n",
       "peço que me mostre como isso acontece.\n",
       "C\n",
       "RISTÃO\n",
       " — Com o maior prazer. Primeiro, eles afastam os seus\n",
       "pensamentos, o mais que podem, da lembrança de Deus, da morte e do juízo\n",
       "vindouro. Depois, se desvencilham pouco a pouco dos deveres privados, como a\n",
       "oração individual, o refreio das paixões, a vigília e o arrependimento do pecado,"
      ],
      "text/plain": [
       "<IPython.core.display.Markdown object>"
      ]
     },
     "metadata": {},
     "output_type": "display_data"
    },
    {
     "data": {
      "text/markdown": [
       "**Fonte:** {'source': './books/import/Evangelho Maltrapilho - Brennan Manning.pdf', 'page': 73}"
      ],
      "text/plain": [
       "<IPython.core.display.Markdown object>"
      ]
     },
     "metadata": {},
     "output_type": "display_data"
    },
    {
     "data": {
      "text/markdown": [
       "**Trecho:** ~ 74 ~ porque alguém havia deixado de acreditar nelas. Sua extraordinária sensibilidade levava Jesus a \n",
       "falar dos fiéis como crianças, por mais altos, ricos, inteligentes e bem-sucedidos que fossem. \n",
       "\"Certo de sua salvação pela graça única de nosso Senhor Jesus Cristo\"... é o pulsar do \n",
       "coração do evangelho, uma jubilosa libertação do medo do Resultado Final, uma convocação à auto-aceitação, e liberdade para uma vi da de compaixão para com os outros. \n",
       "É óbvio que não estamos tratando aqui de uma questão evangélica  trivial. O amor \n",
       "compassivo é o eixo da revolução moral cristã e o único sinal jamais dado por Jesus pelo qual \n",
       "um discípulo seria reconhecido: \"Um novo mandamento vos dou: Que vos ameis uns aos outros; como eu vos amei a vós, que também  vós uns aos outros vos ameis. Nisto todos \n",
       "conhecerão que sois meus discípulos, se vo s amardes uns aos outros\" (Jo 13:34,35; ARC). O \n",
       "novo mandamento fundamenta a nova aliança no  sangue de Jesus. O amor fraternal é um \n",
       "preceito tão central que Paulo não hesita em declará-lo cumprimento de toda a lei e dos \n",
       "profetas (Rm 13:8-10). \n",
       "O perigo aqui não é o exagero ou a ênfase excessiva. O perigo espreita em nossas sutis \n",
       "tentativas de racionalizar nossa  moderação com respeito a esse assunto. Dar a outra face, andar \n",
       "a segunda milha, não oferecer re sistência à ofensa e perdoar setent a vezes sete não são caprichos \n",
       "do Filho do Homem. \"Porque, em Cristo Jesus, nem a circuncisão, nem a incircuncisão têm \n",
       "valor algum, mas a fé que at ua pelo amor\" (Gl 5:6). \n",
       "\"A razão exige moderação no amor como em toda s as coisas\", escreve John Mckenzie, \"mas a \n",
       "fé destrói a moderação aqui. A fé não tolera o am or moderado a um semelhante mais do que \n",
       "tolera um amor moderado entre Deus e o homem\".\n",
       "80 \n",
       "Mais uma vez, a gentileza para conosco consti tui o cerne de nossa gentileza para com os \n",
       "outros. Quando a compaixão de Cristo é inte riorizada e apropriada pelo eu (\" [Ele] não \n",
       "esmagará a cana quebrada, nem apagará a torcid a que fumega\" [Mt 12:20]), ocorre a reviravolta \n",
       "de uma postura de compaixão para com os outr os. Numa situação em que causa e efeito se \n",
       "confundem, a trilha da gentileza traz cura pa ra nós mesmos, e a gentileza para conosco produz \n",
       "cura nos outros. A solidariedad e para com os maltrapilhos liberta aquele que recebe a \n",
       "compaixão e liberta o que a concede na cons ciência alerta de que \"eu sou o outro\". \n",
       "Certamente que o amor duro e a disciplina têm seu lugar na família cristã. Se não forem"
      ],
      "text/plain": [
       "<IPython.core.display.Markdown object>"
      ]
     },
     "metadata": {},
     "output_type": "display_data"
    }
   ],
   "source": [
    "sources = retriever.invoke(question)\n",
    "for source in sources:\n",
    "    display(Markdown(f\"**Fonte:** {source.metadata}\"))\n",
    "    display(Markdown(f\"**Trecho:** {source.page_content}\"))"
   ]
  },
  {
   "cell_type": "code",
   "execution_count": 30,
   "metadata": {},
   "outputs": [
    {
     "data": {
      "text/markdown": [
       "**Fonte:** 9\n",
       "Cristão luta com Apoliom no Vale da Humilhação\n",
       "Assim paramentado, caminhou com as amigas até o portão, e ali perguntou ao\n",
       "porteiro se ele vira algum peregrino passar por ali.\n",
       "— Vi sim — respondeu ele.\n",
       "C\n",
       "RISTÃO\n",
       " — E o conheceu?\n",
       "P\n",
       "ORTEIRO\n",
       " — Perguntei seu nome, e ele me disse que se chamava Fiel.\n",
       "C\n",
       "RISTÃO\n",
       " — Ah, eu o conheço. É da minha cidade. Vizinho meu. Vem do\n",
       "lugar onde nasci. Quanto você acha que ele já andou?\n",
       "P\n",
       "ORTEIRO\n",
       " — A essa altura já deve ter descido o morro.\n",
       "C\n",
       "RISTÃO\n",
       " — Que o Senhor esteja com você, então, bom porteiro, e muito\n",
       "acrescente a todas as suas bênçãos, pela bondade que teve para comigo.\n",
       "E seguiu caminho. Discrição, Piedade, Caridade e Prudência o\n",
       "acompanharam até o sopé do morro. Foram caminhando juntos, repisando as\n",
       "conversas que tiveram, até o início da descida. E Cristão falou:\n",
       "— Assim como foi difícil subir, também (até onde sei) é perigoso descer.\n",
       "— É verdade — tornou Prudência —, pois para o homem é penoso descer até\n",
       "o Vale da Humilhação, lá embaixo, sem escorregar pelo caminho. Portanto —\n",
       "disseram elas — vamos acompanhá-lo até lá.\n",
       "Então ele começou a descer, mas com muito cuidado, e ainda assim sofreu\n",
       "um ou dois escorregões.\n",
       "E vi em meu sonho que as amáveis companheiras (quando Cristão já descera\n",
       "até o sopé do morro) lhe deram um pedaço de pão, uma garrafa de vinho e um\n",
       "cacho de passas. E assim ele seguiu caminho.\n",
       "No Vale da Humilhação, porém, o caminho se tornou difícil para Cristão.\n",
       "Pouco andara ainda quando divisou um demônio asqueroso vindo pelo campo em\n",
       "sua direção. Seu nome era Apoliom (Ap 9:11). Cristão teve medo, sem saber se\n",
       "voltava ou continuava. Lembrou, então, que não possuía armadura nas costas, e\n",
       "se deu conta de que virar-lhe as costas talvez desse ao demônio a vantagem de\n",
       "feri-lo facilmente com seus dardos. Sendo assim, Cristão resolveu arriscar-se e\n",
       "continuou, pois, refletiu ele, mesmo que só pensasse em salvar a própria pele, o\n",
       "melhor a fazer seria enfrentá-lo.\n",
       "Portanto avançou, e Apoliom veio ter com ele. Ora, o monstro tinha\n",
       "aparência apavorante. Era todo coberto de escamas como um peixe (e essas\n",
       "escamas são seu orgulho), tinha asas de dragão, patas de urso, do ventre lhe\n",
       "saíam fogo e fumaça, e a boca era como a de um leão. Alcançando Cristão,\n",
       "encarou-o com olhar desdenhoso, e imediatamente passou a interrogá-lo:\n",
       "A\n",
       "POLIOM\n",
       " — De onde você vem, e para onde vai?"
      ],
      "text/plain": [
       "<IPython.core.display.Markdown object>"
      ]
     },
     "metadata": {},
     "output_type": "display_data"
    },
    {
     "data": {
      "text/markdown": [
       "**Trecho:** {'source': './books/import/O Peregrino - John Bunyan.pdf', 'page': 55}"
      ],
      "text/plain": [
       "<IPython.core.display.Markdown object>"
      ]
     },
     "metadata": {},
     "output_type": "display_data"
    },
    {
     "data": {
      "text/markdown": [
       "**Score:** 395.50640869140625"
      ],
      "text/plain": [
       "<IPython.core.display.Markdown object>"
      ]
     },
     "metadata": {},
     "output_type": "display_data"
    },
    {
     "data": {
      "text/markdown": [
       "**Fonte:** tecido, e eu pegarei a outra. Vamos esticar o tecido ao máximo para que ele fique com a mesma\n",
       "metragem dos outros”. Mas Adam não se mexeu e não deu ouvidos à ordem desonesta de seu\n",
       "patrão. O patrão, então, lhe disse: “Você nunca será um bom negociante; não serve para nada\n",
       "aqui. Vá embora e arranje outra coisa para fazer”.\n",
       "Talvez os homens não enganem de uma forma tão aberta hoje em dia, mas, cada vez mais,\n",
       "utilizam  subterfúgios  maldosos para realizar  seus projetos. Os registros de falência  em um\n",
       "tribunal falarão por si mesmos. Falências forjadas acontecem todos os dias. Não são os roubos à\n",
       "moda antiga, que levavam o ladrão ao exílio e à prisão, mas algo pior do que os furtos e roubos à\n",
       "beira das rodovias.\n",
       "O cristão genuíno enfrentará situações em que terá de ser firme e dizer: “Não! Não posso fazer\n",
       "tal coisa e não sujarei minhas mãos nisso!”. Terá de dizer isso ao seu patrão, ao seu pai e ao\n",
       "amigo a quem respeita e deseja ganhar, e que talvez o tenha ajudado muito na vida. Mas, se esse\n",
       "for o seu dever, meu querido irmão ou irmã, faça o que é certo, mesmo que o céu despenque\n",
       "sobre sua cabeça. Aja dessa maneira mesmo que se veja diante da pobreza. Aja dessa maneira\n",
       "mesmo que lhe virem as costas amanhã. No final, você nunca será um perdedor na caminhada\n",
       "com Deus. E, se tiver de sofrer por causa da justiça, abençoado seja!\n",
       "Considere-se feliz por ter o privilégio de fazer algum sacrifício por causa da consciência, pois\n",
       "nestes dias não temos tido o poder de honrar a Deus como fizeram aqueles que, por amor a ele,\n",
       "foram aprisionados, torturados e queimados. Não deixemos passar nenhuma oportunidade de\n",
       "mostrar todo o nosso amor pelo Senhor e provar que desejamos servi-lo fielmente. Sejamos\n",
       "corajosos para fazer tudo o que o Senhor Jesus nos dá para fazer e deixemos que os homens nos\n",
       "julguem idiotas — seremos campeões do Senhor, verdadeiros Cavaleiros da Cruz.\n",
       "O mundo diz: “Não há necessidade de que você seja uma pessoa muito meticulosa”. Que mundo\n",
       "hipócrita! O mundo sente prazer em não seguir as leis de Deus, mas raramente ousa dizer tal\n",
       "coisa claramente e se ilude, lançando mão da hipocrisia e dizendo: “Não devermos ser tão\n",
       "minuciosos, nem bondosos demais”. É como alguém certa vez disse a um puritano:\n",
       "— Muitas pessoas já venderam metade de sua consciência. Será que você não poderia fazer uma\n",
       "pequena concessão?\n",
       "— Não — disse ele. — Não posso, pois minha consciência pertence a Deus."
      ],
      "text/plain": [
       "<IPython.core.display.Markdown object>"
      ]
     },
     "metadata": {},
     "output_type": "display_data"
    },
    {
     "data": {
      "text/markdown": [
       "**Trecho:** {'source': './books/import/Conselhos para obreiros - Charles H Spurgeon.pdf', 'page': 33}"
      ],
      "text/plain": [
       "<IPython.core.display.Markdown object>"
      ]
     },
     "metadata": {},
     "output_type": "display_data"
    },
    {
     "data": {
      "text/markdown": [
       "**Score:** 402.1461181640625"
      ],
      "text/plain": [
       "<IPython.core.display.Markdown object>"
      ]
     },
     "metadata": {},
     "output_type": "display_data"
    },
    {
     "data": {
      "text/markdown": [
       "**Fonte:** ~ 51 ~ CAPÍTULO SEIS \n",
       "GRAZIE SIGNORE  \n",
       "Em seu livro Mortal lessons, o médico Richard Selzer escreve: \n",
       " \n",
       "Estou em pé junto ao leito onde jaz uma jovem, seu rosto em pós-operatório; sua \n",
       "boca, retorcida com paralisia, tem um quê de palhaço. Um minúsculo ramo do seu nervo facial, aquele que controla os múscul os da boca, foi removido. Ela ficará assim \n",
       "daqui em diante. O cirurgião havia seguid o com religioso fervor a curvatura da sua \n",
       "carne, isso eu podia garantir. No entanto, para remover o tumor de  sua bochecha, tive \n",
       "de cortar aquele nervinho. \n",
       "O jovem esposo dela está no quarto. Ele está em pé no lado oposto da cama e \n",
       "juntos eles parecem habitar a luz vespertina  da lâmpada, isolados de mim, num mundo \n",
       "particular. Quem são eles, pergunto a mim mesmo, ele e esta distorcida boca que fiz, \n",
       "que olham-se um ao outro tão generosa mente, com tanta avidez? A jovem fala: \n",
       "— Minha boca vai ficar assim para sempre? — Sim — digo. — Vai ficar assim, porque o nervo foi cortado. Ela assente e silencia. \n",
       "Mas o jovem sorri. \n",
       "— Eu gosto — ele diz. — Acho uma gracinha. \n",
       "De repente sei\n",
       " quem ele é. Compreendo e baixo os  olhos. Não devemos ser ousados \n",
       "na presença de um deus. Sem nenhum constran gimento, ele inclina-se para beijar a boca \n",
       "torta, e estou tão perto que consigo ver co mo ele entorta seus próprios lábios para \n",
       "ajustá-los ao dela, para  mostrar-lhe que o beijo deles ainda funciona\".49 \n",
       " \n",
       "Desde que li essa passagem, te m me assombrado a imagem do marido entortando a boca e \n",
       "retorcendo os lábios para um beijo íntimo com a esposa paralisada. Porém algo me escapou até \n",
       "que um dia, em oração, veio-me à memória de  forma renovada a violência ocorrida numa \n",
       "colina do lado de fora das muralhas da velh a Jerusalém. O corpo mutilado do Filho está \n",
       "suspenso, exposto ao escárnio do mundo. Ele é um blasfemador de Deus e um sediciador do \n",
       "povo. Que morra em desgraça. Seus amigos estã o dispersos, sua honra estilhaçada, seu nome \n",
       "motivo de zombaria. Ele foi abandonado por se u Deus. Deixado absolutamente só. Arrastem-no \n",
       "para fora da cidade santa e pelos meandros aos quais pertence gente como ele. O Cristo maltrapilho é tratado grosseiramente, empurrado de  um lado para o outro,  açoitado e cuspido, \n",
       "assassinado e enterrado em meio aos da sua própria laia. \n",
       "A fim de dramatizar a sua morte, alguns pintor es cristãos concederam ao Cristo crucificado \n",
       "um olhar dirigido para o alto e uma boca cont orcida; usaram pigmento vermelho para fazerem"
      ],
      "text/plain": [
       "<IPython.core.display.Markdown object>"
      ]
     },
     "metadata": {},
     "output_type": "display_data"
    },
    {
     "data": {
      "text/markdown": [
       "**Trecho:** {'source': './books/import/Evangelho Maltrapilho - Brennan Manning.pdf', 'page': 50}"
      ],
      "text/plain": [
       "<IPython.core.display.Markdown object>"
      ]
     },
     "metadata": {},
     "output_type": "display_data"
    },
    {
     "data": {
      "text/markdown": [
       "**Score:** 407.6401672363281"
      ],
      "text/plain": [
       "<IPython.core.display.Markdown object>"
      ]
     },
     "metadata": {},
     "output_type": "display_data"
    },
    {
     "data": {
      "text/markdown": [
       "**Fonte:** salvação. Isso quer dizer que, ao desaparecerem a culpa e o medo, morre\n",
       "também o desejo pelo céu e pela felicidade, voltando eles aos seus caminhos\n",
       "tortuosos.\n",
       "— Em segundo lugar — continuou Esperançoso —, eles são dominados por\n",
       "medos tirânicos. Falo agora dos medos que têm dos homens: “Quem teme o\n",
       "homem cai em armadilhas” (Pv 29:25). Assim, embora pareçam arder de\n",
       "desejo pelo céu enquanto as labaredas do Inferno lambem as suas orelhas,\n",
       "quando o terror amaina, eles logo mudam de opinião: ou seja, pensam que o\n",
       "melhor é ser esperto, não correr o risco (sabe-se lá pelo quê) de perder tudo, ou,\n",
       "pelo menos, de trazer para si aflições inevitáveis e desnecessárias. E assim\n",
       "novamente se entregam ao mundo.\n",
       "— Em terceiro lugar — acrescentou —, a vergonha que acompanha a\n",
       "religião também funciona como obstáculo no caminho deles, pois são orgulhosos\n",
       "e soberbos, e a religião aos seus olhos é vil e desprezível. Portanto, depois de\n",
       "perder o medo do Inferno e da ira vindoura, voltam a suas antigas práticas.\n",
       "— Em quarto lugar — concluiu — a culpa e a ponderação do terror os\n",
       "afligem. Não gostam de olhar a própria miséria antes que ela os alcance.\n",
       "Embora, talvez, a primeira visão dessa miséria pudesse fazê-los buscar refúgio\n",
       "no lugar para onde fogem os justos à procura de segurança; mas isso só se\n",
       "tiverem amor por essa visão. Contudo, como já sugeri antes, eles na verdade\n",
       "evitam a ideia de culpa e terror, e, quando se veem livres do despertar para o\n",
       "terror e a ira de Deus, é com alegria que endurecem o coração, preferindo os\n",
       "caminhos que cada vez mais o endureçam.\n",
       "C\n",
       "RISTÃO\n",
       " — Você está quase no âmago da questão, pois a razão de tudo é a\n",
       "falta de transformação nos pensamentos e na vontade. Portanto eles se\n",
       "assemelham ao criminoso diante do juiz: treme, agita-se e parece se arrepender\n",
       "muito sinceramente, mas a razão de tudo é o medo da forca, e não a aversão ao\n",
       "crime. Isso se torna evidente, pois basta dar ao homem a liberdade que ele logo\n",
       "volta a roubar, perseverando no crime. Porém, se sua mente se transforma, ele\n",
       "passa a agir de outro modo.\n",
       "E\n",
       "SPERANÇOSO\n",
       " — Acabei de lhe mostrar as razões do retrocesso. Agora\n",
       "peço que me mostre como isso acontece.\n",
       "C\n",
       "RISTÃO\n",
       " — Com o maior prazer. Primeiro, eles afastam os seus\n",
       "pensamentos, o mais que podem, da lembrança de Deus, da morte e do juízo\n",
       "vindouro. Depois, se desvencilham pouco a pouco dos deveres privados, como a\n",
       "oração individual, o refreio das paixões, a vigília e o arrependimento do pecado,"
      ],
      "text/plain": [
       "<IPython.core.display.Markdown object>"
      ]
     },
     "metadata": {},
     "output_type": "display_data"
    },
    {
     "data": {
      "text/markdown": [
       "**Trecho:** {'source': './books/import/O Peregrino - John Bunyan.pdf', 'page': 132}"
      ],
      "text/plain": [
       "<IPython.core.display.Markdown object>"
      ]
     },
     "metadata": {},
     "output_type": "display_data"
    },
    {
     "data": {
      "text/markdown": [
       "**Score:** 408.30230712890625"
      ],
      "text/plain": [
       "<IPython.core.display.Markdown object>"
      ]
     },
     "metadata": {},
     "output_type": "display_data"
    }
   ],
   "source": [
    "sources = db.similarity_search_with_score(question)\n",
    "for source in sources:\n",
    "    display(Markdown(f\"**Fonte:** {source[0].page_content}\"))\n",
    "    display(Markdown(f\"**Trecho:** {source[0].metadata}\"))\n",
    "    display(Markdown(f\"**Score:** {source[1]}\"))"
   ]
  }
 ],
 "metadata": {
  "kernelspec": {
   "display_name": "ollama",
   "language": "python",
   "name": "python3"
  },
  "language_info": {
   "codemirror_mode": {
    "name": "ipython",
    "version": 3
   },
   "file_extension": ".py",
   "mimetype": "text/x-python",
   "name": "python",
   "nbconvert_exporter": "python",
   "pygments_lexer": "ipython3",
   "version": "3.10.14"
  }
 },
 "nbformat": 4,
 "nbformat_minor": 2
}

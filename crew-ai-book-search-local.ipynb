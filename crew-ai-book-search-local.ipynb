{
 "cells": [
  {
   "cell_type": "markdown",
   "metadata": {},
   "source": [
    "## "
   ]
  },
  {
   "cell_type": "markdown",
   "metadata": {},
   "source": [
    "# Crew AI - Book Search"
   ]
  },
  {
   "cell_type": "markdown",
   "metadata": {},
   "source": [
    "## Import libraries"
   ]
  },
  {
   "cell_type": "code",
   "execution_count": 1,
   "metadata": {},
   "outputs": [],
   "source": [
    "import os\n",
    "from crewai import Crew\n",
    "import logging\n",
    "\n",
    "# Logging\n",
    "logging.basicConfig(level=logging.INFO)\n",
    "\n",
    "# Warning control\n",
    "import warnings\n",
    "warnings.filterwarnings('ignore')"
   ]
  },
  {
   "cell_type": "markdown",
   "metadata": {},
   "source": [
    "## Configuration"
   ]
  },
  {
   "cell_type": "code",
   "execution_count": 2,
   "metadata": {},
   "outputs": [],
   "source": [
    "# ------ Ollama - Local---------#\n",
    "os.environ[\"OPENAI_MODEL_NAME\"] = 'crewai'\n",
    "os.environ[\"OPENAI_API_BASE\"]='http://localhost:11434/v1'\n",
    "os.environ[\"OPENAI_API_KEY\"]='NA'\n",
    "os.environ[\"LOCAL_EMBEDDINGS\"]=\"http://localhost:11434/api/embeddings\"\n",
    "embeddings_model = \"nomic-embed-text:v1.5\"\n",
    "os.environ[\"LOCAL_EMBEDDINGS_MODEL\"]=embeddings_model # documentar como definir variáveis de ambiente\n",
    "\n",
    "# ------ OpenAI - API ---------#\n",
    "#os.environ[\"OPENAI_MODEL_NAME\"] = 'gpt-3.5-turbo'\n",
    "\n",
    "# ------ DEBUG ---------#\n",
    "os.environ[\"DEBUG\"]=\"False\""
   ]
  },
  {
   "cell_type": "markdown",
   "metadata": {},
   "source": [
    "### Agent - Busca no Contexto"
   ]
  },
  {
   "cell_type": "code",
   "execution_count": 3,
   "metadata": {},
   "outputs": [],
   "source": [
    "from search.context import crew as crew_context\n",
    "library_agent = crew_context.library_agent\n",
    "commentary_agent = crew_context.commentary_agent"
   ]
  },
  {
   "cell_type": "markdown",
   "metadata": {},
   "source": [
    "### Task - Busca no contexto"
   ]
  },
  {
   "cell_type": "code",
   "execution_count": 4,
   "metadata": {},
   "outputs": [],
   "source": [
    "library_search_task = crew_context.library_search_task\n",
    "literary_commentary_task = crew_context.literary_commentary_task"
   ]
  },
  {
   "cell_type": "code",
   "execution_count": 5,
   "metadata": {},
   "outputs": [],
   "source": [
    "crew = Crew(\n",
    "  agents=[library_agent, commentary_agent],\n",
    "  tasks=[library_search_task, literary_commentary_task],\n",
    "  verbose=2,\n",
    "  memory=False,\n",
    ")"
   ]
  },
  {
   "cell_type": "code",
   "execution_count": 6,
   "metadata": {},
   "outputs": [
    {
     "data": {
      "text/plain": [
       "'O mais importante é que vocês vivam em sua comunidade de maneira digna das boas-novas de Cristo. Então, quando eu for vê-los novamente, ou mesmo quando ouvir a seu respeito, saberei que estão firmes e unidos em um só espírito e em um só propósito, lutando juntos pela fé que é proclamada nas boas-novas.'"
      ]
     },
     "execution_count": 6,
     "metadata": {},
     "output_type": "execute_result"
    }
   ],
   "source": [
    "input_text  = \"\"\"O mais importante é que vocês vivam em sua comunidade de maneira digna das boas-novas de Cristo. Então, quando eu for vê-los novamente, ou mesmo quando ouvir a seu respeito, saberei que estão firmes e unidos em um só espírito e em um só propósito, lutando juntos pela fé que é proclamada nas boas-novas.\"\"\"\n",
    "input_text"
   ]
  },
  {
   "cell_type": "code",
   "execution_count": 7,
   "metadata": {},
   "outputs": [
    {
     "name": "stdout",
     "output_type": "stream",
     "text": [
      "\u001b[1m\u001b[95m [DEBUG]: == Working Agent: Especialista em Pesquisa em Biblioteca\u001b[00m\n",
      "\u001b[1m\u001b[95m [INFO]: == Starting Task: O cliente forneceu o seguinte texto para análise:\n",
      "O mais importante é que vocês vivam em sua comunidade de maneira digna das boas-novas de Cristo. Então, quando eu for vê-los novamente, ou mesmo quando ouvir a seu respeito, saberei que estão firmes e unidos em um só espírito e em um só propósito, lutando juntos pela fé que é proclamada nas boas-novas.\n",
      "\n",
      "Sua tarefa é usar a library_tool para encontrar os mais relevantes trechos de livros relacionados a este texto. Certifique-se de que os trechos que você fornece são altamente relevantes e úteis para análises posteriores.\u001b[00m\n",
      "\u001b[95m \n",
      "\n",
      "**Trecho de Evangelho Maltrapilho - Brennan Manning - página 90:** \n",
      "Há mais de cem anos, na região do sul dos Estados Unidos, uma expressão que é muito comum \n",
      "na cultura cristã dos nossos dias, nascido de novo, era usada raramente ou nunca. Em vez disso, \n",
      "a frase usada para descrever o salto para um rela cionamento com Jesus Cristo era: \"fui tomado \n",
      "pelo poder de uma grande afeição\".95 Essas palavras descrevem ta nto a iniciativa de Deus \n",
      "quanto a explosão interior do coração quando  Jesus, em vez de permanecer um rosto de\n",
      "\n",
      "**Trecho de Evangelho Maltrapilho - Brennan Manning - página 73:** \n",
      "\"A razão exige moderação no amor como em toda s as coisas\", escreve John Mckenzie, \"mas a \n",
      "fé destrói a moderação aqui. A fé não tolera o am or moderado a um semelhante mais do que \n",
      "tolera um amor moderado entre Deus e o homem\".\n",
      "80 \n",
      "Mais uma vez, a gentileza para conosco consti tui o cerne de nossa gentileza para com os \n",
      "outros. Quando a compaixão de Cristo é inte riorizada e apropriada pelo eu (\" [Ele] não\n",
      "\n",
      "**Trecho de Evangelho Maltrapilho - Brennan Manning - página 91:** \n",
      "ʺNASCER  DE NOVOʺ. UMA OBRA ANTERIOR  MINHA , The signature  of Jesus, CONTÉM  ESSE RELATO . \n",
      "97 GERALD G. MAY. Addiction  and grace, P. 92.\n",
      "\n",
      "**Trecho de Por que tarda o pleno Avivamento - Leonard Ravenhill - página 120:** \n",
      "nossa? Ah que sublime, doce e gratificante experiência essa, de ter mos \n",
      "Cristo vivendo  em nós por meio de seu Espírito! E assim podemos cantar \n",
      "como Wesley:  \n",
      "“Morri para o mundo e seus prazeres  \n",
      "Para sua in útil pompa e gozo passageiro!  \n",
      "Jesus, sê minha glória! ” \n",
      "E, Paulo havia morrido. Mas depois acrescenta: “Já não sou eu quem \n",
      "vive”. O cristian ismo é a única religião do mundo cujo Deus vive dentro \n",
      "daquele que crê nele. E Paulo já não lutava mais contra a carne (nem\n",
      "\n",
      "\n",
      "\u001b[00m\n",
      "\u001b[95m \n",
      "\n",
      "I tried reusing the same input, I must stop using this action input. I'll try something else instead.\n",
      "\n",
      "\n",
      "\u001b[00m\n"
     ]
    }
   ],
   "source": [
    "inputs = {\n",
    "    \"text\": input_text\n",
    "}\n",
    "result = crew.kickoff(inputs=inputs)"
   ]
  },
  {
   "cell_type": "code",
   "execution_count": null,
   "metadata": {},
   "outputs": [],
   "source": [
    "from IPython.display import display, Markdown\n",
    "\n",
    "def get_task_output(task):\n",
    "    return f\"\"\"\n",
    "**Tarefa:** \\n\n",
    "{task.output.description} \\n \\n\n",
    "**Saída:** \\n\n",
    "{task.output.raw_output}\n",
    "\"\"\"\n",
    "\n",
    "Markdown(get_task_output(library_search_task))\n"
   ]
  },
  {
   "cell_type": "code",
   "execution_count": null,
   "metadata": {},
   "outputs": [],
   "source": [
    "Markdown(result)"
   ]
  },
  {
   "cell_type": "code",
   "execution_count": null,
   "metadata": {},
   "outputs": [],
   "source": [
    "print(crew.usage_metrics)"
   ]
  }
 ],
 "metadata": {
  "kernelspec": {
   "display_name": "crewai",
   "language": "python",
   "name": "python3"
  },
  "language_info": {
   "codemirror_mode": {
    "name": "ipython",
    "version": 3
   },
   "file_extension": ".py",
   "mimetype": "text/x-python",
   "name": "python",
   "nbconvert_exporter": "python",
   "pygments_lexer": "ipython3",
   "version": "3.11.8"
  }
 },
 "nbformat": 4,
 "nbformat_minor": 2
}

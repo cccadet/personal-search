{
 "cells": [
  {
   "cell_type": "code",
   "execution_count": 1,
   "metadata": {},
   "outputs": [
    {
     "name": "stderr",
     "output_type": "stream",
     "text": [
      "Inserting batches in chromadb: 100%|██████████| 1/1 [00:01<00:00,  1.11s/it]\n"
     ]
    }
   ],
   "source": [
    "from crewai_tools import YoutubeChannelSearchTool\n",
    "\n",
    "# Initialize the tool to search within any Youtube channel's content the agent learns about during its execution\n",
    "#tool = YoutubeChannelSearchTool()\n",
    "\n",
    "# OR\n",
    "\n",
    "# Initialize the tool with a specific Youtube channel handle to target your search\n",
    "#tool = YoutubeChannelSearchTool(youtube_channel_handle='@doisdedosdeteologia')\n",
    "\n",
    "from crewai_tools import YoutubeVideoSearchTool\n",
    "\n",
    "# Targeted search within a specific Youtube video's content\n",
    "tool_youtube = YoutubeVideoSearchTool(youtube_video_url='https://www.youtube.com/watch?v=BkQdqj-yMj0',\n",
    "                                      config=dict(\n",
    "                                          embedder=dict(\n",
    "                                            provider=\"ollama\",\n",
    "                                            config=dict(\n",
    "                                                model=\"nomic-embed-text:v1.5\",\n",
    "                                            ),\n",
    "                                          ),\n",
    "                                      )\n",
    "                                      )"
   ]
  },
  {
   "cell_type": "code",
   "execution_count": 2,
   "metadata": {},
   "outputs": [],
   "source": [
    "from crewai import Crew, Task, Agent\n",
    "from langchain_openai import ChatOpenAI\n",
    "import os\n",
    "\n",
    "llm = ChatOpenAI(model='gpt-3.5-turbo', temperature=0)\n",
    "\n",
    "# ------ Ollama - Local---------#\n",
    "os.environ[\"LOCAL_EMBEDDINGS\"]=\"http://localhost:11434/api/embeddings\"\n",
    "embeddings_model = \"nomic-embed-text:v1.5\"\n",
    "os.environ[\"LOCAL_EMBEDDINGS_MODEL\"]=embeddings_model # documentar como definir variáveis de ambiente\n",
    "\n",
    "# ------ OpenAI - API ---------#\n",
    "os.environ[\"OPENAI_MODEL_NAME\"] = 'gpt-3.5-turbo'\n",
    "\n",
    "# ------ DEBUG ---------#\n",
    "os.environ[\"DEBUG\"]=\"False\"\n",
    "debug = os.getenv(\"DEBUG_MODE\", \"False\")\n",
    "if debug.lower() == \"true\":\n",
    "    VERBOSE = 2\n",
    "else:\n",
    "    VERBOSE = False"
   ]
  },
  {
   "cell_type": "code",
   "execution_count": 3,
   "metadata": {},
   "outputs": [
    {
     "name": "stdout",
     "output_type": "stream",
     "text": [
      "\u001b[1m\u001b[95m [2024-07-05 00:26:16][DEBUG]: == Working Agent: Pesquisador\u001b[00m\n",
      "\u001b[1m\u001b[95m [2024-07-05 00:26:16][INFO]: == Starting Task: Pesquisar vídeos do YouTube sobre o tópico: O que falta aos pregadores hoje\u001b[00m\n",
      "\u001b[95m \n",
      "\n",
      "Relevant Content:\n",
      "instrutivo creio até na interpretação dos textos bíblicos que falam sobre o sofrimento dos primeiros livros sobre o sofrimento que eu vi na minha vida foi esse aqui bom demais para ser verdade encontrando Esperança do Mundo de Ilusões O Michael horton aquele vai bastante argumentar sobre o lugar que a fraqueza e o sofrimento possuem na vida cristã nem vai falar sobre Jesus da Cruz sobre Jesus da Ressurreição e vai falar tanto sobre o Adorno é os períodos de atividade que a gente vive e os períodos de ressurreição que a gente encontra na pessoa de Cristo o livro que nos ensina a confiar o cuidado de Deus e olhar para aquilo que ele está realizando no mundo também é um livro que lhe dá bastante com textos bíblicos claro que me sentindo um pouco mais teológico mas ainda com sensibilidade para a alma o livro da Editora Fiel dois livros curtos também muito importante o grosso um força na fraqueza vencendo no poder de Cristo do James aí pa que diferenciam da vida nova ele vai falar basicamente sobre o chamado do Cristão em períodos de fraqueza e vai nos apontar para Esperança em Cristo Jesus um nível bem pequenininho faz um livro muito gracioso justamente pelo aspecto que ele nos aponta a glória vindoura para quando estamos passando por isso períodos de fraqueza outro autor a internacional gosto muito é o diabo ele diz ele escreveu Deus está mesmo do controle confiando em Deus nas adversidades e angústias da vida é um livro de dez capítulos capítulos bem agradáveis curtos com boas citações e frases bonitas para gente lembrar desse período com um bom trato a lógico acerca de temáticas onde fazem parte Lizard ele fala de coisas aí a fazer aplica a palavra de Deus a cada uma delas é um livro que me vale a pena você lê se você estiver interessado nesse estrato no pouco mais esqueci que o sofrimento Que diabos é colocar aqui no livro dele é de Xerife é um nome muito famoso me conhecido com a esposa do grande pregador e projeta Francis cheinfert aflição um olhar compassivo\n",
      "\n",
      "mago do SESC usou a Cadeira de Prata tão livro de literatura história de trazem mensagens que acalentam nossa alma durante aprovação Às vezes o que a gente precisa durante a dor é ser sacado dela e colocado em um mundo diferente daquele que a gente tá vivendo a literatura pode ser um instrumento ótimo para estão CS Lewis Tolkien né dos autores aí que você gosta gosta e aí Vitor Hugo Toy quem quer que você goste de ler que tinha leve a alma para além do âmbito e está inserido uma coisa aqui sempre ajuda alunos me ajuda quando tem enfrentado dificuldades e sofrimento que que você acha que achou do vídeo de hoje é a primeira vez que eu faço meio assim só indicando livros sobre o assunto a gente sempre tem vídeo sobre literatura lá no canal do review considere escrever lá também pelo problema tá sendo por lá indicando duas coisas que toda certeza para ser diferente para sua vida e a gente em vídeo ou terça e quinta-feira 110 horas da manhã aqui no canal dos genes hoje sobre todos vocês Até a próxima aula 1 [Música] E aí [Música]\n",
      "\n",
      "eu livreto muito curtinho muito gostosinho muito bíblico para lhe ajudar no período de provação Fora as outras obras do João Piper apresentação são infelizes eu câncer eu ligo também o impulso para quando você passa por dificuldades de saúde e coronavírus e Cristo falou também sobre esse cenário que a gente ainda nessa temática de depressão certamente a depressão de spurgeon esperança realista em meio à angústia do chifre é um livro que vai te ajudar se você enfrenta As Batalhas na alma batalha o seu coração no seu psicológico acerca da alegria se você é uma pessoa que está lutando contra a tristeza contra humor baixo e forma muito profunda é muito longa que precisa de consolo para esses períodos de pão livro que me ajudou muito quando eu mesmo enfrentava mais profundamente batalhas nessa área e encontrar spurgeon um dos grandes pregadores do mundo como alguém que batalhavam contra uma depressão Clínica e precisava da Graça do evangelho e como especial para poder viver a vida diante do senhor é uma coisa que console outras pessoas em dois sofrimento Pedro com a mão dizendo para eles que sofrimento parecidos eram vividos por todos os outros irmãos do mundo encontrarmos outros grandes irmãos que a gente admira passando por sofrimento existe uma coisa maravilhosa e nessa um livro histórico sobre o é um livro que traz instruções usamos cuja com base obviamente mas que nos apresenta caminhos maravilhosos agora tem um livro que eu não li mas que vocês ficaram lá no Instagram e que vale a pena dá uma olhada é o Caminhando com Deus em meio a dor eo sofrimento não Timothy Keller e onde que ele é sempre um autor de muita sensibilidade de muita lógica formal e muito trato literário mas são de muita sensibilidade para a alma e esse é um livro que eu vou comprar eu vou dar uma olhada eu indiquei o Deus está mesmo controle do Dr Breno mas vocês indicaram o confiando em Deus mesmo quando a vida dos roubei assim difere do mesmo autor também não foi sobra mas o diário grandes é um\n",
      "\u001b[00m\n",
      "\u001b[1m\u001b[92m [2024-07-05 00:26:21][DEBUG]: == [Pesquisador] Task output: Título do Vídeo: O que falta aos pregadores hoje\n",
      "Conteúdo do Vídeo: O vídeo aborda a interpretação dos textos bíblicos sobre o sofrimento, destacando livros como \"Encontrando Esperança do Mundo de Ilusões\" de Michael Horton, \"Força na Fraqueza: Vencendo no Poder de Cristo\" de James, \"Deus está mesmo do controle: Confiando em Deus nas adversidades e angústias da vida\" e \"A Depressão de Spurgeon: Esperança Realista em Meio à Angústia\" entre outros. O vídeo também menciona a importância da literatura para acalmar a alma durante períodos de dor, recomendando autores como CS Lewis, Tolkien e Vitor Hugo. Além disso, são indicados livros que abordam temas como saúde, depressão e consolo espiritual. O conteúdo do vídeo é apresentado de forma informativa e sensível, com sugestões de leitura para lidar com desafios e sofrimentos.\n",
      "\n",
      "\u001b[00m\n"
     ]
    }
   ],
   "source": [
    "youtube_researcher = Agent(\n",
    "    role=\"Pesquisador\",\n",
    "    goal=\"Encontre vídeos do YouTube que falem sobre o tópico fornecido.\",\n",
    "    backstory=(\n",
    "        \"Você é um pesquisador que precisa de vídeos do YouTube \"\n",
    "        \"que falem sobre o tópico fornecido. Você não tem tempo para fazer \"\n",
    "        \"a pesquisa sozinho e precisa de ajuda para encontrar vídeos relevantes.\"\n",
    "    ),\n",
    "    tools=[tool_youtube],\n",
    "    verbose=VERBOSE,\n",
    "    llm=llm\n",
    ")\n",
    "\n",
    "youtube_research = Task(\n",
    "    description=(\n",
    "        \"Pesquisar vídeos do YouTube sobre o tópico: {text}\"\n",
    "    ),\n",
    "    expected_output=(\n",
    "        \"Vídeos do YouTube que falem sobre o tópico fornecido. Todos os dados associados ao vídeo.\"\n",
    "    ),\n",
    "    agent=youtube_researcher,\n",
    ")\n",
    "\n",
    "crew = Crew(\n",
    "  agents=[youtube_researcher],\n",
    "  tasks=[youtube_research],\n",
    "  verbose=2,\n",
    "  memory=False,\n",
    "  llm=llm\n",
    ")\n",
    "\n",
    "input_text  = \"O que falta aos pregadores hoje\"\n",
    "\n",
    "inputs = {\n",
    "    \"text\": input_text\n",
    "}\n",
    "result = crew.kickoff(inputs=inputs)"
   ]
  },
  {
   "cell_type": "code",
   "execution_count": null,
   "metadata": {},
   "outputs": [],
   "source": []
  }
 ],
 "metadata": {
  "kernelspec": {
   "display_name": "crewai",
   "language": "python",
   "name": "python3"
  },
  "language_info": {
   "codemirror_mode": {
    "name": "ipython",
    "version": 3
   },
   "file_extension": ".py",
   "mimetype": "text/x-python",
   "name": "python",
   "nbconvert_exporter": "python",
   "pygments_lexer": "ipython3",
   "version": "3.12.2"
  }
 },
 "nbformat": 4,
 "nbformat_minor": 2
}

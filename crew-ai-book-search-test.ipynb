{
 "cells": [
  {
   "cell_type": "markdown",
   "metadata": {},
   "source": [
    "## "
   ]
  },
  {
   "cell_type": "markdown",
   "metadata": {},
   "source": [
    "# Crew AI - Book Search"
   ]
  },
  {
   "cell_type": "markdown",
   "metadata": {},
   "source": [
    "## Import libraries"
   ]
  },
  {
   "cell_type": "code",
   "execution_count": 1,
   "metadata": {},
   "outputs": [],
   "source": [
    "import os\n",
    "from crewai import Crew, Task, Agent\n",
    "\n",
    "# Warning control\n",
    "import warnings\n",
    "warnings.filterwarnings('ignore')"
   ]
  },
  {
   "cell_type": "markdown",
   "metadata": {},
   "source": [
    "## Configuration"
   ]
  },
  {
   "cell_type": "code",
   "execution_count": 2,
   "metadata": {},
   "outputs": [],
   "source": [
    "# ------ Ollama - Local---------#\n",
    "os.environ[\"LOCAL_EMBEDDINGS\"]=\"http://localhost:11434/api/embeddings\"\n",
    "embeddings_model = \"nomic-embed-text:v1.5\"\n",
    "os.environ[\"LOCAL_EMBEDDINGS_MODEL\"]=embeddings_model # documentar como definir variáveis de ambiente\n",
    "\n",
    "# ------ OpenAI - API ---------#\n",
    "os.environ[\"OPENAI_MODEL_NAME\"] = 'gpt-3.5-turbo'\n",
    "\n",
    "# ------ DEBUG ---------#\n",
    "os.environ[\"DEBUG\"]=\"False\"\n",
    "debug = os.getenv(\"DEBUG_MODE\", \"False\")\n",
    "if debug.lower() == \"true\":\n",
    "    VERBOSE = 2\n",
    "else:\n",
    "    VERBOSE = False"
   ]
  },
  {
   "cell_type": "markdown",
   "metadata": {},
   "source": [
    "### Crew - Busca no contexto"
   ]
  },
  {
   "cell_type": "code",
   "execution_count": 3,
   "metadata": {},
   "outputs": [],
   "source": [
    "from langchain_openai import ChatOpenAI\n",
    "from search.context import utils\n",
    "\n",
    "llm = ChatOpenAI(model='gpt-3.5-turbo', temperature=0)\n",
    "\n",
    "from crewai_tools import tool\n",
    "\n",
    "# Configurações locais\n",
    "LOCAL_EMBEDDINGS_URL = \"http://localhost:11434/api/embeddings\"\n",
    "EMBEDDINGS_MODEL = \"nomic-embed-text:v1.5\"\n",
    "os.environ[\"LOCAL_EMBEDDINGS\"] = LOCAL_EMBEDDINGS_URL\n",
    "os.environ[\"LOCAL_EMBEDDINGS_MODEL\"] = EMBEDDINGS_MODEL\n",
    "\n",
    "# Configurações da API OpenAI\n",
    "os.environ[\"OPENAI_MODEL_NAME\"] = 'gpt-3.5-turbo'\n",
    "\n",
    "# Configurações de DEBUG\n",
    "os.environ[\"DEBUG\"] = \"False\"\n",
    "DEBUG_MODE = os.getenv(\"DEBUG_MODE\", \"False\").lower() == \"true\"\n",
    "VERBOSE = 2 if DEBUG_MODE else False\n",
    "\n",
    "# Constantes Globais\n",
    "AVATARS = {\"commentary\": \"./assets/e-book.png\", \"bible\": \"./assets/biblia.png\",\n",
    "           \"revisor\": \"./assets/revisor.png\"}\n",
    "VECTOR_STORE = 'chroma'\n",
    "PATH_BOOKS = f\"./vector-store/{VECTOR_STORE}/books\"\n",
    "PATH_BIBLE = f\"./vector-store/{VECTOR_STORE}/bible\"\n",
    "EMBEDDINGS_MODEL = os.getenv(\"LOCAL_EMBEDDINGS_MODEL\")\n",
    "os.environ[\"OPENAI_MODEL_NAME\"] = 'gpt-3.5-turbo'\n",
    "DEBUG = os.getenv(\"DEBUG_MODE\", \"False\").lower() == \"true\"\n",
    "VERBOSE = 2 if DEBUG else False\n",
    "\n",
    "\n",
    "# ------- TOOLS ------- #\n",
    "\n",
    "@tool(\"Pesquisar em Livros\")\n",
    "def library_tool(text: str) -> str:\n",
    "    \"\"\"Retorna livros que possuem conteúdo relacionado com termo ou assunto buscado.\"\"\"\n",
    "    result = \"\"\n",
    "    db = utils.retriever_context(embeddings_model=EMBEDDINGS_MODEL, path_books=PATH_BOOKS, vector_store=VECTOR_STORE)\n",
    "    documents = db.similarity_search(text)\n",
    "    for row in documents:\n",
    "        page_content = row.page_content\n",
    "        source = row.metadata['source'].replace('./books/', '').replace('.pdf', '')\n",
    "        page = row.metadata['page']\n",
    "        result += f\"**Trecho de {source} - página {page}:** \\n{page_content}\\n\\n\"\n",
    "    return result\n",
    "\n",
    "\n",
    "# ------- AGENTS ------- #\n",
    "\n",
    "library_agent = Agent(\n",
    "    role=\"Especialista em Pesquisa em Biblioteca\",\n",
    "    goal=\"Encontre os trechos de livros que falem explicitamente do tópico fornecido.\",\n",
    "    backstory=(\n",
    "        \"Você atualmente é encarregado de usar a library_tool \"\n",
    "        \"para encontrar trechos que falem do tópico fornecido. \"\n",
    "        \"Seu objetivo é garantir que os trechos que você fornece \"\n",
    "        \"tratem diretamente do tópico e não uma relação distante. \"\n",
    "    ),\n",
    "    tools=[library_tool],\n",
    "    allow_delegation=False,\n",
    "    verbose=VERBOSE,\n",
    "    llm=llm\n",
    ")\n",
    "\n",
    "revisor_agent = Agent(\n",
    "    role=\"Revisor de Texto\",\n",
    "    goal=\"Revisar e melhorar a qualidade dos trechos fornecidos pelos Especialistas.\",\n",
    "    backstory=(\n",
    "        \"Você atualmente é encarregado de revisar e melhorar a qualidade \"\n",
    "        \"dos trechos fornecidos pelos Especialistas em Pesquisa da Biblioteca. \"\n",
    "        \"Seu objetivo é garantir que os trechos fornecidos são relevantes, \"\n",
    "        \"precisos e falem do tópico fornecido pelo cliente.\"\n",
    "    ),\n",
    "    allow_delegation=False,\n",
    "    verbose=VERBOSE,\n",
    "    llm=llm,\n",
    ")\n",
    "\n",
    "# ------- TASKS ------- #\n",
    "\n",
    "library_search_task = Task(\n",
    "    description=(\n",
    "        \"Sua tarefa é usar a library_tool para encontrar trechos de livros que falem explicitamente \"\n",
    "        \" do tópico: {text} \"\n",
    "    ),\n",
    "    expected_output=(\n",
    "        \"Trechos de livros que falem explicitamente do tópico fornecido. \"\n",
    "        \"Cada trecho deve ser claramente citado e incluída sua fonte, com o título do livro \"\n",
    "        \"autor e número da página.\"\n",
    "    ),\n",
    "    agent=library_agent,\n",
    ")\n",
    "\n",
    "library_select_task = Task(\n",
    "    description=(\n",
    "        \"Selecione os trechos que falam sobre o tópico: {text} \"\n",
    "        \"Explique a relação ou indique caso não haja relação. Responda em português.\"\n",
    "    ),\n",
    "    expected_output=(\n",
    "        \"Tópico fornecido pelo cliente.\"\n",
    "        \"Trechos que falam do tópico fornecido pelo cliente, citando com sua fonte, incluindo o título do livro \"\n",
    "        \"autor e número da página ou indicação caso não haja relação. \"\n",
    "        \"Explicação onde o trecho fala diretamente sobre o tópico fornecido pelo cliente.\"\n",
    "    ),\n",
    "    agent=revisor_agent,\n",
    ")"
   ]
  },
  {
   "cell_type": "code",
   "execution_count": 4,
   "metadata": {},
   "outputs": [],
   "source": [
    "crew = Crew(\n",
    "  agents=[library_agent, revisor_agent],\n",
    "  tasks=[library_search_task, library_select_task],\n",
    "  verbose=VERBOSE,\n",
    "  memory=False,\n",
    ")"
   ]
  },
  {
   "cell_type": "code",
   "execution_count": 5,
   "metadata": {},
   "outputs": [
    {
     "data": {
      "text/plain": [
       "'Julgamento do trono branco'"
      ]
     },
     "execution_count": 5,
     "metadata": {},
     "output_type": "execute_result"
    }
   ],
   "source": [
    "input_text  = \"\"\"Julgamento do trono branco\"\"\"\n",
    "input_text"
   ]
  },
  {
   "cell_type": "code",
   "execution_count": 6,
   "metadata": {},
   "outputs": [
    {
     "name": "stdout",
     "output_type": "stream",
     "text": [
      "\u001b[95m \n",
      "\n",
      "**Trecho de Somos Todos Teólogos - RC Sproul - página 210:** \n",
      "Quando, porém, vier o Consolador, que eu vos enviarei da parte do Pai, o Espírito\n",
      "da verdade, que dele procede, esse dará testemunho de mim; e vós também\n",
      "testemunhareis, porque estais comigo desde o princípio.\n",
      "Tenho-vos dito estas coisas para que não vos escandalizeis. Eles vos expulsarão\n",
      "das sinagogas; mas vem a hora em que todo o que vos matar julgará com isso\n",
      "tributar culto a Deus. Isto farão porque não conhecem o Pai, nem a mim. Ora, estas\n",
      "coisas vos tenho dito para que, quando a hora chegar, vos recordeis de que eu vo-\n",
      "las disse. Não vo-las disse desde o princípio, porque eu estava convosco (Jo 15.24-\n",
      "16.4).\n",
      " \n",
      "OUTRO CONSOLADOR\n",
      "\n",
      "**Trecho de Evangelho Maltrapilho - Brennan Manning - página 68:** \n",
      "não der certo, se irromper uma guerra? E se amanhã amanhecer chovendo, e os ônibus \n",
      "estiverem em greve, ou se houver um terremoto ? E se alguém roubar o meu dinheiro, invadir \n",
      "minha casa, violentar minha filha ou me matar?\"74 \n",
      "Quando essas perguntas passam a guiar nossa vida, estamos refinanciando nossa hipoteca \n",
      "na casa do medo. \n",
      "Jesus diz simplesmente: \"Permanecei em mim, e eu permanecerei em vós\" (Jo 15:4)- Essa \n",
      "permanência não é uma mansão celeste na vida futura, mas um lugar seguro bem no meio do \n",
      "nosso mundo de ansiedade. \"Se alguém me ama, guardará a minha palavra; e meu Pai o amará, \n",
      "e viremos para ele e faremos nele morada\" (Jo  14:23).\n",
      "\n",
      "**Trecho de Por que tarda o pleno Avivamento - Leonard Ravenhill - página 45:** \n",
      "está em nós mesmos? ” Mas eu gostaria de afiar bem o meu bisturi e \n",
      "aprofundá -lo um pouco mais nos pregadores:  passou a época dos \n",
      "grandes ser mões tipo “lanche rápido ”, temperados com tiradas \n",
      "humorísticas para tentar estimular o fraco apetite espiritual do homem \n",
      "de nossos dias? Ou estamos nos esforçando para comunicar os \n",
      "“poderes do mundo vindouro ” em todos os cultos?  \n",
      "Pensemos um pouco em Paulo. Após recebe r uma poderosa unção \n",
      "do Espírito Santo, ele saiu pela Ásia menor para travar ali uma \n",
      "intensa batalha espiritual, causando agitação  nos mercados, \n",
      "sinagogas e palácios. E ia a toda parte, tendo no coração e nos\n",
      "\n",
      "**Trecho de Somos Todos Teólogos - RC Sproul - página 213:** \n",
      "Tenho ainda muito que vos dizer, mas vós não o podeis suportar agora; quando\n",
      "vier, porém, o Espírito da verdade, ele vos guiará a toda a verdade; porque não\n",
      "falará por si mesmo, mas dirá tudo o que tiver ouvido e vos anunciará as coisas que\n",
      "hão de vir. Ele me glorificará, porque há de receber do que é meu e vo-lo há de\n",
      "anunciar. Tudo quanto o Pai tem é meu; por isso é que vos disse que há de receber\n",
      "do que é meu e vo-lo há de anunciar (Jo 16.12-15).\n",
      " \n",
      "Vemos novamente que o ministério do Espírito Santo é aplicar a obra de\n",
      "Cristo ao seu povo, e ele faz isto por santificar-nos, por revelar-nos a verdade\n",
      "de Deus e por vir a nós em fortalecimento. O discurso de Jesus no cenáculo\n",
      "\n",
      "\n",
      "\u001b[00m\n"
     ]
    }
   ],
   "source": [
    "inputs = {\n",
    "    \"text\": input_text\n",
    "}\n",
    "result = crew.kickoff(inputs=inputs)"
   ]
  },
  {
   "cell_type": "code",
   "execution_count": 7,
   "metadata": {},
   "outputs": [
    {
     "data": {
      "text/markdown": [
       "\n",
       "**Tarefa:** \n",
       "\n",
       "O cliente forneceu o seguinte tópico para análise:\n",
       "Julgamento do trono branco\n",
       "\n",
       "Sua tarefa é usar a library_tool para encontrar trechos de livros que falem explicitamente deste tópico.  \n",
       " \n",
       "\n",
       "**Saída:** \n",
       "\n",
       "**Trecho de Somos Todos Teólogos - RC Sproul - página 210:** \n",
       "Quando, porém, vier o Consolador, que eu vos enviarei da parte do Pai, o Espírito\n",
       "da verdade, que dele procede, esse dará testemunho de mim; e vós também\n",
       "testemunhareis, porque estais comigo desde o princípio.\n",
       "Tenho-vos dito estas coisas para que não vos escandalizeis. Eles vos expulsarão\n",
       "das sinagogas; mas vem a hora em que todo o que vos matar julgará com isso\n",
       "tributar culto a Deus. Isto farão porque não conhecem o Pai, nem a mim. Ora, estas\n",
       "coisas vos tenho dito para que, quando a hora chegar, vos recordeis de que eu vo-\n",
       "las disse. Não vo-las disse desde o princípio, porque eu estava convosco (Jo 15.24-\n",
       "16.4).\n",
       " \n",
       "OUTRO CONSOLADOR\n",
       "\n",
       "**Trecho de Evangelho Maltrapilho - Brennan Manning - página 68:** \n",
       "não der certo, se irromper uma guerra? E se amanhã amanhecer chovendo, e os ônibus \n",
       "estiverem em greve, ou se houver um terremoto ? E se alguém roubar o meu dinheiro, invadir \n",
       "minha casa, violentar minha filha ou me matar?\"74 \n",
       "Quando essas perguntas passam a guiar nossa vida, estamos refinanciando nossa hipoteca \n",
       "na casa do medo. \n",
       "Jesus diz simplesmente: \"Permanecei em mim, e eu permanecerei em vós\" (Jo 15:4)- Essa \n",
       "permanência não é uma mansão celeste na vida futura, mas um lugar seguro bem no meio do \n",
       "nosso mundo de ansiedade. \"Se alguém me ama, guardará a minha palavra; e meu Pai o amará, \n",
       "e viremos para ele e faremos nele morada\" (Jo  14:23).\n",
       "\n",
       "**Trecho de Por que tarda o pleno Avivamento - Leonard Ravenhill - página 45:** \n",
       "está em nós mesmos? ” Mas eu gostaria de afiar bem o meu bisturi e \n",
       "aprofundá -lo um pouco mais nos pregadores:  passou a época dos \n",
       "grandes ser mões tipo “lanche rápido ”, temperados com tiradas \n",
       "humorísticas para tentar estimular o fraco apetite espiritual do homem \n",
       "de nossos dias? Ou estamos nos esforçando para comunicar os \n",
       "“poderes do mundo vindouro ” em todos os cultos?  \n",
       "Pensemos um pouco em Paulo. Após recebe r uma poderosa unção \n",
       "do Espírito Santo, ele saiu pela Ásia menor para travar ali uma \n",
       "intensa batalha espiritual, causando agitação  nos mercados, \n",
       "sinagogas e palácios. E ia a toda parte, tendo no coração e nos\n",
       "\n",
       "**Trecho de Somos Todos Teólogos - RC Sproul - página 213:** \n",
       "Tenho ainda muito que vos dizer, mas vós não o podeis suportar agora; quando\n",
       "vier, porém, o Espírito da verdade, ele vos guiará a toda a verdade; porque não\n",
       "falará por si mesmo, mas dirá tudo o que tiver ouvido e vos anunciará as coisas que\n",
       "hão de vir. Ele me glorificará, porque há de receber do que é meu e vo-lo há de\n",
       "anunciar. Tudo quanto o Pai tem é meu; por isso é que vos disse que há de receber\n",
       "do que é meu e vo-lo há de anunciar (Jo 16.12-15).\n",
       " \n",
       "Vemos novamente que o ministério do Espírito Santo é aplicar a obra de\n",
       "Cristo ao seu povo, e ele faz isto por santificar-nos, por revelar-nos a verdade\n",
       "de Deus e por vir a nós em fortalecimento. O discurso de Jesus no cenáculo\n"
      ],
      "text/plain": [
       "<IPython.core.display.Markdown object>"
      ]
     },
     "execution_count": 7,
     "metadata": {},
     "output_type": "execute_result"
    }
   ],
   "source": [
    "from IPython.display import display, Markdown\n",
    "\n",
    "def get_task_output(task):\n",
    "    return f\"\"\"\n",
    "**Tarefa:** \\n\n",
    "{task.output.description} \\n \\n\n",
    "**Saída:** \\n\n",
    "{task.output.raw_output}\n",
    "\"\"\"\n",
    "\n",
    "Markdown(get_task_output(library_search_task))\n"
   ]
  },
  {
   "cell_type": "code",
   "execution_count": 8,
   "metadata": {},
   "outputs": [
    {
     "data": {
      "text/markdown": [
       "\n",
       "**Tarefa:** \n",
       "\n",
       "Selecione os trechos que falam sobre o tópico: Julgamento do trono branco Explique a relação ou indique caso não haja relação. Responda em português. \n",
       " \n",
       "\n",
       "**Saída:** \n",
       "\n",
       "- Trecho de Somos Todos Teólogos - RC Sproul - página 210:\n",
       "Neste trecho, o autor fala sobre a importância do Espírito da verdade, que dará testemunho de Cristo e guiará os discípulos à verdade. Isso está relacionado ao tópico do Julgamento do trono branco, pois menciona a vinda do Consolador que testemunhará de Cristo, o que pode ser associado ao momento de julgamento.\n",
       "- Trecho de Somos Todos Teólogos - RC Sproul - página 213:\n",
       "Neste trecho, é destacado o papel do Espírito Santo em guiar os discípulos à verdade e anunciar as coisas que hão de vir. Isso também está relacionado ao tópico do Julgamento do trono branco, pois mostra a importância da revelação divina e da obra de Cristo, que serão fundamentais nesse momento de julgamento.\n",
       "- Trecho de Evangelho Maltrapilho - Brennan Manning - página 68:\n",
       "Neste trecho, Jesus fala sobre a importância de permanecer Nele para encontrar um lugar seguro no meio da ansiedade do mundo. Embora não mencione diretamente o Julgamento do trono branco, a ideia de encontrar segurança em Cristo pode ser associada à esperança e proteção que os crentes terão nesse momento de julgamento.\n",
       "- Trecho de Por que tarda o pleno Avivamento - Leonard Ravenhill - página 45:\n",
       "Neste trecho, o autor questiona se os pregadores estão comunicando os \"poderes do mundo vindouro\" em seus cultos. Embora não faça menção direta ao Julgamento do trono branco, a reflexão sobre a intensidade espiritual e a batalha espiritual mencionada pode ser relacionada à preparação e importância desse momento de julgamento.\n"
      ],
      "text/plain": [
       "<IPython.core.display.Markdown object>"
      ]
     },
     "execution_count": 8,
     "metadata": {},
     "output_type": "execute_result"
    }
   ],
   "source": [
    "from IPython.display import display, Markdown\n",
    "\n",
    "def get_task_output(task):\n",
    "    return f\"\"\"\n",
    "**Tarefa:** \\n\n",
    "{task.output.description} \\n \\n\n",
    "**Saída:** \\n\n",
    "{task.output.raw_output}\n",
    "\"\"\"\n",
    "\n",
    "Markdown(get_task_output(library_select_task))\n"
   ]
  },
  {
   "cell_type": "code",
   "execution_count": 9,
   "metadata": {},
   "outputs": [
    {
     "data": {
      "text/markdown": [
       "- Trecho de Somos Todos Teólogos - RC Sproul - página 210:\n",
       "Neste trecho, o autor fala sobre a importância do Espírito da verdade, que dará testemunho de Cristo e guiará os discípulos à verdade. Isso está relacionado ao tópico do Julgamento do trono branco, pois menciona a vinda do Consolador que testemunhará de Cristo, o que pode ser associado ao momento de julgamento.\n",
       "- Trecho de Somos Todos Teólogos - RC Sproul - página 213:\n",
       "Neste trecho, é destacado o papel do Espírito Santo em guiar os discípulos à verdade e anunciar as coisas que hão de vir. Isso também está relacionado ao tópico do Julgamento do trono branco, pois mostra a importância da revelação divina e da obra de Cristo, que serão fundamentais nesse momento de julgamento.\n",
       "- Trecho de Evangelho Maltrapilho - Brennan Manning - página 68:\n",
       "Neste trecho, Jesus fala sobre a importância de permanecer Nele para encontrar um lugar seguro no meio da ansiedade do mundo. Embora não mencione diretamente o Julgamento do trono branco, a ideia de encontrar segurança em Cristo pode ser associada à esperança e proteção que os crentes terão nesse momento de julgamento.\n",
       "- Trecho de Por que tarda o pleno Avivamento - Leonard Ravenhill - página 45:\n",
       "Neste trecho, o autor questiona se os pregadores estão comunicando os \"poderes do mundo vindouro\" em seus cultos. Embora não faça menção direta ao Julgamento do trono branco, a reflexão sobre a intensidade espiritual e a batalha espiritual mencionada pode ser relacionada à preparação e importância desse momento de julgamento."
      ],
      "text/plain": [
       "<IPython.core.display.Markdown object>"
      ]
     },
     "execution_count": 9,
     "metadata": {},
     "output_type": "execute_result"
    }
   ],
   "source": [
    "Markdown(result)"
   ]
  },
  {
   "cell_type": "code",
   "execution_count": 10,
   "metadata": {},
   "outputs": [
    {
     "name": "stdout",
     "output_type": "stream",
     "text": [
      "{'total_tokens': 27156, 'prompt_tokens': 18576, 'completion_tokens': 8580, 'successful_requests': 18}\n"
     ]
    }
   ],
   "source": [
    "print(crew.usage_metrics)"
   ]
  },
  {
   "cell_type": "code",
   "execution_count": 11,
   "metadata": {},
   "outputs": [],
   "source": [
    "#todo: criar um script python para rodar e retornar tudo isso depois desenvolver o contexto e relações bíblicas contexto histórico etc"
   ]
  }
 ],
 "metadata": {
  "kernelspec": {
   "display_name": "crewai",
   "language": "python",
   "name": "python3"
  },
  "language_info": {
   "codemirror_mode": {
    "name": "ipython",
    "version": 3
   },
   "file_extension": ".py",
   "mimetype": "text/x-python",
   "name": "python",
   "nbconvert_exporter": "python",
   "pygments_lexer": "ipython3",
   "version": "3.12.2"
  }
 },
 "nbformat": 4,
 "nbformat_minor": 2
}

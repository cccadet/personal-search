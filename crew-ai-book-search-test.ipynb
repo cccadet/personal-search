{
 "cells": [
  {
   "cell_type": "markdown",
   "metadata": {},
   "source": [
    "## "
   ]
  },
  {
   "cell_type": "markdown",
   "metadata": {},
   "source": [
    "# Crew AI - Book Search"
   ]
  },
  {
   "cell_type": "markdown",
   "metadata": {},
   "source": [
    "## Import libraries"
   ]
  },
  {
   "cell_type": "code",
   "execution_count": 1,
   "metadata": {},
   "outputs": [],
   "source": [
    "import os\n",
    "from crewai import Crew, Task, Agent\n",
    "\n",
    "# Warning control\n",
    "import warnings\n",
    "warnings.filterwarnings('ignore')"
   ]
  },
  {
   "cell_type": "markdown",
   "metadata": {},
   "source": [
    "## Configuration"
   ]
  },
  {
   "cell_type": "code",
   "execution_count": 2,
   "metadata": {},
   "outputs": [],
   "source": [
    "# ------ Ollama - Local---------#\n",
    "os.environ[\"LOCAL_EMBEDDINGS\"]=\"http://localhost:11434/api/embeddings\"\n",
    "embeddings_model = \"nomic-embed-text:v1.5\"\n",
    "os.environ[\"LOCAL_EMBEDDINGS_MODEL\"]=embeddings_model # documentar como definir variáveis de ambiente\n",
    "\n",
    "# ------ OpenAI - API ---------#\n",
    "os.environ[\"OPENAI_MODEL_NAME\"] = 'gpt-3.5-turbo'\n",
    "\n",
    "# ------ DEBUG ---------#\n",
    "os.environ[\"DEBUG\"]=\"False\"\n",
    "debug = os.getenv(\"DEBUG_MODE\", \"False\")\n",
    "if debug.lower() == \"true\":\n",
    "    VERBOSE = 2\n",
    "else:\n",
    "    VERBOSE = False"
   ]
  },
  {
   "cell_type": "markdown",
   "metadata": {},
   "source": [
    "### Crew - Busca no contexto"
   ]
  },
  {
   "cell_type": "code",
   "execution_count": 3,
   "metadata": {},
   "outputs": [],
   "source": [
    "from langchain_openai import ChatOpenAI\n",
    "from search.context import utils\n",
    "\n",
    "llm = ChatOpenAI(model='gpt-3.5-turbo', temperature=0)\n",
    "\n",
    "from crewai_tools import tool\n",
    "\n",
    "# Configurações locais\n",
    "LOCAL_EMBEDDINGS_URL = \"http://localhost:11434/api/embeddings\"\n",
    "EMBEDDINGS_MODEL = \"nomic-embed-text:v1.5\"\n",
    "os.environ[\"LOCAL_EMBEDDINGS\"] = LOCAL_EMBEDDINGS_URL\n",
    "os.environ[\"LOCAL_EMBEDDINGS_MODEL\"] = EMBEDDINGS_MODEL\n",
    "\n",
    "# Configurações da API OpenAI\n",
    "os.environ[\"OPENAI_MODEL_NAME\"] = 'gpt-3.5-turbo'\n",
    "\n",
    "# Configurações de DEBUG\n",
    "os.environ[\"DEBUG\"] = \"False\"\n",
    "DEBUG_MODE = os.getenv(\"DEBUG_MODE\", \"False\").lower() == \"true\"\n",
    "VERBOSE = 2 if DEBUG_MODE else False\n",
    "\n",
    "# Constantes Globais\n",
    "AVATARS = {\"commentary\": \"./assets/e-book.png\", \"bible\": \"./assets/biblia.png\",\n",
    "           \"revisor\": \"./assets/revisor.png\"}\n",
    "VECTOR_STORE = 'chroma'\n",
    "PATH_BOOKS = f\"./vector-store/{VECTOR_STORE}/books\"\n",
    "PATH_BIBLE = f\"./vector-store/{VECTOR_STORE}/bible\"\n",
    "EMBEDDINGS_MODEL = os.getenv(\"LOCAL_EMBEDDINGS_MODEL\")\n",
    "os.environ[\"OPENAI_MODEL_NAME\"] = 'gpt-3.5-turbo'\n",
    "DEBUG = os.getenv(\"DEBUG_MODE\", \"False\").lower() == \"true\"\n",
    "VERBOSE = 2 if DEBUG else False\n",
    "\n",
    "\n",
    "# ------- TOOLS ------- #\n",
    "\n",
    "@tool(\"Pesquisar em Livros\")\n",
    "def library_tool(text: str) -> str:\n",
    "    \"\"\"Retorna livros que possuem conteúdo relacionado com termo ou assunto buscado.\"\"\"\n",
    "    result = \"\"\n",
    "    db = utils.retriever_context(embeddings_model=EMBEDDINGS_MODEL, path_books=PATH_BOOKS, vector_store=VECTOR_STORE)\n",
    "    documents = db.similarity_search(text)\n",
    "    for row in documents:\n",
    "        page_content = row.page_content\n",
    "        source = row.metadata['source'].replace('./books/', '').replace('.pdf', '')\n",
    "        page = row.metadata['page']\n",
    "        result += f\"**Trecho de {source} - página {page}:** \\n{page_content}\\n\\n\"\n",
    "    return result\n",
    "\n",
    "\n",
    "# ------- AGENTS ------- #\n",
    "\n",
    "library_agent = Agent(\n",
    "    role=\"Especialista em Pesquisa em Biblioteca\",\n",
    "    goal=\"Encontre os trechos de livros que falem explicitamente do tópico fornecido.\",\n",
    "    backstory=(\n",
    "        \"Você atualmente é encarregado de usar a library_tool \"\n",
    "        \"para encontrar trechos que falem do tópico fornecido. \"\n",
    "        \"Seu objetivo é garantir que os trechos que você fornece \"\n",
    "        \"tratem diretamente do tópico e não uma relação distante. \"\n",
    "    ),\n",
    "    tools=[library_tool],\n",
    "    allow_delegation=False,\n",
    "    verbose=VERBOSE,\n",
    "    llm=llm\n",
    ")\n",
    "\n",
    "revisor_agent = Agent(\n",
    "    role=\"Revisor de Texto\",\n",
    "    goal=\"Revisar e melhorar a qualidade dos trechos fornecidos pelos Especialistas.\",\n",
    "    backstory=(\n",
    "        \"Você atualmente é encarregado de revisar e melhorar a qualidade \"\n",
    "        \"dos trechos fornecidos pelos Especialistas em Pesquisa da Biblioteca. \"\n",
    "        \"Seu objetivo é garantir que os trechos fornecidos são relevantes, \"\n",
    "        \"precisos e falem do tópico fornecido pelo cliente.\"\n",
    "    ),\n",
    "    allow_delegation=False,\n",
    "    verbose=VERBOSE,\n",
    "    llm=llm,\n",
    ")\n",
    "\n",
    "# ------- TASKS ------- #\n",
    "\n",
    "library_search_task = Task(\n",
    "    description=(\n",
    "        \"Sua tarefa é usar a library_tool para encontrar trechos de livros que falem explicitamente \"\n",
    "        \" do tópico: {text} \"\n",
    "    ),\n",
    "    expected_output=(\n",
    "        \"Trechos de livros que falem explicitamente do tópico fornecido. \"\n",
    "        \"Cada trecho deve ser claramente citado e incluída sua fonte, com o título do livro \"\n",
    "        \"autor e número da página.\"\n",
    "    ),\n",
    "    agent=library_agent,\n",
    ")\n",
    "\n",
    "library_select_task = Task(\n",
    "    description=(\n",
    "        \"Selecione os trechos que falam sobre o tópico: {text} \"\n",
    "        \"Explique a relação ou indique caso não haja relação. Responda em português.\"\n",
    "    ),\n",
    "    expected_output=(\n",
    "        \"Tópico fornecido pelo cliente.\"\n",
    "        \"Trechos que falam do tópico fornecido pelo cliente, citando com sua fonte, incluindo o título do livro \"\n",
    "        \"autor e número da página ou indicação caso não haja relação. \"\n",
    "        \"Explicação onde o trecho fala diretamente sobre o tópico fornecido pelo cliente.\"\n",
    "    ),\n",
    "    agent=revisor_agent,\n",
    ")"
   ]
  },
  {
   "cell_type": "code",
   "execution_count": 4,
   "metadata": {},
   "outputs": [],
   "source": [
    "crew = Crew(\n",
    "  agents=[library_agent, revisor_agent],\n",
    "  tasks=[library_search_task, library_select_task],\n",
    "  verbose=VERBOSE,\n",
    "  memory=False,\n",
    ")"
   ]
  },
  {
   "cell_type": "code",
   "execution_count": 5,
   "metadata": {},
   "outputs": [
    {
     "data": {
      "text/plain": [
       "'O que falta aos pregadores hoje'"
      ]
     },
     "execution_count": 5,
     "metadata": {},
     "output_type": "execute_result"
    }
   ],
   "source": [
    "input_text  = \"\"\"O que falta aos pregadores hoje\"\"\"\n",
    "input_text"
   ]
  },
  {
   "cell_type": "code",
   "execution_count": 6,
   "metadata": {},
   "outputs": [
    {
     "name": "stdout",
     "output_type": "stream",
     "text": [
      "\u001b[95m \n",
      "\n",
      "**Trecho de Por que tarda o pleno Avivamento - Leonard Ravenhill - página 77:** \n",
      "na sua fidelidade ao Pai  (prepa rou-se durante tanto tempo pa ra \n",
      "pregar por tão curto período); grande em sua submissão  ao Espírito \n",
      "(anda va ou parava de acordo com as orientações dele); grande nas \n",
      "afirm ações que fez  sobre o Filho (apon tando Jesus como “o Cordeiro \n",
      "de Deus, que tira o pecado do mundo ”, apesar de não te r-se avistado \n",
      "com ele antes).  \n",
      "João era uma “Voz”. A maioria dos pregadores não passa de ecos, \n",
      "pois, se prestarmos bem atenção, saberemos dizer quais os livros \n",
      "que andaram lendo, e notaremos que citaram muito pouco do Livro. E \n",
      "hoje, só uma Voz, voz de um pr ofeta enviado do céu par a pregar aos \n",
      "pregadores , conseguiria despertar o co ração dos homens. S ó quem\n",
      "\n",
      "**Trecho de Evangelho Maltrapilho - Brennan Manning - página 99:** \n",
      "Monk Kidd, \"confiando que a migalha da graça cairá\".102 Reconhecendo humildemente que são \n",
      "proletários impotentes para alcançarem o desejo  do coração sem ajuda di vina, eles são gratos \n",
      "pela menor migalha que cai da boca do pregador. \n",
      "Longas orações e palavras complicadas não convêm a maltrapilhos. Seu porta-voz é o \n",
      "cobrador de impostos no templo: \"O Deus, sê propício a mim, pecador!\" (Lc 18:13). O maltrapilho sabe que é o cobrad or de impostos e que recusar- se a admiti-lo faria dele um \n",
      "fariseu. Cobradores de impostos, zés-ninguém, vagabundos, mendigos de Jesus — os maltrapilhos sabem rir da sua vaidade de dese jarem ser percebidos e da vaidade de serem \n",
      "insignificantes.\n",
      "\n",
      "**Trecho de Somos Todos Teólogos - RC Sproul - página 210:** \n",
      "Quando, porém, vier o Consolador, que eu vos enviarei da parte do Pai, o Espírito\n",
      "da verdade, que dele procede, esse dará testemunho de mim; e vós também\n",
      "testemunhareis, porque estais comigo desde o princípio.\n",
      "Tenho-vos dito estas coisas para que não vos escandalizeis. Eles vos expulsarão\n",
      "das sinagogas; mas vem a hora em que todo o que vos matar julgará com isso\n",
      "tributar culto a Deus. Isto farão porque não conhecem o Pai, nem a mim. Ora, estas\n",
      "coisas vos tenho dito para que, quando a hora chegar, vos recordeis de que eu vo-\n",
      "las disse. Não vo-las disse desde o princípio, porque eu estava convosco (Jo 15.24-\n",
      "16.4).\n",
      " \n",
      "OUTRO CONSOLADOR\n",
      "\n",
      "**Trecho de Evangelho Maltrapilho - Brennan Manning - página 81:** \n",
      "vida e de amor que estão dentro de nós. E recai sobre nós o julgamento do Grande Senhor \n",
      "Executor de Mikado  sobre a garota que procrastinava perpe tuamente: \"Jamais se sentirá falta \n",
      "dela; não, não: jamais se sentirá falta dela!\" \n",
      "Cada um de nós paga um alto preço por nosso medo de cair de cara no chão. Ele assegura \n",
      "um estreitamento progressivo das nossas pe rsonalidades e impede a exploração e a \n",
      "experimentação. A medida que ficamos velhos seguimos fazendo apenas aquilo que fazemos \n",
      "bem. Não há crescimento em Jesus Cristo sem alguma dificuldade e embaraço. Se devemos nos \n",
      "manter crescendo, devemos permanecer correndo o risco de fracasso ao longo de toda a nossa\n",
      "\n",
      "\n",
      "\u001b[00m\n"
     ]
    }
   ],
   "source": [
    "inputs = {\n",
    "    \"text\": input_text\n",
    "}\n",
    "result = crew.kickoff(inputs=inputs)"
   ]
  },
  {
   "cell_type": "code",
   "execution_count": 7,
   "metadata": {},
   "outputs": [
    {
     "data": {
      "text/markdown": [
       "\n",
       "**Tarefa:** \n",
       "\n",
       "Sua tarefa é usar a library_tool para encontrar trechos de livros que falem explicitamente  do tópico: O que falta aos pregadores hoje  \n",
       " \n",
       "\n",
       "**Saída:** \n",
       "\n",
       "**Trecho de Por que tarda o pleno Avivamento - Leonard Ravenhill - página 77:** \n",
       "na sua fidelidade ao Pai  (prepa rou-se durante tanto tempo pa ra \n",
       "pregar por tão curto período); grande em sua submissão  ao Espírito \n",
       "(anda va ou parava de acordo com as orientações dele); grande nas \n",
       "afirm ações que fez  sobre o Filho (apon tando Jesus como “o Cordeiro \n",
       "de Deus, que tira o pecado do mundo ”, apesar de não te r-se avistado \n",
       "com ele antes).  \n",
       "João era uma “Voz”. A maioria dos pregadores não passa de ecos, \n",
       "pois, se prestarmos bem atenção, saberemos dizer quais os livros \n",
       "que andaram lendo, e notaremos que citaram muito pouco do Livro. E \n",
       "hoje, só uma Voz, voz de um pr ofeta enviado do céu par a pregar aos \n",
       "pregadores , conseguiria despertar o co ração dos homens. S ó quem\n",
       "\n",
       "**Trecho de Evangelho Maltrapilho - Brennan Manning - página 99:** \n",
       "Monk Kidd, \"confiando que a migalha da graça cairá\".102 Reconhecendo humildemente que são \n",
       "proletários impotentes para alcançarem o desejo  do coração sem ajuda di vina, eles são gratos \n",
       "pela menor migalha que cai da boca do pregador. \n",
       "Longas orações e palavras complicadas não convêm a maltrapilhos. Seu porta-voz é o \n",
       "cobrador de impostos no templo: \"O Deus, sê propício a mim, pecador!\" (Lc 18:13). O maltrapilho sabe que é o cobrad or de impostos e que recusar- se a admiti-lo faria dele um \n",
       "fariseu. Cobradores de impostos, zés-ninguém, vagabundos, mendigos de Jesus — os maltrapilhos sabem rir da sua vaidade de dese jarem ser percebidos e da vaidade de serem \n",
       "insignificantes.\n",
       "\n",
       "**Trecho de Somos Todos Teólogos - RC Sproul - página 210:** \n",
       "Quando, porém, vier o Consolador, que eu vos enviarei da parte do Pai, o Espírito\n",
       "da verdade, que dele procede, esse dará testemunho de mim; e vós também\n",
       "testemunhareis, porque estais comigo desde o princípio.\n",
       "Tenho-vos dito estas coisas para que não vos escandalizeis. Eles vos expulsarão\n",
       "das sinagogas; mas vem a hora em que todo o que vos matar julgará com isso\n",
       "tributar culto a Deus. Isto farão porque não conhecem o Pai, nem a mim. Ora, estas\n",
       "coisas vos tenho dito para que, quando a hora chegar, vos recordeis de que eu vo-\n",
       "las disse. Não vo-las disse desde o princípio, porque eu estava convosco (Jo 15.24-\n",
       "16.4).\n",
       " \n",
       "OUTRO CONSOLADOR\n",
       "\n",
       "**Trecho de Evangelho Maltrapilho - Brennan Manning - página 81:** \n",
       "vida e de amor que estão dentro de nós. E recai sobre nós o julgamento do Grande Senhor \n",
       "Executor de Mikado  sobre a garota que procrastinava perpe tuamente: \"Jamais se sentirá falta \n",
       "dela; não, não: jamais se sentirá falta dela!\" \n",
       "Cada um de nós paga um alto preço por nosso medo de cair de cara no chão. Ele assegura \n",
       "um estreitamento progressivo das nossas pe rsonalidades e impede a exploração e a \n",
       "experimentação. A medida que ficamos velhos seguimos fazendo apenas aquilo que fazemos \n",
       "bem. Não há crescimento em Jesus Cristo sem alguma dificuldade e embaraço. Se devemos nos \n",
       "manter crescendo, devemos permanecer correndo o risco de fracasso ao longo de toda a nossa\n"
      ],
      "text/plain": [
       "<IPython.core.display.Markdown object>"
      ]
     },
     "execution_count": 7,
     "metadata": {},
     "output_type": "execute_result"
    }
   ],
   "source": [
    "from IPython.display import display, Markdown\n",
    "\n",
    "def get_task_output(task):\n",
    "    return f\"\"\"\n",
    "**Tarefa:** \\n\n",
    "{task.output.description} \\n \\n\n",
    "**Saída:** \\n\n",
    "{task.output.raw_output}\n",
    "\"\"\"\n",
    "\n",
    "Markdown(get_task_output(library_search_task))\n"
   ]
  },
  {
   "cell_type": "code",
   "execution_count": 8,
   "metadata": {},
   "outputs": [
    {
     "data": {
      "text/markdown": [
       "\n",
       "**Tarefa:** \n",
       "\n",
       "Selecione os trechos que falam sobre o tópico: O que falta aos pregadores hoje Explique a relação ou indique caso não haja relação. Responda em português. \n",
       " \n",
       "\n",
       "**Saída:** \n",
       "\n",
       "**Trecho de Por que tarda o pleno Avivamento - Leonard Ravenhill - página 77:** \n",
       "O trecho fala sobre a importância de ser uma \"Voz\" como João, um profeta enviado do céu para pregar aos pregadores e despertar o coração dos homens. Destaca a necessidade de pregadores serem mais do que simples ecos, citando muito pouco do Livro, e sim serem fiéis ao Pai, submissos ao Espírito e afirmarem sobre o Filho. Isso mostra a falta de pregadores hoje em serem verdadeiras vozes que apontam para Jesus.\n",
       "\n",
       "**Trecho de Evangelho Maltrapilho - Brennan Manning - página 99:** \n",
       "Neste trecho, é abordada a humildade dos maltrapilhos em reconhecerem sua impotência e dependerem da graça divina. Eles são gratos até pela menor migalha que cai da boca do pregador, demonstrando a falta de humildade e dependência de muitos pregadores hoje em dia.\n",
       "\n",
       "**Trecho de Evangelho Maltrapilho - Brennan Manning - página 81:** \n",
       "O texto destaca a importância de enfrentar o medo de fracassar e cair de cara no chão, pois é necessário correr riscos para crescer em Jesus Cristo. Isso ressalta a falta de coragem e disposição para enfrentar desafios que muitos pregadores enfrentam atualmente.\n",
       "\n",
       "Esses trechos abordam a falta de pregadores hoje em serem verdadeiras vozes que apontam para Jesus, a falta de humildade e dependência da graça divina, e a falta de coragem para enfrentar desafios e crescer em Jesus Cristo.\n"
      ],
      "text/plain": [
       "<IPython.core.display.Markdown object>"
      ]
     },
     "execution_count": 8,
     "metadata": {},
     "output_type": "execute_result"
    }
   ],
   "source": [
    "from IPython.display import display, Markdown\n",
    "\n",
    "def get_task_output(task):\n",
    "    return f\"\"\"\n",
    "**Tarefa:** \\n\n",
    "{task.output.description} \\n \\n\n",
    "**Saída:** \\n\n",
    "{task.output.raw_output}\n",
    "\"\"\"\n",
    "\n",
    "Markdown(get_task_output(library_select_task))\n"
   ]
  },
  {
   "cell_type": "code",
   "execution_count": 9,
   "metadata": {},
   "outputs": [
    {
     "data": {
      "text/markdown": [
       "**Trecho de Por que tarda o pleno Avivamento - Leonard Ravenhill - página 77:** \n",
       "O trecho fala sobre a importância de ser uma \"Voz\" como João, um profeta enviado do céu para pregar aos pregadores e despertar o coração dos homens. Destaca a necessidade de pregadores serem mais do que simples ecos, citando muito pouco do Livro, e sim serem fiéis ao Pai, submissos ao Espírito e afirmarem sobre o Filho. Isso mostra a falta de pregadores hoje em serem verdadeiras vozes que apontam para Jesus.\n",
       "\n",
       "**Trecho de Evangelho Maltrapilho - Brennan Manning - página 99:** \n",
       "Neste trecho, é abordada a humildade dos maltrapilhos em reconhecerem sua impotência e dependerem da graça divina. Eles são gratos até pela menor migalha que cai da boca do pregador, demonstrando a falta de humildade e dependência de muitos pregadores hoje em dia.\n",
       "\n",
       "**Trecho de Evangelho Maltrapilho - Brennan Manning - página 81:** \n",
       "O texto destaca a importância de enfrentar o medo de fracassar e cair de cara no chão, pois é necessário correr riscos para crescer em Jesus Cristo. Isso ressalta a falta de coragem e disposição para enfrentar desafios que muitos pregadores enfrentam atualmente.\n",
       "\n",
       "Esses trechos abordam a falta de pregadores hoje em serem verdadeiras vozes que apontam para Jesus, a falta de humildade e dependência da graça divina, e a falta de coragem para enfrentar desafios e crescer em Jesus Cristo."
      ],
      "text/plain": [
       "<IPython.core.display.Markdown object>"
      ]
     },
     "execution_count": 9,
     "metadata": {},
     "output_type": "execute_result"
    }
   ],
   "source": [
    "Markdown(result)"
   ]
  },
  {
   "cell_type": "code",
   "execution_count": 10,
   "metadata": {},
   "outputs": [
    {
     "name": "stdout",
     "output_type": "stream",
     "text": [
      "{'total_tokens': 26820, 'prompt_tokens': 18486, 'completion_tokens': 8334, 'successful_requests': 18}\n"
     ]
    }
   ],
   "source": [
    "print(crew.usage_metrics)"
   ]
  },
  {
   "cell_type": "code",
   "execution_count": 11,
   "metadata": {},
   "outputs": [],
   "source": [
    "#todo: criar um script python para rodar e retornar tudo isso depois desenvolver o contexto e relações bíblicas contexto histórico etc"
   ]
  }
 ],
 "metadata": {
  "kernelspec": {
   "display_name": "crewai",
   "language": "python",
   "name": "python3"
  },
  "language_info": {
   "codemirror_mode": {
    "name": "ipython",
    "version": 3
   },
   "file_extension": ".py",
   "mimetype": "text/x-python",
   "name": "python",
   "nbconvert_exporter": "python",
   "pygments_lexer": "ipython3",
   "version": "3.12.2"
  }
 },
 "nbformat": 4,
 "nbformat_minor": 2
}

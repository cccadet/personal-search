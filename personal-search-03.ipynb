{
 "cells": [
  {
   "cell_type": "markdown",
   "metadata": {},
   "source": [
    "# Personal Search 02\n",
    "\n",
    "Busca de informações em livros usando FAISS"
   ]
  },
  {
   "cell_type": "markdown",
   "metadata": {},
   "source": [
    "## Import packages"
   ]
  },
  {
   "cell_type": "code",
   "execution_count": 1,
   "metadata": {},
   "outputs": [],
   "source": [
    "from langchain_community.llms import Ollama\n",
    "from langchain_community.chat_models import ChatOllama\n",
    "from langchain_community.embeddings import OllamaEmbeddings\n",
    "from langchain_community.vectorstores import FAISS\n",
    "from langchain_core.prompts import ChatPromptTemplate\n",
    "from langchain_core.output_parsers import StrOutputParser\n",
    "from operator import itemgetter\n",
    "from langchain_community.llms import Ollama\n",
    "from IPython.display import display, Markdown\n",
    "import logging\n",
    "\n",
    "#logging.basicConfig(level=logging.INFO)"
   ]
  },
  {
   "cell_type": "code",
   "execution_count": 2,
   "metadata": {},
   "outputs": [],
   "source": [
    "# limpar memória gpu\n",
    "#import torch\n",
    "#torch.cuda.empty_cache()"
   ]
  },
  {
   "cell_type": "markdown",
   "metadata": {},
   "source": [
    "## Configuration"
   ]
  },
  {
   "cell_type": "code",
   "execution_count": 3,
   "metadata": {},
   "outputs": [],
   "source": [
    "model = \"llama3:8b\"\n",
    "#model = \"mistral:7b\"\n",
    "embeddings_model = \"nomic-embed-text:v1.5\"\n",
    "path_books = \"./vector-store/books\"\n",
    "question = \"Homem e seu egoismo\""
   ]
  },
  {
   "cell_type": "markdown",
   "metadata": {},
   "source": [
    "## Retriever Instance"
   ]
  },
  {
   "cell_type": "code",
   "execution_count": 4,
   "metadata": {},
   "outputs": [],
   "source": [
    "embeddings = OllamaEmbeddings(model=embeddings_model)\n",
    "\n",
    "db = FAISS.load_local(path_books, embeddings, allow_dangerous_deserialization=True)\n",
    "\n",
    "retriever = db.as_retriever()\n",
    "retriever.search_kwargs[\"distance_metric\"] = \"cos\"\n",
    "retriever.search_kwargs[\"fetch_k\"] = 100\n",
    "retriever.search_kwargs[\"maximal_marginal_relevance\"] = False\n",
    "retriever.search_kwargs[\"k\"] = 2"
   ]
  },
  {
   "cell_type": "markdown",
   "metadata": {},
   "source": [
    "## Search"
   ]
  },
  {
   "cell_type": "code",
   "execution_count": 5,
   "metadata": {},
   "outputs": [],
   "source": [
    "sources = retriever.invoke(question)\n",
    "livros = ''\n",
    "for source in sources:\n",
    "    source_name = source.metadata['source'].split('/')[-1]\n",
    "    source_page = source.metadata['page']\n",
    "    livros += f'**Fonte:** {source_name} - Página: {source_page}\\n\\n'\n",
    "    livros += f'{source.page_content}\\n\\n'"
   ]
  },
  {
   "cell_type": "code",
   "execution_count": 6,
   "metadata": {},
   "outputs": [],
   "source": [
    "# RAG\n",
    "template = \"\"\"\n",
    "Cite trechos do contexto que tenha relação com \"{question}\". Não elabore, apenas cite.\n",
    "Caso não encontre, apenas diga que não encontrou. \n",
    "Obedeça o formato \"Citação do livro\" - Fonte: Nome do Livro - Página: Número da Página\n",
    "\n",
    "Contexto:\n",
    "{context}\n",
    "\n",
    "Responda em português.\n",
    "\"\"\"\n",
    "\n",
    "prompt = ChatPromptTemplate.from_template(template)\n",
    "\n",
    "llm = Ollama(model=model, temperature=0)\n",
    "#llm = ChatOllama(model=model, temperature=0)\n",
    "\n",
    "final_rag_chain = (\n",
    "    {\"context\": itemgetter(\"livros\"), \n",
    "     \"question\": itemgetter(\"question\")} \n",
    "    | prompt\n",
    "    | llm.bind(stop=[\"<|eot_id|>\"])\n",
    "    | StrOutputParser()\n",
    ")\n",
    "# llm.bind(stop=[\"<|eot_id|>\"])\n",
    "\n",
    "final_answer = final_rag_chain.invoke({\"question\":question, \"livros\":livros})"
   ]
  },
  {
   "cell_type": "code",
   "execution_count": 7,
   "metadata": {},
   "outputs": [
    {
     "data": {
      "text/markdown": [
       "**Tópico:** Homem e seu egoismo\n",
       "\n"
      ],
      "text/plain": [
       "<IPython.core.display.Markdown object>"
      ]
     },
     "metadata": {},
     "output_type": "display_data"
    },
    {
     "data": {
      "text/markdown": [
       "Aqui estão as citações relacionadas ao contexto \"Homem e seu egoismo\":\n",
       "\n",
       "**Fonte:** Conselhos para obreiros - Charles H Spurgeon.pdf - Página: 37\n",
       "\"O preguiçoso não tem direito ao púlpito. Ele é um instrumento de Satanás para condenar a alma dos homens.\"\n",
       "\n",
       "**Fonte:** O Peregrino - John Bunyan.pdf - Página: (não especificada)\n",
       "\"Nenhum deles, porém, ousava fazê-lo.\" (referindo-se ao homem que deseja entrar no castelo)"
      ],
      "text/plain": [
       "<IPython.core.display.Markdown object>"
      ]
     },
     "metadata": {},
     "output_type": "display_data"
    }
   ],
   "source": [
    "display(Markdown(f\"**Tópico:** {question}\\n\\n\"))\n",
    "display(Markdown(final_answer))"
   ]
  },
  {
   "cell_type": "code",
   "execution_count": 8,
   "metadata": {},
   "outputs": [
    {
     "data": {
      "text/markdown": [
       "**Fonte:** {'source': './books/import/Conselhos para obreiros - Charles H Spurgeon.pdf', 'page': 37}"
      ],
      "text/plain": [
       "<IPython.core.display.Markdown object>"
      ]
     },
     "metadata": {},
     "output_type": "display_data"
    },
    {
     "data": {
      "text/markdown": [
       "**Fonte:** {'source': './books/import/O Peregrino - John Bunyan.pdf', 'page': 37}"
      ],
      "text/plain": [
       "<IPython.core.display.Markdown object>"
      ]
     },
     "metadata": {},
     "output_type": "display_data"
    }
   ],
   "source": [
    "sources = retriever.invoke(question)\n",
    "for source in sources:\n",
    "    display(Markdown(f\"**Fonte:** {source.metadata}\"))\n",
    "    #display(Markdown(f\"**Trecho:** {source.page_content}\"))"
   ]
  },
  {
   "cell_type": "code",
   "execution_count": 9,
   "metadata": {},
   "outputs": [
    {
     "data": {
      "text/markdown": [
       "**Fonte:** 8\n",
       "O tipo de obreiro que Deus procura\n",
       "Que tipo de homem o Mestre quer usar? Certamente é aquele que é um trabalhador.\n",
       "O  grande  último dia  será  muito  difícil  para  aquele  que  não  trabalhar  arduamente  em  seu\n",
       "ministério, pois terá de responder pelo seu ócio. Quem deseja uma vida fácil nunca deveria\n",
       "pensar em ocupar o púlpito cristão. O púlpito não é o lugar dessa pessoa, e, quando ela ali\n",
       "chegar, o único conselho que posso lhe dar é que saia dessa posição o mais rápido possível. Se,\n",
       "por acaso, tal pessoa não deixar o púlpito, lembrá-la-ei das palavras de Jeú em relação a Jezabel:\n",
       "“Jogai-a daí para baixo” (2Rs 9.33) — e penso que isso se aplica ao ministro preguiçoso. O\n",
       "preguiçoso não tem direito ao púlpito. Ele é um instrumento de Satanás para condenar a alma dos\n",
       "homens. Inteligente ministério exige esforço mental; o pregador deve usar a inteligência em seu\n",
       "ensino, ler e estudar a fim de manter sua mente saudável. Não deve aborrecer as pessoas,\n",
       "dizendo-lhes a verdade de um modo antiquado e inútil, sem que nada de novo e genuíno brote da\n",
       "sua alma para fortalecer seu ensino. Acima de tudo, ele deve colocar seu coração na pregação.\n",
       "Ele deve sentir o que prega; pregar a mensagem nunca deve lhe parecer uma tarefa fácil. Ele\n",
       "deve se sentir, ao fim de uma mensagem, como se tivesse derramado a própria vida. Sua alma\n",
       "deve estar na obra; todo o seu ser deve estar envolvido no esforço; toda a destreza que Deus lhe\n",
       "deu deve ser usada vigorosamente na obra que foi confiada às suas mãos. Esse é o homem que\n",
       "nós queremos. Levantar-se e pregar um sermão monótono como um ronco, para pessoas que\n",
       "estão meio dormindo, meio acordadas, deve ser um trabalho muito triste. Eu me pergunto que\n",
       "tipo de desculpa alguns darão, no final, por terem agido assim habitualmente. Proclamar um\n",
       "credo estéril, explicar certas doutrinas usando argumentos lógicos, mas sem jamais incomodar a\n",
       "consciência das pessoas, nunca condenar seus pecados nem adverti-las dos perigos que estão\n",
       "correndo e nunca convidá-las a se achegarem ao Salvador com lágrimas e súplicas! Que obra\n",
       "sem  poder!  O  que  será  de  tais  pregadores?  Deus  tenha  misericórdia  deles!  Queremos\n",
       "trabalhadores, e não indolentes! Precisamos de homens que tenham o coração em chamas, e eu\n",
       "lhes suplico que peçam a Deus que envie tais homens. A colheita nunca será ceifada por homens\n",
       "que não trabalham; eles têm de arregaçar as mangas. Isso significa que eles devem deixar de lado"
      ],
      "text/plain": [
       "<IPython.core.display.Markdown object>"
      ]
     },
     "metadata": {},
     "output_type": "display_data"
    },
    {
     "data": {
      "text/markdown": [
       "**Trecho:** {'source': './books/import/Conselhos para obreiros - Charles H Spurgeon.pdf', 'page': 37}"
      ],
      "text/plain": [
       "<IPython.core.display.Markdown object>"
      ]
     },
     "metadata": {},
     "output_type": "display_data"
    },
    {
     "data": {
      "text/markdown": [
       "**Score:** 373.4029235839844"
      ],
      "text/plain": [
       "<IPython.core.display.Markdown object>"
      ]
     },
     "metadata": {},
     "output_type": "display_data"
    },
    {
     "data": {
      "text/markdown": [
       "**Fonte:** mas você pode ver que o fogo, assim mesmo, fica sempre maior e mais quente.\n",
       "Você também verá a razão disso.\n",
       "Então ele o levou para trás da parede, onde se via um homem com um vaso\n",
       "de óleo nas mãos. Ele, em segredo, derramava continuamente óleo no fogo.\n",
       "Cristão perguntou:\n",
       "— O que isso significa?\n",
       "— Este é Cristo, que continuamente, com o óleo da sua graça, mantém viva a\n",
       "obra já iniciada no coração, e por meio dessa obra, a despeito de tudo o que pode\n",
       "fazer o Diabo, as almas dos crentes se provam piedosas. Mas você observou\n",
       "também que o homem fica atrás da parede para alimentar o fogo. Isso é para\n",
       "ensinar-lhe que é difícil para aquele que é tentado ver como essa obra graciosa\n",
       "se conserva na alma.\n",
       "Vi também que Intérprete tomava-o novamente pela mão, levando-o até um\n",
       "lugar agradável, onde se erguia um imponente castelo, belo de admirar. Cristão\n",
       "exultou diante da visão. Viu ele também que, no terraço do castelo, algumas\n",
       "pessoas caminhavam, vestidas todas de ouro.\n",
       "— Podemos entrar? — perguntou Cristão.\n",
       "Intérprete então lhe tomou a mão e o levou até a porta do castelo, e eis que, à\n",
       "porta, havia um grande ajuntamento de homens, todos desejosos de entrar.\n",
       "Nenhum deles, porém, ousava fazê-lo. Ali também estava sentado um homem, a\n",
       "pouca distância da porta, ao lado de uma mesinha, e sobre esta se via um tinteiro\n",
       "e um livro, no qual ele anotava o nome daquele que haveria de entrar.\n",
       "Cristão viu também que no vão da porta havia muitos homens que, trajando\n",
       "armaduras, barravam a passagem, determinados a fazer todo dano e mal que\n",
       "pudessem àquele que tentasse entrar. Cristão ficou ali absorto. Por fim, quando\n",
       "todos começaram a recuar com medo dos homens armados, Cristão viu um\n",
       "homem de semblante bem resoluto aproximar-se do que estava sentado\n",
       "escrevendo e disse:\n",
       "— Anote o meu nome, senhor.\n",
       "Viu então que o homem desembainhava a espada e colocava um capacete na\n",
       "cabeça, avançando rumo à porta, contra os homens armados, que sobre ele\n",
       "caíram com força mortal. O homem, porém, não se deixou esmorecer e,\n",
       "mesmo caído, golpeava e talhava ferozmente. Assim, depois de ser ferido e ferir\n",
       "muitos dos homens que tentavam evitar a sua entrada, conseguiu abrir caminho\n",
       "em meio a todos eles, entrando no palácio.\n",
       "Ouviu-se, então, uma bela voz vinda dos que estavam lá dentro, dos três\n",
       "mesmos que caminhavam no terraço do palácio, e dizia:\n",
       " \n",
       "Entre, entre;\n",
       "Glória aqui você terá para sempre."
      ],
      "text/plain": [
       "<IPython.core.display.Markdown object>"
      ]
     },
     "metadata": {},
     "output_type": "display_data"
    },
    {
     "data": {
      "text/markdown": [
       "**Trecho:** {'source': './books/import/O Peregrino - John Bunyan.pdf', 'page': 37}"
      ],
      "text/plain": [
       "<IPython.core.display.Markdown object>"
      ]
     },
     "metadata": {},
     "output_type": "display_data"
    },
    {
     "data": {
      "text/markdown": [
       "**Score:** 374.0546875"
      ],
      "text/plain": [
       "<IPython.core.display.Markdown object>"
      ]
     },
     "metadata": {},
     "output_type": "display_data"
    },
    {
     "data": {
      "text/markdown": [
       "**Fonte:** ~ 65 ~ gostaria? O seguinte cenário provoca minha im aginação: Uma mulher humilde me procura por \n",
       "causa da minha exaltada reputação como guia espiritual. Ela é simples e direta: \n",
       "— Por favor, ensine-me a orar. \n",
       "— Fale-me sobre sua vida de oração — pergun to, sucintamente. Ela baixa os olhos e diz \n",
       "contritamente: — Não há muito que dizer. Eu oro antes da s refeições. Arrogantemente, eu replico: \n",
       "— Ora antes das refeições? Mas isso não é dema is, minha senhora? Eu  oro quando acordo \n",
       "e antes de me recolher, e oro novamente antes de le r o jornal e de ligar a televisão. Oro antes de \n",
       "caminhar e de meditar, antes do teatro e da ópera, antes de corre r, antes de nadar, de andar de \n",
       "bicicleta, de jantar, de palestrar e de  escrever. Oro até mesmo antes de orar. \n",
       "Naquela noite, transbordando de auto-aprovação, vou à presença do Senhor. E ele sussurra: \n",
       "— Seu joão-ninguém ingrato. Até o desejo de orar é dom meu. Há uma antiga lenda cristã que conta: \"Qua ndo o Filho de Deus foi pregado à cruz e \n",
       "entregou o espírito, foi diretamente da cruz ao  inferno para libertar todos os pecadores que \n",
       "estavam sendo atormentados ali. O Diabo entã o chorou e lamentou porque achava que não \n",
       "conseguiria mais pecadores para o inferno. Deus  então disse a ele: 'Não chore, porque vou \n",
       "mandar até você toda aquela gente santa que se  tornou complacente com a consciência da sua \n",
       "bondade e cheia de justiça própria na sua condenaç ão dos pecadores. E o inferno ficará repleto \n",
       "mais uma vez por gerações, at é que eu venha novamente\".\n",
       "66 \n",
       "Quanto tempo será necessário até que descubramos que não somos capazes de ofuscar a \n",
       "Deus com nossas realizações? \n",
       "Quando reconheceremos que não precisamos e não temos como comprar o favor de Deus? \n",
       "Quando reconheceremos que não temos de for ma alguma os requisitos necessários e \n",
       "aceitaremos alegremente o dom da graça? Quan do iremos apreender a empolgante verdade de \n",
       "Paulo: \"sabendo, contudo, que o homem não é just ificado por obras da lei, e sim mediante a fé \n",
       "em Cristo Jesus\" (Gl 2:16)? \n",
       "A fé autêntica nos leva a tratar os outros co m seriedade incondicional e a uma reverência \n",
       "amorosa pelo mistério da personalidade humana . O cristianismo autêntico deveria conduzir à \n",
       "maturidade, à personalidade e à realidade. De veria moldar homens e mulheres que vivam \n",
       "integralmente vidas de amor e de comunhão. \n",
       "A religião falsa e manipulada produz o efeito oposto. Quando a religião demonstra desdém"
      ],
      "text/plain": [
       "<IPython.core.display.Markdown object>"
      ]
     },
     "metadata": {},
     "output_type": "display_data"
    },
    {
     "data": {
      "text/markdown": [
       "**Trecho:** {'source': './books/import/Evangelho Maltrapilho - Brennan Manning.pdf', 'page': 64}"
      ],
      "text/plain": [
       "<IPython.core.display.Markdown object>"
      ]
     },
     "metadata": {},
     "output_type": "display_data"
    },
    {
     "data": {
      "text/markdown": [
       "**Score:** 389.10858154296875"
      ],
      "text/plain": [
       "<IPython.core.display.Markdown object>"
      ]
     },
     "metadata": {},
     "output_type": "display_data"
    },
    {
     "data": {
      "text/markdown": [
       "**Fonte:** 1Alexander Pope, Ensaio sobre o homem, v. 3, epístola IV."
      ],
      "text/plain": [
       "<IPython.core.display.Markdown object>"
      ]
     },
     "metadata": {},
     "output_type": "display_data"
    },
    {
     "data": {
      "text/markdown": [
       "**Trecho:** {'source': './books/import/Conselhos para obreiros - Charles H Spurgeon.pdf', 'page': 29}"
      ],
      "text/plain": [
       "<IPython.core.display.Markdown object>"
      ]
     },
     "metadata": {},
     "output_type": "display_data"
    },
    {
     "data": {
      "text/markdown": [
       "**Score:** 395.8448486328125"
      ],
      "text/plain": [
       "<IPython.core.display.Markdown object>"
      ]
     },
     "metadata": {},
     "output_type": "display_data"
    }
   ],
   "source": [
    "sources = db.similarity_search_with_score(question)\n",
    "for source in sources:\n",
    "    display(Markdown(f\"**Fonte:** {source[0].page_content}\"))\n",
    "    display(Markdown(f\"**Trecho:** {source[0].metadata}\"))\n",
    "    display(Markdown(f\"**Score:** {source[1]}\"))"
   ]
  }
 ],
 "metadata": {
  "kernelspec": {
   "display_name": "ollama",
   "language": "python",
   "name": "python3"
  },
  "language_info": {
   "codemirror_mode": {
    "name": "ipython",
    "version": 3
   },
   "file_extension": ".py",
   "mimetype": "text/x-python",
   "name": "python",
   "nbconvert_exporter": "python",
   "pygments_lexer": "ipython3",
   "version": "3.10.14"
  }
 },
 "nbformat": 4,
 "nbformat_minor": 2
}

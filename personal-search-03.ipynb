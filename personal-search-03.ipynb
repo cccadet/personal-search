{
 "cells": [
  {
   "cell_type": "markdown",
   "metadata": {},
   "source": [
    "# Personal Search 02\n",
    "\n",
    "Busca de informações em livros usando FAISS"
   ]
  },
  {
   "cell_type": "markdown",
   "metadata": {},
   "source": [
    "## Import packages"
   ]
  },
  {
   "cell_type": "code",
   "execution_count": 1,
   "metadata": {},
   "outputs": [],
   "source": [
    "from langchain_community.llms import Ollama\n",
    "from langchain_community.chat_models import ChatOllama\n",
    "from langchain_community.embeddings import OllamaEmbeddings\n",
    "from langchain_community.vectorstores import FAISS\n",
    "from langchain_core.prompts import ChatPromptTemplate\n",
    "from langchain_core.output_parsers import StrOutputParser\n",
    "from operator import itemgetter\n",
    "from langchain_community.llms import Ollama\n",
    "from IPython.display import display, Markdown\n",
    "import logging\n",
    "\n",
    "#logging.basicConfig(level=logging.INFO)"
   ]
  },
  {
   "cell_type": "markdown",
   "metadata": {},
   "source": [
    "## Configuration"
   ]
  },
  {
   "cell_type": "code",
   "execution_count": 2,
   "metadata": {},
   "outputs": [],
   "source": [
    "#model = \"llama3:8b\"\n",
    "model = \"mistral:7b\"\n",
    "embeddings_model = \"nomic-embed-text:v1.5\"\n",
    "path_books = \"./vector-store/books\"\n",
    "question = \"Dificuldades na vida do Cristão\""
   ]
  },
  {
   "cell_type": "markdown",
   "metadata": {},
   "source": [
    "## Retriever Instance"
   ]
  },
  {
   "cell_type": "code",
   "execution_count": 21,
   "metadata": {},
   "outputs": [],
   "source": [
    "embeddings = OllamaEmbeddings(model=embeddings_model)\n",
    "\n",
    "db = FAISS.load_local(path_books, embeddings, allow_dangerous_deserialization=True)\n",
    "\n",
    "retriever = db.as_retriever()\n",
    "retriever.search_kwargs[\"distance_metric\"] = \"cos\"\n",
    "retriever.search_kwargs[\"fetch_k\"] = 100\n",
    "retriever.search_kwargs[\"maximal_marginal_relevance\"] = False\n",
    "retriever.search_kwargs[\"k\"] = 2"
   ]
  },
  {
   "cell_type": "markdown",
   "metadata": {},
   "source": [
    "## Search"
   ]
  },
  {
   "cell_type": "code",
   "execution_count": 22,
   "metadata": {},
   "outputs": [],
   "source": [
    "sources = retriever.invoke(question)\n",
    "livros = ''\n",
    "for source in sources:\n",
    "    source_name = source.metadata['source'].split('/')[-1]\n",
    "    source_page = source.metadata['page']\n",
    "    livros += f'**Fonte:** {source_name} - Página: {source_page}\\n\\n'\n",
    "    livros += f'{source.page_content}\\n\\n\\n'"
   ]
  },
  {
   "cell_type": "code",
   "execution_count": 23,
   "metadata": {},
   "outputs": [],
   "source": [
    "# RAG\n",
    "template = \"\"\"\n",
    "Cite partes do livro abaixo caso tenham relação com \"{question}\".\n",
    "\n",
    "Livros:\n",
    "{context}\n",
    "\n",
    "Responda em português.\n",
    "\"\"\"\n",
    "\n",
    "prompt = ChatPromptTemplate.from_template(template)\n",
    "\n",
    "llm = Ollama(model=model, temperature=0)\n",
    "#llm = ChatOllama(model=model, temperature=0)\n",
    "\n",
    "final_rag_chain = (\n",
    "    {\"context\": itemgetter(\"livros\"), \n",
    "     \"question\": itemgetter(\"question\")} \n",
    "    | prompt\n",
    "    | llm\n",
    "    | StrOutputParser()\n",
    ")\n",
    "\n",
    "final_answer = final_rag_chain.invoke({\"question\":question, \"livros\":livros})"
   ]
  },
  {
   "cell_type": "code",
   "execution_count": 24,
   "metadata": {},
   "outputs": [
    {
     "data": {
      "text/markdown": [
       "**Busca:** Dificuldades na vida do Cristão\n",
       "\n"
      ],
      "text/plain": [
       "<IPython.core.display.Markdown object>"
      ]
     },
     "metadata": {},
     "output_type": "display_data"
    },
    {
     "data": {
      "text/markdown": [
       " As passagens do livro \"Evangelho Maltrapilho\" de Brennan Manning que podem se relacionar com \"Dificuldades na vida do Cristão\" são as seguintes:\n",
       "\n",
       "1. Página 86 e 87: Neste trecho, o autor descreve a maneira como os cristãos podem se distanciar de Deus, ficando presos em uma rotina monótona e superficial, sem ver a graça divina em sua vida. Ele também escreve sobre o perdão que Deus oferece aos pecadores, independentemente de suas falhas passadas.\n",
       "2. Página 87: Neste trecho, o autor conta a história do filho pródigo e descreve como ele retorna a casa de seu pai apenas para sobreviver, sem ver a graça e o amor que este lhe oferece. O autor também descreve a reação do pai ao ver o filho, que é marcada por compaixão e amor incondicional.\n",
       "\n",
       "Em resumo, essas passagens discutem sobre como os cristãos podem se distanciar de Deus e perder a graça em suas vidas, além da importância do perdão divino e do amor infinito de Deus para nós, independentemente de nossas falhas."
      ],
      "text/plain": [
       "<IPython.core.display.Markdown object>"
      ]
     },
     "metadata": {},
     "output_type": "display_data"
    }
   ],
   "source": [
    "display(Markdown(f\"**Busca:** {question}\\n\\n\"))\n",
    "display(Markdown(final_answer))"
   ]
  },
  {
   "cell_type": "code",
   "execution_count": 28,
   "metadata": {},
   "outputs": [
    {
     "data": {
      "text/markdown": [
       "**Fonte:** {'source': './books/import/Evangelho Maltrapilho - Brennan Manning.pdf', 'page': 86}"
      ],
      "text/plain": [
       "<IPython.core.display.Markdown object>"
      ]
     },
     "metadata": {},
     "output_type": "display_data"
    },
    {
     "data": {
      "text/markdown": [
       "**Fonte:** {'source': './books/import/Evangelho Maltrapilho - Brennan Manning.pdf', 'page': 87}"
      ],
      "text/plain": [
       "<IPython.core.display.Markdown object>"
      ]
     },
     "metadata": {},
     "output_type": "display_data"
    }
   ],
   "source": [
    "sources = retriever.invoke(question)\n",
    "for source in sources:\n",
    "    display(Markdown(f\"**Fonte:** {source.metadata}\"))\n",
    "    #display(Markdown(f\"**Trecho:** {source.page_content}\"))"
   ]
  },
  {
   "cell_type": "code",
   "execution_count": 26,
   "metadata": {},
   "outputs": [
    {
     "data": {
      "text/markdown": [
       "**Fonte:** ~ 87 ~ o outro lado, fechamos Deus para a nossa consci ência, nosso coração se  esfria. Os cristãos \n",
       "agnósticos não negam um Deus pessoal; eles demonstram a sua descrença quando ignoram o sagrado. A trivialidade da nossa vida é mudo testemunho da surrada mobília de nossa alma. \n",
       "Nossos dias vão assim se tornan do cada vez mais triviais. \"Ficamos presos num labirinto \n",
       "frenético. Levantando quando o relógio determ ina. Bombardeados por manchetes de jornal \n",
       "que parecem remotas e além do alcance. Extenu ados por todas as oper ações mecânicas que nos \n",
       "lançam à atividade e à produtividade. Testados  pelo tráfego, forçados a calcular tempo e \n",
       "distância a nível de segundo. Elevadores, tel efones e engenhocas guiam-nos pelas interações \n",
       "necessárias e mantêm as interações humana s superficiais e num nível mínimo. Nossa \n",
       "concentração é interrompida por reuniões e pequen as crises. No fim do dia, rebobinamos a nós \n",
       "mesmos: tráfego, automação, manchetes, até que o alarme do relógio imponha a acordar de \n",
       "amanhã. Rotinas de procedimentos e de timing. Pouco espaço para responder humanamente e \n",
       "com humanidade aos eventos diários; pouco tempo para adentrar a sabedoria e o vigor e a \n",
       "promessa de suas oportunidades. Sentimos nossa vida sufocando-nos, confinando-nos e \n",
       "moldando-nos\".\n",
       "89 \n",
       "Estabelecemos e nos conformamos a vidas de  piedade confortável e de virtude bem-\n",
       "alimentada. Tornamo-nos complacentes e vivemos vidas práticas. Nossas débeis tentativas de \n",
       "orar são repletas de frases pomposas direci onadas a uma divindade impassível. Até mesmo \n",
       "ocasiões de adoração tornam-se triviais. \n",
       "E este o manquejar vitorioso freqüentemente  vivido por este escritor. Em momentos \n",
       "diferentes da jornada tentei encher o vazio qu e acompanha muitas veze s a presença de Deus \n",
       "através de uma variedade de substitutos: escrever , pregar, viajar, televisão, cinema, sorvete, \n",
       "relacionamentos superficiais, esportes, música, devaneio, álcool, etc. Como diz Annie Dillard: \n",
       "\"Há sempre uma enorme tentação de se embrom ar fazendo amigos efêm eros, refeições efêmeras \n",
       "e viagens efêmeras ao longo de anos efêmeros sem fim\".90 Ao longo do caminho optei pela \n",
       "escravidão e perdi todo o desejo de liberdade.  Amei meu cativeiro e aprisionei a mim mesmo \n",
       "no desejo por coisas que eu odiava. Endureci meu amor contra o amor verdadeiro. Abandonei \n",
       "a oração e fugi da simples santidade da minha vida. Num determinado dia, quando a graça me"
      ],
      "text/plain": [
       "<IPython.core.display.Markdown object>"
      ]
     },
     "metadata": {},
     "output_type": "display_data"
    },
    {
     "data": {
      "text/markdown": [
       "**Trecho:** {'source': './books/import/Evangelho Maltrapilho - Brennan Manning.pdf', 'page': 86}"
      ],
      "text/plain": [
       "<IPython.core.display.Markdown object>"
      ]
     },
     "metadata": {},
     "output_type": "display_data"
    },
    {
     "data": {
      "text/markdown": [
       "**Score:** 293.3338317871094"
      ],
      "text/plain": [
       "<IPython.core.display.Markdown object>"
      ]
     },
     "metadata": {},
     "output_type": "display_data"
    },
    {
     "data": {
      "text/markdown": [
       "**Fonte:** ~ 88 ~ Deus sabe como perdoar e colocar todos os qu atro juntos. O pai do pródigo verdadeiramente \n",
       "disse: \"Shh, menino. Não preciso saber onde  você esteve ou o que tem aprontado\". \n",
       "O evangelho da graça anuncia: o perdão pre cede o arrependimento. O pecador é aceito \n",
       "antes de implorar por misericórdia. Ela já é as segurada. Ele precisa apenas aceitá-la. Anistia \n",
       "total. Perdão gracioso. \"Só Deus é capaz de tornar  o perdão algo glorioso de se lembrar. Ele tem \n",
       "tanto prazer em nos perdoar que aqueles que lh e proporcionaram essa alegria não se sentem \n",
       "como pestinhas repulsivos e importunos, ma s como crianças mimadas, compreendidas e \n",
       "encorajadas, agradáveis e úteis para ele, infinitamente melhores  do que se consideravam. 'Que \n",
       "erro feliz!', eles poderiam gritar. Se não fôsse mos pecadores e não precisássemos do perdão mais \n",
       "do que de pão, não teríamos como saber quão profundo é o amor de Deus\".91 \n",
       "Quando o filho pródigo coxeou até sua casa de pois de sua prolongada farra de devassidão e \n",
       "vadiagem, bebedeira e promiscuidade, suas motivaç ões eram, na melhor das hipóteses, incertas. \n",
       "Ele disse a si mesmo: \"Quantos trabalhadores de  meu pai têm abundância de pão, e eu aqui \n",
       "pereço de tome! Levantar-me-ei, e irei  ter com meu pai\" (Lc 15:17,18; ARC).  O estômago do \n",
       "maltrapilho não estava doendo de remorso porque ele havia pa rtido o coração do pai. Ele \n",
       "cambaleou para casa simplesmente para sobrev iver. Sua permanência numa terra distante o \n",
       "havia deixado falido. Os dias de vinho e rosa s o haviam deixado atordoado e desiludido. O \n",
       "vinho azedou e as rosas murcharam. Sua decl aração de independência havia ceifado uma \n",
       "colheita inesperada: não liberdade,  alegria e uma vida nova, mas ca tiveiro, tristeza e um embate \n",
       "com a morte. Os amigos-da-onça haviam transfer ido suas lealdades quando o seu cofrinho se \n",
       "esvaziou. Desencantado com a vi da, o gastador traçou o cami nho de volta para casa, não \n",
       "ardendo de desejo de ver seu pai,  mas de apenas permanecer vivo. \n",
       "Para mim, o versículo mais tocante da Bíblia inteira é a reação do pai: \"E, quando ainda \n",
       "estava longe, viu-o seu pai, e se moveu de íntima compaixão, e, correndo, lançou-se-lhe ao \n",
       "pescoço, e o beijou\" (Lc 15:20; ARC).  Emociona-me que o pai não tenha submetido o rapaz a \n",
       "interrogatório cruzado, que não o tenha intimi dado, que não tenha dado um sermão sobre \n",
       "ingratidão, que não tenha insistid o em qualquer motivação superior. Ele ficou tão alegre ao ver"
      ],
      "text/plain": [
       "<IPython.core.display.Markdown object>"
      ]
     },
     "metadata": {},
     "output_type": "display_data"
    },
    {
     "data": {
      "text/markdown": [
       "**Trecho:** {'source': './books/import/Evangelho Maltrapilho - Brennan Manning.pdf', 'page': 87}"
      ],
      "text/plain": [
       "<IPython.core.display.Markdown object>"
      ]
     },
     "metadata": {},
     "output_type": "display_data"
    },
    {
     "data": {
      "text/markdown": [
       "**Score:** 304.14361572265625"
      ],
      "text/plain": [
       "<IPython.core.display.Markdown object>"
      ]
     },
     "metadata": {},
     "output_type": "display_data"
    },
    {
     "data": {
      "text/markdown": [
       "**Fonte:** morte (Hb 2:14), não sem que ele mesmo corresse grande risco, o que me fez\n",
       "amá-lo ainda mais.\n",
       "Pois, como disseram eles, e como creio eu (disse Cristão), ele o fez com\n",
       "perda de muito sangue; mas o que espalha a glória da graça em tudo o que ele\n",
       "fez é o fato de tê-lo feito por puro amor por sua terra. Aliás, alguns da casa\n",
       "disseram que o haviam visto e também conversado com ele depois de sua morte\n",
       "na cruz. Atestaram ter ouvido de sua própria boca que ele ama tanto os pobres\n",
       "peregrinos que, de leste a oeste, não se acha amor igual.\n",
       "Além disso, deram como exemplo daquilo que afirmavam o seguinte: ele\n",
       "havia se despido da própria glória para isso fazer pelos pobres; e disseram tê-lo\n",
       "ouvido falar e afirmar que não habitaria só na montanha de Sião. Disseram,\n",
       "ainda, que ele fizera príncipes a muitos peregrinos, embora por natureza tenham\n",
       "nascido mendigos e sua origem fosse o monturo (1Sm 2:8; Sl 113:7).\n",
       "Assim conversaram até tarde da noite e, após orar pedindo a proteção do\n",
       "Senhor, foram afinal repousar. O peregrino foi acomodado em um amplo quarto\n",
       "no andar de cima, cuja janela dava para o nascente. O nome do quarto era Paz,\n",
       "e ali ele dormiu até o raiar do dia. Então acordou e cantou:\n",
       " \n",
       "Onde estou agora? Será isso o zelo divino\n",
       "O amor de Jesus por aquele que é peregrino?\n",
       "Tantas coisas dá! Até perdão ao réu\n",
       "Que habita já nas vizinhanças do próprio céu.\n",
       " \n",
       "Então, de manhã, todos se levantaram e, conversando, disseram-lhe que não\n",
       "partisse sem antes ver as raridades da casa. Primeiro levaram-no até a\n",
       "biblioteca, onde lhe mostraram documentos de grande antiguidade. Se bem me\n",
       "lembro do meu sonho, mostraram-lhe antes de tudo a ascendência do Senhor do\n",
       "morro, que era filho do Ancião de Dias e veio à existência por eterna geração.\n",
       "Ali também se achavam mais plenamente registrados os atos que ele executara,\n",
       "os nomes das muitas centenas que ele tomara para seu serviço, e como ele os\n",
       "havia posto em moradas que jamais seriam destruídas, nem pela passagem dos\n",
       "dias nem pela degeneração da natureza.\n",
       "Então leram para ele alguns dos atos meritórios que alguns de seus servos\n",
       "haviam feito: como subjugaram reinos, executaram a justiça, alcançaram\n",
       "promessas, fecharam as bocas de leões, aplacaram a violência do fogo,\n",
       "escaparam ao fio da espada, da fraqueza extraíram força, agigantaram-se na\n",
       "luta e fizeram bater em retirada exércitos de estrangeiros (Hb 11:33-34).\n",
       "Depois leram ainda em outro volume dos documentos do lugar um trecho em"
      ],
      "text/plain": [
       "<IPython.core.display.Markdown object>"
      ]
     },
     "metadata": {},
     "output_type": "display_data"
    },
    {
     "data": {
      "text/markdown": [
       "**Trecho:** {'source': './books/import/O Peregrino - John Bunyan.pdf', 'page': 52}"
      ],
      "text/plain": [
       "<IPython.core.display.Markdown object>"
      ]
     },
     "metadata": {},
     "output_type": "display_data"
    },
    {
     "data": {
      "text/markdown": [
       "**Score:** 304.92279052734375"
      ],
      "text/plain": [
       "<IPython.core.display.Markdown object>"
      ]
     },
     "metadata": {},
     "output_type": "display_data"
    },
    {
     "data": {
      "text/markdown": [
       "**Fonte:** vida, o poder dos nossos cultos públicos e da devoção particular evapora rapidamente; oramos\n",
       "como num sonho; louvamos e pregamos como sonâmbulos. Que Deus venha a nos acordar e\n",
       "avivar, enviando a nova chuva matutina para renovar as forças de sua herança cansada.\n",
       "Temos atualmente poucos gigantes cheios de graça que levantam a cabeça e os ombros acima da\n",
       "estatura comum; homens que nos guiam em atos de heroísmo e demonstrações de fé inabalável.\n",
       "Afinal de contas, a obra da igreja cristã, embora devesse ser feita por todos, é geralmente feita\n",
       "por algumas pessoas que têm uma notável graça. Nesta era degenerada, somos muito parecidos\n",
       "com Israel na época dos Juízes, pois há em nosso meio líderes que julgam Israel e são o terror\n",
       "dos inimigos. Ah! Se a igreja ainda tivesse entre os seus membros uma raça de heróis! Se nossas\n",
       "operações  missionárias  fossem  realizadas  com  a  bravura  santa  que  marcou  a  igreja  dos\n",
       "primórdios; se pudéssemos trazer de volta os apóstolos e os mártires, ou mesmo Carey e Judson,\n",
       "que milagres  seriam feitos! Temos  produzido uma raça  de duendes  e, de modo geral,  nos\n",
       "contentamos com isso.\n",
       "Existia um clube de baixinhos em Londres, cuja qualificação para aceitação no rol de membros\n",
       "era não ter mais de um metro e meio de altura. Aqueles anões tinham a convicção — ou fingiam\n",
       "ter — de que estavam mais perto da perfeição de masculinidade do que os outros, argumentando\n",
       "que os homens primitivos tinham sido muito mais gigantescos do que os espécimes atuais, e,\n",
       "consequentemente, o caminho da evolução era crescer cada vez menos. Sendo assim, à medida\n",
       "que a espécie humana fosse se aperfeiçoando, os indivíduos se tornariam tão diminutos quanto\n",
       "eles. É possível criar um clube de cristãos semelhante em Londres. Sem nenhuma dificuldade,\n",
       "pode-se atingir um enorme número de membros, pois é muito comum a ideia de que nosso\n",
       "cristianismo  anão é, afinal, o padrão, e muitos  até acham  que os cristãos mais  nobres são\n",
       "espalhafatosos, fanáticos e de sangue quente; enquanto nós somos contidos porque sábios e\n",
       "indiferentes porque inteligentes. Devemos acabar com essa bobagem. O fato é que a maioria de\n",
       "nós é inferior aos cristãos primitivos, que foram perseguidos por serem totalmente cristãos. Não\n",
       "sofremos  perseguição  porque  dificilmente  somos  plenamente  cristãos.  Eles  eram  tão\n",
       "determinados na propagação do reino do Redentor que se tornaram o estorvo da época em que"
      ],
      "text/plain": [
       "<IPython.core.display.Markdown object>"
      ]
     },
     "metadata": {},
     "output_type": "display_data"
    },
    {
     "data": {
      "text/markdown": [
       "**Trecho:** {'source': './books/import/Conselhos para obreiros - Charles H Spurgeon.pdf', 'page': 23}"
      ],
      "text/plain": [
       "<IPython.core.display.Markdown object>"
      ]
     },
     "metadata": {},
     "output_type": "display_data"
    },
    {
     "data": {
      "text/markdown": [
       "**Score:** 308.45294189453125"
      ],
      "text/plain": [
       "<IPython.core.display.Markdown object>"
      ]
     },
     "metadata": {},
     "output_type": "display_data"
    }
   ],
   "source": [
    "sources = db.similarity_search_with_score(question)\n",
    "for source in sources:\n",
    "    display(Markdown(f\"**Fonte:** {source[0].page_content}\"))\n",
    "    display(Markdown(f\"**Trecho:** {source[0].metadata}\"))\n",
    "    display(Markdown(f\"**Score:** {source[1]}\"))"
   ]
  }
 ],
 "metadata": {
  "kernelspec": {
   "display_name": "ollama",
   "language": "python",
   "name": "python3"
  },
  "language_info": {
   "codemirror_mode": {
    "name": "ipython",
    "version": 3
   },
   "file_extension": ".py",
   "mimetype": "text/x-python",
   "name": "python",
   "nbconvert_exporter": "python",
   "pygments_lexer": "ipython3",
   "version": "3.10.14"
  }
 },
 "nbformat": 4,
 "nbformat_minor": 2
}

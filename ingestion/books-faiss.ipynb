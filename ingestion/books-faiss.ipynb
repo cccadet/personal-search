{
 "cells": [
  {
   "cell_type": "markdown",
   "metadata": {},
   "source": [
    "# Import books\n",
    "\n",
    "https://github.com/users/cccadet/projects/6/views/1?pane=issue&itemId=65274385"
   ]
  },
  {
   "cell_type": "markdown",
   "metadata": {},
   "source": [
    "## Import libraries"
   ]
  },
  {
   "cell_type": "code",
   "execution_count": 1,
   "metadata": {},
   "outputs": [],
   "source": [
    "from utils import BookIngestor"
   ]
  },
  {
   "cell_type": "code",
   "execution_count": 2,
   "metadata": {},
   "outputs": [
    {
     "name": "stderr",
     "output_type": "stream",
     "text": [
      "INFO:root:Loading books from ./books\n",
      "INFO:root:Processing book ./books/Por que tarda o pleno Avivamento - Leonard Ravenhill.pdf\n",
      "INFO:root:Loading PDF ./books/Por que tarda o pleno Avivamento - Leonard Ravenhill.pdf\n",
      "INFO:root:Chunking documents\n",
      "INFO:root:Creating vector store\n",
      "INFO:faiss.loader:Loading faiss with AVX2 support.\n",
      "INFO:faiss.loader:Successfully loaded faiss with AVX2 support.\n",
      "INFO:root:Vector store loaded 423\n",
      "INFO:root:Moving book ./books/Por que tarda o pleno Avivamento - Leonard Ravenhill.pdf to ./books/done\n",
      "INFO:root:Processing book ./books/Sociedade do Cansaço - Byung-Chul Han.pdf\n",
      "INFO:root:Loading PDF ./books/Sociedade do Cansaço - Byung-Chul Han.pdf\n",
      "INFO:root:Chunking documents\n",
      "INFO:root:Loading vector store\n",
      "INFO:root:Adding documents to vector store\n",
      "INFO:root:Vector store loaded 571\n",
      "INFO:root:Moving book ./books/Sociedade do Cansaço - Byung-Chul Han.pdf to ./books/done\n",
      "INFO:root:Processing book ./books/Somos Todos Teólogos - RC Sproul.pdf\n",
      "INFO:root:Loading PDF ./books/Somos Todos Teólogos - RC Sproul.pdf\n",
      "INFO:root:Chunking documents\n",
      "INFO:root:Loading vector store\n",
      "INFO:root:Adding documents to vector store\n",
      "INFO:root:Vector store loaded 1747\n",
      "INFO:root:Moving book ./books/Somos Todos Teólogos - RC Sproul.pdf to ./books/done\n",
      "INFO:root:Processing book ./books/Não coisas - Byung Chul Han.pdf\n",
      "INFO:root:Loading PDF ./books/Não coisas - Byung Chul Han.pdf\n",
      "INFO:root:Chunking documents\n",
      "INFO:root:Loading vector store\n",
      "INFO:root:Adding documents to vector store\n",
      "INFO:root:Vector store loaded 2085\n",
      "INFO:root:Moving book ./books/Não coisas - Byung Chul Han.pdf to ./books/done\n",
      "INFO:root:Processing book ./books/O Peregrino - John Bunyan.pdf\n",
      "INFO:root:Loading PDF ./books/O Peregrino - John Bunyan.pdf\n",
      "INFO:root:Chunking documents\n",
      "INFO:root:Loading vector store\n",
      "INFO:root:Adding documents to vector store\n",
      "INFO:root:Vector store loaded 2713\n",
      "INFO:root:Moving book ./books/O Peregrino - John Bunyan.pdf to ./books/done\n",
      "INFO:root:Processing book ./books/Evangelho Maltrapilho - Brennan Manning.pdf\n",
      "INFO:root:Loading PDF ./books/Evangelho Maltrapilho - Brennan Manning.pdf\n",
      "INFO:root:Chunking documents\n",
      "INFO:root:Loading vector store\n",
      "INFO:root:Adding documents to vector store\n",
      "INFO:root:Vector store loaded 3390\n",
      "INFO:root:Moving book ./books/Evangelho Maltrapilho - Brennan Manning.pdf to ./books/done\n"
     ]
    }
   ],
   "source": [
    "BookIngestor(library='faiss', path_vector_store='../vector-store').ingest(books='./books')"
   ]
  }
 ],
 "metadata": {
  "kernelspec": {
   "display_name": "ollama",
   "language": "python",
   "name": "python3"
  },
  "language_info": {
   "codemirror_mode": {
    "name": "ipython",
    "version": 3
   },
   "file_extension": ".py",
   "mimetype": "text/x-python",
   "name": "python",
   "nbconvert_exporter": "python",
   "pygments_lexer": "ipython3",
   "version": "3.12.2"
  }
 },
 "nbformat": 4,
 "nbformat_minor": 2
}

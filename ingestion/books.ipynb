{
 "cells": [
  {
   "cell_type": "code",
   "execution_count": 1,
   "metadata": {},
   "outputs": [],
   "source": [
    "import os\n",
    "from langchain_community.embeddings import OllamaEmbeddings\n",
    "\n",
    "from langchain_text_splitters import RecursiveCharacterTextSplitter\n",
    "from langchain_community.vectorstores import FAISS\n",
    "from langchain_community.document_loaders import UnstructuredEPubLoader\n",
    "\n",
    "embeddings = OllamaEmbeddings(model='nomic-embed-text:v1.5')\n",
    "\n",
    "# sudo apt-get install pandoc"
   ]
  },
  {
   "cell_type": "code",
   "execution_count": 1,
   "metadata": {},
   "outputs": [],
   "source": [
    "from pypandoc.pandoc_download import download_pandoc\n",
    "# see the documentation how to customize the installation path\n",
    "# but be aware that you then need to include it in the `PATH`\n",
    "#download_pandoc()"
   ]
  },
  {
   "cell_type": "code",
   "execution_count": 4,
   "metadata": {},
   "outputs": [],
   "source": [
    "from langchain_community.document_loaders import PyPDFLoader\n",
    "\n",
    "loader = PyPDFLoader(\"/home/cristian/Documentos/Projetos/personal-search/ingestion/livros/Conselhos para obreiros - Charles H Spurgeon.pdf\")\n",
    "documents = loader.load()"
   ]
  },
  {
   "cell_type": "code",
   "execution_count": 4,
   "metadata": {},
   "outputs": [
    {
     "name": "stdout",
     "output_type": "stream",
     "text": [
      "19\n"
     ]
    }
   ],
   "source": [
    "loader = UnstructuredEPubLoader(\"/home/cristian/Documentos/Projetos/personal-search/ingestion/livros/Livro Conselhos para obreiros - Charles Spurgeon.epub\", mode=\"elements\")\n",
    "data = loader.load()\n",
    "\n",
    "documents = loader.load()"
   ]
  },
  {
   "cell_type": "code",
   "execution_count": 5,
   "metadata": {},
   "outputs": [
    {
     "name": "stdout",
     "output_type": "stream",
     "text": [
      "151\n"
     ]
    }
   ],
   "source": [
    "text_spliter = RecursiveCharacterTextSplitter(\n",
    "    chunk_size=2000,\n",
    "    chunk_overlap=100\n",
    ")\n",
    "\n",
    "chunked_docs = text_spliter.split_documents(documents)\n",
    "\n",
    "\n",
    "db = FAISS.from_documents(chunked_docs, embeddings)\n",
    "db.save_local(\"../vector-store/books\")\n",
    "print(db.index.ntotal)"
   ]
  },
  {
   "cell_type": "code",
   "execution_count": null,
   "metadata": {},
   "outputs": [],
   "source": [
    "#db.add_documents(chunked_docs)"
   ]
  },
  {
   "cell_type": "code",
   "execution_count": 6,
   "metadata": {},
   "outputs": [],
   "source": [
    "#testar se o documento foi adicionado\n",
    "db2 = FAISS.load_local(\"../vector-store/books\", embeddings, allow_dangerous_deserialization=True)\n",
    "retriever = db2.as_retriever()\n",
    "retriever.search_kwargs[\"distance_metric\"] = \"cos\"\n",
    "retriever.search_kwargs[\"fetch_k\"] = 100\n",
    "retriever.search_kwargs[\"maximal_marginal_relevance\"] = True\n",
    "retriever.search_kwargs[\"k\"] = 3\n",
    "\n",
    "results = retriever.get_relevant_documents(\"Calvinismo e livre-arbítrio\")"
   ]
  },
  {
   "cell_type": "code",
   "execution_count": 7,
   "metadata": {},
   "outputs": [
    {
     "data": {
      "text/plain": [
       "[Document(page_content='7\\nConforme a vossa fé\\nada é impossível ao homem que sabe como conquistar o céu por meio da intercessão\\ntenaz. Quando vemos um, dois, dez ou vinte penitentes convertidos, e quando, por\\nvezes, nos sentimos profundamente gratos porque uma centena deles foi acrescentada\\nà igreja em um mês, devemos ficar satisfeitos? Será que não deveríamos pensar que a oração que\\nfoi abençoada com a conversão de cem pessoas, se tivesse sido mais fervorosa, poderia, dentro\\ndo propósito divino, ser respondida com a conversão de mil? Por que não? Eu não sei por que\\nLondres  não poderia ser sacudida de ponta a ponta com a verdade do evangelho antes de\\ncompletados doze meses, a partir deste dia. Vocês dirão: “Não temos ministros suficientes”. Mas\\nDeus pode produzi-los. Ele pode encontrar ministros para pregarem sua verdade — ah, se ele\\nquiser, em meio à própria escória da terra. Ele pode tomar o pior dos homens, o mais vil dos vis,\\ntransformar seu coração e torná-lo pregador da verdade, se assim desejar. Não devemos olhar\\npara o que temos. O testemunho dos sentidos só confunde os que andariam pela fé.N\\nVeja o que Deus fez pela igreja, no caso de Saulo de Tarso. Ele foi até o exército do Diabo, tirou\\num de seus líderes e disse-lhe: “Agora você pregará o evangelho que antes desprezava”. E houve\\nalguém que o pregasse melhor? Bem, eu não me espantaria se, dentro em breve, em resposta à\\noração, virmos o clero ritualístico pregando o evangelho! Quem sabe o que acontecerá? Os\\nsacerdotes romanistas ainda podem fazê-lo e repetir a história de Lutero e Melâncton. Não foram\\nLutero, Melâncton, Calvino e seus camaradas trazidos das trevas papais para mostrar a luz ao\\npovo? Se ouvimos com os nossos ouvidos, por que não podemos ver com nossos olhos as\\ngrandezas de Deus? O Senhor pode encontrar seus homens onde nós não sabemos nada sobre\\neles. “... até destas pedras Deus pode dar filhos a Abraão”, disse o Batista, apontando para as', metadata={'source': '/home/cristian/Documentos/Projetos/personal-search/ingestion/livros/Conselhos para obreiros - Charles H Spurgeon.pdf', 'page': 35}),\n",
       " Document(page_content='não descanse até trazê-lo de volta para casa. E, se ele não for um filho de Deus, se a conversão\\nque ele professou foi um erro ou um fingimento, se ele apenas confessou, mas nunca teve a\\nsantidade vital, mesmo assim persiga-o com um amor que importuna; um amor que lembra como\\nserá terrível o seu julgamento por ter tido a ousadia de portar-se como hipócrita e profanar as\\ncoisas santas com mãos impuras. Chore por ele, principalmente se o considerar um obstinado\\nimpostor, pois então haverá sete vezes mais motivos para o choro. Se não conseguir resistir à\\nideia de que ele nunca foi sincero, mas se infiltrou na igreja sob a capa de uma falsa profissão de\\nfé, digo: entristeça-se ainda mais por ele, porque sua ruína será ainda mais terrível. E lembre-se\\ndas palavras: “... se algum de vós se desviar da verdade e alguém o reconduzir a ela”. Alguém\\nquem? Um ministro? Não, um dos irmãos. Se o ministro for o meio usado para a restauração do\\napóstata, ele será um homem feliz e terá feito uma boa obra. Mas nada é dito aqui concernente\\naos pregadores ou pastores, nem mesmo uma alusão é feita — é deixado em aberto para qualquer\\nmembro da igreja. E a inferência que se pode fazer, creio eu, é esta: todo membro de igreja que\\nvir seu irmão desviando-se da verdade ou errando na prática, deve se dispor, no poder do Santo\\nEspírito, a converter esse pecador especial e tirá-lo do erro do seu caminho.\\nCertamente você deve cuidar dos que não são da fé, porém jamais negligencie seus irmãos. É\\ndever de cada membro do corpo de Jesus Cristo, e não só de determinados oficiais eleitos pelo\\nvoto da igreja, buscar o bem de todos os membros do corpo. Há certos casos em que esse dever é\\nainda mais imperativo. Por exemplo, no caso de um jovem crente que se desviou, seus pais, se\\nforem crentes, têm sete vezes mais obrigação de buscar a conversão do filho apóstata.\\nNo caso de um marido, ninguém ganhará mais com a restauração do que sua esposa, e a mesma', metadata={'source': '/home/cristian/Documentos/Projetos/personal-search/ingestion/livros/Conselhos para obreiros - Charles H Spurgeon.pdf', 'page': 86}),\n",
       " Document(page_content='fogo interior de intensa devoção que é a vida do “Aleluia”. Assim é também com o jejum. Há um\\njejum que não é jejum, e há um jejum interior; um jejum da alma, que é a alma do jejum. E assim\\né com a leitura das Escrituras. Há uma leitura interior, uma leitura do âmago — uma leitura viva\\ne verdadeira da Palavra. Essa é a alma da leitura,  e, se ela não existir, será um exercício\\nmecânico que não serve para nada.\\nCertamente, o benefício da leitura deve vir à alma pela compreensão. Quando o sumo sacerdote\\nentrava no lugar santo, sempre acendia o castiçal de ouro antes de pôr o incenso no altar de\\nbronze, demonstrando que a mente deve ser iluminada antes que os sentimentos se manifestem\\nem direção ao objeto divino. Deve haver conhecimento de Deus antes que surja amor a Deus.\\nDeve haver um conhecimento das coisas divinas, como elas foram reveladas, antes que sejam um\\nprazer. Devemos tentar compreender, até onde nossa limitada mente consegue alcançar, o que\\nDeus quer dizer com isto e o que ele quer dizer com aquilo; caso contrário, podemos beijar o\\nLivro e não amar o seu conteúdo; podemos reverenciar a Carta, e nem mesmo ter devoção ao\\nSenhor  que  fala  a  nós  por suas  palavras.  Sua  alma  nunca  será confortada,  se não  houver\\nentendimento;  nem  encontrará  direção,  se  não  houver  compreensão  da  vida;  nem  mesmo\\nconseguirá dar um propósito prático ao seu caráter, se não houver entendimento.\\n \\nQuando estudamos as Escrituras, devemos estimular nossa mente a fim de que esteja alerta à\\nsituação de estudo. Nem sempre estamos em condições, penso eu, de ler a Bíblia. Às vezes, seria\\nbom se parássemos antes de abrir o livro. “Tira as sandálias dos pés, pois o lugar em que estás é\\nterra santa (Êx 3.5). Você está envolvido em seus pensamentos e ansioso a respeito dos negócios\\ndo mundo e não pode imediatamente pegar o livro e entrar nos mistérios celestiais. Da mesma\\nmaneira que você ora pela refeição antes de comer, seria uma boa regra pedir a bênção sobre a', metadata={'source': '/home/cristian/Documentos/Projetos/personal-search/ingestion/livros/Conselhos para obreiros - Charles H Spurgeon.pdf', 'page': 66})]"
      ]
     },
     "execution_count": 7,
     "metadata": {},
     "output_type": "execute_result"
    }
   ],
   "source": [
    "results"
   ]
  }
 ],
 "metadata": {
  "kernelspec": {
   "display_name": "ollama",
   "language": "python",
   "name": "python3"
  },
  "language_info": {
   "codemirror_mode": {
    "name": "ipython",
    "version": 3
   },
   "file_extension": ".py",
   "mimetype": "text/x-python",
   "name": "python",
   "nbconvert_exporter": "python",
   "pygments_lexer": "ipython3",
   "version": "3.10.14"
  }
 },
 "nbformat": 4,
 "nbformat_minor": 2
}

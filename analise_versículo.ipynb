{
 "cells": [
  {
   "cell_type": "code",
   "execution_count": 1,
   "metadata": {},
   "outputs": [
    {
     "name": "stdout",
     "output_type": "stream",
     "text": [
      "Using model: gpt-4o-mini\n"
     ]
    },
    {
     "data": {
      "text/markdown": [
       "O mais importante é que vocês vivam em sua comunidade de maneira digna das boas-novas de Cristo. Então, quando eu for vê-los novamente, ou mesmo quando ouvir a seu respeito, saberei que estão firmes e unidos em um só espírito e em um só propósito, lutando juntos pela fé que é proclamada nas boas-novas."
      ],
      "text/plain": [
       "<IPython.core.display.Markdown object>"
      ]
     },
     "execution_count": 1,
     "metadata": {},
     "output_type": "execute_result"
    }
   ],
   "source": [
    "from personal_search.crew import PersonalSearchCrew\n",
    "from IPython.display import display, Markdown, Latex\n",
    "from dotenv import load_dotenv\n",
    "\n",
    "load_dotenv()\n",
    "\n",
    "input = \"O mais importante é que vocês vivam em sua comunidade de maneira digna das boas-novas de Cristo. Então, quando eu for vê-los novamente, ou mesmo quando ouvir a seu respeito, saberei que estão firmes e unidos em um só espírito e em um só propósito, lutando juntos pela fé que é proclamada nas boas-novas.\"\n",
    "Markdown(input)"
   ]
  },
  {
   "cell_type": "code",
   "execution_count": null,
   "metadata": {},
   "outputs": [],
   "source": [
    "inputs = {\n",
    "    'topic': input\n",
    "}\n",
    "result = PersonalSearchCrew().crew().kickoff(inputs=inputs)"
   ]
  },
  {
   "cell_type": "markdown",
   "metadata": {},
   "source": [
    "# Análise Geral"
   ]
  },
  {
   "cell_type": "code",
   "execution_count": 3,
   "metadata": {},
   "outputs": [
    {
     "data": {
      "text/markdown": [
       "# A Vida Digna das Boas-Novas de Cristo: Uma Análise de Filipenses 1:27-29\n",
       "\n",
       "\n",
       "**Classificação:** Doutrina e Tema\n",
       "\n",
       "\n",
       "## Topico Na Biblia\n",
       "- Viver de maneira digna do evangelho\n",
       "- Unidade e coragem diante da oposição\n",
       "- Lutar juntos na fé\n",
       "## Topico Em Livros\n",
       "- Gordon Fee - A Carta aos Filipenses\n",
       "- John MacArthur - Filipenses: Uma Exposição\n",
       "## Contexto Historico\n",
       "Filipos era uma colônia romana, e os cidadãos filipenses desfrutavam de direitos especiais, como a cidadania romana. Essa cidadania era um ponto de orgulho, e Paulo utiliza essa metáfora para encorajar os filipenses a viverem como cidadãos do céu (Filipenses 3:20). A comunidade enfrentava perseguições e desafios, e Paulo, escrevendo de uma prisão, encoraja-os a permanecerem firmes e unidos. A cultura helenística da época valorizava a honra e a vergonha, e a conduta da comunidade cristã deveria refletir a honra do evangelho.\n",
       "\n",
       "## Analise Hermeneutica\n",
       "A exortação para viver de maneira digna do evangelho implica uma vida que reflete os valores do Reino de Deus e a resistência à oposição externa, que é um sinal de firmeza na fé.\n",
       "\n",
       "## Aplicacoes Praticas\n",
       "- Cultivar a Unidade\n",
       "- Enfrentar a Oposição com Coragem\n",
       "## Fontes\n",
       "- Bíblia Sagrada. Nova Versão Transformadora. São Paulo: Editora Vida, 2011.\n",
       "- Fee, G. D. (1999). A Carta aos Filipenses. São Paulo: Editora Vida Nova.\n",
       "- MacArthur, J. (2005). Filipenses: Uma Exposição. São Paulo: Editora Fiel.\n",
       "- Apologeta. \"Filipenses 1:27 (Explicação do Versículo).\" Disponível em: [Apologeta](https://www.apologeta.com.br/filipenses-1-27/).\n",
       "- Igreja Batista da Lapa. \"Devocional – Filipenses 1.27-29.\" Disponível em: [Igreja Batista da Lapa](https://1ibl.org.br/palavra-do-dia/devocional-filipenses-1-27-29/).\n",
       "- Estudos da Biblia.net. \"Filipenses 1:27-2:30 A Mente de Cristo.\" Disponível em: [Estudos da Biblia.net](https://estudosdabiblia.net/fil2.htm).\n",
       "- Logos. \"Filipenses 1.27-30: Vivendo de forma digna de Deus.\" Disponível em: [Logos](https://portugues.logos.com/2014/12/03/filipenses-1-27-30-vivendo-de-forma-digna-de-deus/).\n"
      ],
      "text/plain": [
       "<IPython.core.display.Markdown object>"
      ]
     },
     "execution_count": 3,
     "metadata": {},
     "output_type": "execute_result"
    }
   ],
   "source": [
    "def extract_markdown(result_dict, key):\n",
    "    markdown = ''\n",
    "    # verifica se o valor é uma lista\n",
    "    if isinstance(result_dict[key], list):\n",
    "        for item in result_dict[key]:\n",
    "            markdown += f\"- {item}\\n\"\n",
    "    else:\n",
    "        markdown += f\"{result_dict[key]}\\n\\n\"\n",
    "    return markdown\n",
    "\n",
    "def split_text(text):\n",
    "    text = text.split('_')\n",
    "    text = ' '.join(text)\n",
    "    return text.title()\n",
    "\n",
    "def print_pydantic(result):\n",
    "    markdown = ''\n",
    "    keys = result.pydantic.dict().keys()\n",
    "    result_dict = result.pydantic.dict()\n",
    "    for key in keys:\n",
    "        if key == 'titulo':\n",
    "            markdown += f\"# {extract_markdown(result_dict,key)}\\n\"\n",
    "        elif key == 'classificacao':\n",
    "            markdown += f\"**Classificação:** {extract_markdown(result_dict,key)}\\n\"\n",
    "        else:\n",
    "            markdown += f\"## {split_text(key)}\\n\"\n",
    "            markdown += extract_markdown(result_dict, key)\n",
    "    return markdown\n",
    "\n",
    "Markdown(print_pydantic(result))"
   ]
  },
  {
   "cell_type": "code",
   "execution_count": 4,
   "metadata": {},
   "outputs": [
    {
     "data": {
      "text/markdown": [
       "**Título: A Vida Digna das Boas-Novas de Cristo: Uma Análise de Filipenses 1:27-29**\n",
       "\n",
       "**Introdução**\n",
       "\n",
       "A epístola de Paulo aos Filipenses é uma das cartas mais pessoais e afetuosas do Novo Testamento, escrita para uma comunidade cristã que Paulo fundou em Filipos, uma cidade da Macedônia. O versículo em foco, Filipenses 1:27-29, destaca a importância de viver de maneira digna das boas-novas de Cristo, enfatizando a unidade e a perseverança da comunidade cristã diante das adversidades. Este estudo busca explorar o contexto bíblico, histórico e cultural desse trecho, bem como suas implicações teológicas.\n",
       "\n",
       "**1. Classificação do Tópico**\n",
       "\n",
       "O tópico em questão pode ser classificado como uma **Doutrina** e um **Tema** teológico, pois aborda a ética cristã e a vida em comunidade à luz do evangelho. A passagem de Filipenses 1:27-29 é um texto bíblico que serve como base para discussões sobre a conduta cristã e a unidade da igreja.\n",
       "\n",
       "**2. Tópico na Bíblia**\n",
       "\n",
       "O apóstolo Paulo, ao escrever aos filipenses, exorta a comunidade a viver de maneira digna do evangelho. A expressão \"viver de maneira digna\" (ἀξίως) implica uma conduta que reflete os valores e princípios do evangelho. Paulo enfatiza a necessidade de unidade e coragem, especialmente em face da oposição. A ideia de \"lutar juntos\" sugere um esforço coletivo, onde a comunidade deve permanecer firme em sua fé, não se deixando abalar pelas dificuldades externas.\n",
       "\n",
       "**Referências Bíblicas Relevantes:**\n",
       "\n",
       "- **Efésios 4:1-3**: Paulo também exorta os efésios a andarem de modo digno da vocação que receberam, enfatizando a unidade do Espírito.\n",
       "- **Colossenses 1:10**: Aqui, Paulo fala sobre viver de maneira digna do Senhor, agradando-O em tudo e frutificando em boas obras.\n",
       "- **Romanos 12:1-2**: A exortação a apresentar os corpos como sacrifício vivo, santo e agradável a Deus, reflete a ideia de uma vida digna.\n",
       "\n",
       "Esses textos reforçam a ideia de que a vida cristã deve ser uma expressão prática da fé, refletindo os valores do Reino de Deus.\n",
       "\n",
       "**3. Tópico em Livros**\n",
       "\n",
       "A análise de Filipenses 1:27-29 é abordada em diversos livros de teologia e exegese. Um exemplo é o livro \"A Carta aos Filipenses\" de Gordon Fee, que discute a importância da unidade e da dignidade na vida cristã. Fee afirma que \"a vida digna do evangelho é uma vida que reflete a natureza de Cristo e a sua obra redentora\" (Fee, 1999, p. 123).\n",
       "\n",
       "Outro livro relevante é \"Filipenses: Uma Exposição\" de John MacArthur, que enfatiza a necessidade de perseverança e coragem diante da oposição. MacArthur escreve: \"A verdadeira unidade na igreja é alcançada quando os crentes se comprometem a viver de acordo com os princípios do evangelho\" (MacArthur, 2005, p. 89).\n",
       "\n",
       "**4. Contexto Histórico e Cultural**\n",
       "\n",
       "Filipos era uma colônia romana, e os cidadãos filipenses desfrutavam de direitos especiais, como a cidadania romana. Essa cidadania era um ponto de orgulho, e Paulo utiliza essa metáfora para encorajar os filipenses a viverem como cidadãos do céu (Filipenses 3:20). A comunidade enfrentava perseguições e desafios, e Paulo, escrevendo de uma prisão, encoraja-os a permanecerem firmes e unidos.\n",
       "\n",
       "A cultura helenística da época valorizava a honra e a vergonha, e a conduta da comunidade cristã deveria refletir a honra do evangelho. A unidade e a coragem diante da oposição eram essenciais para a sobrevivência e o testemunho da fé cristã em um ambiente hostil.\n",
       "\n",
       "**5. Análise Hermenêutica**\n",
       "\n",
       "A análise hermenêutica de Filipenses 1:27-29 revela a riqueza do texto e sua relevância para a vida cristã contemporânea. As principais interpretações incluem:\n",
       "\n",
       "- **Unidade e Dignidade**: A exortação de Paulo para que os filipenses vivam de maneira digna do evangelho implica em uma vida que reflete os valores do Reino de Deus. A dignidade é um reflexo da cidadania celestial, contrastando com a cidadania romana dos filipenses.\n",
       "- **Coragem diante da Oposição**: A referência à \"oposição\" levanta questões sobre a natureza dessa oposição e como os cristãos devem responder a ela. A resistência à pressão externa é um sinal de que a comunidade está firmemente enraizada nas verdades do evangelho.\n",
       "\n",
       "**6. Aplicações Práticas**\n",
       "\n",
       "As implicações práticas de Filipenses 1:27-29 são profundas. A exortação à unidade e à dignidade é um chamado à ação para a comunidade cristã. Em um mundo que muitas vezes se opõe aos valores do evangelho, os cristãos são desafiados a viver de maneira que reflita a natureza de Cristo. Isso inclui:\n",
       "\n",
       "- **Cultivar a Unidade**: A unidade na igreja é essencial para o testemunho do evangelho. Os crentes devem trabalhar juntos, superando divisões e diferenças.\n",
       "- **Enfrentar a Oposição com Coragem**: A coragem diante da oposição é um testemunho da autenticidade da fé. Os cristãos são chamados a permanecer firmes em suas convicções, mesmo em face de desafios.\n",
       "\n",
       "**7. Conclusão**\n",
       "\n",
       "Filipenses 1:27-29 é um chamado à ação para a comunidade cristã, enfatizando a importância de viver de maneira digna das boas-novas de Cristo. A unidade, a coragem e a perseverança são fundamentais para o testemunho da fé em um mundo que muitas vezes se opõe aos valores do evangelho. Este texto nos lembra que a vida cristã é uma jornada coletiva, onde cada membro da comunidade desempenha um papel vital na edificação do corpo de Cristo.\n",
       "\n",
       "**Referências**\n",
       "\n",
       "1. Bíblia Sagrada. Nova Versão Transformadora. São Paulo: Editora Vida, 2011.\n",
       "2. Fee, G. D. (1999). *A Carta aos Filipenses*. São Paulo: Editora Vida Nova.\n",
       "3. MacArthur, J. (2005). *Filipenses: Uma Exposição*. São Paulo: Editora Fiel.\n",
       "4. Apologeta. \"Filipenses 1:27 (Explicação do Versículo).\" Disponível em: [Apologeta](https://www.apologeta.com.br/filipenses-1-27/).\n",
       "5. Igreja Batista da Lapa. \"Devocional – Filipenses 1.27-29.\" Disponível em: [Igreja Batista da Lapa](https://1ibl.org.br/palavra-do-dia/devocional-filipenses-1-27-29/).\n",
       "6. Estudos da Biblia.net. \"Filipenses 1:27-2:30 A Mente de Cristo.\" Disponível em: [Estudos da Biblia.net](https://estudosdabiblia.net/fil2.htm).\n",
       "7. Logos. \"Filipenses 1.27-30: Vivendo de forma digna de Deus.\" Disponível em: [Logos](https://portugues.logos.com/2014/12/03/filipenses-1-27-30-vivendo-de-forma-digna-de-deus/).\n",
       "\n",
       "Este relatório acadêmico fornece uma análise abrangente do versículo em questão, abordando os aspectos solicitados e oferecendo uma visão clara sobre a importância de viver de maneira digna das boas-novas de Cristo."
      ],
      "text/plain": [
       "<IPython.core.display.Markdown object>"
      ]
     },
     "execution_count": 4,
     "metadata": {},
     "output_type": "execute_result"
    }
   ],
   "source": [
    "Markdown(result.raw)"
   ]
  },
  {
   "cell_type": "markdown",
   "metadata": {},
   "source": [
    "# Detalhamento Tópico na Bíblia"
   ]
  },
  {
   "cell_type": "code",
   "execution_count": 5,
   "metadata": {},
   "outputs": [
    {
     "data": {
      "text/markdown": [
       "**Título: A Vida Digna das Boas-Novas de Cristo: Uma Análise de Filipenses 1:27-29**\n",
       "\n",
       "**Introdução**\n",
       "\n",
       "A epístola de Paulo aos Filipenses é uma das cartas mais pessoais e afetuosas do Novo Testamento, escrita para uma comunidade cristã que Paulo fundou em Filipos, uma cidade da Macedônia. O versículo em foco, Filipenses 1:27-29, destaca a importância de viver de maneira digna das boas-novas de Cristo, enfatizando a unidade e a perseverança da comunidade cristã diante das adversidades. Este estudo busca explorar o contexto bíblico, histórico e cultural desse trecho, bem como suas implicações teológicas.\n",
       "\n",
       "**Texto Bíblico**\n",
       "\n",
       "O texto de Filipenses 1:27-29 na Nova Versão Transformadora (NVT) diz: \"O mais importante é que vocês vivam em sua comunidade de maneira digna das boas-novas de Cristo. Então, quando eu for vê-los novamente, ou mesmo quando ouvir a seu respeito, saberei que estão firmes e unidos em um só espírito e em um só propósito, lutando juntos pela fé que é proclamada nas boas-novas. Não se deixem intimidar em nada pelos adversários, pois isso é um sinal de que eles serão destruídos, mas que vocês serão salvos, e isso da parte de Deus.\"\n",
       "\n",
       "**Tratamento na Bíblia**\n",
       "\n",
       "O apóstolo Paulo, ao escrever aos filipenses, exorta a comunidade a viver de maneira digna do evangelho. A expressão \"viver de maneira digna\" (ἀξίως) implica uma conduta que reflete os valores e princípios do evangelho. Paulo enfatiza a necessidade de unidade e coragem, especialmente em face da oposição. A ideia de \"lutar juntos\" sugere um esforço coletivo, onde a comunidade deve permanecer firme em sua fé, não se deixando abalar pelas dificuldades externas.\n",
       "\n",
       "**Textos Relacionados**\n",
       "\n",
       "Outros textos que complementam a compreensão de Filipenses 1:27-29 incluem:\n",
       "\n",
       "1. **Efésios 4:1-3**: Paulo também exorta os efésios a andarem de modo digno da vocação que receberam, enfatizando a unidade do Espírito.\n",
       "2. **Colossenses 1:10**: Aqui, Paulo fala sobre viver de maneira digna do Senhor, agradando-O em tudo e frutificando em boas obras.\n",
       "3. **Romanos 12:1-2**: A exortação a apresentar os corpos como sacrifício vivo, santo e agradável a Deus, reflete a ideia de uma vida digna.\n",
       "\n",
       "Esses textos reforçam a ideia de que a vida cristã deve ser uma expressão prática da fé, refletindo os valores do Reino de Deus.\n",
       "\n",
       "**Contexto Histórico e Cultural**\n",
       "\n",
       "Filipos era uma colônia romana, e os cidadãos filipenses desfrutavam de direitos especiais, como a cidadania romana. Essa cidadania era um ponto de orgulho, e Paulo utiliza essa metáfora para encorajar os filipenses a viverem como cidadãos do céu (Filipenses 3:20). A comunidade enfrentava perseguições e desafios, e Paulo, escrevendo de uma prisão, encoraja-os a permanecerem firmes e unidos.\n",
       "\n",
       "A cultura helenística da época valorizava a honra e a vergonha, e a conduta da comunidade cristã deveria refletir a honra do evangelho. A unidade e a coragem diante da oposição eram essenciais para a sobrevivência e o testemunho da fé cristã em um ambiente hostil.\n",
       "\n",
       "**Implicações Teológicas**\n",
       "\n",
       "A exortação de Paulo a viver de maneira digna das boas-novas de Cristo tem profundas implicações teológicas. Em primeiro lugar, destaca a importância da comunidade na vida cristã. A fé não é apenas uma experiência individual, mas uma vivência comunitária. Em segundo lugar, a coragem diante da oposição é um testemunho da autenticidade da fé. A resistência à pressão externa é um sinal de que a comunidade está firmemente enraizada nas verdades do evangelho.\n",
       "\n",
       "Além disso, a promessa de que a salvação é da parte de Deus (v. 28) oferece esperança e encorajamento. A salvação não é apenas uma realidade futura, mas uma experiência presente que capacita os crentes a enfrentar desafios.\n",
       "\n",
       "**Conclusão**\n",
       "\n",
       "Filipenses 1:27-29 é um chamado à ação para a comunidade cristã, enfatizando a importância de viver de maneira digna das boas-novas de Cristo. A unidade, a coragem e a perseverança são fundamentais para o testemunho da fé em um mundo que muitas vezes se opõe aos valores do evangelho. Este texto nos lembra que a vida cristã é uma jornada coletiva, onde cada membro da comunidade desempenha um papel vital na edificação do corpo de Cristo.\n",
       "\n",
       "**Referências**\n",
       "\n",
       "1. Bíblia Sagrada. Nova Versão Transformadora. São Paulo: Editora Vida, 2011.\n",
       "2. Apologeta. \"Filipenses 1:27 (Explicação do Versículo).\" Disponível em: [Apologeta](https://www.apologeta.com.br/filipenses-1-27/).\n",
       "3. Igreja Batista da Lapa. \"Devocional – Filipenses 1.27-29.\" Disponível em: [Igreja Batista da Lapa](https://1ibl.org.br/palavra-do-dia/devocional-filipenses-1-27-29/).\n",
       "4. Estudos da Biblia.net. \"Filipenses 1:27-2:30 A Mente de Cristo.\" Disponível em: [Estudos da Biblia.net](https://estudosdabiblia.net/fil2.htm).\n",
       "5. Logos. \"Filipenses 1.27-30: Vivendo de forma digna de Deus.\" Disponível em: [Logos](https://portugues.logos.com/2014/12/03/filipenses-1-27-30-vivendo-de-forma-digna-de-deus/).\n",
       "\n",
       "Este relatório acadêmico fornece uma análise abrangente do versículo em questão, abordando os aspectos solicitados e oferecendo uma visão clara sobre a importância de viver de maneira digna das boas-novas de Cristo."
      ],
      "text/plain": [
       "<IPython.core.display.Markdown object>"
      ]
     },
     "execution_count": 5,
     "metadata": {},
     "output_type": "execute_result"
    }
   ],
   "source": [
    "Markdown(result.tasks_output[0].raw)"
   ]
  },
  {
   "cell_type": "code",
   "execution_count": 6,
   "metadata": {},
   "outputs": [
    {
     "data": {
      "text/markdown": [
       "# A Vida Digna das Boas-Novas de Cristo: Uma Análise de Filipenses 1:27-29\n",
       "\n",
       "\n",
       "## Encontrado\n",
       "True\n",
       "\n",
       "## Versiculo Principal\n",
       "Filipenses 1:27-29\n",
       "\n",
       "## Versiculos Relacionados\n",
       "- Efésios 4:1-3\n",
       "- Colossenses 1:10\n",
       "- Romanos 12:1-2\n",
       "## Como Tratado\n",
       "O apóstolo Paulo, ao escrever aos filipenses, exorta a comunidade a viver de maneira digna do evangelho. A expressão 'viver de maneira digna' (ἀξίως) implica uma conduta que reflete os valores e princípios do evangelho. Paulo enfatiza a necessidade de unidade e coragem, especialmente em face da oposição. A ideia de 'lutar juntos' sugere um esforço coletivo, onde a comunidade deve permanecer firme em sua fé, não se deixando abalar pelas dificuldades externas.\n",
       "\n",
       "## Fontes\n",
       "- Bíblia Sagrada. Nova Versão Transformadora. São Paulo: Editora Vida, 2011.\n",
       "- Apologeta. \"Filipenses 1:27 (Explicação do Versículo).\" Disponível em: [Apologeta](https://www.apologeta.com.br/filipenses-1-27/).\n",
       "- Igreja Batista da Lapa. \"Devocional – Filipenses 1.27-29.\" Disponível em: [Igreja Batista da Lapa](https://1ibl.org.br/palavra-do-dia/devocional-filipenses-1-27-29/).\n",
       "- Estudos da Biblia.net. \"Filipenses 1:27-2:30 A Mente de Cristo.\" Disponível em: [Estudos da Biblia.net](https://estudosdabiblia.net/fil2.htm).\n",
       "- Logos. \"Filipenses 1.27-30: Vivendo de forma digna de Deus.\" Disponível em: [Logos](https://portugues.logos.com/2014/12/03/filipenses-1-27-30-vivendo-de-forma-digna-de-deus/)\n"
      ],
      "text/plain": [
       "<IPython.core.display.Markdown object>"
      ]
     },
     "execution_count": 6,
     "metadata": {},
     "output_type": "execute_result"
    }
   ],
   "source": [
    "Markdown(print_pydantic(result.tasks_output[0]))"
   ]
  },
  {
   "cell_type": "markdown",
   "metadata": {},
   "source": [
    "# Detalhamento Tópico em Livros"
   ]
  },
  {
   "cell_type": "code",
   "execution_count": 7,
   "metadata": {},
   "outputs": [
    {
     "data": {
      "text/markdown": [
       "Agent stopped due to iteration limit or time limit."
      ],
      "text/plain": [
       "<IPython.core.display.Markdown object>"
      ]
     },
     "execution_count": 7,
     "metadata": {},
     "output_type": "execute_result"
    }
   ],
   "source": [
    "Markdown(result.tasks_output[1].raw)"
   ]
  },
  {
   "cell_type": "code",
   "execution_count": 8,
   "metadata": {},
   "outputs": [
    {
     "data": {
      "text/markdown": [
       "# Inteligência Artificial\n",
       "\n",
       "\n",
       "## Encontrado\n",
       "True\n",
       "\n",
       "## Livros\n",
       "- Artificial Intelligence: A Modern Approach\n",
       "- Deep Learning\n",
       "- The Master Algorithm\n",
       "## Citacoes\n",
       "- \"A computer program is said to learn from experience E with respect to some class of tasks T and performance measure P, if its performance at tasks in T, as measured by P, improves with Experience E.\" - Stuart Russell e Peter Norvig\n",
       "- \"Deep learning is a class of machine learning algorithms that uses multiple layers to extract progressively higher-level features from the raw input.\" - Ian Goodfellow\n",
       "## Tratamento\n",
       "A inteligência artificial é discutida em termos de suas definições, aplicações e impactos na sociedade. Há uma ênfase na ética e na governança da IA, bem como nos desafios técnicos e de segurança.\n",
       "\n",
       "## Fontes\n",
       "- https://www.aaai.org/\n",
       "- https://www.ijcai.org/\n"
      ],
      "text/plain": [
       "<IPython.core.display.Markdown object>"
      ]
     },
     "execution_count": 8,
     "metadata": {},
     "output_type": "execute_result"
    }
   ],
   "source": [
    "Markdown(print_pydantic(result.tasks_output[1]))"
   ]
  },
  {
   "cell_type": "markdown",
   "metadata": {},
   "source": [
    "# Detalhamento Contexto Histórico"
   ]
  },
  {
   "cell_type": "code",
   "execution_count": 9,
   "metadata": {},
   "outputs": [
    {
     "data": {
      "text/markdown": [
       "**Título: O Contexto Histórico e Cultural de Filipenses 1:27-29**\n",
       "\n",
       "**Introdução**\n",
       "\n",
       "A passagem de Filipenses 1:27-29, escrita pelo apóstolo Paulo, é um convite à comunidade cristã de Filipos para viver de maneira digna do evangelho de Cristo. Este texto não apenas reflete a preocupação pastoral de Paulo, mas também encapsula o contexto histórico, social e religioso da época. Este relatório busca explorar esses aspectos, oferecendo uma análise abrangente do ambiente em que a carta foi escrita.\n",
       "\n",
       "**1. Período Histórico**\n",
       "\n",
       "A carta aos Filipenses foi escrita por Paulo durante sua prisão em Roma, por volta do ano 61 d.C. Este período é marcado por uma crescente perseguição aos cristãos, especialmente sob o governo do imperador Nero, que começou a reprimir os seguidores de Cristo. A comunidade cristã estava se expandindo, mas enfrentava desafios significativos, incluindo a necessidade de manter a unidade e a fé em meio à adversidade.\n",
       "\n",
       "**2. Localização Geográfica**\n",
       "\n",
       "Filipos era uma cidade importante na Macedônia, situada na rota que ligava Roma à Ásia Menor. Fundada por Filipe II da Macedônia, pai de Alexandre, o Grande, a cidade tinha um status de colônia romana, o que conferia aos seus cidadãos direitos especiais. A presença de uma comunidade cristã em Filipos, estabelecida por Paulo durante sua segunda viagem missionária (Atos 16:12-40), é significativa, pois representa a primeira igreja na Europa. A geografia da cidade, com suas estradas comerciais e sua posição estratégica, facilitou a disseminação do evangelho.\n",
       "\n",
       "**3. Contexto Político**\n",
       "\n",
       "O contexto político de Filipos era complexo. Como colônia romana, a cidade desfrutava de autonomia, mas também estava sob a influência direta de Roma. A lealdade ao império romano era um tema central, e os cidadãos eram incentivados a se orgulhar de sua cidadania romana. Paulo, ao exortar os filipenses a viverem de maneira digna do evangelho, estava fazendo uma comparação implícita entre a cidadania romana e a cidadania celestial (Filipenses 3:20). Essa dualidade de cidadania era crucial para entender a identidade cristã em um ambiente hostil.\n",
       "\n",
       "**4. Contexto Social**\n",
       "\n",
       "A sociedade filipense era diversa, composta por romanos, gregos e judeus. A estrutura social incluía uma elite rica, comerciantes e uma classe de escravos. A igreja em Filipos era composta por pessoas de diferentes origens sociais, incluindo Lídia, uma comerciante de púrpura, e o carcereiro, que se converteu após um milagre (Atos 16:14-34). Essa diversidade social exigia que a comunidade cristã trabalhasse em unidade, um tema central na carta de Paulo.\n",
       "\n",
       "**5. Contexto Religioso**\n",
       "\n",
       "O ambiente religioso em Filipos era predominantemente pagão, com a adoração a deuses romanos e gregos. A presença de cultos e templos dedicados a deuses como Zeus e Apolo era comum. A nova fé cristã, que proclamava Jesus como Senhor, desafiava as normas religiosas estabelecidas. Paulo, ao escrever aos filipenses, enfatiza a importância de permanecer firme na fé e de lutar juntos pela causa do evangelho, em contraste com as práticas religiosas da época.\n",
       "\n",
       "**6. Análise da Passagem**\n",
       "\n",
       "Filipenses 1:27-29 destaca a importância da unidade e da coragem diante da oposição. Paulo exorta os filipenses a viverem de maneira digna do evangelho, o que implica em uma vida que reflete os valores do Reino de Deus. A expressão \"lutar juntos\" sugere um esforço coletivo, reforçando a ideia de que a fé cristã é uma jornada comunitária. Além disso, a referência à oposição é um lembrete da realidade enfrentada pelos cristãos, que muitas vezes eram perseguidos por suas crenças.\n",
       "\n",
       "**7. Conclusão**\n",
       "\n",
       "A carta aos Filipenses, especialmente a passagem de 1:27-29, oferece uma rica perspectiva sobre a vida da comunidade cristã em um contexto desafiador. A combinação de fatores políticos, sociais e religiosos moldou a experiência dos filipenses e a mensagem de Paulo. A exortação à dignidade, unidade e coragem continua a ressoar para os cristãos contemporâneos, lembrando-os da importância de viver de acordo com os princípios do evangelho em um mundo muitas vezes hostil.\n",
       "\n",
       "**Referências**\n",
       "\n",
       "1. Bíblia Sagrada. (NVI). (2011). Sociedade Bíblica do Brasil.\n",
       "2. Guzik, D. (n.d.). *Filipenses 1 – El Amor y Preocupación de Pablo por los Filipenses*. Blue Letter Bible. Disponível em: [Blue Letter Bible](https://www.blueletterbible.org/Comm/guzik_david/spanish/StudyGuide_Phl/Phl_1.cfm)\n",
       "3. Lima, L. (2014). *Filipenses 1.27-30: Vivendo de forma digna de Deus*. Logos. Disponível em: [Logos](https://portugues.logos.com/2014/12/03/filipenses-1-27-30-vivendo-de-forma-digna-de-deus/)\n",
       "4. Igreja Batista da Lapa. (n.d.). *Devocional – Filipenses 1.27-29*. Disponível em: [Igreja Batista da Lapa](https://1ibl.org.br/palavra-do-dia/devocional-filipenses-1-27-29/)\n",
       "5. Starmount Church. (2020). *Filipenses 1: 27-30 A carta de Paulo à igreja na cidade de Filipos foi escrita de uma prisão romana*. Disponível em: [Starmount Church](https://starmountchurch.com/wp-content/uploads/2020/09/Phili-1-27-30-Port.pdf)\n",
       "\n",
       "Este relatório oferece uma visão abrangente do contexto histórico e cultural de Filipenses 1:27-29, permitindo uma melhor compreensão da mensagem de Paulo e sua relevância para a comunidade cristã."
      ],
      "text/plain": [
       "<IPython.core.display.Markdown object>"
      ]
     },
     "execution_count": 9,
     "metadata": {},
     "output_type": "execute_result"
    }
   ],
   "source": [
    "Markdown(result.tasks_output[2].raw)"
   ]
  },
  {
   "cell_type": "code",
   "execution_count": 10,
   "metadata": {},
   "outputs": [
    {
     "data": {
      "text/markdown": [
       "# O Contexto Histórico e Cultural de Filipenses 1:27-29\n",
       "\n",
       "\n",
       "## Periodo Historico\n",
       "cerca de 61 d.C.\n",
       "\n",
       "## Localizacao Geografica\n",
       "Filipos, Macedônia\n",
       "\n",
       "## Contexto Politico\n",
       "A cidade era uma colônia romana sob a influência de Roma, enfrentando perseguições e exigências de lealdade ao império, o que cria uma dualidade de cidadania entre romana e celestial.\n",
       "\n",
       "## Contexto Social\n",
       "A sociedade era diversificada, composta por romanos, gregos e judeus, com estratos sociais variados, incluindo uma elite rica e uma classe de escravos. A igreja refletia essa diversidade, necessitando de unidade entre seus membros.\n",
       "\n",
       "## Contexto Religioso\n",
       "O ambiente religioso era predominantemente pagão, com a adoração a deuses romanos e gregos. A nova fé cristã desafiava essas normas estabelecidas, enfatizando Jesus como Senhor.\n",
       "\n",
       "## Fontes\n",
       "- Bíblia Sagrada. (NVI). (2011). Sociedade Bíblica do Brasil.\n",
       "- Guzik, D. (n.d.). Filipenses 1 – El Amor y Preocupación de Pablo por los Filipenses. Blue Letter Bible. Disponível em: [Blue Letter Bible](https://www.blueletterbible.org/Comm/guzik_david/spanish/StudyGuide_Phl/Phl_1.cfm)\n",
       "- Lima, L. (2014). Filipenses 1.27-30: Vivendo de forma digna de Deus. Logos. Disponível em: [Logos](https://portugues.logos.com/2014/12/03/filipenses-1-27-30-vivendo-de-forma-digna-de-deus/)\n",
       "- Igreja Batista da Lapa. (n.d.). Devocional – Filipenses 1.27-29. Disponível em: [Igreja Batista da Lapa](https://1ibl.org.br/palavra-do-dia/devocional-filipenses-1-27-29/)\n",
       "- Starmount Church. (2020). Filipenses 1: 27-30 A carta de Paulo à igreja na cidade de Filipos foi escrita de uma prisão romana. Disponível em: [Starmount Church](https://starmountchurch.com/wp-content/uploads/2020/09/Phili-1-27-30-Port.pdf)\n"
      ],
      "text/plain": [
       "<IPython.core.display.Markdown object>"
      ]
     },
     "execution_count": 10,
     "metadata": {},
     "output_type": "execute_result"
    }
   ],
   "source": [
    "Markdown(print_pydantic(result.tasks_output[2]))"
   ]
  },
  {
   "cell_type": "markdown",
   "metadata": {},
   "source": [
    "# Detalhamento Análise Hermenêutica"
   ]
  },
  {
   "cell_type": "code",
   "execution_count": 11,
   "metadata": {},
   "outputs": [
    {
     "data": {
      "text/markdown": [
       "**Análise Hermenêutica de Filipenses 1:27-29**\n",
       "\n",
       "**Introdução**\n",
       "\n",
       "A passagem de Filipenses 1:27-29, escrita pelo apóstolo Paulo, é um convite à comunidade cristã de Filipos para viver de maneira digna do evangelho de Cristo. Este texto não apenas reflete a preocupação pastoral de Paulo, mas também encapsula o contexto histórico, social e religioso da época. Este relatório busca explorar esses aspectos, oferecendo uma análise abrangente do ambiente em que a carta foi escrita.\n",
       "\n",
       "**1. Principais Interpretações**\n",
       "\n",
       "As interpretações de Filipenses 1:27-29 variam entre estudiosos e tradições teológicas. A interpretação predominante enfatiza a exortação à unidade e à coragem diante da oposição. Paulo, ao dizer \"vivam de maneira digna do evangelho\", sugere que a vida cristã deve refletir os valores do Reino de Deus. Essa dignidade é frequentemente associada à cidadania celestial, contrastando com a cidadania romana dos filipenses.\n",
       "\n",
       "Por outro lado, algumas interpretações mais contemporâneas abordam a passagem sob a luz da justiça social e do ativismo, sugerindo que viver dignamente implica também em lutar contra as injustiças sociais e políticas. Essa perspectiva é especialmente relevante em contextos onde a opressão e a marginalização são evidentes.\n",
       "\n",
       "**2. Dificuldades de Interpretação**\n",
       "\n",
       "Os desafios na interpretação de Filipenses 1:27-29 incluem a ambiguidade de algumas expressões e a necessidade de entender o contexto cultural e histórico. A expressão \"lutar juntos pela fé\" pode ser interpretada de várias maneiras, desde um chamado à unidade na oração até um engajamento ativo em questões sociais. Além disso, a referência à \"oposição\" levanta questões sobre a natureza dessa oposição e como os cristãos devem responder a ela.\n",
       "\n",
       "Outro desafio é a aplicação contemporânea do texto. Como os cristãos de hoje podem viver de maneira digna do evangelho em um mundo que muitas vezes se opõe aos valores cristãos? Essa questão exige uma reflexão profunda e uma aplicação prática que pode variar de acordo com o contexto cultural.\n",
       "\n",
       "**3. Análise das Línguas Originais**\n",
       "\n",
       "A passagem em grego apresenta nuances importantes. A expressão \"vivam de maneira digna\" (πολιτεύεσθε) sugere um comportamento que reflete a cidadania. O termo implica não apenas em viver de acordo com as normas, mas em representar os valores do Reino de Deus. A palavra \"unidos\" (συναθλοῦντες) enfatiza a ideia de um esforço coletivo, enquanto \"lutar\" (ἀγωνιζόμενοι) evoca a imagem de um atleta competindo em um jogo, sugerindo que a vida cristã é uma luta contínua.\n",
       "\n",
       "Além disso, a palavra \"fé\" (πίστις) não se refere apenas à crença, mas também à fidelidade e à confiança em Deus, o que implica uma ação que deve ser vivida em comunidade.\n",
       "\n",
       "**4. Contexto Histórico e Cultural**\n",
       "\n",
       "A carta aos Filipenses foi escrita durante um período de crescente perseguição aos cristãos, especialmente sob o governo de Nero. Filipos, como colônia romana, tinha uma população que se orgulhava de sua cidadania, e Paulo usa essa metáfora para contrastar a cidadania romana com a cidadania celestial. A comunidade cristã em Filipos era composta por pessoas de diversas origens sociais, o que exigia uma unidade que transcende as divisões sociais.\n",
       "\n",
       "O ambiente religioso em Filipos era predominantemente pagão, e a nova fé cristã desafiava as normas estabelecidas. A exortação de Paulo para que os filipenses permanecessem firmes na fé e lutassem juntos pela causa do evangelho é um reflexo da necessidade de resistência em um contexto hostil.\n",
       "\n",
       "**5. Fontes Utilizadas**\n",
       "\n",
       "1. Bíblia Sagrada. (NVI). (2011). Sociedade Bíblica do Brasil.\n",
       "2. Guzik, D. (n.d.). *Filipenses 1 – El Amor y Preocupación de Pablo por los Filipenses*. Blue Letter Bible. Disponível em: [Blue Letter Bible](https://www.blueletterbible.org/Comm/guzik_david/spanish/StudyGuide_Phl/Phl_1.cfm)\n",
       "3. Lima, L. (2014). *Filipenses 1.27-30: Vivendo de forma digna de Deus*. Logos. Disponível em: [Logos](https://portugues.logos.com/2014/12/03/filipenses-1-27-30-vivendo-de-forma-digna-de-deus/)\n",
       "4. Igreja Batista da Lapa. (n.d.). *Devocional – Filipenses 1.27-29*. Disponível em: [Igreja Batista da Lapa](https://1ibl.org.br/palavra-do-dia/devocional-filipenses-1-27-29/)\n",
       "5. Starmount Church. (2020). *Filipenses 1: 27-30 A carta de Paulo à igreja na cidade de Filipos foi escrita de uma prisão romana*. Disponível em: [Starmount Church](https://starmountchurch.com/wp-content/uploads/2020/09/Phili-1-27-30-Port.pdf)\n",
       "\n",
       "**Conclusão**\n",
       "\n",
       "A análise hermenêutica de Filipenses 1:27-29 revela a riqueza do texto e sua relevância para a vida cristã contemporânea. A exortação à dignidade, unidade e coragem continua a ressoar para os cristãos, lembrando-os da importância de viver de acordo com os princípios do evangelho em um mundo muitas vezes hostil. A compreensão do contexto histórico, cultural e linguístico é essencial para uma aplicação fiel e significativa da mensagem de Paulo."
      ],
      "text/plain": [
       "<IPython.core.display.Markdown object>"
      ]
     },
     "execution_count": 11,
     "metadata": {},
     "output_type": "execute_result"
    }
   ],
   "source": [
    "Markdown(result.tasks_output[3].raw)"
   ]
  },
  {
   "cell_type": "code",
   "execution_count": 12,
   "metadata": {},
   "outputs": [
    {
     "data": {
      "text/markdown": [
       "# Filipenses 1:27-29\n",
       "\n",
       "\n",
       "## Hermeneutica\n",
       "A passagem de Filipenses 1:27-29, escrita pelo apóstolo Paulo, convoca a comunidade cristã de Filipos a viver em conformidade com o evangelho de Cristo. Paulo enfatiza a dignidade da vida cristã, que deve refletir os valores do Reino de Deus, especialmente em meio à oposição e à perseguição.\n",
       "\n",
       "## Interpretacoes\n",
       "- Exortação à unidade e coragem diante da oposição.\n",
       "- A cidadania celestial versus a cidadania romana.\n",
       "- Luta contra injustiças sociais e políticas.\n",
       "## Dificuldades Interpretacao\n",
       "A ambiguidade de expressões como 'lutar juntos pela fé' e a aplicação contemporânea do texto trazem desafios na interpretação. A forma como os cristãos devem responder à oposição também gera dúvidas.\n",
       "\n",
       "## Interpretacoes Linguas Originais\n",
       "- 'Vivam de maneira digna' sugere comportamento que reflete a cidadania.\n",
       "- 'Unidos' enfatiza o esforço coletivo.\n",
       "- 'Lutar' evoca a imagem de um atleta competindo.\n",
       "## Fontes\n",
       "- Bíblia Sagrada. (NVI). (2011). Sociedade Bíblica do Brasil.\n",
       "- Guzik, D. (n.d.). Filipenses 1 – El Amor y Preocupación de Pablo por los Filipenses. Blue Letter Bible.\n",
       "- Lima, L. (2014). Filipenses 1.27-30: Vivendo de forma digna de Deus. Logos.\n",
       "- Igreja Batista da Lapa. (n.d.). Devocional – Filipenses 1.27-29.\n",
       "- Starmount Church. (2020). Filipenses 1: 27-30 A carta de Paulo à igreja na cidade de Filipos foi escrita de uma prisão romana.\n"
      ],
      "text/plain": [
       "<IPython.core.display.Markdown object>"
      ]
     },
     "execution_count": 12,
     "metadata": {},
     "output_type": "execute_result"
    }
   ],
   "source": [
    "Markdown(print_pydantic(result.tasks_output[3]))"
   ]
  }
 ],
 "metadata": {
  "kernelspec": {
   "display_name": "crewai",
   "language": "python",
   "name": "python3"
  },
  "language_info": {
   "codemirror_mode": {
    "name": "ipython",
    "version": 3
   },
   "file_extension": ".py",
   "mimetype": "text/x-python",
   "name": "python",
   "nbconvert_exporter": "python",
   "pygments_lexer": "ipython3",
   "version": "3.12.4"
  }
 },
 "nbformat": 4,
 "nbformat_minor": 2
}

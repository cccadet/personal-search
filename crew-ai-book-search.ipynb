{
 "cells": [
  {
   "cell_type": "markdown",
   "metadata": {},
   "source": [
    "## "
   ]
  },
  {
   "cell_type": "markdown",
   "metadata": {},
   "source": [
    "# Crew AI - Book Search"
   ]
  },
  {
   "cell_type": "markdown",
   "metadata": {},
   "source": [
    "## Import libraries"
   ]
  },
  {
   "cell_type": "code",
   "execution_count": null,
   "metadata": {},
   "outputs": [],
   "source": [
    "import os\n",
    "from crewai import Crew\n",
    "from search.context import crew as crew_context\n",
    "import logging\n",
    "\n",
    "# Logging\n",
    "logging.basicConfig(level=logging.INFO)\n",
    "\n",
    "# Warning control\n",
    "import warnings\n",
    "warnings.filterwarnings('ignore')"
   ]
  },
  {
   "cell_type": "markdown",
   "metadata": {},
   "source": [
    "## Configuration"
   ]
  },
  {
   "cell_type": "code",
   "execution_count": null,
   "metadata": {},
   "outputs": [],
   "source": [
    "# ------ Ollama - Local---------#\n",
    "#os.environ[\"OPENAI_MODEL_NAME\"] = 'wizardlm2:7b'\n",
    "#os.environ[\"OPENAI_API_BASE\"]='http://localhost:11434/v1'\n",
    "#os.environ[\"OPENAI_API_KEY\"]='NA'\n",
    "os.environ[\"LOCAL_EMBEDDINGS\"]=\"http://localhost:11434/api/embeddings\"\n",
    "embeddings_model = \"nomic-embed-text:v1.5\"\n",
    "os.environ[\"LOCAL_EMBEDDINGS_MODEL\"]=embeddings_model # documentar como definir variáveis de ambiente\n",
    "\n",
    "# ------ OpenAI - API ---------#\n",
    "os.environ[\"OPENAI_MODEL_NAME\"] = 'gpt-3.5-turbo'\n",
    "\n",
    "# ------ DEBUG ---------#\n",
    "os.environ[\"DEBUG\"]=\"False\""
   ]
  },
  {
   "cell_type": "markdown",
   "metadata": {},
   "source": [
    "### Agent - Busca no Contexto"
   ]
  },
  {
   "cell_type": "code",
   "execution_count": null,
   "metadata": {},
   "outputs": [],
   "source": [
    "library_agent = crew_context.library_agent\n",
    "commentary_agent = crew_context.commentary_agent"
   ]
  },
  {
   "cell_type": "markdown",
   "metadata": {},
   "source": [
    "### Task - Busca no contexto"
   ]
  },
  {
   "cell_type": "code",
   "execution_count": null,
   "metadata": {},
   "outputs": [],
   "source": [
    "library_search_task = crew_context.library_search_task\n",
    "literary_commentary_task = crew_context.literary_commentary_task"
   ]
  },
  {
   "cell_type": "code",
   "execution_count": null,
   "metadata": {},
   "outputs": [],
   "source": [
    "crew = Crew(\n",
    "  agents=[library_agent, commentary_agent],\n",
    "  tasks=[library_search_task, literary_commentary_task],\n",
    "  verbose=2,\n",
    "  memory=False,\n",
    ")"
   ]
  },
  {
   "cell_type": "code",
   "execution_count": null,
   "metadata": {},
   "outputs": [],
   "source": [
    "input_text  = \"\"\"O mais importante é que vocês vivam em sua comunidade de maneira digna das boas-novas de Cristo. Então, quando eu for vê-los novamente, ou mesmo quando ouvir a seu respeito, saberei que estão firmes e unidos em um só espírito e em um só propósito, lutando juntos pela fé que é proclamada nas boas-novas.\"\"\"\n",
    "input_text"
   ]
  },
  {
   "cell_type": "code",
   "execution_count": null,
   "metadata": {},
   "outputs": [],
   "source": [
    "inputs = {\n",
    "    \"text\": input_text\n",
    "}\n",
    "result = crew.kickoff(inputs=inputs)"
   ]
  },
  {
   "cell_type": "code",
   "execution_count": null,
   "metadata": {},
   "outputs": [],
   "source": [
    "from IPython.display import display, Markdown\n",
    "\n",
    "def get_task_output(task):\n",
    "    return f\"\"\"\n",
    "**Tarefa:** \\n\n",
    "{task.output.description} \\n \\n\n",
    "**Saída:** \\n\n",
    "{task.output.raw_output}\n",
    "\"\"\"\n",
    "\n",
    "Markdown(get_task_output(library_search_task))\n"
   ]
  },
  {
   "cell_type": "code",
   "execution_count": null,
   "metadata": {},
   "outputs": [],
   "source": [
    "Markdown(result)"
   ]
  },
  {
   "cell_type": "code",
   "execution_count": null,
   "metadata": {},
   "outputs": [],
   "source": [
    "print(crew.usage_metrics)"
   ]
  }
 ],
 "metadata": {
  "kernelspec": {
   "display_name": "crewai",
   "language": "python",
   "name": "python3"
  },
  "language_info": {
   "codemirror_mode": {
    "name": "ipython",
    "version": 3
   },
   "file_extension": ".py",
   "mimetype": "text/x-python",
   "name": "python",
   "nbconvert_exporter": "python",
   "pygments_lexer": "ipython3",
   "version": "3.12.2"
  }
 },
 "nbformat": 4,
 "nbformat_minor": 2
}

{
 "cells": [
  {
   "cell_type": "markdown",
   "metadata": {},
   "source": [
    "## "
   ]
  },
  {
   "cell_type": "markdown",
   "metadata": {},
   "source": [
    "# Crew AI - Book Search"
   ]
  },
  {
   "cell_type": "markdown",
   "metadata": {},
   "source": [
    "## Import libraries"
   ]
  },
  {
   "cell_type": "code",
   "execution_count": 1,
   "metadata": {},
   "outputs": [],
   "source": [
    "import os\n",
    "from crewai import Crew\n",
    "from search.context.crew import library_agent, commentary_agent, \\\n",
    "                                library_search_task, literary_commentary_task\n",
    "import logging\n",
    "\n",
    "# Logging\n",
    "logging.basicConfig(level=logging.INFO)\n",
    "\n",
    "# Warning control\n",
    "import warnings\n",
    "warnings.filterwarnings('ignore')"
   ]
  },
  {
   "cell_type": "markdown",
   "metadata": {},
   "source": [
    "## Configuration"
   ]
  },
  {
   "cell_type": "code",
   "execution_count": 2,
   "metadata": {},
   "outputs": [],
   "source": [
    "# ------ Ollama - Local---------#\n",
    "os.environ[\"LOCAL_EMBEDDINGS\"]=\"http://localhost:11434/api/embeddings\"\n",
    "embeddings_model = \"nomic-embed-text:v1.5\"\n",
    "os.environ[\"LOCAL_EMBEDDINGS_MODEL\"]=embeddings_model # documentar como definir variáveis de ambiente\n",
    "\n",
    "# ------ OpenAI - API ---------#\n",
    "os.environ[\"OPENAI_MODEL_NAME\"] = 'gpt-3.5-turbo'\n",
    "\n",
    "# ------ DEBUG ---------#\n",
    "os.environ[\"DEBUG\"]=\"False\"\n",
    "debug = os.getenv(\"DEBUG_MODE\", \"False\")\n",
    "if debug.lower() == \"true\":\n",
    "    VERBOSE = 2\n",
    "else:\n",
    "    VERBOSE = False"
   ]
  },
  {
   "cell_type": "markdown",
   "metadata": {},
   "source": [
    "### Crew - Busca no contexto"
   ]
  },
  {
   "cell_type": "code",
   "execution_count": 3,
   "metadata": {},
   "outputs": [],
   "source": [
    "crew = Crew(\n",
    "  agents=[library_agent, commentary_agent],\n",
    "  tasks=[library_search_task, literary_commentary_task],\n",
    "  verbose=VERBOSE,\n",
    "  memory=False,\n",
    ")"
   ]
  },
  {
   "cell_type": "code",
   "execution_count": 4,
   "metadata": {},
   "outputs": [
    {
     "data": {
      "text/plain": [
       "'O mais importante é que vocês vivam em sua comunidade de maneira digna das boas-novas de Cristo. Então, quando eu for vê-los novamente, ou mesmo quando ouvir a seu respeito, saberei que estão firmes e unidos em um só espírito e em um só propósito, lutando juntos pela fé que é proclamada nas boas-novas.'"
      ]
     },
     "execution_count": 4,
     "metadata": {},
     "output_type": "execute_result"
    }
   ],
   "source": [
    "input_text  = \"\"\"O mais importante é que vocês vivam em sua comunidade de maneira digna das boas-novas de Cristo. Então, quando eu for vê-los novamente, ou mesmo quando ouvir a seu respeito, saberei que estão firmes e unidos em um só espírito e em um só propósito, lutando juntos pela fé que é proclamada nas boas-novas.\"\"\"\n",
    "input_text"
   ]
  },
  {
   "cell_type": "code",
   "execution_count": 5,
   "metadata": {},
   "outputs": [
    {
     "name": "stdout",
     "output_type": "stream",
     "text": [
      "\u001b[95m \n",
      "\n",
      "**Trecho de Evangelho Maltrapilho - Brennan Manning - página 77:** \n",
      "comigo? \n",
      "Você alega saber o que compartilhamos qu ando Jesus retirou-se para um lugar \n",
      "deserto e passou a noite na encosta de uma colina comigo? Você sabe de onde veio a inspiração de lavar os pés dos doze discíp ulos? Você entende que, motivado apenas \n",
      "pelo amor, seu Deus tornou-se seu escravo no cenáculo? \n",
      "Você ressente a ordem divina dada a Abr aão, de oferecer seu único filho, Isaque, \n",
      "no monte Moriá? Você sente alívio quando o anjo intervém, a mão de Abraão é detida\n",
      "\n",
      "**Trecho de Evangelho Maltrapilho - Brennan Manning - página 99:** \n",
      "ordem de Jesus: \"Tende bom ânimo! Sou eu. Não temais!\" (Mc 6:50) e às palavras do discípulo \n",
      "que Jesus amava: \"No amor não existe medo; ante s, o perfeito amor lança fora o medo. Ora, o \n",
      "medo produz tormento; logo, aquele que teme não é aperfeiçoado no amor\" (1Jo 4:18). Uma \n",
      "pequena maltrapilha chamada Amy Welborn dá uma voz à cambada dos esfarrapados: \n",
      "O amor pode lançar fora o medo, mas alguns  de nós devem tomar o desafio de João na\n",
      "\n",
      "**Trecho de Por que tarda o pleno Avivamento - Leonard Ravenhill - página 24:** \n",
      "contra nós toda a oposição que ê capaz de arregimentar ”. \n",
      "— R. Sibbes.  \n",
      "“Busquei entre eles um homem ”. \n",
      "— Ezequiel 22.30.  \n",
      "“Elias era homem ”. \n",
      "— Tiago 5.17.\n",
      "\n",
      "**Trecho de Evangelho Maltrapilho - Brennan Manning - página 93:** \n",
      "Você está tão certo do triunfo do bem sobre o mal quanto do azedar da massa através do \n",
      "fermento? Embora determinado dia você possa sent ir-se mais deprimido do que nunca, sua vida \n",
      "está geralmente mais orientada na direção da pa z e da alegria? Você se  sente diminuído pela \n",
      "percepção que as outras pessoas têm de você, ou pela sua própria definição de si mesmo? Você possui um toque de desatino que transcende a dú vida, o medo e o rancor contra você mesmo, \n",
      "de modo a aceitar que é aceito?\n",
      "\n",
      "\n",
      "\u001b[00m\n",
      "\u001b[95m \n",
      "\n",
      "**Trecho de Evangelho Maltrapilho - Brennan Manning - página 10:** \n",
      "Deus\", disse Agostinho, \"até mesmo isso é um  presente de Deus\". Minha consciência mais \n",
      "profunda a respeito de mim mesmo é de que so u profundamente amado por Jesus Cristo e não \n",
      "fiz nada para consegui-lo ou merecê-lo. \n",
      "                                                             \n",
      " \n",
      "7 Anthony  de MELLO.  Op. cit., p. 113,4.\n",
      "\n",
      "**Trecho de Evangelho Maltrapilho - Brennan Manning - página 99:** \n",
      "ordem de Jesus: \"Tende bom ânimo! Sou eu. Não temais!\" (Mc 6:50) e às palavras do discípulo \n",
      "que Jesus amava: \"No amor não existe medo; ante s, o perfeito amor lança fora o medo. Ora, o \n",
      "medo produz tormento; logo, aquele que teme não é aperfeiçoado no amor\" (1Jo 4:18). Uma \n",
      "pequena maltrapilha chamada Amy Welborn dá uma voz à cambada dos esfarrapados: \n",
      "O amor pode lançar fora o medo, mas alguns  de nós devem tomar o desafio de João na\n",
      "\n",
      "**Trecho de Evangelho Maltrapilho - Brennan Manning - página 77:** \n",
      "comigo? \n",
      "Você alega saber o que compartilhamos qu ando Jesus retirou-se para um lugar \n",
      "deserto e passou a noite na encosta de uma colina comigo? Você sabe de onde veio a inspiração de lavar os pés dos doze discíp ulos? Você entende que, motivado apenas \n",
      "pelo amor, seu Deus tornou-se seu escravo no cenáculo? \n",
      "Você ressente a ordem divina dada a Abr aão, de oferecer seu único filho, Isaque, \n",
      "no monte Moriá? Você sente alívio quando o anjo intervém, a mão de Abraão é detida\n",
      "\n",
      "**Trecho de Evangelho Maltrapilho - Brennan Manning - página 70:** \n",
      "embaraçadas para que façam oferta s de caridade? Como pode o ato de dar livremente, cego \n",
      "como a justiça equilibrando sua balança, sobreviv er à lista impressa de contribuintes do pastor, \n",
      "à complexidade das ofertas dedutíveis do impost o de renda, às campanhas de motivação e aos \n",
      "bilhetes de rifa extorquidos de nós pelas pressõ es cavilosas da vergonha e da culpa? Nossos \n",
      "mecanismos de angariar fundos estão fundamen tados numa avaliação dos nossos motivos que é\n",
      "\n",
      "\n",
      "\u001b[00m\n",
      "\u001b[95m \n",
      "\n",
      "**Trecho de Evangelho Maltrapilho - Brennan Manning - página 10:** \n",
      "Deus\", disse Agostinho, \"até mesmo isso é um  presente de Deus\". Minha consciência mais \n",
      "profunda a respeito de mim mesmo é de que so u profundamente amado por Jesus Cristo e não \n",
      "fiz nada para consegui-lo ou merecê-lo. \n",
      "                                                             \n",
      " \n",
      "7 Anthony  de MELLO.  Op. cit., p. 113,4.\n",
      "\n",
      "**Trecho de Evangelho Maltrapilho - Brennan Manning - página 99:** \n",
      "ordem de Jesus: \"Tende bom ânimo! Sou eu. Não temais!\" (Mc 6:50) e às palavras do discípulo \n",
      "que Jesus amava: \"No amor não existe medo; ante s, o perfeito amor lança fora o medo. Ora, o \n",
      "medo produz tormento; logo, aquele que teme não é aperfeiçoado no amor\" (1Jo 4:18). Uma \n",
      "pequena maltrapilha chamada Amy Welborn dá uma voz à cambada dos esfarrapados: \n",
      "O amor pode lançar fora o medo, mas alguns  de nós devem tomar o desafio de João na\n",
      "\n",
      "**Trecho de Evangelho Maltrapilho - Brennan Manning - página 77:** \n",
      "comigo? \n",
      "Você alega saber o que compartilhamos qu ando Jesus retirou-se para um lugar \n",
      "deserto e passou a noite na encosta de uma colina comigo? Você sabe de onde veio a inspiração de lavar os pés dos doze discíp ulos? Você entende que, motivado apenas \n",
      "pelo amor, seu Deus tornou-se seu escravo no cenáculo? \n",
      "Você ressente a ordem divina dada a Abr aão, de oferecer seu único filho, Isaque, \n",
      "no monte Moriá? Você sente alívio quando o anjo intervém, a mão de Abraão é detida\n",
      "\n",
      "**Trecho de Evangelho Maltrapilho - Brennan Manning - página 70:** \n",
      "embaraçadas para que façam oferta s de caridade? Como pode o ato de dar livremente, cego \n",
      "como a justiça equilibrando sua balança, sobreviv er à lista impressa de contribuintes do pastor, \n",
      "à complexidade das ofertas dedutíveis do impost o de renda, às campanhas de motivação e aos \n",
      "bilhetes de rifa extorquidos de nós pelas pressõ es cavilosas da vergonha e da culpa? Nossos \n",
      "mecanismos de angariar fundos estão fundamen tados numa avaliação dos nossos motivos que é\n",
      "\u001b[00m\n",
      "\u001b[95m \n",
      "\n",
      "**Trecho de Evangelho Maltrapilho - Brennan Manning - página 10:** \n",
      "Deus\", disse Agostinho, \"até mesmo isso é um  presente de Deus\". Minha consciência mais \n",
      "profunda a respeito de mim mesmo é de que so u profundamente amado por Jesus Cristo e não \n",
      "fiz nada para consegui-lo ou merecê-lo. \n",
      "                                                             \n",
      " \n",
      "7 Anthony  de MELLO.  Op. cit., p. 113,4.\n",
      "\n",
      "**Trecho de Evangelho Maltrapilho - Brennan Manning - página 99:** \n",
      "ordem de Jesus: \"Tende bom ânimo! Sou eu. Não temais!\" (Mc 6:50) e às palavras do discípulo \n",
      "que Jesus amava: \"No amor não existe medo; ante s, o perfeito amor lança fora o medo. Ora, o \n",
      "medo produz tormento; logo, aquele que teme não é aperfeiçoado no amor\" (1Jo 4:18). Uma \n",
      "pequena maltrapilha chamada Amy Welborn dá uma voz à cambada dos esfarrapados: \n",
      "O amor pode lançar fora o medo, mas alguns  de nós devem tomar o desafio de João na\n",
      "\n",
      "**Trecho de Evangelho Maltrapilho - Brennan Manning - página 77:** \n",
      "comigo? \n",
      "Você alega saber o que compartilhamos qu ando Jesus retirou-se para um lugar \n",
      "deserto e passou a noite na encosta de uma colina comigo? Você sabe de onde veio a inspiração de lavar os pés dos doze discíp ulos? Você entende que, motivado apenas \n",
      "pelo amor, seu Deus tornou-se seu escravo no cenáculo? \n",
      "Você ressente a ordem divina dada a Abr aão, de oferecer seu único filho, Isaque, \n",
      "no monte Moriá? Você sente alívio quando o anjo intervém, a mão de Abraão é detida\n",
      "\n",
      "**Trecho de Evangelho Maltrapilho - Brennan Manning - página 70:** \n",
      "embaraçadas para que façam oferta s de caridade? Como pode o ato de dar livremente, cego \n",
      "como a justiça equilibrando sua balança, sobreviv er à lista impressa de contribuintes do pastor, \n",
      "à complexidade das ofertas dedutíveis do impost o de renda, às campanhas de motivação e aos \n",
      "bilhetes de rifa extorquidos de nós pelas pressõ es cavilosas da vergonha e da culpa? Nossos \n",
      "mecanismos de angariar fundos estão fundamen tados numa avaliação dos nossos motivos que é\n",
      "\n",
      "\n",
      "\u001b[00m\n",
      "\u001b[95m \n",
      "\n",
      "A pesquisa sobre o trecho \"O mais importante é que vocês vivam em sua comunidade de maneira digna das boas-novas de Cristo\" resultou em trechos do livro \"Evangelho Maltrapilho\" de Brennan Manning. Os trechos abordam temas como o amor de Jesus Cristo, a superação do medo pelo amor, a humildade e serviço de Jesus aos discípulos, e a importância da caridade desinteressada. Todos esses temas estão relacionados à mensagem de viver de acordo com os ensinamentos de Cristo e demonstrar amor e compaixão na comunidade.\n",
      "\u001b[00m\n"
     ]
    }
   ],
   "source": [
    "inputs = {\n",
    "    \"text\": input_text\n",
    "}\n",
    "result = crew.kickoff(inputs=inputs)"
   ]
  },
  {
   "cell_type": "code",
   "execution_count": 6,
   "metadata": {},
   "outputs": [
    {
     "data": {
      "text/markdown": [
       "\n",
       "**Tarefa:** \n",
       "\n",
       "O cliente forneceu o seguinte texto para análise:\n",
       "O mais importante é que vocês vivam em sua comunidade de maneira digna das boas-novas de Cristo. Então, quando eu for vê-los novamente, ou mesmo quando ouvir a seu respeito, saberei que estão firmes e unidos em um só espírito e em um só propósito, lutando juntos pela fé que é proclamada nas boas-novas.\n",
       "\n",
       "Sua tarefa é usar a library_tool para encontrar os mais relevantes trechos de livros relacionados a este texto. Certifique-se de que os trechos que você fornece são altamente relevantes e úteis para análises posteriores. \n",
       " \n",
       "\n",
       "**Saída:** \n",
       "\n",
       "**Trecho de Evangelho Maltrapilho - Brennan Manning - página 77:** \n",
       "comigo? \n",
       "Você alega saber o que compartilhamos quando Jesus retirou-se para um lugar deserto e passou a noite na encosta de uma colina comigo? Você sabe de onde veio a inspiração de lavar os pés dos doze discípulos? Você entende que, motivado apenas pelo amor, seu Deus tornou-se seu escravo no cenáculo? Você ressente a ordem divina dada a Abraão, de oferecer seu único filho, Isaque, no monte Moriá? Você sente alívio quando o anjo intervém, a mão de Abraão é detida\n",
       "\n",
       "**Trecho de Evangelho Maltrapilho - Brennan Manning - página 99:** \n",
       "ordem de Jesus: \"Tende bom ânimo! Sou eu. Não temais!\" (Mc 6:50) e às palavras do discípulo que Jesus amava: \"No amor não existe medo; antes, o perfeito amor lança fora o medo. Ora, o medo produz tormento; logo, aquele que teme não é aperfeiçoado no amor\" (1Jo 4:18). Uma pequena maltrapilha chamada Amy Welborn dá uma voz à cambada dos esfarrapados: O amor pode lançar fora o medo, mas alguns de nós devem tomar o desafio de João na\n",
       "\n",
       "**Trecho de Por que tarda o pleno Avivamento - Leonard Ravenhill - página 24:** \n",
       "contra nós toda a oposição que é capaz de arregimentar ”. \n",
       "— R. Sibbes.  \n",
       "“Busquei entre eles um homem ”. \n",
       "— Ezequiel 22.30.  \n",
       "“Elias era homem ”. \n",
       "— Tiago 5.17.\n",
       "\n",
       "**Trecho de Evangelho Maltrapilho - Brennan Manning - página 93:** \n",
       "Você está tão certo do triunfo do bem sobre o mal quanto do azedar da massa através do fermento? Embora determinado dia você possa sentir-se mais deprimido do que nunca, sua vida está geralmente mais orientada na direção da paz e da alegria? Você se sente diminuído pela percepção que as outras pessoas têm de você, ou pela sua própria definição de si mesmo? Você possui um toque de desatino que transcende a dúvida, o medo e o rancor contra você mesmo, de modo a aceitar que é aceito?\n"
      ],
      "text/plain": [
       "<IPython.core.display.Markdown object>"
      ]
     },
     "execution_count": 6,
     "metadata": {},
     "output_type": "execute_result"
    }
   ],
   "source": [
    "from IPython.display import display, Markdown\n",
    "\n",
    "def get_task_output(task):\n",
    "    return f\"\"\"\n",
    "**Tarefa:** \\n\n",
    "{task.output.description} \\n \\n\n",
    "**Saída:** \\n\n",
    "{task.output.raw_output}\n",
    "\"\"\"\n",
    "\n",
    "Markdown(get_task_output(library_search_task))\n"
   ]
  },
  {
   "cell_type": "code",
   "execution_count": 7,
   "metadata": {},
   "outputs": [
    {
     "data": {
      "text/markdown": [
       "**Texto original fornecido pelo cliente:**\n",
       "O mais importante é que vocês vivam em sua comunidade de maneira digna das boas-novas de Cristo.\n",
       "\n",
       "**Trechos fornecidos pelo Especialista em Pesquisa da Biblioteca:**\n",
       "\n",
       "**Trecho de Evangelho Maltrapilho - Brennan Manning - página 10:** \n",
       "Deus\", disse Agostinho, \"até mesmo isso é um presente de Deus\". Minha consciência mais \n",
       "profunda a respeito de mim mesmo é de que sou profundamente amado por Jesus Cristo e não \n",
       "fiz nada para consegui-lo ou merecê-lo. \n",
       "\n",
       "**Trecho de Evangelho Maltrapilho - Brennan Manning - página 99:** \n",
       "ordem de Jesus: \"Tende bom ânimo! Sou eu. Não temais!\" (Mc 6:50) e às palavras do discípulo \n",
       "que Jesus amava: \"No amor não existe medo; antes, o perfeito amor lança fora o medo. Ora, o \n",
       "medo produz tormento; logo, aquele que teme não é aperfeiçoado no amor\" (1Jo 4:18). Uma \n",
       "pequena maltrapilha chamada Amy Welborn dá uma voz à cambada dos esfarrapados: \n",
       "O amor pode lançar fora o medo, mas alguns de nós devem tomar o desafio de João na\n",
       "\n",
       "**Trecho de Evangelho Maltrapilho - Brennan Manning - página 77:** \n",
       "comigo? \n",
       "Você alega saber o que compartilhamos quando Jesus retirou-se para um lugar \n",
       "deserto e passou a noite na encosta de uma colina comigo? Você sabe de onde veio a inspiração de lavar os pés dos doze discípulos? Você entende que, motivado apenas \n",
       "pelo amor, seu Deus tornou-se seu escravo no cenáculo? \n",
       "Você ressente a ordem divina dada a Abraão, de oferecer seu único filho, Isaque, \n",
       "no monte Moriá? Você sente alívio quando o anjo intervém, a mão de Abraão é detida\n",
       "\n",
       "**Trecho de Evangelho Maltrapilho - Brennan Manning - página 70:** \n",
       "embaraçadas para que façam ofertas de caridade? Como pode o ato de dar livremente, cego \n",
       "como a justiça equilibrando sua balança, sobreviver à lista impressa de contribuintes do pastor, \n",
       "à complexidade das ofertas dedutíveis do imposto de renda, às campanhas de motivação e aos \n",
       "bilhetes de rifa extorquidos de nós pelas pressões cavilosas da vergonha e da culpa? Nossos \n",
       "mecanismos de angariar fundos estão fundamentados numa avaliação dos nossos motivos que é\n",
       "\n",
       "**Comentário:**\n",
       "Os trechos fornecidos do livro \"Evangelho Maltrapilho\" de Brennan Manning abordam temas profundos relacionados à fé, amor, superação do medo e da dúvida, humildade, generosidade e compaixão. Esses temas estão intrinsecamente ligados à mensagem central de viver de acordo com os ensinamentos de Cristo e demonstrar amor e cuidado pela comunidade. A ênfase na confiança em Deus, na superação do medo pelo amor, na humildade exemplificada por Jesus ao lavar os pés dos discípulos e na importância da caridade desinteressada são aspectos essenciais para uma vida que reflete as boas-novas de Cristo. Os trechos fornecidos trazem reflexões profundas que convidam à introspecção, à confiança no amor divino e ao serviço desinteressado ao próximo, elementos fundamentais para uma vivência digna dos princípios cristãos."
      ],
      "text/plain": [
       "<IPython.core.display.Markdown object>"
      ]
     },
     "execution_count": 7,
     "metadata": {},
     "output_type": "execute_result"
    }
   ],
   "source": [
    "Markdown(result)"
   ]
  },
  {
   "cell_type": "code",
   "execution_count": 8,
   "metadata": {},
   "outputs": [
    {
     "name": "stdout",
     "output_type": "stream",
     "text": [
      "{'total_tokens': 59291, 'prompt_tokens': 46764, 'completion_tokens': 12527, 'successful_requests': 40}\n"
     ]
    }
   ],
   "source": [
    "print(crew.usage_metrics)"
   ]
  }
 ],
 "metadata": {
  "kernelspec": {
   "display_name": "crewai",
   "language": "python",
   "name": "python3"
  },
  "language_info": {
   "codemirror_mode": {
    "name": "ipython",
    "version": 3
   },
   "file_extension": ".py",
   "mimetype": "text/x-python",
   "name": "python",
   "nbconvert_exporter": "python",
   "pygments_lexer": "ipython3",
   "version": "3.12.2"
  }
 },
 "nbformat": 4,
 "nbformat_minor": 2
}

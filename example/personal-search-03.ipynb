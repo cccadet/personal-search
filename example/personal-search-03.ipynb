{
 "cells": [
  {
   "cell_type": "markdown",
   "metadata": {},
   "source": [
    "# Personal Search 03\n",
    "\n",
    "Busca de informações em livros usando FAISS"
   ]
  },
  {
   "cell_type": "markdown",
   "metadata": {},
   "source": [
    "## Import packages"
   ]
  },
  {
   "cell_type": "code",
   "execution_count": 1,
   "metadata": {},
   "outputs": [],
   "source": [
    "from langchain_community.llms import Ollama\n",
    "from langchain_community.chat_models import ChatOllama\n",
    "from langchain_community.embeddings import OllamaEmbeddings\n",
    "from langchain_community.vectorstores import FAISS\n",
    "from langchain_core.prompts import ChatPromptTemplate\n",
    "from langchain_core.output_parsers import StrOutputParser\n",
    "from operator import itemgetter\n",
    "from langchain_community.llms import Ollama\n",
    "from IPython.display import display, Markdown\n",
    "import logging\n",
    "from langchain import hub\n",
    "import os\n",
    "#logging.basicConfig(level=logging.INFO)"
   ]
  },
  {
   "cell_type": "code",
   "execution_count": 2,
   "metadata": {},
   "outputs": [],
   "source": [
    "# limpar memória gpu\n",
    "#import torch\n",
    "#torch.cuda.empty_cache()"
   ]
  },
  {
   "cell_type": "markdown",
   "metadata": {},
   "source": [
    "## Configuration"
   ]
  },
  {
   "cell_type": "code",
   "execution_count": 3,
   "metadata": {},
   "outputs": [],
   "source": [
    "model = \"llama3:8b\"\n",
    "#model = \"mistral:7b\"\n",
    "#model = \"phi3\"\n",
    "embeddings_model = \"nomic-embed-text:v1.5\"\n",
    "path_books = \"./vector-store/books\"\n",
    "question = \"O que falta aos pregadores de hoje?\"\n",
    "LANGCHAIN_HUB_API_KEY = os.getenv(\"LANGCHAIN_HUB_API_KEY\")"
   ]
  },
  {
   "cell_type": "markdown",
   "metadata": {},
   "source": [
    "## Retriever Instance"
   ]
  },
  {
   "cell_type": "code",
   "execution_count": 4,
   "metadata": {},
   "outputs": [],
   "source": [
    "embeddings = OllamaEmbeddings(model=embeddings_model)\n",
    "\n",
    "db = FAISS.load_local(path_books, embeddings, allow_dangerous_deserialization=True)\n",
    "\n",
    "retriever = db.as_retriever()\n",
    "retriever.search_kwargs[\"distance_metric\"] = \"cos\"\n",
    "retriever.search_kwargs[\"fetch_k\"] = 100\n",
    "retriever.search_kwargs[\"maximal_marginal_relevance\"] = False\n",
    "retriever.search_kwargs[\"k\"] = 2"
   ]
  },
  {
   "cell_type": "markdown",
   "metadata": {},
   "source": [
    "## Search"
   ]
  },
  {
   "cell_type": "code",
   "execution_count": 5,
   "metadata": {},
   "outputs": [],
   "source": [
    "sources = retriever.invoke(question)\n",
    "livros = ''\n",
    "for source in sources:\n",
    "    source_name = source.metadata['source'].split('/')[-1]\n",
    "    source_page = source.metadata['page']\n",
    "    livros += f'**Fonte:** {source_name} - Página: {source_page}\\n\\n'\n",
    "    livros += f'{source.page_content}\\n\\n'"
   ]
  },
  {
   "cell_type": "code",
   "execution_count": 6,
   "metadata": {},
   "outputs": [],
   "source": [
    "# RAG\n",
    "template = \"\"\"\n",
    "Cite trechos do contexto que tenha relação com \"{question}\". Não elabore, apenas cite.\n",
    "Caso não encontre, apenas diga que não encontrou. \n",
    "Obedeça o formato \"Citação do livro\" - Fonte: Nome do Livro - Página: Número da Página\n",
    "\n",
    "Contexto:\n",
    "{context}\n",
    "\n",
    "Responda em português.\n",
    "\"\"\"\n",
    "\n",
    "prompt = ChatPromptTemplate.from_template(template)\n",
    "#hub.push(repo_full_name=\"personal-search/rag-personal-search-03\", object=prompt, api_key=LANGCHAIN_HUB_API_KEY)\n",
    "\n",
    "llm = Ollama(model=model, temperature=0)\n",
    "#llm = ChatOllama(model=model, temperature=0)\n",
    "\n",
    "final_rag_chain = (\n",
    "    {\"context\": itemgetter(\"livros\"), \n",
    "     \"question\": itemgetter(\"question\")} \n",
    "    | prompt\n",
    "    | llm.bind(stop=[\"<|eot_id|>\"])\n",
    "    | StrOutputParser()\n",
    ")\n",
    "# llm.bind(stop=[\"<|eot_id|>\"])\n",
    "\n",
    "final_answer = final_rag_chain.invoke({\"question\":question, \"livros\":livros})"
   ]
  },
  {
   "cell_type": "code",
   "execution_count": 7,
   "metadata": {},
   "outputs": [
    {
     "data": {
      "text/markdown": [
       "**Tópico:** O que falta aos pregadores de hoje?\n",
       "\n"
      ],
      "text/plain": [
       "<IPython.core.display.Markdown object>"
      ]
     },
     "metadata": {},
     "output_type": "display_data"
    },
    {
     "data": {
      "text/markdown": [
       "**Fonte:** Conselhos para obreiros - Charles H Spurgeon.pdf - Página: 38-40\n",
       "\n",
       "O que falta aos pregadores de hoje é a determinação e a coragem para se aproximar do povo, como os ceifeiros de trigo. Eles devem sentir-se um com o povo e amá-las, relacionar-se com elas, sentir prazer em vê-las. Além disso, eles devem ser honestos e francos ao pregar, chamando o pecado de pecado e alertando as pessoas para a necessidade de escapar da ira divina pela fé em Jesus.\n",
       "\n",
       "**Fonte:** Por que tarda o pleno Avivamento - Leonard Ravenhill.pdf - Página: 72-74\n",
       "\n",
       "O que falta aos pregadores de hoje é a coragem para se aproximar do povo e criticá-lo, como os profetas do passado. Eles devem ser mortos por causa da indignação santa ao ver a religião falsa enganando as pessoas e roubando-lhes a salvação. Além disso, eles devem ser pregadores que possam incendiar o coração dos homens e não poupem ninguém, clamando em alta voz e não se preocupando com a perseguição."
      ],
      "text/plain": [
       "<IPython.core.display.Markdown object>"
      ]
     },
     "metadata": {},
     "output_type": "display_data"
    }
   ],
   "source": [
    "display(Markdown(f\"**Tópico:** {question}\\n\\n\"))\n",
    "display(Markdown(final_answer))"
   ]
  },
  {
   "cell_type": "code",
   "execution_count": 8,
   "metadata": {},
   "outputs": [
    {
     "data": {
      "text/markdown": [
       "**Fonte:** {'source': './books/import/Conselhos para obreiros - Charles H Spurgeon.pdf', 'page': 38}"
      ],
      "text/plain": [
       "<IPython.core.display.Markdown object>"
      ]
     },
     "metadata": {},
     "output_type": "display_data"
    },
    {
     "data": {
      "text/markdown": [
       "**Trecho:** Afinal de contas, que tipo de obreiros são solicitados? Devem ser homens que vão até o campo.\n",
       "Não há como colher o trigo ficando a certa distância da plantação e acenando para ela: você tem\n",
       "que ir até o pé de trigo; todo ceifeiro sabe disso. E você não conseguirá mover o coração das\n",
       "pessoas e levá-las a Cristo imaginando-se um ser superior que faz uma concessão magnânima\n",
       "quando cumprimenta um pobre. Essa forma distanciada de pregação é tão ridícula quanto ceifar\n",
       "com uma faca de mesa com cabo de marfim e usando luvas de pelica; eu não creio que Deus\n",
       "abençoe esse trabalho. Embrenhem-se no campo de trigo, como homens determinados! Os servos\n",
       "de Deus deveriam sentir que são um com o povo; sejam quem forem as pessoas, os servos\n",
       "deveriam amá-las, relacionar-se com elas, sentir prazer em vê-las. Olhar para essas pessoas e\n",
       "dizer: “irmão”. Todo homem é meu irmão, mesmo o mau, porém eu o amarei e o levarei até\n",
       "Jesus. Os ceifeiros de Cristo devem descer até o trigo.\n",
       "Agora, observe o que o trabalhador traz consigo: uma foice. Sua comunicação com a espiga de\n",
       "trigo é rápida e afiada. Ele a corta; corta, e a espiga cai ao chão. O homem que Deus diz ser um\n",
       "trabalhador da seara não pode usar de palavras suaves e delicadas, persuadir com doutrinas que\n",
       "falam da dignidade humana, da excelência da autoajuda, do esforço próprio para corrigir a\n",
       "condição pecaminosa e coisas semelhantes. Deus pode amaldiçoar tal hipócrita, pois ele é a\n",
       "maldição deste século. O pregador honesto chama o pecado de pecado e fala francamente: “Você\n",
       "está se arruinando; enquanto rejeitar Cristo, viverá nas bordas do inferno e brevemente estará\n",
       "perdido por toda a eternidade. Não há discussão: você tem de escapar da ira divina pela fé em\n",
       "Jesus, ou será tirado eternamente da presença de Deus e de toda esperança de alegria”. O sermão\n",
       "do pregador deve ser direto. Ele não tem de cegar a navalha da segadeira temendo machucar\n",
       "alguém. O evangelho pretende ferir a consciência e ir direto ao coração a fim de separar a alma\n",
       "do pecado e do ego, da mesma maneira que o grão é separado do solo. Nosso objetivo é cortar\n",
       "imediatamente o pecado, pois toda a beleza da carne deve ser derrotada; toda a sua glória e\n",
       "excelência devem ser extirpadas. E o homem deve surgir como um morto para que seja salvo. Os\n",
       "ministros que não têm o objetivo de cortar profundamente o pecado não são sal da terra. Deus\n",
       "nunca enviaria homens que não têm como objetivo incomodar a consciência humana. Tal homem"
      ],
      "text/plain": [
       "<IPython.core.display.Markdown object>"
      ]
     },
     "metadata": {},
     "output_type": "display_data"
    },
    {
     "data": {
      "text/markdown": [
       "**Fonte:** {'source': './books/import/Por que tarda o pleno Avivamento - Leonard Ravenhill.pdf', 'page': 72}"
      ],
      "text/plain": [
       "<IPython.core.display.Markdown object>"
      ]
     },
     "metadata": {},
     "output_type": "display_data"
    },
    {
     "data": {
      "text/markdown": [
       "**Trecho:** O mesmo havia acontecido a Sa vonarola, que abalou a cidade de \n",
       "Florença, na Itália, a ponto de o rosto desse “monge louco” tornar -se \n",
       "um terror para os florentinos, e motivo de chacota para os fanáticos \n",
       "papistas.  \n",
       "Irmãos, à luz do conhecimento que temos sobre o altar de Deus, é \n",
       "melhor vi vermos seis meses com o coração em chamas, apontando o \n",
       "pecado deste mundo, seja em que lugar for, e conclamando o povo a \n",
       "libertar -se do poder de Satanás e se voltar para Deus (como fez João \n",
       "Batista), do que morrer cercado de honrarias eclesiásticas e de \n",
       "doutorados em teologia, para se tornar motivo de riso no inferno, para \n",
       "os espíritos das trevas. Ridicularizar os magnatas da bebida e \n",
       "censurar os políticos corruptos não atrai maldição sobre a nossa \n",
       "cabeça. Há quem faça as duas coisas sem sofrer nenhuma amea ça à \n",
       "sua vida e à sua posição no púlpito. Os profetas do passado eram \n",
       "mortos po rque combatiam veementemente as religiões falsas. E nós \n",
       "também devíamos nos deixar arder de santa indignação ao ver a \n",
       "religião falsa enganando nossos semelhantes, e roubando de nossos \n",
       "entes queridos a salvação; ou ao ver sacerdotes levando -os para o \n",
       "inferno sob a efígie de um crucifixo. E talvez, quem sabe, daqui a \n",
       "alguns anos, p ara abrir o caminho para uma nova reforma no século \n",
       "XX, nós sejamos queimados em fogueiras.  \n",
       "Esta aqui é para se ler e chorar: “Hoje o protestantismo mutilado vê \n",
       "os sacerdotes católicos romanos elogiando os evangelistas \n",
       "protestantes”. Respond a em sã consciência, você acredita que esses \n",
       "mesmos papistas aplaudiriam Lutero ou apoiariam Savo naro la? Ó \n",
       "Deus, envi a-nos pregadores que possam entre gar mensagens que \n",
       "penetrem o coração dos homens e o incendeie! Envia -nos uma \n",
       "geração de pregadores mártires, de homens em chamas, \n",
       "quebrantados e prostrados diante da visão de um castigo iminente e \n",
       "de um inferno eterno para os irregenerados!  \n",
       "Que Deus nos envie profetas, homens destemidos que clamem em \n",
       "alta voz e não poupem ninguém, que  abalem nações com lamentos \n",
       "ungidos, que sejam fer vorosos quase a ponto de se tornarem \n",
       "insuportáveis, duros a ponto de ser difícil ouvi -los, e \n",
       "descomprome tidos a ponto de sofrerem perseguição. Esta mos \n",
       "cansados de pregadores que se apresentam de roupas elegantes, \n",
       "linguagem suave e torrentes de palavras, mas apenas com uma gota \n",
       "de unção. São homens que entendem mais de competição do que \n",
       "consagração , mais de promoção d o que oração. Substituem o"
      ],
      "text/plain": [
       "<IPython.core.display.Markdown object>"
      ]
     },
     "metadata": {},
     "output_type": "display_data"
    }
   ],
   "source": [
    "sources = retriever.invoke(question)\n",
    "for source in sources:\n",
    "    display(Markdown(f\"**Fonte:** {source.metadata}\"))\n",
    "    display(Markdown(f\"**Trecho:** {source.page_content}\"))"
   ]
  },
  {
   "cell_type": "code",
   "execution_count": 9,
   "metadata": {},
   "outputs": [
    {
     "data": {
      "text/markdown": [
       "**Fonte:** Afinal de contas, que tipo de obreiros são solicitados? Devem ser homens que vão até o campo.\n",
       "Não há como colher o trigo ficando a certa distância da plantação e acenando para ela: você tem\n",
       "que ir até o pé de trigo; todo ceifeiro sabe disso. E você não conseguirá mover o coração das\n",
       "pessoas e levá-las a Cristo imaginando-se um ser superior que faz uma concessão magnânima\n",
       "quando cumprimenta um pobre. Essa forma distanciada de pregação é tão ridícula quanto ceifar\n",
       "com uma faca de mesa com cabo de marfim e usando luvas de pelica; eu não creio que Deus\n",
       "abençoe esse trabalho. Embrenhem-se no campo de trigo, como homens determinados! Os servos\n",
       "de Deus deveriam sentir que são um com o povo; sejam quem forem as pessoas, os servos\n",
       "deveriam amá-las, relacionar-se com elas, sentir prazer em vê-las. Olhar para essas pessoas e\n",
       "dizer: “irmão”. Todo homem é meu irmão, mesmo o mau, porém eu o amarei e o levarei até\n",
       "Jesus. Os ceifeiros de Cristo devem descer até o trigo.\n",
       "Agora, observe o que o trabalhador traz consigo: uma foice. Sua comunicação com a espiga de\n",
       "trigo é rápida e afiada. Ele a corta; corta, e a espiga cai ao chão. O homem que Deus diz ser um\n",
       "trabalhador da seara não pode usar de palavras suaves e delicadas, persuadir com doutrinas que\n",
       "falam da dignidade humana, da excelência da autoajuda, do esforço próprio para corrigir a\n",
       "condição pecaminosa e coisas semelhantes. Deus pode amaldiçoar tal hipócrita, pois ele é a\n",
       "maldição deste século. O pregador honesto chama o pecado de pecado e fala francamente: “Você\n",
       "está se arruinando; enquanto rejeitar Cristo, viverá nas bordas do inferno e brevemente estará\n",
       "perdido por toda a eternidade. Não há discussão: você tem de escapar da ira divina pela fé em\n",
       "Jesus, ou será tirado eternamente da presença de Deus e de toda esperança de alegria”. O sermão\n",
       "do pregador deve ser direto. Ele não tem de cegar a navalha da segadeira temendo machucar\n",
       "alguém. O evangelho pretende ferir a consciência e ir direto ao coração a fim de separar a alma\n",
       "do pecado e do ego, da mesma maneira que o grão é separado do solo. Nosso objetivo é cortar\n",
       "imediatamente o pecado, pois toda a beleza da carne deve ser derrotada; toda a sua glória e\n",
       "excelência devem ser extirpadas. E o homem deve surgir como um morto para que seja salvo. Os\n",
       "ministros que não têm o objetivo de cortar profundamente o pecado não são sal da terra. Deus\n",
       "nunca enviaria homens que não têm como objetivo incomodar a consciência humana. Tal homem"
      ],
      "text/plain": [
       "<IPython.core.display.Markdown object>"
      ]
     },
     "metadata": {},
     "output_type": "display_data"
    },
    {
     "data": {
      "text/markdown": [
       "**Trecho:** {'source': './books/import/Conselhos para obreiros - Charles H Spurgeon.pdf', 'page': 38}"
      ],
      "text/plain": [
       "<IPython.core.display.Markdown object>"
      ]
     },
     "metadata": {},
     "output_type": "display_data"
    },
    {
     "data": {
      "text/markdown": [
       "**Score:** 349.85894775390625"
      ],
      "text/plain": [
       "<IPython.core.display.Markdown object>"
      ]
     },
     "metadata": {},
     "output_type": "display_data"
    },
    {
     "data": {
      "text/markdown": [
       "**Fonte:** O mesmo havia acontecido a Sa vonarola, que abalou a cidade de \n",
       "Florença, na Itália, a ponto de o rosto desse “monge louco” tornar -se \n",
       "um terror para os florentinos, e motivo de chacota para os fanáticos \n",
       "papistas.  \n",
       "Irmãos, à luz do conhecimento que temos sobre o altar de Deus, é \n",
       "melhor vi vermos seis meses com o coração em chamas, apontando o \n",
       "pecado deste mundo, seja em que lugar for, e conclamando o povo a \n",
       "libertar -se do poder de Satanás e se voltar para Deus (como fez João \n",
       "Batista), do que morrer cercado de honrarias eclesiásticas e de \n",
       "doutorados em teologia, para se tornar motivo de riso no inferno, para \n",
       "os espíritos das trevas. Ridicularizar os magnatas da bebida e \n",
       "censurar os políticos corruptos não atrai maldição sobre a nossa \n",
       "cabeça. Há quem faça as duas coisas sem sofrer nenhuma amea ça à \n",
       "sua vida e à sua posição no púlpito. Os profetas do passado eram \n",
       "mortos po rque combatiam veementemente as religiões falsas. E nós \n",
       "também devíamos nos deixar arder de santa indignação ao ver a \n",
       "religião falsa enganando nossos semelhantes, e roubando de nossos \n",
       "entes queridos a salvação; ou ao ver sacerdotes levando -os para o \n",
       "inferno sob a efígie de um crucifixo. E talvez, quem sabe, daqui a \n",
       "alguns anos, p ara abrir o caminho para uma nova reforma no século \n",
       "XX, nós sejamos queimados em fogueiras.  \n",
       "Esta aqui é para se ler e chorar: “Hoje o protestantismo mutilado vê \n",
       "os sacerdotes católicos romanos elogiando os evangelistas \n",
       "protestantes”. Respond a em sã consciência, você acredita que esses \n",
       "mesmos papistas aplaudiriam Lutero ou apoiariam Savo naro la? Ó \n",
       "Deus, envi a-nos pregadores que possam entre gar mensagens que \n",
       "penetrem o coração dos homens e o incendeie! Envia -nos uma \n",
       "geração de pregadores mártires, de homens em chamas, \n",
       "quebrantados e prostrados diante da visão de um castigo iminente e \n",
       "de um inferno eterno para os irregenerados!  \n",
       "Que Deus nos envie profetas, homens destemidos que clamem em \n",
       "alta voz e não poupem ninguém, que  abalem nações com lamentos \n",
       "ungidos, que sejam fer vorosos quase a ponto de se tornarem \n",
       "insuportáveis, duros a ponto de ser difícil ouvi -los, e \n",
       "descomprome tidos a ponto de sofrerem perseguição. Esta mos \n",
       "cansados de pregadores que se apresentam de roupas elegantes, \n",
       "linguagem suave e torrentes de palavras, mas apenas com uma gota \n",
       "de unção. São homens que entendem mais de competição do que \n",
       "consagração , mais de promoção d o que oração. Substituem o"
      ],
      "text/plain": [
       "<IPython.core.display.Markdown object>"
      ]
     },
     "metadata": {},
     "output_type": "display_data"
    },
    {
     "data": {
      "text/markdown": [
       "**Trecho:** {'source': './books/import/Por que tarda o pleno Avivamento - Leonard Ravenhill.pdf', 'page': 72}"
      ],
      "text/plain": [
       "<IPython.core.display.Markdown object>"
      ]
     },
     "metadata": {},
     "output_type": "display_data"
    },
    {
     "data": {
      "text/markdown": [
       "**Score:** 358.00152587890625"
      ],
      "text/plain": [
       "<IPython.core.display.Markdown object>"
      ]
     },
     "metadata": {},
     "output_type": "display_data"
    },
    {
     "data": {
      "text/markdown": [
       "**Fonte:** É possível que hoje tenhamos o maior índice de pessoas \n",
       "freqüentando a igreja, com o mais baixo índice de espiritualidade de \n",
       "todos os tempos. Talvez estivessem certos aqueles que no passado \n",
       "acusaram o liberalismo d e ser o grande culpado da frieza dos \n",
       "crentes. Hoje, esse bode expiatório é a televisão, que está sendo \n",
       "execrada pelos pr egadores. Entretanto, apesar disso, e sabendo que \n",
       "as duas acusações não deixam de ser verdadeiras, gostaria de dirigir \n",
       "a nós, pregadores , uma pergunta. Será que não deveríamos \n",
       "confessar como aquele escritor do passado: “O erro, caro Brutus, \n",
       "está em nós mesmos? ” Mas eu gostaria de afiar bem o meu bisturi e \n",
       "aprofundá -lo um pouco mais nos pregadores:  passou a época dos \n",
       "grandes ser mões tipo “lanche rápido ”, temperados com tiradas \n",
       "humorísticas para tentar estimular o fraco apetite espiritual do homem \n",
       "de nossos dias? Ou estamos nos esforçando para comunicar os \n",
       "“poderes do mundo vindouro ” em todos os cultos?  \n",
       "Pensemos um pouco em Paulo. Após recebe r uma poderosa unção \n",
       "do Espírito Santo, ele saiu pela Ásia menor para travar ali uma \n",
       "intensa batalha espiritual, causando agitação  nos mercados, \n",
       "sinagogas e palácios. E ia a toda parte, tendo no coração e nos \n",
       "lábios o grito de guerra do evangelho. Diz -se q ue foi Lenine quem \n",
       "disse o seguinte: “Os fatos não podem ser contestados ”. Analisando \n",
       "as realizações de Paulo e comparando -as às dos cre ntes de nossa \n",
       "geração, que fazem tantas concessões ao mundo, te mos que \n",
       "concor dar com ele. Paulo não era um pregador que apenas falava a \n",
       "toda uma cidade; ele a abalava totalmente. Mas ainda assim tinha \n",
       "tempo para sair batendo às portas das casas, e para orar pelos \n",
       "perdidos que encontrava pelas ruas.  \n",
       "Estou cada vez mais convencido de que as lágri mas são um \n",
       "elemento in dispensá vel a uma pregação aviva lista. Irmãos \n",
       "pregadores, precisamos nos enver gonhar de não sentir vergonha; \n",
       "precisamos chorar por n ão termos lágrimas; precisamos nos humilhar \n",
       "por haver perdido a humildade de servo de Deus; gemer por não \n",
       "sentirmos peso pelos perdi dos; irar -nos contra n ós mesmos por não \n",
       "termos ódio do monopólio que o diabo exerce nestes dias do fim, e \n",
       "nos punir pelo fato de o mundo estar -se dando tão bem conosco, que \n",
       "nem precisa perseguir -nos. \n",
       "Pentecostes significa dor, mas o que ma is expe rimentamos  é \n",
       "prazer; significa peso; mas nós amamos a comodidade. Pentecostes \n",
       "significa prisão, e, no entanto, a maioria dos crentes faria qualquer"
      ],
      "text/plain": [
       "<IPython.core.display.Markdown object>"
      ]
     },
     "metadata": {},
     "output_type": "display_data"
    },
    {
     "data": {
      "text/markdown": [
       "**Trecho:** {'source': './books/import/Por que tarda o pleno Avivamento - Leonard Ravenhill.pdf', 'page': 45}"
      ],
      "text/plain": [
       "<IPython.core.display.Markdown object>"
      ]
     },
     "metadata": {},
     "output_type": "display_data"
    },
    {
     "data": {
      "text/markdown": [
       "**Score:** 365.09185791015625"
      ],
      "text/plain": [
       "<IPython.core.display.Markdown object>"
      ]
     },
     "metadata": {},
     "output_type": "display_data"
    },
    {
     "data": {
      "text/markdown": [
       "**Fonte:** inferno? Quem irá r esistir ao diabo? Quem quer privar -se de alimento, \n",
       "descanso e lazer, para que os inf ernos o vejam lutando, \n",
       "envergonhando os demônios, libertando os cativos, esvaziando o \n",
       "inferno, e sofrendo as dores de parto para deixar atrás de si uma \n",
       "fileira de pessoas lavadas pelo sa ngue de Cristo?  \n",
       "Em último lugar, o avivamento tarda porque rou bamos a glória que \n",
       "pertence a Deus . Reflitamos um pouco sobre essas palavras de \n",
       "Jesus: “Eu não  aceito glória que vem dos homens”. “Como podeis \n",
       "crer, vós os que aceitais glória uns dos outros, e contudo não \n",
       "procurais a glória que vem do Deus único?” (Jo 5.41,44.) C hega de \n",
       "toda essa autopromoção nos púlpitos. Chega de tanto exaltar “ meu \n",
       "programa de rádio”, “ minha  igreja”, “meus  livros”. Ah, que repulsiva \n",
       "demonstração carnal vemos nos púlpitos: “Hoje, temos o grande \n",
       "privilégio...” E os pregadores aceitam isso; não, el es já o esperam. (E \n",
       "se esquecem de que só estão ali pela graça de Deus .) E a vaidade é \n",
       "que, quando ouvimos tais homens pregar, notamos que nunca \n",
       "ficaríamos sabendo que eram tão importantes, se não tivessem sido \n",
       "apresentados como tal.  \n",
       "Coitado de Deus!  Ele n ão está recebendo muita glória! Então, por \n",
       "que ele ainda não cumpriu sua terrível mas bendita ameaça de que \n",
       "iria vomitar -nos de sua boca? Nós fracassamos; estamos impuros. \n",
       "Apreciamos os louvores dos homens. Buscamos nossos próprios \n",
       "interesses. Ó Deus, libe rta-nos dessa existência egoística, \n",
       "egocêntrica! Dá -nos a bênção do quebrantamento! O juízo deve \n",
       "começar por nós, pelos pregadores!"
      ],
      "text/plain": [
       "<IPython.core.display.Markdown object>"
      ]
     },
     "metadata": {},
     "output_type": "display_data"
    },
    {
     "data": {
      "text/markdown": [
       "**Trecho:** {'source': './books/import/Por que tarda o pleno Avivamento - Leonard Ravenhill.pdf', 'page': 42}"
      ],
      "text/plain": [
       "<IPython.core.display.Markdown object>"
      ]
     },
     "metadata": {},
     "output_type": "display_data"
    },
    {
     "data": {
      "text/markdown": [
       "**Score:** 375.86114501953125"
      ],
      "text/plain": [
       "<IPython.core.display.Markdown object>"
      ]
     },
     "metadata": {},
     "output_type": "display_data"
    }
   ],
   "source": [
    "sources = db.similarity_search_with_score(question)\n",
    "for source in sources:\n",
    "    display(Markdown(f\"**Fonte:** {source[0].page_content}\"))\n",
    "    display(Markdown(f\"**Trecho:** {source[0].metadata}\"))\n",
    "    display(Markdown(f\"**Score:** {source[1]}\"))"
   ]
  }
 ],
 "metadata": {
  "kernelspec": {
   "display_name": "ollama",
   "language": "python",
   "name": "python3"
  },
  "language_info": {
   "codemirror_mode": {
    "name": "ipython",
    "version": 3
   },
   "file_extension": ".py",
   "mimetype": "text/x-python",
   "name": "python",
   "nbconvert_exporter": "python",
   "pygments_lexer": "ipython3",
   "version": "3.10.14"
  }
 },
 "nbformat": 4,
 "nbformat_minor": 2
}

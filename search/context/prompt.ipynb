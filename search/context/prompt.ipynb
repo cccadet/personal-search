{
 "cells": [
  {
   "cell_type": "markdown",
   "metadata": {},
   "source": [
    "## Context Search"
   ]
  },
  {
   "cell_type": "code",
   "execution_count": 1,
   "metadata": {},
   "outputs": [
    {
     "data": {
      "text/plain": [
       "'https://smith.langchain.com/hub/personal-search/context-search/566cc2d5'"
      ]
     },
     "execution_count": 1,
     "metadata": {},
     "output_type": "execute_result"
    }
   ],
   "source": [
    "from langchain_core.prompts import ChatPromptTemplate\n",
    "from langchain import hub\n",
    "import os\n",
    "\n",
    "LANGCHAIN_HUB_API_KEY = os.getenv(\"LANGCHAIN_HUB_API_KEY\")\n",
    "\n",
    "# RAG\n",
    "template = \"\"\"\n",
    "Contexto:\n",
    "{context} \n",
    "\n",
    "Com base apenas no contexto, traga trechos que tenham relação com o assunto \"{question}\". \n",
    "Se não houver relação, diga que não há.\n",
    "Responda sempre em português.\n",
    "\"\"\"\n",
    "\n",
    "prompt = ChatPromptTemplate.from_template(template)\n",
    "hub.push(repo_full_name=\"personal-search/context-search\", object=prompt, api_key=LANGCHAIN_HUB_API_KEY)\n"
   ]
  }
 ],
 "metadata": {
  "kernelspec": {
   "display_name": "ollama",
   "language": "python",
   "name": "python3"
  },
  "language_info": {
   "codemirror_mode": {
    "name": "ipython",
    "version": 3
   },
   "file_extension": ".py",
   "mimetype": "text/x-python",
   "name": "python",
   "nbconvert_exporter": "python",
   "pygments_lexer": "ipython3",
   "version": "3.10.14"
  }
 },
 "nbformat": 4,
 "nbformat_minor": 2
}

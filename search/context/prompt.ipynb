{
 "cells": [
  {
   "cell_type": "markdown",
   "metadata": {},
   "source": [
    "## Context Search\n",
    "\n",
    "This code aims to perform a search in texts loaded in the vector-store. The result seeks to be more of a quote than an elaborate answer. It will be used later to answer questions.\n",
    "\n",
    "## Busca de contexto\n",
    "\n",
    "Esse código tem como objetivo realizar uma busca em textos carregados no vector-store. O resultado busca ser mais uma citação do que uma resposta elaborada. Será usada mais a frente para responder perguntas."
   ]
  },
  {
   "cell_type": "code",
   "execution_count": 1,
   "metadata": {},
   "outputs": [
    {
     "ename": "HTTPError",
     "evalue": "409 Client Error: Conflict for url: https://api.hub.langchain.com/commits/personal-search/context-search",
     "output_type": "error",
     "traceback": [
      "\u001b[0;31m---------------------------------------------------------------------------\u001b[0m",
      "\u001b[0;31mHTTPError\u001b[0m                                 Traceback (most recent call last)",
      "Cell \u001b[0;32mIn[1], line 18\u001b[0m\n\u001b[1;32m      8\u001b[0m template \u001b[38;5;241m=\u001b[39m \u001b[38;5;124m\"\"\"\u001b[39m\n\u001b[1;32m      9\u001b[0m \u001b[38;5;124mContexto:\u001b[39m\n\u001b[1;32m     10\u001b[0m \u001b[38;5;132;01m{context}\u001b[39;00m\u001b[38;5;124m \u001b[39m\n\u001b[0;32m   (...)\u001b[0m\n\u001b[1;32m     14\u001b[0m \u001b[38;5;124mResponda sempre em português.\u001b[39m\n\u001b[1;32m     15\u001b[0m \u001b[38;5;124m\"\"\"\u001b[39m\n\u001b[1;32m     17\u001b[0m prompt \u001b[38;5;241m=\u001b[39m ChatPromptTemplate\u001b[38;5;241m.\u001b[39mfrom_template(template)\n\u001b[0;32m---> 18\u001b[0m \u001b[43mhub\u001b[49m\u001b[38;5;241;43m.\u001b[39;49m\u001b[43mpush\u001b[49m\u001b[43m(\u001b[49m\u001b[43mrepo_full_name\u001b[49m\u001b[38;5;241;43m=\u001b[39;49m\u001b[38;5;124;43m\"\u001b[39;49m\u001b[38;5;124;43mpersonal-search/context-search\u001b[39;49m\u001b[38;5;124;43m\"\u001b[39;49m\u001b[43m,\u001b[49m\u001b[43m \u001b[49m\u001b[38;5;28;43mobject\u001b[39;49m\u001b[38;5;241;43m=\u001b[39;49m\u001b[43mprompt\u001b[49m\u001b[43m,\u001b[49m\u001b[43m \u001b[49m\u001b[43mapi_key\u001b[49m\u001b[38;5;241;43m=\u001b[39;49m\u001b[43mLANGCHAIN_HUB_API_KEY\u001b[49m\u001b[43m)\u001b[49m\n",
      "File \u001b[0;32m~/miniconda3/envs/ollama/lib/python3.10/site-packages/langchain/hub.py:57\u001b[0m, in \u001b[0;36mpush\u001b[0;34m(repo_full_name, object, api_url, api_key, parent_commit_hash, new_repo_is_public, new_repo_description)\u001b[0m\n\u001b[1;32m     55\u001b[0m client \u001b[38;5;241m=\u001b[39m _get_client(api_url\u001b[38;5;241m=\u001b[39mapi_url, api_key\u001b[38;5;241m=\u001b[39mapi_key)\n\u001b[1;32m     56\u001b[0m manifest_json \u001b[38;5;241m=\u001b[39m dumps(\u001b[38;5;28mobject\u001b[39m)\n\u001b[0;32m---> 57\u001b[0m message \u001b[38;5;241m=\u001b[39m \u001b[43mclient\u001b[49m\u001b[38;5;241;43m.\u001b[39;49m\u001b[43mpush\u001b[49m\u001b[43m(\u001b[49m\n\u001b[1;32m     58\u001b[0m \u001b[43m    \u001b[49m\u001b[43mrepo_full_name\u001b[49m\u001b[43m,\u001b[49m\n\u001b[1;32m     59\u001b[0m \u001b[43m    \u001b[49m\u001b[43mmanifest_json\u001b[49m\u001b[43m,\u001b[49m\n\u001b[1;32m     60\u001b[0m \u001b[43m    \u001b[49m\u001b[43mparent_commit_hash\u001b[49m\u001b[38;5;241;43m=\u001b[39;49m\u001b[43mparent_commit_hash\u001b[49m\u001b[43m,\u001b[49m\n\u001b[1;32m     61\u001b[0m \u001b[43m    \u001b[49m\u001b[43mnew_repo_is_public\u001b[49m\u001b[38;5;241;43m=\u001b[39;49m\u001b[43mnew_repo_is_public\u001b[49m\u001b[43m,\u001b[49m\n\u001b[1;32m     62\u001b[0m \u001b[43m    \u001b[49m\u001b[43mnew_repo_description\u001b[49m\u001b[38;5;241;43m=\u001b[39;49m\u001b[43mnew_repo_description\u001b[49m\u001b[43m,\u001b[49m\n\u001b[1;32m     63\u001b[0m \u001b[43m\u001b[49m\u001b[43m)\u001b[49m\n\u001b[1;32m     64\u001b[0m \u001b[38;5;28;01mreturn\u001b[39;00m message\n",
      "File \u001b[0;32m~/miniconda3/envs/ollama/lib/python3.10/site-packages/langchainhub/client.py:242\u001b[0m, in \u001b[0;36mClient.push\u001b[0;34m(self, repo_full_name, manifest_json, parent_commit_hash, new_repo_is_public, new_repo_description)\u001b[0m\n\u001b[1;32m    236\u001b[0m request_dict \u001b[38;5;241m=\u001b[39m {\u001b[38;5;124m\"\u001b[39m\u001b[38;5;124mparent_commit\u001b[39m\u001b[38;5;124m\"\u001b[39m: parent_commit_hash, \u001b[38;5;124m\"\u001b[39m\u001b[38;5;124mmanifest\u001b[39m\u001b[38;5;124m\"\u001b[39m: manifest_dict}\n\u001b[1;32m    237\u001b[0m res \u001b[38;5;241m=\u001b[39m requests\u001b[38;5;241m.\u001b[39mpost(\n\u001b[1;32m    238\u001b[0m     \u001b[38;5;124mf\u001b[39m\u001b[38;5;124m\"\u001b[39m\u001b[38;5;132;01m{\u001b[39;00m\u001b[38;5;28mself\u001b[39m\u001b[38;5;241m.\u001b[39mapi_url\u001b[38;5;132;01m}\u001b[39;00m\u001b[38;5;124m/commits/\u001b[39m\u001b[38;5;132;01m{\u001b[39;00mrepo_full_name\u001b[38;5;132;01m}\u001b[39;00m\u001b[38;5;124m\"\u001b[39m,\n\u001b[1;32m    239\u001b[0m     headers\u001b[38;5;241m=\u001b[39m\u001b[38;5;28mself\u001b[39m\u001b[38;5;241m.\u001b[39m_get_headers(),\n\u001b[1;32m    240\u001b[0m     json\u001b[38;5;241m=\u001b[39mrequest_dict,\n\u001b[1;32m    241\u001b[0m )\n\u001b[0;32m--> 242\u001b[0m \u001b[43mres\u001b[49m\u001b[38;5;241;43m.\u001b[39;49m\u001b[43mraise_for_status\u001b[49m\u001b[43m(\u001b[49m\u001b[43m)\u001b[49m\n\u001b[1;32m    243\u001b[0m res \u001b[38;5;241m=\u001b[39m res\u001b[38;5;241m.\u001b[39mjson()\n\u001b[1;32m    244\u001b[0m commit_hash \u001b[38;5;241m=\u001b[39m res[\u001b[38;5;124m\"\u001b[39m\u001b[38;5;124mcommit\u001b[39m\u001b[38;5;124m\"\u001b[39m][\u001b[38;5;124m\"\u001b[39m\u001b[38;5;124mcommit_hash\u001b[39m\u001b[38;5;124m\"\u001b[39m]\n",
      "File \u001b[0;32m~/miniconda3/envs/ollama/lib/python3.10/site-packages/requests/models.py:1021\u001b[0m, in \u001b[0;36mResponse.raise_for_status\u001b[0;34m(self)\u001b[0m\n\u001b[1;32m   1016\u001b[0m     http_error_msg \u001b[38;5;241m=\u001b[39m (\n\u001b[1;32m   1017\u001b[0m         \u001b[38;5;124mf\u001b[39m\u001b[38;5;124m\"\u001b[39m\u001b[38;5;132;01m{\u001b[39;00m\u001b[38;5;28mself\u001b[39m\u001b[38;5;241m.\u001b[39mstatus_code\u001b[38;5;132;01m}\u001b[39;00m\u001b[38;5;124m Server Error: \u001b[39m\u001b[38;5;132;01m{\u001b[39;00mreason\u001b[38;5;132;01m}\u001b[39;00m\u001b[38;5;124m for url: \u001b[39m\u001b[38;5;132;01m{\u001b[39;00m\u001b[38;5;28mself\u001b[39m\u001b[38;5;241m.\u001b[39murl\u001b[38;5;132;01m}\u001b[39;00m\u001b[38;5;124m\"\u001b[39m\n\u001b[1;32m   1018\u001b[0m     )\n\u001b[1;32m   1020\u001b[0m \u001b[38;5;28;01mif\u001b[39;00m http_error_msg:\n\u001b[0;32m-> 1021\u001b[0m     \u001b[38;5;28;01mraise\u001b[39;00m HTTPError(http_error_msg, response\u001b[38;5;241m=\u001b[39m\u001b[38;5;28mself\u001b[39m)\n",
      "\u001b[0;31mHTTPError\u001b[0m: 409 Client Error: Conflict for url: https://api.hub.langchain.com/commits/personal-search/context-search"
     ]
    }
   ],
   "source": [
    "from langchain_core.prompts import ChatPromptTemplate\n",
    "from langchain import hub\n",
    "import os\n",
    "\n",
    "LANGCHAIN_HUB_API_KEY = os.getenv(\"LANGCHAIN_HUB_API_KEY\")\n",
    "\n",
    "# RAG\n",
    "template = \"\"\"\n",
    "Contexto:\n",
    "{context} \n",
    "\n",
    "Com base apenas no contexto, traga trechos que tenham relação com o assunto \"{question}\". \n",
    "Se não houver relação, diga que não há.\n",
    "Responda sempre em português.\n",
    "\"\"\"\n",
    "\n",
    "prompt = ChatPromptTemplate.from_template(template)\n",
    "hub.push(repo_full_name=\"personal-search/context-search\", object=prompt, api_key=LANGCHAIN_HUB_API_KEY)\n"
   ]
  },
  {
   "cell_type": "code",
   "execution_count": 1,
   "metadata": {},
   "outputs": [
    {
     "data": {
      "text/plain": [
       "'https://smith.langchain.com/hub/personal-search/multi-query-search/f013ba8f'"
      ]
     },
     "execution_count": 1,
     "metadata": {},
     "output_type": "execute_result"
    }
   ],
   "source": [
    "from langchain_core.prompts import ChatPromptTemplate\n",
    "from langchain import hub\n",
    "import os\n",
    "\n",
    "LANGCHAIN_HUB_API_KEY = os.getenv(\"LANGCHAIN_HUB_API_KEY\")\n",
    "\n",
    "# RAG\n",
    "template = \"\"\"\n",
    "Você é um assistente de modelo de linguagem de IA. Sua tarefa é gerar cinco\n",
    "diferentes versões da pergunta do usuário para recuperar documentos relevantes de um vetor\n",
    "base de dados. Ao gerar múltiplas perspectivas sobre a pergunta do usuário, seu objetivo é ajudar\n",
    "o usuário supera algumas das limitações da busca por similaridade baseada em distância.\n",
    "Forneça essas perguntas alternativas separadas por novas linhas e em português. Pergunta original: {question}\n",
    "\"\"\"\n",
    "\n",
    "prompt = ChatPromptTemplate.from_template(template)\n",
    "hub.push(repo_full_name=\"personal-search/multi-query-search\", object=prompt, api_key=LANGCHAIN_HUB_API_KEY)"
   ]
  }
 ],
 "metadata": {
  "kernelspec": {
   "display_name": "ollama",
   "language": "python",
   "name": "python3"
  },
  "language_info": {
   "codemirror_mode": {
    "name": "ipython",
    "version": 3
   },
   "file_extension": ".py",
   "mimetype": "text/x-python",
   "name": "python",
   "nbconvert_exporter": "python",
   "pygments_lexer": "ipython3",
   "version": "3.10.14"
  }
 },
 "nbformat": 4,
 "nbformat_minor": 2
}

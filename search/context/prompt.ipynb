{
 "cells": [
  {
   "cell_type": "markdown",
   "metadata": {},
   "source": [
    "## Context Search\n",
    "\n",
    "This code aims to perform a search in texts loaded in the vector-store. The result seeks to be more of a quote than an elaborate answer. It will be used later to answer questions.\n",
    "\n",
    "## Busca de contexto\n",
    "\n",
    "Esse código tem como objetivo realizar uma busca em textos carregados no vector-store. O resultado busca ser mais uma citação do que uma resposta elaborada. Será usada mais a frente para responder perguntas."
   ]
  },
  {
   "cell_type": "code",
   "execution_count": 1,
   "metadata": {},
   "outputs": [
    {
     "data": {
      "text/plain": [
       "'https://smith.langchain.com/hub/personal-search/context-search/566cc2d5'"
      ]
     },
     "execution_count": 1,
     "metadata": {},
     "output_type": "execute_result"
    }
   ],
   "source": [
    "from langchain_core.prompts import ChatPromptTemplate\n",
    "from langchain import hub\n",
    "import os\n",
    "\n",
    "LANGCHAIN_HUB_API_KEY = os.getenv(\"LANGCHAIN_HUB_API_KEY\")\n",
    "\n",
    "# RAG\n",
    "template = \"\"\"\n",
    "Contexto:\n",
    "{context} \n",
    "\n",
    "Com base apenas no contexto, traga trechos que tenham relação com o assunto \"{question}\". \n",
    "Se não houver relação, diga que não há.\n",
    "Responda sempre em português.\n",
    "\"\"\"\n",
    "\n",
    "prompt = ChatPromptTemplate.from_template(template)\n",
    "hub.push(repo_full_name=\"personal-search/context-search\", object=prompt, api_key=LANGCHAIN_HUB_API_KEY)\n"
   ]
  },
  {
   "cell_type": "code",
   "execution_count": 1,
   "metadata": {},
   "outputs": [
    {
     "data": {
      "text/plain": [
       "'https://smith.langchain.com/hub/personal-search/multi-query-search/f013ba8f'"
      ]
     },
     "execution_count": 1,
     "metadata": {},
     "output_type": "execute_result"
    }
   ],
   "source": [
    "from langchain_core.prompts import ChatPromptTemplate\n",
    "from langchain import hub\n",
    "import os\n",
    "\n",
    "LANGCHAIN_HUB_API_KEY = os.getenv(\"LANGCHAIN_HUB_API_KEY\")\n",
    "\n",
    "# RAG\n",
    "template = \"\"\"\n",
    "Você é um assistente de modelo de linguagem de IA. Sua tarefa é gerar cinco\n",
    "diferentes versões da pergunta do usuário para recuperar documentos relevantes de um vetor\n",
    "base de dados. Ao gerar múltiplas perspectivas sobre a pergunta do usuário, seu objetivo é ajudar\n",
    "o usuário supera algumas das limitações da busca por similaridade baseada em distância.\n",
    "Forneça essas perguntas alternativas separadas por novas linhas e em português. Pergunta original: {question}\n",
    "\"\"\"\n",
    "\n",
    "prompt = ChatPromptTemplate.from_template(template)\n",
    "hub.push(repo_full_name=\"personal-search/multi-query-search\", object=prompt, api_key=LANGCHAIN_HUB_API_KEY)"
   ]
  }
 ],
 "metadata": {
  "kernelspec": {
   "display_name": "ollama",
   "language": "python",
   "name": "python3"
  },
  "language_info": {
   "codemirror_mode": {
    "name": "ipython",
    "version": 3
   },
   "file_extension": ".py",
   "mimetype": "text/x-python",
   "name": "python",
   "nbconvert_exporter": "python",
   "pygments_lexer": "ipython3",
   "version": "3.10.14"
  }
 },
 "nbformat": 4,
 "nbformat_minor": 2
}

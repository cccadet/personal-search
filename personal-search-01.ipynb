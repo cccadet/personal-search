{
 "cells": [
  {
   "cell_type": "markdown",
   "metadata": {},
   "source": [
    "# Personal Search 01\n",
    "\n",
    "Busca de informações em livros usando FAISS"
   ]
  },
  {
   "cell_type": "markdown",
   "metadata": {},
   "source": [
    "## Import packages"
   ]
  },
  {
   "cell_type": "code",
   "execution_count": 1,
   "metadata": {},
   "outputs": [],
   "source": [
    "from langchain_community.llms import Ollama\n",
    "from langchain_community.embeddings import OllamaEmbeddings\n",
    "from langchain_community.vectorstores import FAISS\n",
    "from langchain_core.prompts import ChatPromptTemplate\n",
    "from langchain_core.output_parsers import StrOutputParser\n",
    "from operator import itemgetter\n",
    "from langchain_community.llms import Ollama\n",
    "from IPython.display import display, Markdown"
   ]
  },
  {
   "cell_type": "markdown",
   "metadata": {},
   "source": [
    "## Configuration"
   ]
  },
  {
   "cell_type": "code",
   "execution_count": 2,
   "metadata": {},
   "outputs": [],
   "source": [
    "model = \"mistral:7b\"\n",
    "embeddings_model = \"nomic-embed-text:v1.5\"\n",
    "path_books = \"./vector-store/books\"\n",
    "question = \"O que é mais difícil para o obreiro cristão?\""
   ]
  },
  {
   "cell_type": "markdown",
   "metadata": {},
   "source": [
    "## Retriever Instance"
   ]
  },
  {
   "cell_type": "code",
   "execution_count": 3,
   "metadata": {},
   "outputs": [],
   "source": [
    "embeddings = OllamaEmbeddings(model=embeddings_model)\n",
    "\n",
    "db = FAISS.load_local(path_books, embeddings, allow_dangerous_deserialization=True)\n",
    "\n",
    "retriever = db.as_retriever()\n",
    "retriever.search_kwargs[\"distance_metric\"] = \"cos\"\n",
    "retriever.search_kwargs[\"fetch_k\"] = 100\n",
    "retriever.search_kwargs[\"maximal_marginal_relevance\"] = False\n",
    "retriever.search_kwargs[\"k\"] = 5"
   ]
  },
  {
   "cell_type": "markdown",
   "metadata": {},
   "source": [
    "## Search"
   ]
  },
  {
   "cell_type": "code",
   "execution_count": 4,
   "metadata": {},
   "outputs": [],
   "source": [
    "# RAG\n",
    "template = \"\"\"Responda a pergunta abaixo com base no contexto fornecido e citando o contexto utilizado. \n",
    "Ignore trechos do contexto que são sumários, índices, ou referências a outras partes do texto.\n",
    "\n",
    "Contexto: {context}\n",
    "\n",
    "Questão: {question}\n",
    "\n",
    "Resposta em português:\n",
    "\"\"\"\n",
    "\n",
    "prompt = ChatPromptTemplate.from_template(template)\n",
    "\n",
    "llm = Ollama(model=model, temperature=0)\n",
    "\n",
    "final_rag_chain = (\n",
    "    {\"context\": retriever, \n",
    "     \"question\": itemgetter(\"question\")} \n",
    "    | prompt\n",
    "    | llm\n",
    "    | StrOutputParser()\n",
    ")\n",
    "\n",
    "final_answer = final_rag_chain.invoke({\"question\":question})"
   ]
  },
  {
   "cell_type": "code",
   "execution_count": 10,
   "metadata": {},
   "outputs": [
    {
     "data": {
      "text/markdown": [
       " Responder com precisão a essa pergunta pode variar de um indivíduo para outro, pois cada obreiro cristão enfrenta desafios e dificuldades únicas na sua caminhada espiritual. No entanto, podemos identificar algumas dificuldades comuns que muitos obreiros cristãos enfrentam:\n",
       "\n",
       "1. Manter a fé e a dedicação: Obreiros cristãos são chamados a servir o Senhor em diferentes áreas da vida, mas à medida que passam mais tempo no ministério, eles podem se cansar ou perder a fervor inicial. Mantendo uma forte fé e dedicação ao ministério pode ser difícil, especialmente quando enfrentamos dificuldades pessoais ou quando recebemos críticas ou insatisfação por parte de outros.\n",
       "2. Balançar a vida pessoal e profissional: Os obreiros cristãos geralmente têm uma vida complexa que inclui sua família, amigos, saúde e tempo livre, além de suas responsabilidades no ministério. Achar equilíbrio entre essas áreas pode ser difícil e exigir muita paciência e oração.\n",
       "3. Encounterar oposição e críticas: Obreiros cristãos podem enfrentar oposição e críticas por parte de aqueles que não compartilham suas crenças ou que simplesmente não entendem o trabalho que eles estão fazendo. Essas experiências podem ser difíceis e exigir muita oração, paciência e humildade.\n",
       "4. Manter a integridade: Os obreiros cristãos são chamados a servir o Senhor com honestidade e integridade. Mantendo essa integridade pode ser difícil em situações onde há pressão para comprometer-se ou fazer coisas que não estão de acordo com os princípios bíblicos.\n",
       "5. Cuidar da própria alma: Os obreiros cristãos podem se esquecer de cuidar de sua própria alma enquanto dedicam tanta energia e tempo ao ministério. Isso pode levar a queimas de ouro, cansalho espiritual e uma relação fraca com Deus.\n",
       "\n",
       "Em resumo, mantendo a fé, equilibrando a vida pessoal e profissional, enfrentando oposição e críticas, manter a integridade e cuidando da própria alma são desafios comuns que muitos obreiros cristãos enfrentam. Porém, Deus nos fornece todo o que precisamos para superar esses desafios através de sua palavra, oração e a presença do Espírito Santo em nossas vidas."
      ],
      "text/plain": [
       "<IPython.core.display.Markdown object>"
      ]
     },
     "metadata": {},
     "output_type": "display_data"
    }
   ],
   "source": [
    "display(Markdown(final_answer))"
   ]
  }
 ],
 "metadata": {
  "kernelspec": {
   "display_name": "ollama",
   "language": "python",
   "name": "python3"
  },
  "language_info": {
   "codemirror_mode": {
    "name": "ipython",
    "version": 3
   },
   "file_extension": ".py",
   "mimetype": "text/x-python",
   "name": "python",
   "nbconvert_exporter": "python",
   "pygments_lexer": "ipython3",
   "version": "3.10.14"
  }
 },
 "nbformat": 4,
 "nbformat_minor": 2
}

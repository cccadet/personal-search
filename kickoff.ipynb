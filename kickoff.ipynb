{
 "cells": [
  {
   "cell_type": "code",
   "execution_count": 1,
   "metadata": {},
   "outputs": [
    {
     "data": {
      "text/markdown": [
       "O que falta aos pregadores hoje?"
      ],
      "text/plain": [
       "<IPython.core.display.Markdown object>"
      ]
     },
     "execution_count": 1,
     "metadata": {},
     "output_type": "execute_result"
    }
   ],
   "source": [
    "from personal_search.crew import PersonalSearchCrew\n",
    "from IPython.display import display, Markdown, Latex\n",
    "\n",
    "\n",
    "input = \"O que falta aos pregadores hoje?\"\n",
    "Markdown(input)\n"
   ]
  },
  {
   "cell_type": "code",
   "execution_count": 2,
   "metadata": {},
   "outputs": [
    {
     "name": "stderr",
     "output_type": "stream",
     "text": [
      "2024-07-10 00:00:52,394 - 136657495000896 - add_config.py-add_config:30 - WARNING: min_chunk_size 0 should be greater than chunk_overlap 100, otherwise it is redundant.\n"
     ]
    },
    {
     "name": "stdout",
     "output_type": "stream",
     "text": [
      "\u001b[95m \n",
      "\n",
      "Por que tarda o pleno Avivamento - Leonard Ravenhill - Página 77:\n",
      "na sua fidelidade ao Pai (prepa rou-se durante tanto tempo pa ra pregar por tão curto período); grande em sua submissão ao Espírito (anda va ou parava de acordo com as orientações dele); grande nas afirm ações que fez sobre o Filho (apon tando Jesus como “o Cordeiro de Deus, que tira o pecado do mundo ”, apesar de não te r-se avistado com ele antes). João era uma “Voz”. A maioria dos pregadores não passa de ecos, pois, se prestarmos bem atenção, saberemos dizer quais os livros que andaram lendo, e notaremos que citaram muito pouco do Livro. E hoje, só uma Voz, voz de um pr ofeta enviado do céu par a pregar aos pregadores , conseguiria despertar o co ração dos homens. S ó quem tem coração quebrantado é capaz de levar outros ao quebrantamento. Ir mãos, nós temos equipamentos, mas não temos poder; temos ação, mas não unção; barulho, mas não avivamento. Somos dogmát icos, mas não dinâmicos! Todas as eras têm iniciado com fogo, e todas as vidas, sejam de pregadores ou de prostitutas, vão findar em fogo — o fogo do juízo para alguns, o fogo do inferno para outros. Wesley diz o seguinte e m um de seus hinos: “Salvemos as almas do fogo do inferno, aliviando -lhes o tormento com o sangue de Cristo”. Irmãos, temos só uma missão : salvar almas, e, no entanto, elas estão perecendo . Pensemos nisso! Existem milhões , centenas de milhões, talvez milha res de milhões de almas eternas que precisam de Cristo. E sem a vida eterna elas irão perecer. Ah, que vergonha para nós, que horror, que tragédia! “Cristo não desejava que ninguém se perdesse”. Irmãos pregadores, hoje há milhões e milhões de pessoas segui ndo para o fogo do inferno, porque nós perdemos o fogo do E spírito ! Esta geração de pregadores é responsável pela atual geração de pecadores. Diante das portas de nossas igrejas passam todos os dias milhares de pessoas que não foram salvas porque ninguém l hes pregou, e ninguém lhes pregou porque ninguém as amou. Dou graças a Deus pelo grande trabalho que é realizado nos países\n",
      "\n",
      "Por que tarda o pleno Avivamento - Leonard Ravenhill - Página 97:\n",
      "aqueles que sofrem a dor de parto pelos perdidos procuram o recolhimento para buscar a face do Deus santo. A Bíblia diz claramente que Jacó amava a Raquel mais do que a Lia. Contudo Lia gozava mais da alegria de ser mulher, pois tinha filhos. Jacó havia trabalhado quatorze anos por causa de Raquel, mas toda essa sua devoção não servia de consolo para ela, pois era estéril. Obviamente, Jacó deve ter demons trado seu am or por ela dando -lhe jóias, como era cos tume na época; mas as coisas que o dinheiro compra não lhe serviam de consolo. E, embora Raquel fosse uma mulher bonita, nem sua beleza, nem o fato de que outros a admiravam compensavam a ausência de filhos. E ainda por cima havia sempre o doloroso quadro ante seus olhos: Lia com seus quatro gar otos à roda de sua saia, enquanto ela, a estéril Raquel, er a alvo da zombar ia de todos. Posso imaginar essa mulher, com os olhos vermelhos de chorar — mais brilhantes até que o s da própria Lia — talvez com os cabelos desgrenhado s, a voz rouca de pranto, procu rando Jacó, frustrada por causa de sua esterilidade, sentindo -se humilhada e desesperada com sua cond ição, e gritando -lhe: “Dá-me filhos, senão morrerei ” (Gn 30.1) . Esse ape lo deve ter -lhe penetrado o cor ação como uma espada. Aplicando isso ao plano espiritual, podemos dizer que não se tratava de uma oração de rotina; era um apelo de uma pessoa dominada pela vergonha e pela dor, e muito quebrantada por sua esterilidade. Meu i rmão pregador, se sua alma se acha estéril, se seus olhos não vertem lágrimas, se n ão há con vertidos em sua igreja, não se acomode pelo fato de que pelo menos é um pregador popu lar. Não se deixe consolar pelos títulos que possui, pelos livros que já escrev eu. Se você é espiritualmente incapaz de gerar f ilhos, rogue fervorosamente ao Espírito Santo que derrame tristeza em seu coração. Ah, que vergonha s ão nossos altares estéreis! Será que o Espírito Santo se deleita com nossos órgãos elétricos, nossos corred ores acarpetados,\n",
      "\n",
      "Evangelho Maltrapilho - Brennan Manning - Página 26:\n",
      "esse definido desconforto diante do evangelho maltrapilho não está confinado a uma única tradição cristã. Dentro de toda denominação e persuasão não-denominacional os cristãos estão tentando conquistar o favor de Deus mergulhando num maior número de atividades espirituais, multiplicando altares e sacrifícios, fazendo contribuições de caridade, dilatando o tempo de oração formal e envolv endo-se num maior número de organizações relacionadas à igreja. E necessário um cuidadoso discernimento aq ui. A evidência em favor de disposição, sinceridade e esforço é considerável. O modo de vida cristão é pio, ad equado e correto. O que então está faltando? Ele ou ela não se renderam ainda à graça de Cristo. O perigo em nossas boas obras, investimento s espirituais e em todo o resto é de que podemos construir uma imagem de nós mesmos em que acabamos estabelecendo o nosso valor próprio. A complacência conosco substitui entã o o puro deleite do amor incondicional de Deus. Nosso esforço transforma-se na ruína do evangelho maltrapilho. Em lugar algum do Novo Testamento a posição privilegiada dos fracassados, dos zés- ninguém e dos desclassificados à margem da soci edade é revelada de forma mais dramática do que no ministério de Jesus de compartilhar refeições com eles. Hoje em dia é praticamente impossível avaliarmos o escândalo representado pela comunhão de Jesus à mesa com pecadores. \"No ano de 1925, se um abastado fazendeiro de Atlanta estendesse um convite formal para que qu atro escravos negros colhedores de algodão comparecessem à sua mansão para um jantar de domingo, precedido por coquetéis e seguido por longas horas de conversa regada a conhaque, a aristo cracia da Geórgia ficaria profundamente chocada, o estado vizinho de Alabama ficaria furioso e a Ku Klux Klan\n",
      "\n",
      "\n",
      "\u001b[00m\n"
     ]
    },
    {
     "data": {
      "text/markdown": [
       "A saída dos especialistas está correta e está falando diretamente do tópico. O trecho aborda a falta de poder espiritual e quebrantamento nos pregadores atuais, destacando a importância de gerar conversões e não se acomodar com a popularidade ou títulos. Isso se relaciona diretamente com a questão levantada sobre o que falta aos pregadores hoje, que é a falta de comprometimento espiritual e a necessidade de verdadeira transformação e avivamento."
      ],
      "text/plain": [
       "<IPython.core.display.Markdown object>"
      ]
     },
     "execution_count": 2,
     "metadata": {},
     "output_type": "execute_result"
    }
   ],
   "source": [
    "inputs = {\n",
    "    'topic': input\n",
    "}\n",
    "Markdown(PersonalSearchCrew().crew().kickoff(inputs=inputs))"
   ]
  }
 ],
 "metadata": {
  "kernelspec": {
   "display_name": "crewai",
   "language": "python",
   "name": "python3"
  },
  "language_info": {
   "codemirror_mode": {
    "name": "ipython",
    "version": 3
   },
   "file_extension": ".py",
   "mimetype": "text/x-python",
   "name": "python",
   "nbconvert_exporter": "python",
   "pygments_lexer": "ipython3",
   "version": "3.12.2"
  }
 },
 "nbformat": 4,
 "nbformat_minor": 2
}

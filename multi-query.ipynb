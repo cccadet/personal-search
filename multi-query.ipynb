{
 "cells": [
  {
   "cell_type": "markdown",
   "metadata": {},
   "source": [
    "# Personal Search\n",
    "\n",
    "## Multi Query Answering System\n",
    "\n",
    "\n",
    "\n",
    "## Sistema de resposta Multi Query\n",
    "\n"
   ]
  },
  {
   "cell_type": "markdown",
   "metadata": {},
   "source": [
    "## Import libraries"
   ]
  },
  {
   "cell_type": "code",
   "execution_count": 1,
   "metadata": {},
   "outputs": [],
   "source": [
    "from IPython.display import display, Markdown\n",
    "from langchain import hub\n",
    "from search.context import utils\n",
    "\n",
    "from operator import itemgetter\n",
    "#from langchain_openai import ChatOpenAI\n",
    "from langchain_core.runnables import RunnablePassthrough\n",
    "from langchain_community.llms import Ollama\n",
    "from langchain_core.prompts import ChatPromptTemplate\n",
    "from langchain_core.output_parsers import StrOutputParser"
   ]
  },
  {
   "cell_type": "markdown",
   "metadata": {},
   "source": [
    "## Configuration"
   ]
  },
  {
   "cell_type": "code",
   "execution_count": 2,
   "metadata": {},
   "outputs": [],
   "source": [
    "# Model from Ollama\n",
    "model = \"dolphin-llama3:8b\""
   ]
  },
  {
   "cell_type": "markdown",
   "metadata": {},
   "source": [
    "## Retriever Instance"
   ]
  },
  {
   "cell_type": "code",
   "execution_count": 3,
   "metadata": {},
   "outputs": [],
   "source": [
    "db = utils.retriever_context(vector_store='chroma', path_books='./vector-store/chroma/books')\n",
    "retriever = db.as_retriever(\n",
    "            search_type=\"similarity\",\n",
    "            search_kwargs={'k': 3}\n",
    "        )"
   ]
  },
  {
   "cell_type": "markdown",
   "metadata": {},
   "source": [
    "## Prompt"
   ]
  },
  {
   "cell_type": "code",
   "execution_count": 4,
   "metadata": {},
   "outputs": [],
   "source": [
    "# Multi Query: Different Perspectives\n",
    "prompt_perspectives = hub.pull(owner_repo_commit=\"personal-search/multi-query-search\")"
   ]
  },
  {
   "cell_type": "markdown",
   "metadata": {},
   "source": [
    "## Question"
   ]
  },
  {
   "cell_type": "code",
   "execution_count": 5,
   "metadata": {},
   "outputs": [],
   "source": [
    "question = \"O que é o julgamento do trono branco?\""
   ]
  },
  {
   "cell_type": "markdown",
   "metadata": {},
   "source": [
    "## Search"
   ]
  },
  {
   "cell_type": "code",
   "execution_count": 6,
   "metadata": {},
   "outputs": [],
   "source": [
    "generate_queries = utils.generate_multi_query(prompt=prompt_perspectives, model=model)\n",
    "\n",
    "queries_pespectives = generate_queries.invoke({\"question\":question})"
   ]
  },
  {
   "cell_type": "code",
   "execution_count": 7,
   "metadata": {},
   "outputs": [
    {
     "data": {
      "text/plain": [
       "['1. Qual é a definição do julgamento do trono branco?',\n",
       " '2. O que acontece durante o julgamento do trono branco?',\n",
       " '3. Como é a estrutura do julgamento do trono branco?',\n",
       " '4. Quais são as implicações do julgamento do trono branco?',\n",
       " '5. Por que é importante entender o conceito de julgamento do trono branco?']"
      ]
     },
     "execution_count": 7,
     "metadata": {},
     "output_type": "execute_result"
    }
   ],
   "source": [
    "queries_pespectives"
   ]
  },
  {
   "cell_type": "code",
   "execution_count": 13,
   "metadata": {},
   "outputs": [],
   "source": [
    "# Retrieve\n",
    "retrieval_chain = generate_queries | retriever.map() | utils.get_unique_union\n",
    "#retrieval_chain = generate_queries | db.as_retriever() | utils.get_unique_union\n",
    "#docs = retrieval_chain.invoke({\"question\":question})\n",
    "#docs"
   ]
  },
  {
   "cell_type": "code",
   "execution_count": 9,
   "metadata": {},
   "outputs": [
    {
     "name": "stderr",
     "output_type": "stream",
     "text": [
      "/home/cristian/miniconda3/envs/crewai/lib/python3.12/site-packages/langchain_core/_api/beta_decorator.py:87: LangChainBetaWarning: The function `loads` is in beta. It is actively being worked on, so the API may change.\n",
      "  warn_beta(\n"
     ]
    }
   ],
   "source": [
    "# RAG\n",
    "template = \"\"\"\n",
    "Contexto:\n",
    "{context}\n",
    "\n",
    "Sintetize o contexto respondendo a seguinte pergunta e cite a fonte(source): {question}\n",
    "\"\"\"\n",
    "\n",
    "prompt = ChatPromptTemplate.from_template(template)\n",
    "\n",
    "#llm = ChatOpenAI(temperature=0)\n",
    "llm = Ollama(model=model, temperature=0)\n",
    "\n",
    "final_rag_chain = (\n",
    "    {\"context\": retrieval_chain, \n",
    "     \"question\": itemgetter(\"question\")} \n",
    "    | prompt\n",
    "    | llm.bind(stop=['<|eot_id|>'])\n",
    "    | StrOutputParser()\n",
    ")\n",
    "\n",
    "final_rag_answer = final_rag_chain.invoke({\"question\":question})"
   ]
  },
  {
   "cell_type": "markdown",
   "metadata": {},
   "source": [
    "## Anwser"
   ]
  },
  {
   "cell_type": "code",
   "execution_count": 10,
   "metadata": {},
   "outputs": [
    {
     "data": {
      "text/markdown": [
       "**Busca:** O que é o julgamento do trono branco?\n",
       "\n"
      ],
      "text/plain": [
       "<IPython.core.display.Markdown object>"
      ]
     },
     "metadata": {},
     "output_type": "display_data"
    },
    {
     "data": {
      "text/markdown": [
       "O julgamento do trono branco é uma referência bíblica que pode ser encontrada em Apocalipse 20:11-15. É um evento no qual Deus julga os mortos, baseado nas decisões tomadas durante a vida das pessoas. A fonte deste contexto é especificamente o livro \"O Peregrino\" de John Bunyan, na página 210."
      ],
      "text/plain": [
       "<IPython.core.display.Markdown object>"
      ]
     },
     "metadata": {},
     "output_type": "display_data"
    }
   ],
   "source": [
    "display(Markdown(f\"**Busca:** {question}\\n\\n\"))\n",
    "display(Markdown(final_rag_answer))"
   ]
  },
  {
   "cell_type": "markdown",
   "metadata": {},
   "source": [
    "## Debug"
   ]
  },
  {
   "cell_type": "code",
   "execution_count": 11,
   "metadata": {},
   "outputs": [
    {
     "data": {
      "text/markdown": [
       "**Fonte:** {'page': 61, 'source': './books/Por que tarda o pleno Avivamento - Leonard Ravenhill.pdf'}"
      ],
      "text/plain": [
       "<IPython.core.display.Markdown object>"
      ]
     },
     "metadata": {},
     "output_type": "display_data"
    },
    {
     "data": {
      "text/markdown": [
       "**Trecho:** boa posição perante os homens, se não a temos diante de Deus? De \n",
       "que vale a higiene do corpo, se nossa mente e espírito estão sujos? \n",
       "De que adianta possuirmos uma fachada de religiosidade se nosso \n",
       "coração é carnal? Por que nos orgulharemos de força física, por \n",
       "exemplo, se esp iritualmente somos fracos? De que vale a riqueza do"
      ],
      "text/plain": [
       "<IPython.core.display.Markdown object>"
      ]
     },
     "metadata": {},
     "output_type": "display_data"
    },
    {
     "data": {
      "text/markdown": [
       "**Fonte:** {'page': 45, 'source': './books/Por que tarda o pleno Avivamento - Leonard Ravenhill.pdf'}"
      ],
      "text/plain": [
       "<IPython.core.display.Markdown object>"
      ]
     },
     "metadata": {},
     "output_type": "display_data"
    },
    {
     "data": {
      "text/markdown": [
       "**Trecho:** está em nós mesmos? ” Mas eu gostaria de afiar bem o meu bisturi e \n",
       "aprofundá -lo um pouco mais nos pregadores:  passou a época dos \n",
       "grandes ser mões tipo “lanche rápido ”, temperados com tiradas \n",
       "humorísticas para tentar estimular o fraco apetite espiritual do homem \n",
       "de nossos dias? Ou estamos nos esforçando para comunicar os \n",
       "“poderes do mundo vindouro ” em todos os cultos?  \n",
       "Pensemos um pouco em Paulo. Após recebe r uma poderosa unção \n",
       "do Espírito Santo, ele saiu pela Ásia menor para travar ali uma \n",
       "intensa batalha espiritual, causando agitação  nos mercados, \n",
       "sinagogas e palácios. E ia a toda parte, tendo no coração e nos"
      ],
      "text/plain": [
       "<IPython.core.display.Markdown object>"
      ]
     },
     "metadata": {},
     "output_type": "display_data"
    },
    {
     "data": {
      "text/markdown": [
       "**Fonte:** {'page': 8, 'source': './books/Sociedade do Cansaço - Byung-Chul Han.pdf'}"
      ],
      "text/plain": [
       "<IPython.core.display.Markdown object>"
      ]
     },
     "metadata": {},
     "output_type": "display_data"
    },
    {
     "data": {
      "text/markdown": [
       "**Trecho:** Sumário\n",
       "1  A violência neuronal\n",
       "2  Além da sociedade disciplinar\n",
       "3  O tédio profundo\n",
       "4  Vita activa\n",
       "5  Pedagogia do ver\n",
       "6  O Caso Bartleby\n",
       "7  Sociedade do cansaço\n",
       "Textos de capa"
      ],
      "text/plain": [
       "<IPython.core.display.Markdown object>"
      ]
     },
     "metadata": {},
     "output_type": "display_data"
    }
   ],
   "source": [
    "sources = retriever.invoke(question)\n",
    "#sources = db.as_retriever().invoke(question)\n",
    "for source in sources:\n",
    "    display(Markdown(f\"**Fonte:** {source.metadata}\"))\n",
    "    display(Markdown(f\"**Trecho:** {source.page_content}\"))"
   ]
  },
  {
   "cell_type": "code",
   "execution_count": 12,
   "metadata": {},
   "outputs": [
    {
     "data": {
      "text/markdown": [
       "**Fonte:** boa posição perante os homens, se não a temos diante de Deus? De \n",
       "que vale a higiene do corpo, se nossa mente e espírito estão sujos? \n",
       "De que adianta possuirmos uma fachada de religiosidade se nosso \n",
       "coração é carnal? Por que nos orgulharemos de força física, por \n",
       "exemplo, se esp iritualmente somos fracos? De que vale a riqueza do"
      ],
      "text/plain": [
       "<IPython.core.display.Markdown object>"
      ]
     },
     "metadata": {},
     "output_type": "display_data"
    },
    {
     "data": {
      "text/markdown": [
       "**Trecho:** {'page': 61, 'source': './books/Por que tarda o pleno Avivamento - Leonard Ravenhill.pdf'}"
      ],
      "text/plain": [
       "<IPython.core.display.Markdown object>"
      ]
     },
     "metadata": {},
     "output_type": "display_data"
    },
    {
     "data": {
      "text/markdown": [
       "**Score:** 395.99456787109375"
      ],
      "text/plain": [
       "<IPython.core.display.Markdown object>"
      ]
     },
     "metadata": {},
     "output_type": "display_data"
    },
    {
     "data": {
      "text/markdown": [
       "**Fonte:** está em nós mesmos? ” Mas eu gostaria de afiar bem o meu bisturi e \n",
       "aprofundá -lo um pouco mais nos pregadores:  passou a época dos \n",
       "grandes ser mões tipo “lanche rápido ”, temperados com tiradas \n",
       "humorísticas para tentar estimular o fraco apetite espiritual do homem \n",
       "de nossos dias? Ou estamos nos esforçando para comunicar os \n",
       "“poderes do mundo vindouro ” em todos os cultos?  \n",
       "Pensemos um pouco em Paulo. Após recebe r uma poderosa unção \n",
       "do Espírito Santo, ele saiu pela Ásia menor para travar ali uma \n",
       "intensa batalha espiritual, causando agitação  nos mercados, \n",
       "sinagogas e palácios. E ia a toda parte, tendo no coração e nos"
      ],
      "text/plain": [
       "<IPython.core.display.Markdown object>"
      ]
     },
     "metadata": {},
     "output_type": "display_data"
    },
    {
     "data": {
      "text/markdown": [
       "**Trecho:** {'page': 45, 'source': './books/Por que tarda o pleno Avivamento - Leonard Ravenhill.pdf'}"
      ],
      "text/plain": [
       "<IPython.core.display.Markdown object>"
      ]
     },
     "metadata": {},
     "output_type": "display_data"
    },
    {
     "data": {
      "text/markdown": [
       "**Score:** 396.38800048828125"
      ],
      "text/plain": [
       "<IPython.core.display.Markdown object>"
      ]
     },
     "metadata": {},
     "output_type": "display_data"
    },
    {
     "data": {
      "text/markdown": [
       "**Fonte:** Sumário\n",
       "1  A violência neuronal\n",
       "2  Além da sociedade disciplinar\n",
       "3  O tédio profundo\n",
       "4  Vita activa\n",
       "5  Pedagogia do ver\n",
       "6  O Caso Bartleby\n",
       "7  Sociedade do cansaço\n",
       "Textos de capa"
      ],
      "text/plain": [
       "<IPython.core.display.Markdown object>"
      ]
     },
     "metadata": {},
     "output_type": "display_data"
    },
    {
     "data": {
      "text/markdown": [
       "**Trecho:** {'page': 8, 'source': './books/Sociedade do Cansaço - Byung-Chul Han.pdf'}"
      ],
      "text/plain": [
       "<IPython.core.display.Markdown object>"
      ]
     },
     "metadata": {},
     "output_type": "display_data"
    },
    {
     "data": {
      "text/markdown": [
       "**Score:** 400.4464111328125"
      ],
      "text/plain": [
       "<IPython.core.display.Markdown object>"
      ]
     },
     "metadata": {},
     "output_type": "display_data"
    },
    {
     "data": {
      "text/markdown": [
       "**Fonte:** Quando, porém, vier o Consolador, que eu vos enviarei da parte do Pai, o Espírito\n",
       "da verdade, que dele procede, esse dará testemunho de mim; e vós também\n",
       "testemunhareis, porque estais comigo desde o princípio.\n",
       "Tenho-vos dito estas coisas para que não vos escandalizeis. Eles vos expulsarão\n",
       "das sinagogas; mas vem a hora em que todo o que vos matar julgará com isso\n",
       "tributar culto a Deus. Isto farão porque não conhecem o Pai, nem a mim. Ora, estas\n",
       "coisas vos tenho dito para que, quando a hora chegar, vos recordeis de que eu vo-\n",
       "las disse. Não vo-las disse desde o princípio, porque eu estava convosco (Jo 15.24-\n",
       "16.4).\n",
       " \n",
       "OUTRO CONSOLADOR"
      ],
      "text/plain": [
       "<IPython.core.display.Markdown object>"
      ]
     },
     "metadata": {},
     "output_type": "display_data"
    },
    {
     "data": {
      "text/markdown": [
       "**Trecho:** {'page': 210, 'source': './books/Somos Todos Teólogos - RC Sproul.pdf'}"
      ],
      "text/plain": [
       "<IPython.core.display.Markdown object>"
      ]
     },
     "metadata": {},
     "output_type": "display_data"
    },
    {
     "data": {
      "text/markdown": [
       "**Score:** 404.67401123046875"
      ],
      "text/plain": [
       "<IPython.core.display.Markdown object>"
      ]
     },
     "metadata": {},
     "output_type": "display_data"
    }
   ],
   "source": [
    "sources = db.similarity_search_with_score(question)\n",
    "for source in sources:\n",
    "    display(Markdown(f\"**Fonte:** {source[0].page_content}\"))\n",
    "    display(Markdown(f\"**Trecho:** {source[0].metadata}\"))\n",
    "    display(Markdown(f\"**Score:** {source[1]}\"))    "
   ]
  }
 ],
 "metadata": {
  "kernelspec": {
   "display_name": "ollama",
   "language": "python",
   "name": "python3"
  },
  "language_info": {
   "codemirror_mode": {
    "name": "ipython",
    "version": 3
   },
   "file_extension": ".py",
   "mimetype": "text/x-python",
   "name": "python",
   "nbconvert_exporter": "python",
   "pygments_lexer": "ipython3",
   "version": "3.12.2"
  }
 },
 "nbformat": 4,
 "nbformat_minor": 2
}

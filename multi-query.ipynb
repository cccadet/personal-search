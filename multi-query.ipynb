{
 "cells": [
  {
   "cell_type": "markdown",
   "metadata": {},
   "source": [
    "# Personal Search\n",
    "\n",
    "## Multi Query Answering System\n",
    "\n",
    "\n",
    "\n",
    "## Sistema de resposta Multi Query\n",
    "\n"
   ]
  },
  {
   "cell_type": "markdown",
   "metadata": {},
   "source": [
    "## Import libraries"
   ]
  },
  {
   "cell_type": "code",
   "execution_count": 1,
   "metadata": {},
   "outputs": [],
   "source": [
    "from IPython.display import display, Markdown\n",
    "from langchain import hub\n",
    "from search.context import utils\n",
    "\n",
    "from operator import itemgetter\n",
    "#from langchain_openai import ChatOpenAI\n",
    "from langchain_core.runnables import RunnablePassthrough\n",
    "from langchain_community.llms import Ollama\n",
    "from langchain_core.prompts import ChatPromptTemplate\n",
    "from langchain_core.output_parsers import StrOutputParser"
   ]
  },
  {
   "cell_type": "markdown",
   "metadata": {},
   "source": [
    "## Configuration"
   ]
  },
  {
   "cell_type": "code",
   "execution_count": 2,
   "metadata": {},
   "outputs": [],
   "source": [
    "# Model from Ollama\n",
    "model = \"llama3:8b\""
   ]
  },
  {
   "cell_type": "markdown",
   "metadata": {},
   "source": [
    "## Retriever Instance"
   ]
  },
  {
   "cell_type": "code",
   "execution_count": 3,
   "metadata": {},
   "outputs": [],
   "source": [
    "retriever, db = utils.retriver_context()"
   ]
  },
  {
   "cell_type": "markdown",
   "metadata": {},
   "source": [
    "## Prompt"
   ]
  },
  {
   "cell_type": "code",
   "execution_count": 4,
   "metadata": {},
   "outputs": [],
   "source": [
    "# Multi Query: Different Perspectives\n",
    "prompt_perspectives = hub.pull(owner_repo_commit=\"personal-search/multi-query-search\")"
   ]
  },
  {
   "cell_type": "markdown",
   "metadata": {},
   "source": [
    "## Question"
   ]
  },
  {
   "cell_type": "code",
   "execution_count": 5,
   "metadata": {},
   "outputs": [],
   "source": [
    "question = \"O que falta aos pregadores de hoje?\""
   ]
  },
  {
   "cell_type": "markdown",
   "metadata": {},
   "source": [
    "## Search"
   ]
  },
  {
   "cell_type": "code",
   "execution_count": 6,
   "metadata": {},
   "outputs": [],
   "source": [
    "generate_queries = utils.generate_multi_query(prompt=prompt_perspectives)\n",
    "\n",
    "queries_pespectives = generate_queries.invoke({\"question\":question})"
   ]
  },
  {
   "cell_type": "code",
   "execution_count": 1,
   "metadata": {},
   "outputs": [
    {
     "ename": "NameError",
     "evalue": "name 'queries_pespectives' is not defined",
     "output_type": "error",
     "traceback": [
      "\u001b[0;31m---------------------------------------------------------------------------\u001b[0m",
      "\u001b[0;31mNameError\u001b[0m                                 Traceback (most recent call last)",
      "Cell \u001b[0;32mIn[1], line 1\u001b[0m\n\u001b[0;32m----> 1\u001b[0m \u001b[43mqueries_pespectives\u001b[49m\u001b[38;5;241m.\u001b[39msplit(\u001b[38;5;124m'\u001b[39m\u001b[38;5;124m,\u001b[39m\u001b[38;5;124m'\u001b[39m)\n",
      "\u001b[0;31mNameError\u001b[0m: name 'queries_pespectives' is not defined"
     ]
    }
   ],
   "source": [
    "queries_pespectives"
   ]
  },
  {
   "cell_type": "code",
   "execution_count": 8,
   "metadata": {},
   "outputs": [],
   "source": [
    "# Retrieve\n",
    "retrieval_chain = generate_queries | retriever.map() | utils.get_unique_union\n",
    "#docs = retrieval_chain.invoke({\"question\":question})\n"
   ]
  },
  {
   "cell_type": "code",
   "execution_count": 24,
   "metadata": {},
   "outputs": [],
   "source": [
    "# RAG\n",
    "template = \"\"\"\n",
    "Contexto:\n",
    "{context}\n",
    "\n",
    "Sintetize o contexto respondendo a seguinte pergunta e cite a fonte(source): {question}\n",
    "\"\"\"\n",
    "\n",
    "prompt = ChatPromptTemplate.from_template(template)\n",
    "\n",
    "#llm = ChatOpenAI(temperature=0)\n",
    "llm = Ollama(model=\"llama3:8b\", temperature=0)\n",
    "\n",
    "final_rag_chain = (\n",
    "    {\"context\": retrieval_chain, \n",
    "     \"question\": itemgetter(\"question\")} \n",
    "    | prompt\n",
    "    | llm.bind(stop=['<|eot_id|>'])\n",
    "    | StrOutputParser()\n",
    ")\n",
    "\n",
    "final_rag_answer = final_rag_chain.invoke({\"question\":question})"
   ]
  },
  {
   "cell_type": "markdown",
   "metadata": {},
   "source": [
    "## Anwser"
   ]
  },
  {
   "cell_type": "code",
   "execution_count": 25,
   "metadata": {},
   "outputs": [
    {
     "data": {
      "text/markdown": [
       "**Busca:** O que falta aos pregadores de hoje?\n",
       "\n"
      ],
      "text/plain": [
       "<IPython.core.display.Markdown object>"
      ]
     },
     "metadata": {},
     "output_type": "display_data"
    },
    {
     "data": {
      "text/markdown": [
       "De acordo com Leonard Ravenhill, em seu livro \"Por que tarda o pleno Avivamento\", os pregadores de hoje carecem de coração quebrantado, pois apenas quem tem um coração quebrantado é capaz de levar outros ao quebrantamento. Além disso, eles têm equipamentos, mas não tem poder; têm ação, mas não unção; barulho, mas não avivamento. (Fonte: \"Por que tarda o pleno Avivamento\" - Leonard Ravenhill, página 77)"
      ],
      "text/plain": [
       "<IPython.core.display.Markdown object>"
      ]
     },
     "metadata": {},
     "output_type": "display_data"
    }
   ],
   "source": [
    "display(Markdown(f\"**Busca:** {question}\\n\\n\"))\n",
    "display(Markdown(final_rag_answer))"
   ]
  },
  {
   "cell_type": "markdown",
   "metadata": {},
   "source": [
    "## Debug"
   ]
  },
  {
   "cell_type": "code",
   "execution_count": 26,
   "metadata": {},
   "outputs": [
    {
     "data": {
      "text/markdown": [
       "**Fonte:** {'source': './books/import/Por que tarda o pleno Avivamento - Leonard Ravenhill.pdf', 'page': 45}"
      ],
      "text/plain": [
       "<IPython.core.display.Markdown object>"
      ]
     },
     "metadata": {},
     "output_type": "display_data"
    },
    {
     "data": {
      "text/markdown": [
       "**Trecho:** pregadores, precisamos nos enver gonhar de não sentir vergonha; \n",
       "precisamos chorar por n ão termos lágrimas; precisamos nos humilhar \n",
       "por haver perdido a humildade de servo de Deus; gemer por não \n",
       "sentirmos peso pelos perdi dos; irar -nos contra n ós mesmos por não \n",
       "termos ódio do monopólio que o diabo exerce nestes dias do fim, e \n",
       "nos punir pelo fato de o mundo estar -se dando tão bem conosco, que \n",
       "nem precisa perseguir -nos. \n",
       "Pentecostes significa dor, mas o que ma is expe rimentamos  é \n",
       "prazer; significa peso; mas nós amamos a comodidade. Pentecostes \n",
       "significa prisão, e, no entanto, a maioria dos crentes faria qualquer \n",
       "coisa, menos ir para a prisão por amor a Cristo. Se revivêss emos a \n",
       "experiência do pentecostes, talvez muitos de nós fossem parar na"
      ],
      "text/plain": [
       "<IPython.core.display.Markdown object>"
      ]
     },
     "metadata": {},
     "output_type": "display_data"
    },
    {
     "data": {
      "text/markdown": [
       "**Fonte:** {'source': './books/import/Por que tarda o pleno Avivamento - Leonard Ravenhill.pdf', 'page': 77}"
      ],
      "text/plain": [
       "<IPython.core.display.Markdown object>"
      ]
     },
     "metadata": {},
     "output_type": "display_data"
    },
    {
     "data": {
      "text/markdown": [
       "**Trecho:** na sua fidelidade ao Pai  (prepa rou-se durante tanto tempo pa ra \n",
       "pregar por tão curto período); grande em sua submissão  ao Espírito \n",
       "(anda va ou parava de acordo com as orientações dele); grande nas \n",
       "afirm ações que fez  sobre o Filho (apon tando Jesus como “o Cordeiro \n",
       "de Deus, que tira o pecado do mundo ”, apesar de não te r-se avistado \n",
       "com ele antes).  \n",
       "João era uma “Voz”. A maioria dos pregadores não passa de ecos, \n",
       "pois, se prestarmos bem atenção, saberemos dizer quais os livros \n",
       "que andaram lendo, e notaremos que citaram muito pouco do Livro. E \n",
       "hoje, só uma Voz, voz de um pr ofeta enviado do céu par a pregar aos \n",
       "pregadores , conseguiria despertar o co ração dos homens. S ó quem \n",
       "tem coração quebrantado é capaz de levar outros ao \n",
       "quebrantamento. Ir mãos, nós temos equipamentos, mas não temos \n",
       "poder; temos ação, mas não unção; barulho,  mas não avivamento. \n",
       "Somos dogmát icos, mas  não dinâmicos!  \n",
       "Todas as eras têm iniciado com fogo, e todas as vidas, sejam de"
      ],
      "text/plain": [
       "<IPython.core.display.Markdown object>"
      ]
     },
     "metadata": {},
     "output_type": "display_data"
    },
    {
     "data": {
      "text/markdown": [
       "**Fonte:** {'source': './books/import/Conselhos para obreiros - Charles H Spurgeon.pdf', 'page': 11}"
      ],
      "text/plain": [
       "<IPython.core.display.Markdown object>"
      ]
     },
     "metadata": {},
     "output_type": "display_data"
    },
    {
     "data": {
      "text/markdown": [
       "**Trecho:** “Pensei que ele não havia se preocupado muito conosco, porque sabia que, por onde quer que ele\n",
       "passe, argumenta com seus anfitriões, e não havia feito assim conosco. Cheguei a pensar que\n",
       "havíamos irritado o sr. Whitefield, mas agora percebo como ele foi amável conosco, falando-nos\n",
       "dessa maneira.”\n",
       "Em seguida chamou suas filhas: “Subam, meninas. Vejam o que o homem de Deus escreveu na\n",
       "vidraça: ‘Falta-lhes uma coisa!’. Chamem seu pai”. O coronel subiu ao aposento de hóspedes e\n",
       "também leu a frase: “Falta-lhes uma coisa!”. Assim, ao redor da cama onde o homem de Deus\n",
       "havia dormido, ajoelharam-se e pediram a Deus que lhes desse a coisa que faltava. E, ali mesmo,\n",
       "antes  que deixassem o quarto, encontraram  o que lhes  faltava;  e toda aquela  família  pôde\n",
       "regozijar-se em Jesus.\n",
       "Não faz muito tempo, encontrei-me com um amigo em cuja igreja há uma irmã que preserva\n",
       "aquele pedaço de vidro como herança de família. Se você não conseguir aconselhar ou admoestar"
      ],
      "text/plain": [
       "<IPython.core.display.Markdown object>"
      ]
     },
     "metadata": {},
     "output_type": "display_data"
    }
   ],
   "source": [
    "sources = retriever.invoke(question)\n",
    "for source in sources:\n",
    "    display(Markdown(f\"**Fonte:** {source.metadata}\"))\n",
    "    display(Markdown(f\"**Trecho:** {source.page_content}\"))"
   ]
  },
  {
   "cell_type": "code",
   "execution_count": 18,
   "metadata": {},
   "outputs": [
    {
     "data": {
      "text/markdown": [
       "**Fonte:** pregadores, precisamos nos enver gonhar de não sentir vergonha; \n",
       "precisamos chorar por n ão termos lágrimas; precisamos nos humilhar \n",
       "por haver perdido a humildade de servo de Deus; gemer por não \n",
       "sentirmos peso pelos perdi dos; irar -nos contra n ós mesmos por não \n",
       "termos ódio do monopólio que o diabo exerce nestes dias do fim, e \n",
       "nos punir pelo fato de o mundo estar -se dando tão bem conosco, que \n",
       "nem precisa perseguir -nos. \n",
       "Pentecostes significa dor, mas o que ma is expe rimentamos  é \n",
       "prazer; significa peso; mas nós amamos a comodidade. Pentecostes \n",
       "significa prisão, e, no entanto, a maioria dos crentes faria qualquer \n",
       "coisa, menos ir para a prisão por amor a Cristo. Se revivêss emos a \n",
       "experiência do pentecostes, talvez muitos de nós fossem parar na"
      ],
      "text/plain": [
       "<IPython.core.display.Markdown object>"
      ]
     },
     "metadata": {},
     "output_type": "display_data"
    },
    {
     "data": {
      "text/markdown": [
       "**Trecho:** {'source': './books/import/Por que tarda o pleno Avivamento - Leonard Ravenhill.pdf', 'page': 45}"
      ],
      "text/plain": [
       "<IPython.core.display.Markdown object>"
      ]
     },
     "metadata": {},
     "output_type": "display_data"
    },
    {
     "data": {
      "text/markdown": [
       "**Score:** 398.0030822753906"
      ],
      "text/plain": [
       "<IPython.core.display.Markdown object>"
      ]
     },
     "metadata": {},
     "output_type": "display_data"
    },
    {
     "data": {
      "text/markdown": [
       "**Fonte:** na sua fidelidade ao Pai  (prepa rou-se durante tanto tempo pa ra \n",
       "pregar por tão curto período); grande em sua submissão  ao Espírito \n",
       "(anda va ou parava de acordo com as orientações dele); grande nas \n",
       "afirm ações que fez  sobre o Filho (apon tando Jesus como “o Cordeiro \n",
       "de Deus, que tira o pecado do mundo ”, apesar de não te r-se avistado \n",
       "com ele antes).  \n",
       "João era uma “Voz”. A maioria dos pregadores não passa de ecos, \n",
       "pois, se prestarmos bem atenção, saberemos dizer quais os livros \n",
       "que andaram lendo, e notaremos que citaram muito pouco do Livro. E \n",
       "hoje, só uma Voz, voz de um pr ofeta enviado do céu par a pregar aos \n",
       "pregadores , conseguiria despertar o co ração dos homens. S ó quem \n",
       "tem coração quebrantado é capaz de levar outros ao \n",
       "quebrantamento. Ir mãos, nós temos equipamentos, mas não temos \n",
       "poder; temos ação, mas não unção; barulho,  mas não avivamento. \n",
       "Somos dogmát icos, mas  não dinâmicos!  \n",
       "Todas as eras têm iniciado com fogo, e todas as vidas, sejam de"
      ],
      "text/plain": [
       "<IPython.core.display.Markdown object>"
      ]
     },
     "metadata": {},
     "output_type": "display_data"
    },
    {
     "data": {
      "text/markdown": [
       "**Trecho:** {'source': './books/import/Por que tarda o pleno Avivamento - Leonard Ravenhill.pdf', 'page': 77}"
      ],
      "text/plain": [
       "<IPython.core.display.Markdown object>"
      ]
     },
     "metadata": {},
     "output_type": "display_data"
    },
    {
     "data": {
      "text/markdown": [
       "**Score:** 406.77288818359375"
      ],
      "text/plain": [
       "<IPython.core.display.Markdown object>"
      ]
     },
     "metadata": {},
     "output_type": "display_data"
    },
    {
     "data": {
      "text/markdown": [
       "**Fonte:** “Pensei que ele não havia se preocupado muito conosco, porque sabia que, por onde quer que ele\n",
       "passe, argumenta com seus anfitriões, e não havia feito assim conosco. Cheguei a pensar que\n",
       "havíamos irritado o sr. Whitefield, mas agora percebo como ele foi amável conosco, falando-nos\n",
       "dessa maneira.”\n",
       "Em seguida chamou suas filhas: “Subam, meninas. Vejam o que o homem de Deus escreveu na\n",
       "vidraça: ‘Falta-lhes uma coisa!’. Chamem seu pai”. O coronel subiu ao aposento de hóspedes e\n",
       "também leu a frase: “Falta-lhes uma coisa!”. Assim, ao redor da cama onde o homem de Deus\n",
       "havia dormido, ajoelharam-se e pediram a Deus que lhes desse a coisa que faltava. E, ali mesmo,\n",
       "antes  que deixassem o quarto, encontraram  o que lhes  faltava;  e toda aquela  família  pôde\n",
       "regozijar-se em Jesus.\n",
       "Não faz muito tempo, encontrei-me com um amigo em cuja igreja há uma irmã que preserva\n",
       "aquele pedaço de vidro como herança de família. Se você não conseguir aconselhar ou admoestar"
      ],
      "text/plain": [
       "<IPython.core.display.Markdown object>"
      ]
     },
     "metadata": {},
     "output_type": "display_data"
    },
    {
     "data": {
      "text/markdown": [
       "**Trecho:** {'source': './books/import/Conselhos para obreiros - Charles H Spurgeon.pdf', 'page': 11}"
      ],
      "text/plain": [
       "<IPython.core.display.Markdown object>"
      ]
     },
     "metadata": {},
     "output_type": "display_data"
    },
    {
     "data": {
      "text/markdown": [
       "**Score:** 410.0894775390625"
      ],
      "text/plain": [
       "<IPython.core.display.Markdown object>"
      ]
     },
     "metadata": {},
     "output_type": "display_data"
    },
    {
     "data": {
      "text/markdown": [
       "**Fonte:** ela mesma. \n",
       "Se Jesus tivesse dito a ela antes de fazê-la: \"Há apenas duas vagas disponíveis para você. Você pode ser uma negra ou então uma branca pobre. Qual dessas?\", ela teria se retraído e se contorcido antes de finalmente responder: \"Tudo bem, faça-me negra então, mas não uma dessas maloqueiras\". E el e a teria feito uma mulher negra limpa e \n",
       "asseada, ela mesma numa versão negra. \n",
       " Bem, um dia a sra. Turpin vai ao consultório médico e vê-se cercada pelo tipo de pessoas que ela despreza. De repente uma jovem com acne atra vessa a passos largos a sala de espera, golpeia \n",
       "a sra. Turpin com um livro e tenta estrangulá-l a. Quando a ordem é finalmente restaurada, a \n",
       "sra. Turpin, como se estivesse ag uardando uma revelação, pergunta: \n",
       "— O que você tem a me dizer? \n",
       "— Volte para o inferno de onde você ve io, sua porca velha! — grita a moça. \n",
       "A sra. Turpin desaba. O seu mundo fez-se em pedaços. O Deus que ela havia moldado à"
      ],
      "text/plain": [
       "<IPython.core.display.Markdown object>"
      ]
     },
     "metadata": {},
     "output_type": "display_data"
    },
    {
     "data": {
      "text/markdown": [
       "**Trecho:** {'source': './books/import/Evangelho Maltrapilho - Brennan Manning.pdf', 'page': 18}"
      ],
      "text/plain": [
       "<IPython.core.display.Markdown object>"
      ]
     },
     "metadata": {},
     "output_type": "display_data"
    },
    {
     "data": {
      "text/markdown": [
       "**Score:** 416.1697692871094"
      ],
      "text/plain": [
       "<IPython.core.display.Markdown object>"
      ]
     },
     "metadata": {},
     "output_type": "display_data"
    }
   ],
   "source": [
    "sources = db.similarity_search_with_score(question)\n",
    "for source in sources:\n",
    "    display(Markdown(f\"**Fonte:** {source[0].page_content}\"))\n",
    "    display(Markdown(f\"**Trecho:** {source[0].metadata}\"))\n",
    "    display(Markdown(f\"**Score:** {source[1]}\"))    "
   ]
  }
 ],
 "metadata": {
  "kernelspec": {
   "display_name": "ollama",
   "language": "python",
   "name": "python3"
  },
  "language_info": {
   "codemirror_mode": {
    "name": "ipython",
    "version": 3
   },
   "file_extension": ".py",
   "mimetype": "text/x-python",
   "name": "python",
   "nbconvert_exporter": "python",
   "pygments_lexer": "ipython3",
   "version": "3.10.14"
  }
 },
 "nbformat": 4,
 "nbformat_minor": 2
}

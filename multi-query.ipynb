{
 "cells": [
  {
   "cell_type": "markdown",
   "metadata": {},
   "source": [
    "# Personal Search\n",
    "\n",
    "## Multi Query Answering System\n",
    "\n",
    "\n",
    "\n",
    "## Sistema de resposta Multi Query\n",
    "\n"
   ]
  },
  {
   "cell_type": "markdown",
   "metadata": {},
   "source": [
    "## Import libraries"
   ]
  },
  {
   "cell_type": "code",
   "execution_count": 1,
   "metadata": {},
   "outputs": [],
   "source": [
    "from IPython.display import display, Markdown\n",
    "from langchain import hub\n",
    "from search.context import utils"
   ]
  },
  {
   "cell_type": "markdown",
   "metadata": {},
   "source": [
    "## Configuration"
   ]
  },
  {
   "cell_type": "code",
   "execution_count": 2,
   "metadata": {},
   "outputs": [],
   "source": [
    "# Model from Ollama\n",
    "model = \"llama3:8b\""
   ]
  },
  {
   "cell_type": "markdown",
   "metadata": {},
   "source": [
    "## Retriever Instance"
   ]
  },
  {
   "cell_type": "code",
   "execution_count": 3,
   "metadata": {},
   "outputs": [],
   "source": [
    "retriever, db = utils.retriver_context()"
   ]
  },
  {
   "cell_type": "markdown",
   "metadata": {},
   "source": [
    "## Prompt"
   ]
  },
  {
   "cell_type": "code",
   "execution_count": 4,
   "metadata": {},
   "outputs": [],
   "source": [
    "# Validated Prompt \n",
    "#prompt = hub.pull(owner_repo_commit=\"personal-search/context-search\")"
   ]
  },
  {
   "cell_type": "markdown",
   "metadata": {},
   "source": [
    "## Question"
   ]
  },
  {
   "cell_type": "code",
   "execution_count": 5,
   "metadata": {},
   "outputs": [],
   "source": [
    "question = \"O que falta aos pregadores de hoje?\""
   ]
  },
  {
   "cell_type": "markdown",
   "metadata": {},
   "source": [
    "## Search"
   ]
  },
  {
   "cell_type": "code",
   "execution_count": 6,
   "metadata": {},
   "outputs": [],
   "source": [
    "#final_answer = utils.search_context(model=model, temperature=0, retriever=retriever, prompt=prompt, question=question)"
   ]
  },
  {
   "cell_type": "code",
   "execution_count": 7,
   "metadata": {},
   "outputs": [],
   "source": [
    "# Multi Query: Different Perspectives\n",
    "prompt_perspectives = hub.pull(owner_repo_commit=\"personal-search/multi-query-search\")\n",
    "\n",
    "generate_queries = utils.generate_multi_query(prompt=prompt_perspectives)\n",
    "\n",
    "queries_pespectives = generate_queries.invoke({\"question\":question})"
   ]
  },
  {
   "cell_type": "code",
   "execution_count": 8,
   "metadata": {},
   "outputs": [
    {
     "data": {
      "text/plain": [
       "['Here are five alternative questions based on the original query:',\n",
       " '',\n",
       " 'O que caracteriza a diferença entre os pregadores atuais e os de outros tempos?',\n",
       " '',\n",
       " 'Quais são as habilidades ou conhecimentos que os pregadores modernos não têm?',\n",
       " '',\n",
       " 'Como os pregadores contemporâneos se diferenciam dos de outras eras em termos de estilo ou conteúdo?',\n",
       " '',\n",
       " 'O que falta nos sermones de hoje para serem tão inspirados quanto aqueles do passado?',\n",
       " '',\n",
       " 'Quais são as características mais destacadas que faltam aos pregadores atuais, e como isso afeta a forma como eles se comunicam com seus fiéis?']"
      ]
     },
     "execution_count": 8,
     "metadata": {},
     "output_type": "execute_result"
    }
   ],
   "source": [
    "queries_pespectives"
   ]
  },
  {
   "cell_type": "code",
   "execution_count": 10,
   "metadata": {},
   "outputs": [],
   "source": [
    "# Retrieve\n",
    "retrieval_chain = generate_queries | retriever.map() | utils.get_unique_union\n",
    "#docs = retrieval_chain.invoke({\"question\":question})"
   ]
  },
  {
   "cell_type": "code",
   "execution_count": 20,
   "metadata": {},
   "outputs": [],
   "source": [
    "from operator import itemgetter\n",
    "#from langchain_openai import ChatOpenAI\n",
    "from langchain_core.runnables import RunnablePassthrough\n",
    "from langchain_community.llms import Ollama\n",
    "from langchain_core.prompts import ChatPromptTemplate\n",
    "from langchain_core.output_parsers import StrOutputParser\n",
    "\n",
    "# RAG\n",
    "template = \"\"\"\n",
    "Contexto:\n",
    "{context}\n",
    "\n",
    "Responda a seguinte questão baseada apenas no contexto acima citando a fonte da informação:\n",
    "\n",
    "Questão: {question}\n",
    "\"\"\"\n",
    "\n",
    "prompt = ChatPromptTemplate.from_template(template)\n",
    "\n",
    "#llm = ChatOpenAI(temperature=0)\n",
    "llm = Ollama(model=\"llama3:8b\", temperature=0)\n",
    "\n",
    "final_rag_chain = (\n",
    "    {\"context\": retrieval_chain, \n",
    "     \"question\": itemgetter(\"question\")} \n",
    "    | prompt\n",
    "    | llm.bind(stop=['<|eot_id|>'])\n",
    "    | StrOutputParser()\n",
    ")\n",
    "\n",
    "final_rag_answer = final_rag_chain.invoke({\"question\":question})"
   ]
  },
  {
   "cell_type": "code",
   "execution_count": 21,
   "metadata": {},
   "outputs": [
    {
     "data": {
      "text/markdown": [
       "De acordo com o texto, o que falta aos pregadores de hoje é a experiência do Pentecostes. Isso é mencionado na página 45 do livro \"Por que tarda o pleno Avivamento\" de Leonard Ravenhill. A citação original é: \"Pentecostes significa dor, mas o que ma is expe rimentamos  é prazer; significa peso; mas nós amamos a comodidade. Pentecostes significa prisão, e, no entanto, a maioria dos crentes faria qualquer coisa, menos ir para a prisão por amor a Cristo. Se revivêss emos a experiência do pentecostes, talvez muitos de nós fossem parar na\"."
      ],
      "text/plain": [
       "<IPython.core.display.Markdown object>"
      ]
     },
     "metadata": {},
     "output_type": "display_data"
    }
   ],
   "source": [
    "display(Markdown(final_rag_answer))"
   ]
  },
  {
   "cell_type": "markdown",
   "metadata": {},
   "source": [
    "## Anwser"
   ]
  },
  {
   "cell_type": "code",
   "execution_count": 7,
   "metadata": {},
   "outputs": [
    {
     "data": {
      "text/markdown": [
       "**Busca:** O que falta aos pregadores de hoje?\n",
       "\n"
      ],
      "text/plain": [
       "<IPython.core.display.Markdown object>"
      ]
     },
     "metadata": {},
     "output_type": "display_data"
    },
    {
     "data": {
      "text/markdown": [
       "A partir do contexto fornecido, encontrei os seguintes trechos relacionados ao assunto \"O que falta aos pregadores de hoje?\" :\n",
       "\n",
       "* Do documento com o título \"Por que tarda o pleno Avivamento - Leonard Ravenhill.pdf\" (página 45):\n",
       "\"Pentecostes significa dor, mas o que ma is expe rimentamos é prazer; significa peso; mas nós amamos a comodidade. Pentecostes significa prisão, e, no entanto, a maioria dos crentes faria qualquer coisa, menos ir para a prisão por amor a Cristo.\"\n",
       "\n",
       "* Do documento com o título \"Conselhos para obreiros - Charles H Spurgeon.pdf\" (página 11):\n",
       "\"Nós precisamos nos enver gonhar de não sentir vergonha; precisamos chorar por n ão termos lágrimas; precisamos nos humilhar por haver perdido a humildade de servo de Deus; gemer por não sentirmos peso pelos perdi dos; irar-nos contra n ós mesmos por não termos ódio do monopólio que o diabo exerce nestes dias do fim, e nos punir pelo fato de o mundo estar-se dando tão bem conosco, que nem precisa perseguir-nos.\"\n",
       "\n",
       "Esses trechos sugerem que os pregadores de hoje em dia podem estar falta de características como humildade, dor, lágrimas e amor a Cristo, o que pode estar afetando sua eficácia na pregação."
      ],
      "text/plain": [
       "<IPython.core.display.Markdown object>"
      ]
     },
     "metadata": {},
     "output_type": "display_data"
    }
   ],
   "source": [
    "display(Markdown(f\"**Busca:** {question}\\n\\n\"))\n",
    "display(Markdown(final_answer))"
   ]
  },
  {
   "cell_type": "markdown",
   "metadata": {},
   "source": [
    "## Debug"
   ]
  },
  {
   "cell_type": "code",
   "execution_count": 16,
   "metadata": {},
   "outputs": [
    {
     "data": {
      "text/markdown": [
       "**Fonte:** {'source': './books/import/Por que tarda o pleno Avivamento - Leonard Ravenhill.pdf', 'page': 45}"
      ],
      "text/plain": [
       "<IPython.core.display.Markdown object>"
      ]
     },
     "metadata": {},
     "output_type": "display_data"
    },
    {
     "data": {
      "text/markdown": [
       "**Trecho:** pregadores, precisamos nos enver gonhar de não sentir vergonha; \n",
       "precisamos chorar por n ão termos lágrimas; precisamos nos humilhar \n",
       "por haver perdido a humildade de servo de Deus; gemer por não \n",
       "sentirmos peso pelos perdi dos; irar -nos contra n ós mesmos por não \n",
       "termos ódio do monopólio que o diabo exerce nestes dias do fim, e \n",
       "nos punir pelo fato de o mundo estar -se dando tão bem conosco, que \n",
       "nem precisa perseguir -nos. \n",
       "Pentecostes significa dor, mas o que ma is expe rimentamos  é \n",
       "prazer; significa peso; mas nós amamos a comodidade. Pentecostes \n",
       "significa prisão, e, no entanto, a maioria dos crentes faria qualquer \n",
       "coisa, menos ir para a prisão por amor a Cristo. Se revivêss emos a \n",
       "experiência do pentecostes, talvez muitos de nós fossem parar na"
      ],
      "text/plain": [
       "<IPython.core.display.Markdown object>"
      ]
     },
     "metadata": {},
     "output_type": "display_data"
    },
    {
     "data": {
      "text/markdown": [
       "**Fonte:** {'source': './books/import/Por que tarda o pleno Avivamento - Leonard Ravenhill.pdf', 'page': 77}"
      ],
      "text/plain": [
       "<IPython.core.display.Markdown object>"
      ]
     },
     "metadata": {},
     "output_type": "display_data"
    },
    {
     "data": {
      "text/markdown": [
       "**Trecho:** na sua fidelidade ao Pai  (prepa rou-se durante tanto tempo pa ra \n",
       "pregar por tão curto período); grande em sua submissão  ao Espírito \n",
       "(anda va ou parava de acordo com as orientações dele); grande nas \n",
       "afirm ações que fez  sobre o Filho (apon tando Jesus como “o Cordeiro \n",
       "de Deus, que tira o pecado do mundo ”, apesar de não te r-se avistado \n",
       "com ele antes).  \n",
       "João era uma “Voz”. A maioria dos pregadores não passa de ecos, \n",
       "pois, se prestarmos bem atenção, saberemos dizer quais os livros \n",
       "que andaram lendo, e notaremos que citaram muito pouco do Livro. E \n",
       "hoje, só uma Voz, voz de um pr ofeta enviado do céu par a pregar aos \n",
       "pregadores , conseguiria despertar o co ração dos homens. S ó quem \n",
       "tem coração quebrantado é capaz de levar outros ao \n",
       "quebrantamento. Ir mãos, nós temos equipamentos, mas não temos \n",
       "poder; temos ação, mas não unção; barulho,  mas não avivamento. \n",
       "Somos dogmát icos, mas  não dinâmicos!  \n",
       "Todas as eras têm iniciado com fogo, e todas as vidas, sejam de"
      ],
      "text/plain": [
       "<IPython.core.display.Markdown object>"
      ]
     },
     "metadata": {},
     "output_type": "display_data"
    },
    {
     "data": {
      "text/markdown": [
       "**Fonte:** {'source': './books/import/Conselhos para obreiros - Charles H Spurgeon.pdf', 'page': 11}"
      ],
      "text/plain": [
       "<IPython.core.display.Markdown object>"
      ]
     },
     "metadata": {},
     "output_type": "display_data"
    },
    {
     "data": {
      "text/markdown": [
       "**Trecho:** “Pensei que ele não havia se preocupado muito conosco, porque sabia que, por onde quer que ele\n",
       "passe, argumenta com seus anfitriões, e não havia feito assim conosco. Cheguei a pensar que\n",
       "havíamos irritado o sr. Whitefield, mas agora percebo como ele foi amável conosco, falando-nos\n",
       "dessa maneira.”\n",
       "Em seguida chamou suas filhas: “Subam, meninas. Vejam o que o homem de Deus escreveu na\n",
       "vidraça: ‘Falta-lhes uma coisa!’. Chamem seu pai”. O coronel subiu ao aposento de hóspedes e\n",
       "também leu a frase: “Falta-lhes uma coisa!”. Assim, ao redor da cama onde o homem de Deus\n",
       "havia dormido, ajoelharam-se e pediram a Deus que lhes desse a coisa que faltava. E, ali mesmo,\n",
       "antes  que deixassem o quarto, encontraram  o que lhes  faltava;  e toda aquela  família  pôde\n",
       "regozijar-se em Jesus.\n",
       "Não faz muito tempo, encontrei-me com um amigo em cuja igreja há uma irmã que preserva\n",
       "aquele pedaço de vidro como herança de família. Se você não conseguir aconselhar ou admoestar"
      ],
      "text/plain": [
       "<IPython.core.display.Markdown object>"
      ]
     },
     "metadata": {},
     "output_type": "display_data"
    }
   ],
   "source": [
    "sources = retriever.invoke(question)\n",
    "for source in sources:\n",
    "    display(Markdown(f\"**Fonte:** {source.metadata}\"))\n",
    "    display(Markdown(f\"**Trecho:** {source.page_content}\"))"
   ]
  },
  {
   "cell_type": "code",
   "execution_count": 17,
   "metadata": {},
   "outputs": [
    {
     "data": {
      "text/markdown": [
       "**Fonte:** pregadores, precisamos nos enver gonhar de não sentir vergonha; \n",
       "precisamos chorar por n ão termos lágrimas; precisamos nos humilhar \n",
       "por haver perdido a humildade de servo de Deus; gemer por não \n",
       "sentirmos peso pelos perdi dos; irar -nos contra n ós mesmos por não \n",
       "termos ódio do monopólio que o diabo exerce nestes dias do fim, e \n",
       "nos punir pelo fato de o mundo estar -se dando tão bem conosco, que \n",
       "nem precisa perseguir -nos. \n",
       "Pentecostes significa dor, mas o que ma is expe rimentamos  é \n",
       "prazer; significa peso; mas nós amamos a comodidade. Pentecostes \n",
       "significa prisão, e, no entanto, a maioria dos crentes faria qualquer \n",
       "coisa, menos ir para a prisão por amor a Cristo. Se revivêss emos a \n",
       "experiência do pentecostes, talvez muitos de nós fossem parar na"
      ],
      "text/plain": [
       "<IPython.core.display.Markdown object>"
      ]
     },
     "metadata": {},
     "output_type": "display_data"
    },
    {
     "data": {
      "text/markdown": [
       "**Trecho:** {'source': './books/import/Por que tarda o pleno Avivamento - Leonard Ravenhill.pdf', 'page': 45}"
      ],
      "text/plain": [
       "<IPython.core.display.Markdown object>"
      ]
     },
     "metadata": {},
     "output_type": "display_data"
    },
    {
     "data": {
      "text/markdown": [
       "**Score:** 398.0030822753906"
      ],
      "text/plain": [
       "<IPython.core.display.Markdown object>"
      ]
     },
     "metadata": {},
     "output_type": "display_data"
    },
    {
     "data": {
      "text/markdown": [
       "**Fonte:** na sua fidelidade ao Pai  (prepa rou-se durante tanto tempo pa ra \n",
       "pregar por tão curto período); grande em sua submissão  ao Espírito \n",
       "(anda va ou parava de acordo com as orientações dele); grande nas \n",
       "afirm ações que fez  sobre o Filho (apon tando Jesus como “o Cordeiro \n",
       "de Deus, que tira o pecado do mundo ”, apesar de não te r-se avistado \n",
       "com ele antes).  \n",
       "João era uma “Voz”. A maioria dos pregadores não passa de ecos, \n",
       "pois, se prestarmos bem atenção, saberemos dizer quais os livros \n",
       "que andaram lendo, e notaremos que citaram muito pouco do Livro. E \n",
       "hoje, só uma Voz, voz de um pr ofeta enviado do céu par a pregar aos \n",
       "pregadores , conseguiria despertar o co ração dos homens. S ó quem \n",
       "tem coração quebrantado é capaz de levar outros ao \n",
       "quebrantamento. Ir mãos, nós temos equipamentos, mas não temos \n",
       "poder; temos ação, mas não unção; barulho,  mas não avivamento. \n",
       "Somos dogmát icos, mas  não dinâmicos!  \n",
       "Todas as eras têm iniciado com fogo, e todas as vidas, sejam de"
      ],
      "text/plain": [
       "<IPython.core.display.Markdown object>"
      ]
     },
     "metadata": {},
     "output_type": "display_data"
    },
    {
     "data": {
      "text/markdown": [
       "**Trecho:** {'source': './books/import/Por que tarda o pleno Avivamento - Leonard Ravenhill.pdf', 'page': 77}"
      ],
      "text/plain": [
       "<IPython.core.display.Markdown object>"
      ]
     },
     "metadata": {},
     "output_type": "display_data"
    },
    {
     "data": {
      "text/markdown": [
       "**Score:** 406.77288818359375"
      ],
      "text/plain": [
       "<IPython.core.display.Markdown object>"
      ]
     },
     "metadata": {},
     "output_type": "display_data"
    },
    {
     "data": {
      "text/markdown": [
       "**Fonte:** “Pensei que ele não havia se preocupado muito conosco, porque sabia que, por onde quer que ele\n",
       "passe, argumenta com seus anfitriões, e não havia feito assim conosco. Cheguei a pensar que\n",
       "havíamos irritado o sr. Whitefield, mas agora percebo como ele foi amável conosco, falando-nos\n",
       "dessa maneira.”\n",
       "Em seguida chamou suas filhas: “Subam, meninas. Vejam o que o homem de Deus escreveu na\n",
       "vidraça: ‘Falta-lhes uma coisa!’. Chamem seu pai”. O coronel subiu ao aposento de hóspedes e\n",
       "também leu a frase: “Falta-lhes uma coisa!”. Assim, ao redor da cama onde o homem de Deus\n",
       "havia dormido, ajoelharam-se e pediram a Deus que lhes desse a coisa que faltava. E, ali mesmo,\n",
       "antes  que deixassem o quarto, encontraram  o que lhes  faltava;  e toda aquela  família  pôde\n",
       "regozijar-se em Jesus.\n",
       "Não faz muito tempo, encontrei-me com um amigo em cuja igreja há uma irmã que preserva\n",
       "aquele pedaço de vidro como herança de família. Se você não conseguir aconselhar ou admoestar"
      ],
      "text/plain": [
       "<IPython.core.display.Markdown object>"
      ]
     },
     "metadata": {},
     "output_type": "display_data"
    },
    {
     "data": {
      "text/markdown": [
       "**Trecho:** {'source': './books/import/Conselhos para obreiros - Charles H Spurgeon.pdf', 'page': 11}"
      ],
      "text/plain": [
       "<IPython.core.display.Markdown object>"
      ]
     },
     "metadata": {},
     "output_type": "display_data"
    },
    {
     "data": {
      "text/markdown": [
       "**Score:** 410.0894775390625"
      ],
      "text/plain": [
       "<IPython.core.display.Markdown object>"
      ]
     },
     "metadata": {},
     "output_type": "display_data"
    },
    {
     "data": {
      "text/markdown": [
       "**Fonte:** ela mesma. \n",
       "Se Jesus tivesse dito a ela antes de fazê-la: \"Há apenas duas vagas disponíveis para você. Você pode ser uma negra ou então uma branca pobre. Qual dessas?\", ela teria se retraído e se contorcido antes de finalmente responder: \"Tudo bem, faça-me negra então, mas não uma dessas maloqueiras\". E el e a teria feito uma mulher negra limpa e \n",
       "asseada, ela mesma numa versão negra. \n",
       " Bem, um dia a sra. Turpin vai ao consultório médico e vê-se cercada pelo tipo de pessoas que ela despreza. De repente uma jovem com acne atra vessa a passos largos a sala de espera, golpeia \n",
       "a sra. Turpin com um livro e tenta estrangulá-l a. Quando a ordem é finalmente restaurada, a \n",
       "sra. Turpin, como se estivesse ag uardando uma revelação, pergunta: \n",
       "— O que você tem a me dizer? \n",
       "— Volte para o inferno de onde você ve io, sua porca velha! — grita a moça. \n",
       "A sra. Turpin desaba. O seu mundo fez-se em pedaços. O Deus que ela havia moldado à"
      ],
      "text/plain": [
       "<IPython.core.display.Markdown object>"
      ]
     },
     "metadata": {},
     "output_type": "display_data"
    },
    {
     "data": {
      "text/markdown": [
       "**Trecho:** {'source': './books/import/Evangelho Maltrapilho - Brennan Manning.pdf', 'page': 18}"
      ],
      "text/plain": [
       "<IPython.core.display.Markdown object>"
      ]
     },
     "metadata": {},
     "output_type": "display_data"
    },
    {
     "data": {
      "text/markdown": [
       "**Score:** 416.1697692871094"
      ],
      "text/plain": [
       "<IPython.core.display.Markdown object>"
      ]
     },
     "metadata": {},
     "output_type": "display_data"
    }
   ],
   "source": [
    "sources = db.similarity_search_with_score(question)\n",
    "for source in sources:\n",
    "    display(Markdown(f\"**Fonte:** {source[0].page_content}\"))\n",
    "    display(Markdown(f\"**Trecho:** {source[0].metadata}\"))\n",
    "    display(Markdown(f\"**Score:** {source[1]}\"))"
   ]
  }
 ],
 "metadata": {
  "kernelspec": {
   "display_name": "ollama",
   "language": "python",
   "name": "python3"
  },
  "language_info": {
   "codemirror_mode": {
    "name": "ipython",
    "version": 3
   },
   "file_extension": ".py",
   "mimetype": "text/x-python",
   "name": "python",
   "nbconvert_exporter": "python",
   "pygments_lexer": "ipython3",
   "version": "3.10.14"
  }
 },
 "nbformat": 4,
 "nbformat_minor": 2
}
